{
 "cells": [
  {
   "cell_type": "code",
   "execution_count": 1,
   "id": "155cf55b-9447-44bd-8586-305bbe9a0222",
   "metadata": {},
   "outputs": [],
   "source": [
    "import numpy as np\n",
    "import matplotlib.pyplot as plt\n",
    "import random"
   ]
  },
  {
   "cell_type": "code",
   "execution_count": 2,
   "id": "43dfdfab-38ef-42fc-a449-2480cbf07ff6",
   "metadata": {
    "tags": []
   },
   "outputs": [],
   "source": [
    "class grid():\n",
    "    def __init__(self, n_x, n_y):\n",
    "        self.n_x = n_x\n",
    "        self.n_y = n_y\n",
    "        self.x_points = np.empty(0)\n",
    "        self.y_points = np.empty(0)\n",
    "        self.x_max = 1000\n",
    "        self.y_max = 1000\n",
    "        self.grid = {}  \n",
    "        self.elevation = {}\n",
    "        self.elevation_intermediate = []\n",
    "        self.grid_customers = {}  \n",
    "        self.n_customers = 0      \n",
    "        self.customer_points = {}\n",
    "        self.customer_points_intermediate = {}\n",
    "        self.depot = None\n",
    "        self.d_ij_indices = {} \n",
    "        self.n_intermediate = 0\n",
    "        self.d_ij = None          # distances among customers - interface output for the optimization model\n",
    "        self.d_ij_extended = None\n",
    "        self.output_matrix = None\n",
    "        self.output_matrix_extended = None\n",
    "        self.tw_a = None\n",
    "        self.tw_b = None\n",
    "        self.load = None\n",
    "        self.servicetime = 5 # minutes\n",
    "        \n",
    "        self.create_grid()\n",
    "        self.grid_dict()\n",
    "        \n",
    "    def create_grid(self):\n",
    "        delta_x = 20\n",
    "        delta_y = 20\n",
    "        np.random.seed(9)\n",
    "        self.x_points = np.linspace(0, self.x_max, self.n_x+1) + np.random.randint(-delta_x, delta_x, self.n_x+1)\n",
    "        self.y_points = np.linspace(0, self.y_max, self.n_y+1) + np.random.randint(-delta_y, delta_y, self.n_y+1)\n",
    "        self.x_points[0] = 0; self.x_points[-1] = self.x_max\n",
    "        self.y_points[0] = 0; self.y_points[-1] = self.y_max\n",
    "        self.x_points.sort()\n",
    "        self.y_points.sort()\n",
    "        \n",
    "    def grid_dict(self):\n",
    "        for i in range(self.n_x+1):\n",
    "            for j in range(self.n_y+1):\n",
    "                self.grid[(i,j)] = (self.x_points[i], self.y_points[j])\n",
    "                self.elevation[(i,j)] = 30*np.random.random()\n",
    "        return self.grid\n",
    "    \n",
    "    def time_windows(self, tp='random', min_t=50, max_t=200, k_separation = 0.05, k_overlapped = 0.5):\n",
    "        tw_a = np.zeros(1, dtype=int); tw_b = np.zeros(1, dtype=int)\n",
    "        if tp == 'random':\n",
    "            delta_lower = min_t/2\n",
    "            delta_upper = delta_lower\n",
    "            tw_center = np.random.randint(min_t+delta_lower, max_t-delta_upper, self.n_customers)\n",
    "            self.tw_a = np.append(tw_a, tw_center - np.random.randint(0, delta_lower, self.n_customers))\n",
    "            self.tw_b = np.append(tw_b, tw_center + np.random.randint(0, delta_upper, self.n_customers))\n",
    "            return self.tw_a, self.tw_b\n",
    "        if tp == 'separated':\n",
    "            delta_tw = (max_t - min_t)/self.n_customers\n",
    "            self.tw_a = np.append(tw_a, np.array([min_t + (i - k_separation)*delta_tw for i in range(self.n_customers)]) )\n",
    "            self.tw_b = np.append(tw_b, np.array([min_t + (i + k_separation)*delta_tw for i in range(self.n_customers)]) )\n",
    "            return self.tw_a, self.tw_b\n",
    "        if tp == 'overlapped':\n",
    "            tw_c = (max_t - min_t)/2\n",
    "            tw_interval = 0.5*k_overlapped*tw_c # half base interval (centered halfway between max_t and min_t)\n",
    "            delta_interval = np.random.randint(0, tw_interval, self.n_customers)\n",
    "            self.tw_a = np.append(tw_a, np.array([min_t + tw_c - t for t in sorted(delta_interval)]) )\n",
    "            self.tw_b = np.append(tw_b, np.array([min_t + tw_c + t for t in sorted(delta_interval)]) )\n",
    "            return self.tw_a, self.tw_b\n",
    "        if tp == 'single':\n",
    "            self.tw_a = np.append(tw_a, np.array([min_t for _ in range(self.n_customers)]) )\n",
    "            self.tw_b = np.append(tw_b, np.array([max_t for _ in range(self.n_customers)]) )\n",
    "            return self.tw_a, self.tw_b\n",
    "    \n",
    "    def payload(self, min_p=5, max_p=30):\n",
    "        self.load = np.append(np.zeros(1), np.random.randint(min_p, max_p, self.n_customers))\n",
    "    \n",
    "    def plot_grid(self):\n",
    "        for i in range(self.n_x+1):\n",
    "            plt.plot([self.x_points[i], self.x_points[i]], [0, self.y_max], color='gray')\n",
    "        for j in range(self.n_y+1):\n",
    "            plt.plot([0, self.x_max], [self.y_points[j], self.y_points[j]], color='gray')\n",
    "        plt.title(\"Grid\")\n",
    "        \n",
    "    def customers(self, n_customers):\n",
    "        self.n_customers = n_customers\n",
    "        random.seed(9);\n",
    "        x_c = random.sample([i for i in range(1, self.n_x+1)], n_customers)\n",
    "        y_c = random.sample([i for i in range(1, self.n_y+1)], n_customers)\n",
    "        customer_points = [elem for elem in zip(x_c, y_c)]\n",
    "        self.customer_points = {k:self.grid[k] for k in zip(x_c, y_c)}\n",
    "        return self.customer_points\n",
    "        \n",
    "    def plot_customer_points(self):\n",
    "        k = list(self.customer_points.values())\n",
    "        self.plot_grid()\n",
    "        for i in range(self.n_customers):\n",
    "            plt.scatter(k[i][0], k[i][1])\n",
    "        plt.title(\"Customers grid points\")\n",
    "        \n",
    "    def plot_customer_number(self):\n",
    "        k = list(self.customer_points.keys())\n",
    "        a=np.empty((self.n_x+1,self.n_y+1))\n",
    "        for x in range(self.n_x+1):\n",
    "            for y in range(self.n_y+1):\n",
    "                a[x,y]=self.elevation[(x,y)]\n",
    "        plt.imshow(a,alpha=0.3, cmap='gnuplot2_r', interpolation='bicubic',origin='lower') \n",
    "        count=0 \n",
    "        for i in range(self.n_customers):\n",
    "            count+=1\n",
    "            plt.text(k[i][0], k[i][1], f\"{count}\", fontsize=12)\n",
    "        plt.title(\"Elevation and customers\")\n",
    "        \n",
    "    def customers_paths(self, depot):\n",
    "        ## # depot must be an appropriate tuple of coordinate indices of the grid: ex (12, 15): (12th pos. on x - 15th pos. on y)\n",
    "        self.depot = depot\n",
    "        nodes = list(self.customer_points.keys())  # we work with grid indices instead of coordinates\n",
    "        nodes.insert(0, depot)\n",
    "        \n",
    "        # we insert an intermediate point only if the two points are not on the same horizontal or vertical line \n",
    "        # a variation could be to use a point internal to the horizontal/vertical edge if the the latter is longer than 1 grid point\n",
    "        self.n_intermediate = 0    \n",
    "        for i in range(self.n_customers+1):\n",
    "            for j in range(self.n_customers+1):\n",
    "                dx_index = nodes[i][0] - nodes[j][0]\n",
    "                dy_index = nodes[i][1] - nodes[j][1]\n",
    "                if (dx_index != 0 and dy_index != 0):\n",
    "                    self.n_intermediate += 1\n",
    "        self.n_intermediate //= 2\n",
    "        \n",
    "        self.d_ij = np.zeros((self.n_customers+1, self.n_customers+1))\n",
    "        self.d_ij_extended = np.zeros((self.n_customers+1+self.n_intermediate, self.n_customers+1+self.n_intermediate))\n",
    "        \n",
    "        self.customer_points_intermediate = self.customer_points.copy()\n",
    "        int_node = 0\n",
    "        for i in range(self.n_customers+1):\n",
    "            for j in range(self.n_customers+1):\n",
    "                dx_index = nodes[i][0] - nodes[j][0]\n",
    "                dy_index = nodes[i][1] - nodes[j][1]\n",
    "                node_int = (nodes[i][0] - dx_index, nodes[i][1])\n",
    "                self.d_ij_indices[(i,j)] = (nodes[i], node_int, nodes[j])\n",
    "                \n",
    "                dx = abs(self.grid[node_int][0] - self.grid[nodes[i]][0])\n",
    "                dy = abs(self.grid[node_int][1] - self.grid[nodes[j]][1])\n",
    "                self.d_ij[i,j] = dx + dy\n",
    "                self.d_ij_extended[i,j] = dx + dy \n",
    "                \n",
    "                if (dx_index != 0 and dy_index != 0) and (self.grid[node_int][1] <= self.grid[nodes[j]][1]):\n",
    "                    self.customer_points_intermediate[node_int] = self.grid[node_int]\n",
    "                    int_node += 1\n",
    "                    self.d_ij_extended[i,self.n_customers+int_node] = abs(self.grid[node_int][0] - self.grid[nodes[i]][0])   \n",
    "                    self.d_ij_extended[self.n_customers+int_node,i] = self.d_ij_extended[i,self.n_customers+int_node]#abs(self.grid[node_int][1] - self.grid[nodes[j]][1])\n",
    "                    self.d_ij_extended[j,self.n_customers+int_node] = abs(self.grid[node_int][1] - self.grid[nodes[j]][1])\n",
    "                    self.d_ij_extended[self.n_customers+int_node,j] = self.d_ij_extended[j,self.n_customers+int_node]\n",
    "                    self.elevation_intermediate.append(self.elevation[node_int])\n",
    "                    \n",
    "        \n",
    "        return self.d_ij\n",
    "    \n",
    "    def create_csv(self):\n",
    "        elevation = np.zeros(self.n_customers)\n",
    "        # elevation_intermediate = np.zeros(self.n_customers+self.n_intermediate)\n",
    "        \n",
    "        for i, k in enumerate(self.customer_points.keys()):\n",
    "            elevation[i] = self.elevation[k]\n",
    "        # for i, k in enumerate(self.customer_points_intermediate.keys()):\n",
    "        #     elevation_intermediate[i] = self.elevation[k]\n",
    "         \n",
    "        elevation = np.append(self.elevation[self.depot], elevation)\n",
    "        elevation_intermediate = np.append(elevation, self.elevation_intermediate)\n",
    "        \n",
    "        service_time = np.append(np.zeros(1), np.array([self.servicetime for _ in range(self.n_customers)]) )\n",
    "        service_time_intermediate = np.append(service_time, np.nan*np.ones(self.n_intermediate))\n",
    "        \n",
    "        x = np.append(self.grid[self.depot][0], np.array([v[0] for v in self.customer_points.values()]) )\n",
    "        y = np.append(self.grid[self.depot][1], np.array([v[1] for v in self.customer_points.values()]) )\n",
    "        x_intermediate = np.append(x, np.zeros(self.n_intermediate))\n",
    "        y_intermediate = np.append(y, np.zeros(self.n_intermediate))\n",
    "        \n",
    "        index = np.linspace(0,self.n_customers,self.n_customers+1)\n",
    "        index_intermediate = np.linspace(0,self.n_customers+self.n_intermediate,self.n_customers+self.n_intermediate+1)\n",
    "        \n",
    "        self.output_matrix = np.c_[index, x, y, elevation, self.load, self.tw_a, self.tw_b, service_time, self.d_ij/1000]\n",
    "        \n",
    "        load_intermediate = np.append(self.load.copy(), -np.ones(self.n_intermediate))\n",
    "        tw_a_intermediate = np.append(self.tw_a.copy(), np.zeros(self.n_intermediate))\n",
    "        tw_b_intermediate = np.append(self.tw_b.copy(), np.zeros(self.n_intermediate))\n",
    "        service_time_intermediate = np.append(service_time.copy(), np.zeros(self.n_intermediate))\n",
    "        self.output_matrix_extended = np.c_[index_intermediate, x_intermediate, y_intermediate, elevation_intermediate, load_intermediate, tw_a_intermediate, \n",
    "                                            tw_b_intermediate, service_time_intermediate, self.d_ij_extended/1000]\n",
    "                                            \n",
    "        header = ',x,y,elevation,demand,tw a,tw b,s'\n",
    "        for i in range(self.n_customers+1):\n",
    "            header += ','+str(i)\n",
    "           \n",
    "        #np.savetxt('generated_grid_1.csv', self.output_matrix, delimiter=',', header=header, comments='')\n",
    "        \n",
    "        header = ',x,y,elevation,demand,tw a,tw b,s'\n",
    "        for i in range(self.n_customers+1+self.n_intermediate):\n",
    "            header += ','+str(i)\n",
    "        \n",
    "        np.savetxt('generated_grid_extended.csv', self.output_matrix_extended, delimiter=',', header=header, comments='')\n",
    "                                            \n",
    "        return self.output_matrix"
   ]
  },
  {
   "cell_type": "markdown",
   "id": "2d10ea6b-d39c-4c9f-bd6e-0aa00cbc1a39",
   "metadata": {},
   "source": [
    "## Grid definition\n",
    "- example of $10\\times 10$ synthetic grid."
   ]
  },
  {
   "cell_type": "code",
   "execution_count": 3,
   "id": "451781fa-c1f1-4766-9732-7fc342c98075",
   "metadata": {},
   "outputs": [
    {
     "name": "stdout",
     "output_type": "stream",
     "text": [
      "G.grid[(1,3)] = (102.0, 302.0)\n",
      "G.grid[(5,3)] = (513.0, 302.0)\n"
     ]
    }
   ],
   "source": [
    "G = grid(10, 10)\n",
    "print(f\"{G.grid[(1,3)] = }\")\n",
    "print(f\"{G.grid[(5,3)] = }\")"
   ]
  },
  {
   "cell_type": "code",
   "execution_count": 4,
   "id": "52fb9d0a-1a6e-4f15-880e-3af20e021db8",
   "metadata": {},
   "outputs": [
    {
     "data": {
      "image/png": "[encoded data removed]",
      "text/plain": [
       "<Figure size 432x288 with 1 Axes>"
      ]
     },
     "metadata": {
      "needs_background": "light"
     },
     "output_type": "display_data"
    }
   ],
   "source": [
    "G.plot_grid()"
   ]
  },
  {
   "cell_type": "markdown",
   "id": "c08d183a-646c-440e-9915-4b47eab17cb8",
   "metadata": {},
   "source": [
    "### Insertion of custumers "
   ]
  },
  {
   "cell_type": "code",
   "execution_count": 5,
   "id": "69907098-6ba5-4ff7-9ea3-01533bac4f58",
   "metadata": {},
   "outputs": [
    {
     "data": {
      "image/png": "[encoded data removed]",
      "text/plain": [
       "<Figure size 432x288 with 1 Axes>"
      ]
     },
     "metadata": {
      "needs_background": "light"
     },
     "output_type": "display_data"
    }
   ],
   "source": [
    "G.customers(n_customers=6)\n",
    "G.plot_customer_number()"
   ]
  },
  {
   "cell_type": "code",
   "execution_count": 6,
   "id": "816ec4c8-e22b-4b6a-863c-f192ebd6888e",
   "metadata": {},
   "outputs": [
    {
     "data": {
      "image/png": "[encoded data removed]",
      "text/plain": [
       "<Figure size 432x288 with 1 Axes>"
      ]
     },
     "metadata": {
      "needs_background": "light"
     },
     "output_type": "display_data"
    }
   ],
   "source": [
    "G.plot_customer_points()"
   ]
  },
  {
   "cell_type": "code",
   "execution_count": 7,
   "id": "87619ecf-477b-4fa5-bbc4-3ece621900bc",
   "metadata": {},
   "outputs": [
    {
     "name": "stdout",
     "output_type": "stream",
     "text": [
      "22.950551869092376\n",
      "10.627392858525313\n"
     ]
    }
   ],
   "source": [
    "print(G.elevation[(0,0)])\n",
    "print(G.elevation[(3,5)])"
   ]
  },
  {
   "cell_type": "markdown",
   "id": "a499cda1-75c2-4ee9-b933-43cff265fd78",
   "metadata": {},
   "source": [
    "### Definition of time windows and payload"
   ]
  },
  {
   "cell_type": "code",
   "execution_count": 8,
   "id": "263444c8-a97d-4638-818b-e66dd49ea170",
   "metadata": {},
   "outputs": [
    {
     "name": "stdout",
     "output_type": "stream",
     "text": [
      "Arrival min time: [ 0 50 50 50 50 50 50]\n",
      "Arrival max time: [  0 400 400 400 400 400 400]\n"
     ]
    }
   ],
   "source": [
    "ta,tb = G.time_windows(tp='single', min_t= 50, max_t=400)\n",
    "print(\"Arrival min time:\",ta)\n",
    "print(\"Arrival max time:\",tb)"
   ]
  },
  {
   "cell_type": "code",
   "execution_count": 9,
   "id": "4686b94d-6745-4ce6-8096-4b9d00a4340e",
   "metadata": {},
   "outputs": [],
   "source": [
    "G.payload(min_p=5, max_p=30) "
   ]
  },
  {
   "cell_type": "markdown",
   "id": "9e6831a7-86a9-4169-a4a3-a99915902345",
   "metadata": {},
   "source": [
    "### Example of base distance matrix \n",
    "**NB** extended distance matrix are better visualized as `.csv`"
   ]
  },
  {
   "cell_type": "code",
   "execution_count": 10,
   "id": "e670910c-6be1-4d6a-aa93-440d5e4ad821",
   "metadata": {},
   "outputs": [
    {
     "data": {
      "text/plain": [
       "array([[   0., 1371., 1527., 1312.,  696.,  800.,  404.],\n",
       "       [1371.,    0.,  498.,  475.,  675.,  571.,  967.],\n",
       "       [1527.,  498.,    0.,  215.,  831.,  925., 1123.],\n",
       "       [1312.,  475.,  215.,    0.,  616.,  902.,  908.],\n",
       "       [ 696.,  675.,  831.,  616.,    0.,  950.,  292.],\n",
       "       [ 800.,  571.,  925.,  902.,  950.,    0.,  816.],\n",
       "       [ 404.,  967., 1123.,  908.,  292.,  816.,    0.]])"
      ]
     },
     "execution_count": 10,
     "metadata": {},
     "output_type": "execute_result"
    }
   ],
   "source": [
    "G.customers_paths((0,0))"
   ]
  },
  {
   "cell_type": "code",
   "execution_count": 11,
   "id": "1b793f22-0c39-4fd4-895f-4781399e4ec9",
   "metadata": {},
   "outputs": [],
   "source": [
    " _  = G.create_csv()"
   ]
  }
 ],
 "metadata": {
  "kernelspec": {
   "display_name": "Python 3 (ipykernel)",
   "language": "python",
   "name": "python3"
  },
  "language_info": {
   "codemirror_mode": {
    "name": "ipython",
    "version": 3
   },
   "file_extension": ".py",
   "mimetype": "text/x-python",
   "name": "python",
   "nbconvert_exporter": "python",
   "pygments_lexer": "ipython3",
   "version": "3.9.12"
  }
 },
 "nbformat": 4,
 "nbformat_minor": 5
}
