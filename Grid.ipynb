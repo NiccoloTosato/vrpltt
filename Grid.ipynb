{
 "cells": [
  {
   "cell_type": "code",
   "execution_count": 18,
   "id": "155cf55b-9447-44bd-8586-305bbe9a0222",
   "metadata": {},
   "outputs": [],
   "source": [
    "import numpy as np\n",
    "import matplotlib.pyplot as plt\n",
    "import random"
   ]
  },
  {
   "cell_type": "code",
   "execution_count": 180,
   "id": "43dfdfab-38ef-42fc-a449-2480cbf07ff6",
   "metadata": {
    "tags": []
   },
   "outputs": [],
   "source": [
    "class grid():\n",
    "    def __init__(self, n_x, n_y):\n",
    "        self.n_x = n_x\n",
    "        self.n_y = n_y\n",
    "        self.x_points = np.empty(0)\n",
    "        self.y_points = np.empty(0)\n",
    "        self.x_max = 1000\n",
    "        self.y_max = 1000\n",
    "        self.grid = {}  \n",
    "        self.elevation = {}\n",
    "        self.elevation_intermediate = []\n",
    "        self.grid_customers = {}  \n",
    "        self.n_customers = 0      \n",
    "        self.customer_points = {}\n",
    "        self.customer_points_intermediate = {}\n",
    "        self.depot = None\n",
    "        self.d_ij_indices = {} \n",
    "        self.n_intermediate = 0\n",
    "        self.d_ij = None          # distances among customers - interface output for the optimization model\n",
    "        self.d_ij_extended = None\n",
    "        self.output_matrix = None\n",
    "        self.output_matrix_extended = None\n",
    "        self.tw_a = None\n",
    "        self.tw_b = None\n",
    "        self.load = None\n",
    "        self.servicetime = 5 # minutes\n",
    "        \n",
    "        self.create_grid()\n",
    "        self.grid_dict()\n",
    "        \n",
    "    def create_grid(self):\n",
    "        delta_x = 20\n",
    "        delta_y = 20\n",
    "        np.random.seed(9)\n",
    "        self.x_points = np.linspace(0, self.x_max, self.n_x+1) + np.random.randint(-delta_x, delta_x, self.n_x+1)\n",
    "        self.y_points = np.linspace(0, self.y_max, self.n_y+1) + np.random.randint(-delta_y, delta_y, self.n_y+1)\n",
    "        self.x_points[0] = 0; self.x_points[-1] = self.x_max\n",
    "        self.y_points[0] = 0; self.y_points[-1] = self.y_max\n",
    "        self.x_points.sort()\n",
    "        self.y_points.sort()\n",
    "        \n",
    "    def grid_dict(self):\n",
    "        for i in range(self.n_x+1):\n",
    "            for j in range(self.n_y+1):\n",
    "                self.grid[(i,j)] = (self.x_points[i], self.y_points[j])\n",
    "                self.elevation[(i,j)] = 30*np.random.random()\n",
    "        return self.grid\n",
    "    \n",
    "    def time_windows(self, tp='random', min_t=50, max_t=200, k_separation = 0.05, k_overlapped = 0.5):\n",
    "        tw_a = np.zeros(1, dtype=int); tw_b = np.zeros(1, dtype=int)\n",
    "        if tp == 'random':\n",
    "            delta_lower = min_t/2\n",
    "            delta_upper = delta_lower\n",
    "            tw_center = np.random.randint(min_t+delta_lower, max_t-delta_upper, self.n_customers)\n",
    "            self.tw_a = np.append(tw_a, tw_center - np.random.randint(0, delta_lower, self.n_customers))\n",
    "            self.tw_b = np.append(tw_b, tw_center + np.random.randint(0, delta_upper, self.n_customers))\n",
    "            return self.tw_a, self.tw_b\n",
    "        if tp == 'separated':\n",
    "            delta_tw = (max_t - min_t)/self.n_customers\n",
    "            self.tw_a = np.append(tw_a, np.array([min_t + (i - k_separation)*delta_tw for i in range(self.n_customers)]) )\n",
    "            self.tw_b = np.append(tw_b, np.array([min_t + (i + k_separation)*delta_tw for i in range(self.n_customers)]) )\n",
    "            return self.tw_a, self.tw_b\n",
    "        if tp == 'overlapped':\n",
    "            tw_c = (max_t - min_t)/2\n",
    "            tw_interval = 0.5*k_overlapped*tw_c # half base interval (centered halfway between max_t and min_t)\n",
    "            delta_interval = np.random.randint(0, tw_interval, self.n_customers)\n",
    "            self.tw_a = np.append(tw_a, np.array([min_t + tw_c - t for t in sorted(delta_interval)]) )\n",
    "            self.tw_b = np.append(tw_b, np.array([min_t + tw_c + t for t in sorted(delta_interval)]) )\n",
    "            # np.random.shuffle(tw_a); np.random.shuffle(tw_b)\n",
    "            return self.tw_a, self.tw_b\n",
    "        if tp == 'single':\n",
    "            self.tw_a = np.append(tw_a, np.array([min_t for _ in range(self.n_customers)]) )\n",
    "            self.tw_b = np.append(tw_b, np.array([max_t for _ in range(self.n_customers)]) )\n",
    "            return self.tw_a, self.tw_b\n",
    "    \n",
    "    def payload(self, min_p=5, max_p=30):\n",
    "        self.load = np.append(np.zeros(1), np.random.randint(min_p, max_p, self.n_customers))\n",
    "    \n",
    "    def plot_grid(self):\n",
    "        for i in range(self.n_x+1):\n",
    "            plt.plot([self.x_points[i], self.x_points[i]], [0, self.y_max], color='gray')\n",
    "        for j in range(self.n_y+1):\n",
    "            plt.plot([0, self.x_max], [self.y_points[j], self.y_points[j]], color='gray')\n",
    "        \n",
    "    def customers(self, n_customers):\n",
    "        self.n_customers = n_customers\n",
    "        random.seed(9); \n",
    "        customer_points = random.sample(list(self.grid.items()), n_customers)\n",
    "        self.customer_points = {k:v for k, v in customer_points}\n",
    "        return self.customer_points\n",
    "        \n",
    "    def plot_customer_points(self):\n",
    "        k = list(self.customer_points.values())\n",
    "        self.plot_grid()\n",
    "        for i in range(self.n_customers):\n",
    "            plt.scatter(k[i][0], k[i][1])\n",
    "        \n",
    "    def plot_customer_number(self):\n",
    "        k = list(self.customer_points.keys())\n",
    "        a=np.empty((self.n_x+1,self.n_y+1))\n",
    "        for x in range(self.n_x+1):\n",
    "            for y in range(self.n_y+1):\n",
    "                a[x,y]=self.elevation[(x,y)]\n",
    "        #self.plot_grid()\n",
    "        plt.imshow(a,alpha=0.3, cmap='gnuplot2_r', interpolation='bicubic',origin='lower') \n",
    "        count=0 \n",
    "        for i in range(self.n_customers):\n",
    "            count+=1\n",
    "            plt.text(k[i][0], k[i][1], f\"{count}\", fontsize=12)\n",
    "        \n",
    "    def customers_paths(self, depot):\n",
    "        ## # depot must be an appropriate tuple of coordinate indices of the grid: ex (12, 15): (12th pos. on x - 15th pos. on y)\n",
    "        self.depot = depot\n",
    "        nodes = list(self.customer_points.keys())  # we work with grid indices instead of coordinates\n",
    "        nodes.insert(0, depot)\n",
    "        print(nodes)\n",
    "        \n",
    "        # we insert an intermediate point only if the two points are not on the same horizontal or vertical line \n",
    "        # a variation could be to use a point internal to the horizontal/vertical edge if the the latter is longer than 1 grid point\n",
    "        self.n_intermediate = 0    \n",
    "        for i in range(self.n_customers+1):\n",
    "            for j in range(self.n_customers+1):\n",
    "                dx_index = nodes[i][0] - nodes[j][0]\n",
    "                dy_index = nodes[i][1] - nodes[j][1]\n",
    "                if (dx_index != 0 and dy_index != 0):\n",
    "                    self.n_intermediate += 1\n",
    "        self.n_intermediate //= 2\n",
    "        print('n_intermediate', self.n_intermediate)  \n",
    "        \n",
    "        self.d_ij = np.zeros((self.n_customers+1, self.n_customers+1))\n",
    "        self.d_ij_extended = np.zeros((self.n_customers+1+self.n_intermediate, self.n_customers+1+self.n_intermediate))\n",
    "        \n",
    "        self.customer_points_intermediate = self.customer_points.copy()\n",
    "        int_node = 0\n",
    "        for i in range(self.n_customers+1):\n",
    "            print('node:', i, nodes[i])\n",
    "            for j in range(self.n_customers+1):\n",
    "                dx_index = nodes[i][0] - nodes[j][0]\n",
    "                dy_index = nodes[i][1] - nodes[j][1]\n",
    "                node_int = (nodes[i][0] - dx_index, nodes[i][1])\n",
    "                self.d_ij_indices[(i,j)] = (nodes[i], node_int, nodes[j])\n",
    "                # self.d_ij_indices[(i,j)] = ((nodes[i][0], nodes[i][1]), (nodes[i][0]-dx_index, nodes[i][1]), (nodes[j][0], nodes[j][1]))\n",
    "                print(self.d_ij_indices[(i,j)])\n",
    "                \n",
    "                dx = abs(self.grid[node_int][0] - self.grid[nodes[i]][0])\n",
    "                dy = abs(self.grid[node_int][1] - self.grid[nodes[j]][1])\n",
    "                self.d_ij[i,j] = dx + dy\n",
    "                self.d_ij_extended[i,j] = dx + dy \n",
    "                \n",
    "                if (dx_index != 0 and dy_index != 0) and (self.grid[node_int][1] <= self.grid[nodes[j]][1]):\n",
    "                    self.customer_points_intermediate[node_int] = self.grid[node_int]\n",
    "                    int_node += 1\n",
    "                    self.d_ij_extended[i,self.n_customers+int_node] = abs(self.grid[node_int][0] - self.grid[nodes[i]][0])   \n",
    "                    self.d_ij_extended[self.n_customers+int_node,i] = self.d_ij_extended[i,self.n_customers+int_node]#abs(self.grid[node_int][1] - self.grid[nodes[j]][1])\n",
    "                    self.d_ij_extended[j,self.n_customers+int_node] = abs(self.grid[node_int][1] - self.grid[nodes[j]][1])\n",
    "                    self.d_ij_extended[self.n_customers+int_node,j] = self.d_ij_extended[j,self.n_customers+int_node]\n",
    "                    self.elevation_intermediate.append(self.elevation[node_int])\n",
    "                    \n",
    "        print('d_ij_indices\\n', self.d_ij_indices)\n",
    "        \n",
    "        return self.d_ij\n",
    "    \n",
    "    def create_csv(self):\n",
    "        elevation = np.zeros(self.n_customers)\n",
    "        # elevation_intermediate = np.zeros(self.n_customers+self.n_intermediate)\n",
    "        \n",
    "        for i, k in enumerate(self.customer_points.keys()):\n",
    "            elevation[i] = self.elevation[k]\n",
    "        # for i, k in enumerate(self.customer_points_intermediate.keys()):\n",
    "        #     elevation_intermediate[i] = self.elevation[k]\n",
    "         \n",
    "        elevation = np.append(self.elevation[self.depot], elevation)\n",
    "        elevation_intermediate = np.append(elevation, self.elevation_intermediate)\n",
    "        \n",
    "        service_time = np.append(np.zeros(1), np.array([self.servicetime for _ in range(self.n_customers)]) )\n",
    "        service_time_intermediate = np.append(service_time, np.nan*np.ones(self.n_intermediate))\n",
    "        \n",
    "        x = np.append(self.grid[self.depot][0], np.array([v[0] for v in self.customer_points.values()]) )\n",
    "        y = np.append(self.grid[self.depot][1], np.array([v[1] for v in self.customer_points.values()]) )\n",
    "        x_intermediate = np.append(x, np.zeros(self.n_intermediate))\n",
    "        y_intermediate = np.append(y, np.zeros(self.n_intermediate))\n",
    "        \n",
    "        index = np.linspace(0,self.n_customers,self.n_customers+1)\n",
    "        index_intermediate = np.linspace(0,self.n_customers+self.n_intermediate,self.n_customers+self.n_intermediate+1)\n",
    "        \n",
    "        self.output_matrix = np.c_[index, x, y, elevation, self.load, self.tw_a, self.tw_b, service_time, self.d_ij/1000]\n",
    "        \n",
    "        load_intermediate = np.append(self.load.copy(), -np.ones(self.n_intermediate))\n",
    "        tw_a_intermediate = np.append(self.tw_a.copy(), np.zeros(self.n_intermediate))\n",
    "        tw_b_intermediate = np.append(self.tw_b.copy(), np.zeros(self.n_intermediate))\n",
    "        service_time_intermediate = np.append(service_time.copy(), np.zeros(self.n_intermediate))\n",
    "        self.output_matrix_extended = np.c_[index_intermediate, x_intermediate, y_intermediate, elevation_intermediate, load_intermediate, tw_a_intermediate, \n",
    "                                            tw_b_intermediate, service_time_intermediate, self.d_ij_extended/1000]\n",
    "                                            \n",
    "        header = ',x,y,elevation,demand,tw a,tw b,s'\n",
    "        for i in range(self.n_customers+1):\n",
    "            header += ','+str(i)\n",
    "           \n",
    "        np.savetxt('generated_grid_1.csv', self.output_matrix, delimiter=',', header=header, comments='')\n",
    "        \n",
    "        header = ',x,y,elevation,demand,tw a,tw b,s'\n",
    "        for i in range(self.n_customers+1+self.n_intermediate):\n",
    "            header += ','+str(i)\n",
    "        \n",
    "        np.savetxt('generated_grid_1_extended.csv', self.output_matrix_extended, delimiter=',', header=header, comments='')\n",
    "                                            \n",
    "        return self.output_matrix"
   ]
  },
  {
   "cell_type": "code",
   "execution_count": 181,
   "id": "451781fa-c1f1-4766-9732-7fc342c98075",
   "metadata": {},
   "outputs": [
    {
     "name": "stdout",
     "output_type": "stream",
     "text": [
      "(102.0, 302.0)\n",
      "(513.0, 302.0)\n"
     ]
    }
   ],
   "source": [
    "G = grid(10, 10)\n",
    "print(G.grid[(1,3)])\n",
    "print(G.grid[(5,3)])"
   ]
  },
  {
   "cell_type": "code",
   "execution_count": 182,
   "id": "6ab79733-df49-4bff-9095-20190b9ee50f",
   "metadata": {},
   "outputs": [
    {
     "data": {
      "text/plain": [
       "array([ 0.,  1.,  2.,  3.,  4.,  5.,  6.,  7.,  8.,  9., 10., 11., 12.,\n",
       "       13., 14., 15., 16., 17., 18., 19., 20., 21.])"
      ]
     },
     "execution_count": 182,
     "metadata": {},
     "output_type": "execute_result"
    }
   ],
   "source": [
    "np.linspace(0,21,22)"
   ]
  },
  {
   "cell_type": "code",
   "execution_count": 183,
   "id": "123661ce-c2cb-4ccc-9b8c-d94c93eefe63",
   "metadata": {},
   "outputs": [
    {
     "data": {
      "text/plain": [
       "array([0., 6., 7., 6., 7., 8.])"
      ]
     },
     "execution_count": 183,
     "metadata": {},
     "output_type": "execute_result"
    }
   ],
   "source": [
    "np.append(np.zeros(1), np.random.randint(5, 10, 5))"
   ]
  },
  {
   "cell_type": "code",
   "execution_count": 184,
   "id": "263444c8-a97d-4638-818b-e66dd49ea170",
   "metadata": {},
   "outputs": [],
   "source": [
    "a,b = G.time_windows(tp='single', min_t= 50, max_t=400)\n"
   ]
  },
  {
   "cell_type": "code",
   "execution_count": 185,
   "id": "bbb4f797-a5aa-4f69-a43c-f91d2aa76c3b",
   "metadata": {},
   "outputs": [
    {
     "data": {
      "image/png": "[encoded data removed]",
      "text/plain": [
       "<Figure size 432x288 with 1 Axes>"
      ]
     },
     "metadata": {
      "needs_background": "light"
     },
     "output_type": "display_data"
    }
   ],
   "source": [
    "G.plot_grid()"
   ]
  },
  {
   "cell_type": "code",
   "execution_count": 186,
   "id": "ccdf04fd-ac71-4474-98f8-d1ecbfca6a18",
   "metadata": {},
   "outputs": [
    {
     "name": "stdout",
     "output_type": "stream",
     "text": [
      "[   0.  102.  181.  302.  407.  513.  609.  708.  780.  904. 1000.]\n",
      "[   0.   92.  198.  302.  381.  515.  591.  717.  799.  918. 1000.]\n",
      "10\n"
     ]
    }
   ],
   "source": [
    "print(np.round(G.x_points, 2))\n",
    "print(np.round(G.y_points, 2))\n",
    "print(G.n_x)"
   ]
  },
  {
   "cell_type": "code",
   "execution_count": 187,
   "id": "87619ecf-477b-4fa5-bbc4-3ece621900bc",
   "metadata": {},
   "outputs": [
    {
     "name": "stdout",
     "output_type": "stream",
     "text": [
      "22.950551869092376\n",
      "10.627392858525313\n"
     ]
    }
   ],
   "source": [
    "print(G.elevation[(0,0)])\n",
    "print(G.elevation[(3,5)])"
   ]
  },
  {
   "cell_type": "code",
   "execution_count": 188,
   "id": "69907098-6ba5-4ff7-9ea3-01533bac4f58",
   "metadata": {},
   "outputs": [
    {
     "data": {
      "image/png": "[encoded data removed]",
      "text/plain": [
       "<Figure size 432x288 with 1 Axes>"
      ]
     },
     "metadata": {
      "needs_background": "light"
     },
     "output_type": "display_data"
    }
   ],
   "source": [
    "G.customers(12)\n",
    "# for i in range(2,5): print(i)\n",
    "G.plot_customer_number()"
   ]
  },
  {
   "cell_type": "code",
   "execution_count": 189,
   "id": "97bb8765-c4c1-4665-826c-f32c4e150957",
   "metadata": {},
   "outputs": [
    {
     "name": "stdout",
     "output_type": "stream",
     "text": [
      "((5, 4), (513.0, 381.0))\n",
      "((7, 1), (708.0, 92.0))\n",
      "((4, 3), (407.0, 302.0))\n",
      "((3, 1), (302.0, 92.0))\n",
      "((1, 6), (102.0, 591.0))\n",
      "((2, 1), (181.0, 92.0))\n",
      "((10, 0), (1000.0, 0.0))\n",
      "((7, 9), (708.0, 918.0))\n",
      "((0, 0), (0.0, 0.0))\n",
      "((3, 10), (302.0, 1000.0))\n",
      "((5, 9), (513.0, 918.0))\n",
      "((10, 4), (1000.0, 381.0))\n"
     ]
    }
   ],
   "source": [
    "for v in G.customer_points.items():\n",
    "    print(v)"
   ]
  },
  {
   "cell_type": "code",
   "execution_count": 29,
   "id": "0b73c81c-7bb9-4c8f-8820-a437b54a7bf0",
   "metadata": {},
   "outputs": [],
   "source": [
    "for v in G.customer_points_intermediate.items():\n",
    "    print(v)"
   ]
  },
  {
   "cell_type": "code",
   "execution_count": 30,
   "id": "9af69059-b785-4bff-89f3-80353746665d",
   "metadata": {},
   "outputs": [],
   "source": [
    "for v in G.customer_points_intermediate.keys():\n",
    "    print(v)"
   ]
  },
  {
   "cell_type": "code",
   "execution_count": 31,
   "id": "10ce53ea-7b3f-4e7f-8fea-806ae72375a7",
   "metadata": {},
   "outputs": [],
   "source": [
    "for v in G.customer_points_intermediate.keys():\n",
    "    print(G.elevation[v])"
   ]
  },
  {
   "cell_type": "code",
   "execution_count": 32,
   "id": "c9babe13-51e0-4c63-95ed-c949efa65acd",
   "metadata": {},
   "outputs": [
    {
     "name": "stdout",
     "output_type": "stream",
     "text": [
      "0\n",
      "0\n"
     ]
    }
   ],
   "source": [
    "# G.customer_points\n",
    "print(G.n_intermediate)\n",
    "print(len(G.customer_points_intermediate))"
   ]
  },
  {
   "cell_type": "code",
   "execution_count": 33,
   "id": "816ec4c8-e22b-4b6a-863c-f192ebd6888e",
   "metadata": {},
   "outputs": [
    {
     "data": {
      "image/png": "[encoded data removed]",
      "text/plain": [
       "<Figure size 432x288 with 1 Axes>"
      ]
     },
     "metadata": {
      "needs_background": "light"
     },
     "output_type": "display_data"
    }
   ],
   "source": [
    "G.plot_customer_points()"
   ]
  },
  {
   "cell_type": "code",
   "execution_count": 34,
   "id": "b81282de-8f82-4a2f-a79c-7bc628e5d1d6",
   "metadata": {},
   "outputs": [
    {
     "data": {
      "image/png": "[encoded data removed]",
      "text/plain": [
       "<Figure size 432x288 with 1 Axes>"
      ]
     },
     "metadata": {
      "needs_background": "light"
     },
     "output_type": "display_data"
    }
   ],
   "source": [
    "G.plot_customer_number()"
   ]
  },
  {
   "cell_type": "code",
   "execution_count": 35,
   "id": "415694dc-7d60-4834-8227-08a37eceab9c",
   "metadata": {},
   "outputs": [
    {
     "name": "stdout",
     "output_type": "stream",
     "text": [
      "()\n"
     ]
    }
   ],
   "source": [
    "# print(G.elevation.keys())\n",
    "# print(G.d_ij_extended.keys())\n",
    "print(np.shape(G.d_ij_extended))"
   ]
  },
  {
   "cell_type": "code",
   "execution_count": 36,
   "id": "e670910c-6be1-4d6a-aa93-440d5e4ad821",
   "metadata": {},
   "outputs": [
    {
     "name": "stdout",
     "output_type": "stream",
     "text": [
      "[(0, 0), (5, 4), (7, 1), (4, 3), (3, 1), (1, 6), (2, 1), (10, 0), (7, 9), (0, 0), (3, 10), (5, 9), (10, 4)]\n",
      "n_intermediate 66\n",
      "node: 0 (0, 0)\n",
      "((0, 0), (0, 0), (0, 0))\n",
      "((0, 0), (5, 0), (5, 4))\n",
      "((0, 0), (7, 0), (7, 1))\n",
      "((0, 0), (4, 0), (4, 3))\n",
      "((0, 0), (3, 0), (3, 1))\n",
      "((0, 0), (1, 0), (1, 6))\n",
      "((0, 0), (2, 0), (2, 1))\n",
      "((0, 0), (10, 0), (10, 0))\n",
      "((0, 0), (7, 0), (7, 9))\n",
      "((0, 0), (0, 0), (0, 0))\n",
      "((0, 0), (3, 0), (3, 10))\n",
      "((0, 0), (5, 0), (5, 9))\n",
      "((0, 0), (10, 0), (10, 4))\n",
      "node: 1 (5, 4)\n",
      "((5, 4), (0, 4), (0, 0))\n",
      "((5, 4), (5, 4), (5, 4))\n",
      "((5, 4), (7, 4), (7, 1))\n",
      "((5, 4), (4, 4), (4, 3))\n",
      "((5, 4), (3, 4), (3, 1))\n",
      "((5, 4), (1, 4), (1, 6))\n",
      "((5, 4), (2, 4), (2, 1))\n",
      "((5, 4), (10, 4), (10, 0))\n",
      "((5, 4), (7, 4), (7, 9))\n",
      "((5, 4), (0, 4), (0, 0))\n",
      "((5, 4), (3, 4), (3, 10))\n",
      "((5, 4), (5, 4), (5, 9))\n",
      "((5, 4), (10, 4), (10, 4))\n",
      "node: 2 (7, 1)\n",
      "((7, 1), (0, 1), (0, 0))\n",
      "((7, 1), (5, 1), (5, 4))\n",
      "((7, 1), (7, 1), (7, 1))\n",
      "((7, 1), (4, 1), (4, 3))\n",
      "((7, 1), (3, 1), (3, 1))\n",
      "((7, 1), (1, 1), (1, 6))\n",
      "((7, 1), (2, 1), (2, 1))\n",
      "((7, 1), (10, 1), (10, 0))\n",
      "((7, 1), (7, 1), (7, 9))\n",
      "((7, 1), (0, 1), (0, 0))\n",
      "((7, 1), (3, 1), (3, 10))\n",
      "((7, 1), (5, 1), (5, 9))\n",
      "((7, 1), (10, 1), (10, 4))\n",
      "node: 3 (4, 3)\n",
      "((4, 3), (0, 3), (0, 0))\n",
      "((4, 3), (5, 3), (5, 4))\n",
      "((4, 3), (7, 3), (7, 1))\n",
      "((4, 3), (4, 3), (4, 3))\n",
      "((4, 3), (3, 3), (3, 1))\n",
      "((4, 3), (1, 3), (1, 6))\n",
      "((4, 3), (2, 3), (2, 1))\n",
      "((4, 3), (10, 3), (10, 0))\n",
      "((4, 3), (7, 3), (7, 9))\n",
      "((4, 3), (0, 3), (0, 0))\n",
      "((4, 3), (3, 3), (3, 10))\n",
      "((4, 3), (5, 3), (5, 9))\n",
      "((4, 3), (10, 3), (10, 4))\n",
      "node: 4 (3, 1)\n",
      "((3, 1), (0, 1), (0, 0))\n",
      "((3, 1), (5, 1), (5, 4))\n",
      "((3, 1), (7, 1), (7, 1))\n",
      "((3, 1), (4, 1), (4, 3))\n",
      "((3, 1), (3, 1), (3, 1))\n",
      "((3, 1), (1, 1), (1, 6))\n",
      "((3, 1), (2, 1), (2, 1))\n",
      "((3, 1), (10, 1), (10, 0))\n",
      "((3, 1), (7, 1), (7, 9))\n",
      "((3, 1), (0, 1), (0, 0))\n",
      "((3, 1), (3, 1), (3, 10))\n",
      "((3, 1), (5, 1), (5, 9))\n",
      "((3, 1), (10, 1), (10, 4))\n",
      "node: 5 (1, 6)\n",
      "((1, 6), (0, 6), (0, 0))\n",
      "((1, 6), (5, 6), (5, 4))\n",
      "((1, 6), (7, 6), (7, 1))\n",
      "((1, 6), (4, 6), (4, 3))\n",
      "((1, 6), (3, 6), (3, 1))\n",
      "((1, 6), (1, 6), (1, 6))\n",
      "((1, 6), (2, 6), (2, 1))\n",
      "((1, 6), (10, 6), (10, 0))\n",
      "((1, 6), (7, 6), (7, 9))\n",
      "((1, 6), (0, 6), (0, 0))\n",
      "((1, 6), (3, 6), (3, 10))\n",
      "((1, 6), (5, 6), (5, 9))\n",
      "((1, 6), (10, 6), (10, 4))\n",
      "node: 6 (2, 1)\n",
      "((2, 1), (0, 1), (0, 0))\n",
      "((2, 1), (5, 1), (5, 4))\n",
      "((2, 1), (7, 1), (7, 1))\n",
      "((2, 1), (4, 1), (4, 3))\n",
      "((2, 1), (3, 1), (3, 1))\n",
      "((2, 1), (1, 1), (1, 6))\n",
      "((2, 1), (2, 1), (2, 1))\n",
      "((2, 1), (10, 1), (10, 0))\n",
      "((2, 1), (7, 1), (7, 9))\n",
      "((2, 1), (0, 1), (0, 0))\n",
      "((2, 1), (3, 1), (3, 10))\n",
      "((2, 1), (5, 1), (5, 9))\n",
      "((2, 1), (10, 1), (10, 4))\n",
      "node: 7 (10, 0)\n",
      "((10, 0), (0, 0), (0, 0))\n",
      "((10, 0), (5, 0), (5, 4))\n",
      "((10, 0), (7, 0), (7, 1))\n",
      "((10, 0), (4, 0), (4, 3))\n",
      "((10, 0), (3, 0), (3, 1))\n",
      "((10, 0), (1, 0), (1, 6))\n",
      "((10, 0), (2, 0), (2, 1))\n",
      "((10, 0), (10, 0), (10, 0))\n",
      "((10, 0), (7, 0), (7, 9))\n",
      "((10, 0), (0, 0), (0, 0))\n",
      "((10, 0), (3, 0), (3, 10))\n",
      "((10, 0), (5, 0), (5, 9))\n",
      "((10, 0), (10, 0), (10, 4))\n",
      "node: 8 (7, 9)\n",
      "((7, 9), (0, 9), (0, 0))\n",
      "((7, 9), (5, 9), (5, 4))\n",
      "((7, 9), (7, 9), (7, 1))\n",
      "((7, 9), (4, 9), (4, 3))\n",
      "((7, 9), (3, 9), (3, 1))\n",
      "((7, 9), (1, 9), (1, 6))\n",
      "((7, 9), (2, 9), (2, 1))\n",
      "((7, 9), (10, 9), (10, 0))\n",
      "((7, 9), (7, 9), (7, 9))\n",
      "((7, 9), (0, 9), (0, 0))\n",
      "((7, 9), (3, 9), (3, 10))\n",
      "((7, 9), (5, 9), (5, 9))\n",
      "((7, 9), (10, 9), (10, 4))\n",
      "node: 9 (0, 0)\n",
      "((0, 0), (0, 0), (0, 0))\n",
      "((0, 0), (5, 0), (5, 4))\n",
      "((0, 0), (7, 0), (7, 1))\n",
      "((0, 0), (4, 0), (4, 3))\n",
      "((0, 0), (3, 0), (3, 1))\n",
      "((0, 0), (1, 0), (1, 6))\n",
      "((0, 0), (2, 0), (2, 1))\n",
      "((0, 0), (10, 0), (10, 0))\n",
      "((0, 0), (7, 0), (7, 9))\n",
      "((0, 0), (0, 0), (0, 0))\n",
      "((0, 0), (3, 0), (3, 10))\n",
      "((0, 0), (5, 0), (5, 9))\n",
      "((0, 0), (10, 0), (10, 4))\n",
      "node: 10 (3, 10)\n",
      "((3, 10), (0, 10), (0, 0))\n",
      "((3, 10), (5, 10), (5, 4))\n",
      "((3, 10), (7, 10), (7, 1))\n",
      "((3, 10), (4, 10), (4, 3))\n",
      "((3, 10), (3, 10), (3, 1))\n",
      "((3, 10), (1, 10), (1, 6))\n",
      "((3, 10), (2, 10), (2, 1))\n",
      "((3, 10), (10, 10), (10, 0))\n",
      "((3, 10), (7, 10), (7, 9))\n",
      "((3, 10), (0, 10), (0, 0))\n",
      "((3, 10), (3, 10), (3, 10))\n",
      "((3, 10), (5, 10), (5, 9))\n",
      "((3, 10), (10, 10), (10, 4))\n",
      "node: 11 (5, 9)\n",
      "((5, 9), (0, 9), (0, 0))\n",
      "((5, 9), (5, 9), (5, 4))\n",
      "((5, 9), (7, 9), (7, 1))\n",
      "((5, 9), (4, 9), (4, 3))\n",
      "((5, 9), (3, 9), (3, 1))\n",
      "((5, 9), (1, 9), (1, 6))\n",
      "((5, 9), (2, 9), (2, 1))\n",
      "((5, 9), (10, 9), (10, 0))\n",
      "((5, 9), (7, 9), (7, 9))\n",
      "((5, 9), (0, 9), (0, 0))\n",
      "((5, 9), (3, 9), (3, 10))\n",
      "((5, 9), (5, 9), (5, 9))\n",
      "((5, 9), (10, 9), (10, 4))\n",
      "node: 12 (10, 4)\n",
      "((10, 4), (0, 4), (0, 0))\n",
      "((10, 4), (5, 4), (5, 4))\n",
      "((10, 4), (7, 4), (7, 1))\n",
      "((10, 4), (4, 4), (4, 3))\n",
      "((10, 4), (3, 4), (3, 1))\n",
      "((10, 4), (1, 4), (1, 6))\n",
      "((10, 4), (2, 4), (2, 1))\n",
      "((10, 4), (10, 4), (10, 0))\n",
      "((10, 4), (7, 4), (7, 9))\n",
      "((10, 4), (0, 4), (0, 0))\n",
      "((10, 4), (3, 4), (3, 10))\n",
      "((10, 4), (5, 4), (5, 9))\n",
      "((10, 4), (10, 4), (10, 4))\n",
      "d_ij_indices\n",
      " {(0, 0): ((0, 0), (0, 0), (0, 0)), (0, 1): ((0, 0), (5, 0), (5, 4)), (0, 2): ((0, 0), (7, 0), (7, 1)), (0, 3): ((0, 0), (4, 0), (4, 3)), (0, 4): ((0, 0), (3, 0), (3, 1)), (0, 5): ((0, 0), (1, 0), (1, 6)), (0, 6): ((0, 0), (2, 0), (2, 1)), (0, 7): ((0, 0), (10, 0), (10, 0)), (0, 8): ((0, 0), (7, 0), (7, 9)), (0, 9): ((0, 0), (0, 0), (0, 0)), (0, 10): ((0, 0), (3, 0), (3, 10)), (0, 11): ((0, 0), (5, 0), (5, 9)), (0, 12): ((0, 0), (10, 0), (10, 4)), (1, 0): ((5, 4), (0, 4), (0, 0)), (1, 1): ((5, 4), (5, 4), (5, 4)), (1, 2): ((5, 4), (7, 4), (7, 1)), (1, 3): ((5, 4), (4, 4), (4, 3)), (1, 4): ((5, 4), (3, 4), (3, 1)), (1, 5): ((5, 4), (1, 4), (1, 6)), (1, 6): ((5, 4), (2, 4), (2, 1)), (1, 7): ((5, 4), (10, 4), (10, 0)), (1, 8): ((5, 4), (7, 4), (7, 9)), (1, 9): ((5, 4), (0, 4), (0, 0)), (1, 10): ((5, 4), (3, 4), (3, 10)), (1, 11): ((5, 4), (5, 4), (5, 9)), (1, 12): ((5, 4), (10, 4), (10, 4)), (2, 0): ((7, 1), (0, 1), (0, 0)), (2, 1): ((7, 1), (5, 1), (5, 4)), (2, 2): ((7, 1), (7, 1), (7, 1)), (2, 3): ((7, 1), (4, 1), (4, 3)), (2, 4): ((7, 1), (3, 1), (3, 1)), (2, 5): ((7, 1), (1, 1), (1, 6)), (2, 6): ((7, 1), (2, 1), (2, 1)), (2, 7): ((7, 1), (10, 1), (10, 0)), (2, 8): ((7, 1), (7, 1), (7, 9)), (2, 9): ((7, 1), (0, 1), (0, 0)), (2, 10): ((7, 1), (3, 1), (3, 10)), (2, 11): ((7, 1), (5, 1), (5, 9)), (2, 12): ((7, 1), (10, 1), (10, 4)), (3, 0): ((4, 3), (0, 3), (0, 0)), (3, 1): ((4, 3), (5, 3), (5, 4)), (3, 2): ((4, 3), (7, 3), (7, 1)), (3, 3): ((4, 3), (4, 3), (4, 3)), (3, 4): ((4, 3), (3, 3), (3, 1)), (3, 5): ((4, 3), (1, 3), (1, 6)), (3, 6): ((4, 3), (2, 3), (2, 1)), (3, 7): ((4, 3), (10, 3), (10, 0)), (3, 8): ((4, 3), (7, 3), (7, 9)), (3, 9): ((4, 3), (0, 3), (0, 0)), (3, 10): ((4, 3), (3, 3), (3, 10)), (3, 11): ((4, 3), (5, 3), (5, 9)), (3, 12): ((4, 3), (10, 3), (10, 4)), (4, 0): ((3, 1), (0, 1), (0, 0)), (4, 1): ((3, 1), (5, 1), (5, 4)), (4, 2): ((3, 1), (7, 1), (7, 1)), (4, 3): ((3, 1), (4, 1), (4, 3)), (4, 4): ((3, 1), (3, 1), (3, 1)), (4, 5): ((3, 1), (1, 1), (1, 6)), (4, 6): ((3, 1), (2, 1), (2, 1)), (4, 7): ((3, 1), (10, 1), (10, 0)), (4, 8): ((3, 1), (7, 1), (7, 9)), (4, 9): ((3, 1), (0, 1), (0, 0)), (4, 10): ((3, 1), (3, 1), (3, 10)), (4, 11): ((3, 1), (5, 1), (5, 9)), (4, 12): ((3, 1), (10, 1), (10, 4)), (5, 0): ((1, 6), (0, 6), (0, 0)), (5, 1): ((1, 6), (5, 6), (5, 4)), (5, 2): ((1, 6), (7, 6), (7, 1)), (5, 3): ((1, 6), (4, 6), (4, 3)), (5, 4): ((1, 6), (3, 6), (3, 1)), (5, 5): ((1, 6), (1, 6), (1, 6)), (5, 6): ((1, 6), (2, 6), (2, 1)), (5, 7): ((1, 6), (10, 6), (10, 0)), (5, 8): ((1, 6), (7, 6), (7, 9)), (5, 9): ((1, 6), (0, 6), (0, 0)), (5, 10): ((1, 6), (3, 6), (3, 10)), (5, 11): ((1, 6), (5, 6), (5, 9)), (5, 12): ((1, 6), (10, 6), (10, 4)), (6, 0): ((2, 1), (0, 1), (0, 0)), (6, 1): ((2, 1), (5, 1), (5, 4)), (6, 2): ((2, 1), (7, 1), (7, 1)), (6, 3): ((2, 1), (4, 1), (4, 3)), (6, 4): ((2, 1), (3, 1), (3, 1)), (6, 5): ((2, 1), (1, 1), (1, 6)), (6, 6): ((2, 1), (2, 1), (2, 1)), (6, 7): ((2, 1), (10, 1), (10, 0)), (6, 8): ((2, 1), (7, 1), (7, 9)), (6, 9): ((2, 1), (0, 1), (0, 0)), (6, 10): ((2, 1), (3, 1), (3, 10)), (6, 11): ((2, 1), (5, 1), (5, 9)), (6, 12): ((2, 1), (10, 1), (10, 4)), (7, 0): ((10, 0), (0, 0), (0, 0)), (7, 1): ((10, 0), (5, 0), (5, 4)), (7, 2): ((10, 0), (7, 0), (7, 1)), (7, 3): ((10, 0), (4, 0), (4, 3)), (7, 4): ((10, 0), (3, 0), (3, 1)), (7, 5): ((10, 0), (1, 0), (1, 6)), (7, 6): ((10, 0), (2, 0), (2, 1)), (7, 7): ((10, 0), (10, 0), (10, 0)), (7, 8): ((10, 0), (7, 0), (7, 9)), (7, 9): ((10, 0), (0, 0), (0, 0)), (7, 10): ((10, 0), (3, 0), (3, 10)), (7, 11): ((10, 0), (5, 0), (5, 9)), (7, 12): ((10, 0), (10, 0), (10, 4)), (8, 0): ((7, 9), (0, 9), (0, 0)), (8, 1): ((7, 9), (5, 9), (5, 4)), (8, 2): ((7, 9), (7, 9), (7, 1)), (8, 3): ((7, 9), (4, 9), (4, 3)), (8, 4): ((7, 9), (3, 9), (3, 1)), (8, 5): ((7, 9), (1, 9), (1, 6)), (8, 6): ((7, 9), (2, 9), (2, 1)), (8, 7): ((7, 9), (10, 9), (10, 0)), (8, 8): ((7, 9), (7, 9), (7, 9)), (8, 9): ((7, 9), (0, 9), (0, 0)), (8, 10): ((7, 9), (3, 9), (3, 10)), (8, 11): ((7, 9), (5, 9), (5, 9)), (8, 12): ((7, 9), (10, 9), (10, 4)), (9, 0): ((0, 0), (0, 0), (0, 0)), (9, 1): ((0, 0), (5, 0), (5, 4)), (9, 2): ((0, 0), (7, 0), (7, 1)), (9, 3): ((0, 0), (4, 0), (4, 3)), (9, 4): ((0, 0), (3, 0), (3, 1)), (9, 5): ((0, 0), (1, 0), (1, 6)), (9, 6): ((0, 0), (2, 0), (2, 1)), (9, 7): ((0, 0), (10, 0), (10, 0)), (9, 8): ((0, 0), (7, 0), (7, 9)), (9, 9): ((0, 0), (0, 0), (0, 0)), (9, 10): ((0, 0), (3, 0), (3, 10)), (9, 11): ((0, 0), (5, 0), (5, 9)), (9, 12): ((0, 0), (10, 0), (10, 4)), (10, 0): ((3, 10), (0, 10), (0, 0)), (10, 1): ((3, 10), (5, 10), (5, 4)), (10, 2): ((3, 10), (7, 10), (7, 1)), (10, 3): ((3, 10), (4, 10), (4, 3)), (10, 4): ((3, 10), (3, 10), (3, 1)), (10, 5): ((3, 10), (1, 10), (1, 6)), (10, 6): ((3, 10), (2, 10), (2, 1)), (10, 7): ((3, 10), (10, 10), (10, 0)), (10, 8): ((3, 10), (7, 10), (7, 9)), (10, 9): ((3, 10), (0, 10), (0, 0)), (10, 10): ((3, 10), (3, 10), (3, 10)), (10, 11): ((3, 10), (5, 10), (5, 9)), (10, 12): ((3, 10), (10, 10), (10, 4)), (11, 0): ((5, 9), (0, 9), (0, 0)), (11, 1): ((5, 9), (5, 9), (5, 4)), (11, 2): ((5, 9), (7, 9), (7, 1)), (11, 3): ((5, 9), (4, 9), (4, 3)), (11, 4): ((5, 9), (3, 9), (3, 1)), (11, 5): ((5, 9), (1, 9), (1, 6)), (11, 6): ((5, 9), (2, 9), (2, 1)), (11, 7): ((5, 9), (10, 9), (10, 0)), (11, 8): ((5, 9), (7, 9), (7, 9)), (11, 9): ((5, 9), (0, 9), (0, 0)), (11, 10): ((5, 9), (3, 9), (3, 10)), (11, 11): ((5, 9), (5, 9), (5, 9)), (11, 12): ((5, 9), (10, 9), (10, 4)), (12, 0): ((10, 4), (0, 4), (0, 0)), (12, 1): ((10, 4), (5, 4), (5, 4)), (12, 2): ((10, 4), (7, 4), (7, 1)), (12, 3): ((10, 4), (4, 4), (4, 3)), (12, 4): ((10, 4), (3, 4), (3, 1)), (12, 5): ((10, 4), (1, 4), (1, 6)), (12, 6): ((10, 4), (2, 4), (2, 1)), (12, 7): ((10, 4), (10, 4), (10, 0)), (12, 8): ((10, 4), (7, 4), (7, 9)), (12, 9): ((10, 4), (0, 4), (0, 0)), (12, 10): ((10, 4), (3, 4), (3, 10)), (12, 11): ((10, 4), (5, 4), (5, 9)), (12, 12): ((10, 4), (10, 4), (10, 4))}\n"
     ]
    },
    {
     "data": {
      "text/plain": [
       "array([[   0.,  894.,  800.,  709.,  394.,  693.,  273., 1000., 1626.,\n",
       "           0., 1302., 1431., 1381.],\n",
       "       [ 894.,    0.,  484.,  185.,  500.,  621.,  621.,  868.,  732.,\n",
       "         894.,  830.,  537.,  487.],\n",
       "       [ 800.,  484.,    0.,  511.,  406., 1105.,  527.,  384.,  826.,\n",
       "         800., 1314., 1021.,  581.],\n",
       "       [ 709.,  185.,  511.,    0.,  315.,  594.,  436.,  895.,  917.,\n",
       "         709.,  803.,  722.,  672.],\n",
       "       [ 394.,  500.,  406.,  315.,    0.,  699.,  121.,  790., 1232.,\n",
       "         394.,  908., 1037.,  987.],\n",
       "       [ 693.,  621., 1105.,  594.,  699.,    0.,  578., 1489.,  933.,\n",
       "         693.,  609.,  738., 1108.],\n",
       "       [ 273.,  621.,  527.,  436.,  121.,  578.,    0.,  911., 1353.,\n",
       "         273., 1029., 1158., 1108.],\n",
       "       [1000.,  868.,  384.,  895.,  790., 1489.,  911.,    0., 1210.,\n",
       "        1000., 1698., 1405.,  381.],\n",
       "       [1626.,  732.,  826.,  917., 1232.,  933., 1353., 1210.,    0.,\n",
       "        1626.,  488.,  195.,  829.],\n",
       "       [   0.,  894.,  800.,  709.,  394.,  693.,  273., 1000., 1626.,\n",
       "           0., 1302., 1431., 1381.],\n",
       "       [1302.,  830., 1314.,  803.,  908.,  609., 1029., 1698.,  488.,\n",
       "        1302.,    0.,  293., 1317.],\n",
       "       [1431.,  537., 1021.,  722., 1037.,  738., 1158., 1405.,  195.,\n",
       "        1431.,  293.,    0., 1024.],\n",
       "       [1381.,  487.,  581.,  672.,  987., 1108., 1108.,  381.,  829.,\n",
       "        1381., 1317., 1024.,    0.]])"
      ]
     },
     "execution_count": 36,
     "metadata": {},
     "output_type": "execute_result"
    }
   ],
   "source": [
    "G.customers_paths((0,0))"
   ]
  },
  {
   "cell_type": "code",
   "execution_count": 37,
   "id": "3e7375c6-3ada-4713-ba98-1b76dd884535",
   "metadata": {},
   "outputs": [
    {
     "data": {
      "text/plain": [
       "{(5, 4): (513.0, 381.0),\n",
       " (7, 1): (708.0, 92.0),\n",
       " (4, 3): (407.0, 302.0),\n",
       " (3, 1): (302.0, 92.0),\n",
       " (1, 6): (102.0, 591.0),\n",
       " (2, 1): (181.0, 92.0),\n",
       " (10, 0): (1000.0, 0.0),\n",
       " (7, 9): (708.0, 918.0),\n",
       " (0, 0): (0.0, 0.0),\n",
       " (3, 10): (302.0, 1000.0),\n",
       " (5, 9): (513.0, 918.0),\n",
       " (10, 4): (1000.0, 381.0),\n",
       " (5, 0): (513.0, 0.0),\n",
       " (7, 0): (708.0, 0.0),\n",
       " (4, 0): (407.0, 0.0),\n",
       " (3, 0): (302.0, 0.0),\n",
       " (1, 0): (102.0, 0.0),\n",
       " (2, 0): (181.0, 0.0),\n",
       " (1, 4): (102.0, 381.0),\n",
       " (7, 4): (708.0, 381.0),\n",
       " (3, 4): (302.0, 381.0),\n",
       " (5, 1): (513.0, 92.0),\n",
       " (4, 1): (407.0, 92.0),\n",
       " (1, 1): (102.0, 92.0),\n",
       " (10, 1): (1000.0, 92.0),\n",
       " (5, 3): (513.0, 302.0),\n",
       " (1, 3): (102.0, 302.0),\n",
       " (7, 3): (708.0, 302.0),\n",
       " (3, 3): (302.0, 302.0),\n",
       " (10, 3): (1000.0, 302.0),\n",
       " (7, 6): (708.0, 591.0),\n",
       " (3, 6): (302.0, 591.0),\n",
       " (5, 6): (513.0, 591.0),\n",
       " (3, 9): (302.0, 918.0)}"
      ]
     },
     "execution_count": 37,
     "metadata": {},
     "output_type": "execute_result"
    }
   ],
   "source": [
    "G.customer_points_intermediate"
   ]
  },
  {
   "cell_type": "code",
   "execution_count": 38,
   "id": "fd35e211-1149-49be-8de0-78ddfb03cc24",
   "metadata": {},
   "outputs": [
    {
     "data": {
      "text/plain": [
       "dict_keys([(5, 4), (7, 1), (4, 3), (3, 1), (1, 6), (2, 1), (10, 0), (7, 9), (0, 0), (3, 10), (5, 9), (10, 4)])"
      ]
     },
     "execution_count": 38,
     "metadata": {},
     "output_type": "execute_result"
    }
   ],
   "source": [
    "G.customer_points.keys()"
   ]
  },
  {
   "cell_type": "code",
   "execution_count": 39,
   "id": "2418e8ff-7f45-4c7f-bcce-65ed1fb6cb94",
   "metadata": {},
   "outputs": [
    {
     "data": {
      "text/plain": [
       "dict_keys([(5, 4), (7, 1), (4, 3), (3, 1), (1, 6), (2, 1), (10, 0), (7, 9), (0, 0), (3, 10), (5, 9), (10, 4), (5, 0), (7, 0), (4, 0), (3, 0), (1, 0), (2, 0), (1, 4), (7, 4), (3, 4), (5, 1), (4, 1), (1, 1), (10, 1), (5, 3), (1, 3), (7, 3), (3, 3), (10, 3), (7, 6), (3, 6), (5, 6), (3, 9)])"
      ]
     },
     "execution_count": 39,
     "metadata": {},
     "output_type": "execute_result"
    }
   ],
   "source": [
    "G.customer_points_intermediate.keys()"
   ]
  },
  {
   "cell_type": "code",
   "execution_count": 40,
   "id": "e5416ae8-0606-43c6-9765-cf1a8677edfd",
   "metadata": {},
   "outputs": [
    {
     "data": {
      "text/plain": [
       "array([[  0., 894., 800., ...,   0.,   0.,   0.],\n",
       "       [894.,   0., 484., ...,   0.,   0.,   0.],\n",
       "       [800., 484.,   0., ...,   0.,   0.,   0.],\n",
       "       ...,\n",
       "       [  0.,   0.,   0., ...,   0.,   0.,   0.],\n",
       "       [  0.,   0.,   0., ...,   0.,   0.,   0.],\n",
       "       [  0.,   0.,   0., ...,   0.,   0.,   0.]])"
      ]
     },
     "execution_count": 40,
     "metadata": {},
     "output_type": "execute_result"
    }
   ],
   "source": [
    "G.d_ij_extended"
   ]
  },
  {
   "cell_type": "code",
   "execution_count": 41,
   "id": "8b261a86-11ce-4163-b37c-b02dc8cf2104",
   "metadata": {},
   "outputs": [
    {
     "data": {
      "text/plain": [
       "dict_keys([(5, 4), (7, 1), (4, 3), (3, 1), (1, 6), (2, 1), (10, 0), (7, 9), (0, 0), (3, 10), (5, 9), (10, 4), (5, 0), (7, 0), (4, 0), (3, 0), (1, 0), (2, 0), (1, 4), (7, 4), (3, 4), (5, 1), (4, 1), (1, 1), (10, 1), (5, 3), (1, 3), (7, 3), (3, 3), (10, 3), (7, 6), (3, 6), (5, 6), (3, 9)])"
      ]
     },
     "execution_count": 41,
     "metadata": {},
     "output_type": "execute_result"
    }
   ],
   "source": [
    "G.customer_points_intermediate.keys()"
   ]
  },
  {
   "cell_type": "code",
   "execution_count": 42,
   "id": "f16df5eb-145a-4712-9bd4-a66ef6011cc5",
   "metadata": {},
   "outputs": [
    {
     "name": "stdout",
     "output_type": "stream",
     "text": [
      "4.403646954327418\n",
      "28.181124087540663\n",
      "21.886952164995595\n",
      "3.8506881457728204\n",
      "13.046661949816729\n",
      "11.783433862819336\n",
      "7.862311838272717\n",
      "21.786169703420832\n",
      "22.950551869092376\n",
      "27.097991824068124\n",
      "17.047457586933536\n",
      "28.839355597596654\n",
      "0.24435134903642797\n",
      "24.34243621696351\n",
      "24.127260970206237\n",
      "5.323810539232055\n",
      "17.45254171045143\n",
      "27.892136802004448\n",
      "2.2353385679873927\n",
      "27.008987168791094\n",
      "26.103570095688788\n",
      "10.111907363258112\n",
      "0.13691547008878424\n",
      "23.829523378523575\n",
      "9.004135629670936\n",
      "4.047832333139471\n",
      "17.407806369714876\n",
      "29.416293680713995\n",
      "19.06718495886738\n",
      "8.496763784174494\n",
      "21.943447339402454\n",
      "1.0434647500755723\n",
      "16.703254387997646\n",
      "2.136591011685749\n"
     ]
    }
   ],
   "source": [
    "elevation = []\n",
    "for i, k in enumerate(G.customer_points_intermediate.keys()):\n",
    "            print(G.elevation[k])"
   ]
  },
  {
   "cell_type": "code",
   "execution_count": 43,
   "id": "20f18ca9-76a6-4781-8c6e-0a671b47ae8a",
   "metadata": {},
   "outputs": [
    {
     "name": "stdout",
     "output_type": "stream",
     "text": [
      "66\n",
      "78\n",
      "34\n"
     ]
    }
   ],
   "source": [
    "print(G.n_intermediate)\n",
    "print(G.n_customers+G.n_intermediate)\n",
    "print(len(G.customer_points_intermediate))"
   ]
  },
  {
   "cell_type": "code",
   "execution_count": 44,
   "id": "d8f742f7-e731-4c64-9bdd-7bfd47b966cc",
   "metadata": {},
   "outputs": [
    {
     "name": "stdout",
     "output_type": "stream",
     "text": [
      "4.403646954327418\n",
      "28.181124087540663\n",
      "21.886952164995595\n",
      "3.8506881457728204\n",
      "13.046661949816729\n",
      "11.783433862819336\n",
      "7.862311838272717\n",
      "21.786169703420832\n",
      "22.950551869092376\n",
      "27.097991824068124\n",
      "17.047457586933536\n",
      "28.839355597596654\n",
      "0.24435134903642797\n",
      "24.34243621696351\n",
      "24.127260970206237\n",
      "5.323810539232055\n",
      "17.45254171045143\n",
      "27.892136802004448\n",
      "2.2353385679873927\n",
      "27.008987168791094\n",
      "26.103570095688788\n",
      "10.111907363258112\n",
      "0.13691547008878424\n",
      "23.829523378523575\n",
      "9.004135629670936\n",
      "4.047832333139471\n",
      "17.407806369714876\n",
      "29.416293680713995\n",
      "19.06718495886738\n",
      "8.496763784174494\n",
      "21.943447339402454\n",
      "1.0434647500755723\n",
      "16.703254387997646\n",
      "2.136591011685749\n"
     ]
    }
   ],
   "source": [
    "for i, k in enumerate(G.customer_points_intermediate.keys()):\n",
    "            print(G.elevation[k])"
   ]
  },
  {
   "cell_type": "code",
   "execution_count": 45,
   "id": "f4860808-0a0c-455e-9f3d-a3448ea00d27",
   "metadata": {},
   "outputs": [],
   "source": [
    "# G.d_ij_indices"
   ]
  },
  {
   "cell_type": "code",
   "execution_count": 46,
   "id": "61d5ca1d-6b7b-4817-9875-8ea8ce109793",
   "metadata": {},
   "outputs": [],
   "source": [
    "# G.d_ij"
   ]
  },
  {
   "cell_type": "code",
   "execution_count": 47,
   "id": "e33c5253-b848-4eba-86aa-10daa1d46fdb",
   "metadata": {},
   "outputs": [],
   "source": [
    "# print(G.grid_dict()[(0,0)])\n",
    "# print(G.grid_dict()[(1,7)])\n",
    "# print(G.grid_dict()[(16,23)])\n",
    "# print(G.grid_dict()[(19,0)])"
   ]
  },
  {
   "cell_type": "code",
   "execution_count": 31,
   "id": "cbbfffab-741b-4260-aa2c-b8fe45c04de8",
   "metadata": {},
   "outputs": [],
   "source": [
    "# G.customer_points"
   ]
  },
  {
   "cell_type": "code",
   "execution_count": 32,
   "id": "ced80ef6-090f-433e-ab53-c6b56266ec5d",
   "metadata": {},
   "outputs": [],
   "source": [
    "# for k in G.customer_points.keys():\n",
    "#     print(k, ' elevation: ', G.elevation[k])"
   ]
  },
  {
   "cell_type": "code",
   "execution_count": null,
   "id": "cc3fa90f-03bd-478a-869f-c062cf2d8bca",
   "metadata": {},
   "outputs": [],
   "source": [
    "ta, tb = G.time_windows()\n",
    "print(ta)\n",
    "print(tb)"
   ]
  },
  {
   "cell_type": "code",
   "execution_count": null,
   "id": "4686b94d-6745-4ce6-8096-4b9d00a4340e",
   "metadata": {},
   "outputs": [],
   "source": [
    "G.payload()\n",
    "print(len(G.elevation_intermediate))"
   ]
  },
  {
   "cell_type": "code",
   "execution_count": null,
   "id": "1b793f22-0c39-4fd4-895f-4781399e4ec9",
   "metadata": {},
   "outputs": [],
   "source": [
    "out = G.create_csv()"
   ]
  },
  {
   "cell_type": "code",
   "execution_count": null,
   "id": "836fa59b-77ff-4f77-b4b8-108c0e43a842",
   "metadata": {},
   "outputs": [],
   "source": []
  },
  {
   "cell_type": "code",
   "execution_count": null,
   "id": "7462ffd9-a9dd-4141-b651-283c9109414d",
   "metadata": {},
   "outputs": [],
   "source": [
    "# G1 = grid(10, 10)"
   ]
  },
  {
   "cell_type": "code",
   "execution_count": null,
   "id": "75152e21-817c-4228-9957-949a5a38d55c",
   "metadata": {},
   "outputs": [],
   "source": [
    "# G1.customers(20)"
   ]
  },
  {
   "cell_type": "code",
   "execution_count": null,
   "id": "fda03108-85e7-4df0-bdfc-7902f6fb570e",
   "metadata": {},
   "outputs": [],
   "source": [
    "# G1.plot_customer_points()"
   ]
  },
  {
   "cell_type": "code",
   "execution_count": null,
   "id": "ab1d6b30-1bef-47a0-abe7-7f7b3d02a388",
   "metadata": {},
   "outputs": [],
   "source": [
    "# G1.customers_paths((0,0))"
   ]
  },
  {
   "cell_type": "code",
   "execution_count": null,
   "id": "82fb023a-fead-40cf-9a32-ed69a7de1e6a",
   "metadata": {},
   "outputs": [],
   "source": [
    "# G1.time_windows()"
   ]
  },
  {
   "cell_type": "code",
   "execution_count": null,
   "id": "08441d46-20f0-486e-b6f9-bd8a51d7a7fb",
   "metadata": {},
   "outputs": [],
   "source": [
    "# G1.payload()"
   ]
  },
  {
   "cell_type": "code",
   "execution_count": null,
   "id": "f15f6138-638a-4935-afa4-66ac474868c7",
   "metadata": {},
   "outputs": [],
   "source": [
    "# G1.create_csv()"
   ]
  },
  {
   "cell_type": "code",
   "execution_count": null,
   "id": "82da266f-75d3-42ab-9693-fa5546d5a52e",
   "metadata": {},
   "outputs": [],
   "source": []
  },
  {
   "cell_type": "code",
   "execution_count": null,
   "id": "422d1d2a-74d1-4d1a-9470-a6fd89da55f2",
   "metadata": {},
   "outputs": [],
   "source": []
  }
 ],
 "metadata": {
  "kernelspec": {
   "display_name": "Python 3 (ipykernel)",
   "language": "python",
   "name": "python3"
  },
  "language_info": {
   "codemirror_mode": {
    "name": "ipython",
    "version": 3
   },
   "file_extension": ".py",
   "mimetype": "text/x-python",
   "name": "python",
   "nbconvert_exporter": "python",
   "pygments_lexer": "ipython3",
   "version": "3.9.12"
  }
 },
 "nbformat": 4,
 "nbformat_minor": 5
}
