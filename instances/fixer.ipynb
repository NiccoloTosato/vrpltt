{
 "cells": [
  {
   "cell_type": "code",
   "execution_count": 31,
   "id": "82a91a4e-92f2-44fa-992f-41806435ac55",
   "metadata": {},
   "outputs": [],
   "source": [
    "import pandas as pd\n",
    "import os\n"
   ]
  },
  {
   "cell_type": "code",
   "execution_count": 32,
   "id": "a244fb47-b521-470d-a59a-14ad98adfeed",
   "metadata": {},
   "outputs": [],
   "source": [
    "file_list=os.listdir(\"./large/\")\n",
    "for file in file_list:\n",
    "    if file.find(\".csv\")<0:\n",
    "        file_list.remove(file)"
   ]
  },
  {
   "cell_type": "code",
   "execution_count": 33,
   "id": "fa6ff0c6-e7b4-431d-adad-91690a908447",
   "metadata": {},
   "outputs": [],
   "source": [
    "for file in file_list:\n",
    "    df=pd.read_csv(\"./large/\"+file)\n",
    "    dm=df.iloc[:,8:].to_numpy()\n",
    "    df.iloc[:,8:]=df.iloc[:,8:]+dm.T\n",
    "    df.iloc[:,1:].to_csv(\"./large/\"+\"_\"+file)"
   ]
  }
 ],
 "metadata": {
  "kernelspec": {
   "display_name": "Python 3 (ipykernel)",
   "language": "python",
   "name": "python3"
  },
  "language_info": {
   "codemirror_mode": {
    "name": "ipython",
    "version": 3
   },
   "file_extension": ".py",
   "mimetype": "text/x-python",
   "name": "python",
   "nbconvert_exporter": "python",
   "pygments_lexer": "ipython3",
   "version": "3.9.12"
  }
 },
 "nbformat": 4,
 "nbformat_minor": 5
}
