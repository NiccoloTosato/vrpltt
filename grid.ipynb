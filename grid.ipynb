{
 "cells": [
  {
   "cell_type": "code",
   "execution_count": 1,
   "id": "155cf55b-9447-44bd-8586-305bbe9a0222",
   "metadata": {},
   "outputs": [],
   "source": [
    "import numpy as np\n",
    "import matplotlib.pyplot as plt\n",
    "import random"
   ]
  },
  {
   "cell_type": "code",
   "execution_count": 2,
   "id": "43dfdfab-38ef-42fc-a449-2480cbf07ff6",
   "metadata": {},
   "outputs": [],
   "source": [
    "class grid():\n",
    "    def __init__(self, n_x, n_y):\n",
    "        self.n_x = n_x\n",
    "        self.n_y = n_y\n",
    "        self.x_points = np.empty(0)\n",
    "        self.y_points = np.empty(0)\n",
    "        self.x_max = 1000\n",
    "        self.y_max = 1000\n",
    "        self.grid = {}  \n",
    "        self.elevation = {}\n",
    "        self.grid_customers = {}  \n",
    "        self.n_customers = 0      \n",
    "        self.customer_points = {}\n",
    "        self.depot = None\n",
    "        self.d_ij_indices = {}    \n",
    "        self.d_ij = None          # distances among customers - interface output for the optimization model\n",
    "        self.d_ij_extended = None\n",
    "        self.output_matrix = None\n",
    "        self.tw_a = None\n",
    "        self.tw_b = None\n",
    "        self.load = None\n",
    "        self.servicetime = 5 # minutes\n",
    "        \n",
    "        self.create_grid()\n",
    "        self.grid_dict()\n",
    "        \n",
    "    def create_grid(self):\n",
    "        delta_x = 20\n",
    "        delta_y = 20\n",
    "        np.random.seed(1)\n",
    "        self.x_points = np.linspace(0, self.x_max, self.n_x+1) + np.random.randint(-delta_x, delta_x, self.n_x+1)\n",
    "        self.y_points = np.linspace(0, self.y_max, self.n_y+1) + np.random.randint(-delta_y, delta_y, self.n_y+1)\n",
    "        self.x_points[0] = 0; self.x_points[-1] = self.x_max\n",
    "        self.y_points[0] = 0; self.y_points[-1] = self.y_max\n",
    "        self.x_points.sort()\n",
    "        self.y_points.sort()\n",
    "        \n",
    "    def grid_dict(self):\n",
    "        for i in range(self.n_x+1):\n",
    "            for j in range(self.n_y+1):\n",
    "                self.grid[(i,j)] = (self.x_points[i], self.y_points[j])\n",
    "                self.elevation[(i,j)] = 30*np.random.random()\n",
    "        return self.grid\n",
    "    \n",
    "    def time_windows(self, tp='random', min_t=50, max_t=200, k_separation = 0.05, k_overlapped = 0.5):\n",
    "        tw_a = np.zeros(1, dtype=int); tw_b = np.zeros(1, dtype=int)\n",
    "        if tp == 'random':\n",
    "            delta_lower = min_t/2\n",
    "            delta_upper = delta_lower\n",
    "            tw_center = np.random.randint(min_t+delta_lower, max_t-delta_upper, self.n_customers)\n",
    "            self.tw_a = np.append(tw_a, tw_center - np.random.randint(0, delta_lower, self.n_customers))\n",
    "            self.tw_b = np.append(tw_b, tw_center + np.random.randint(0, delta_upper, self.n_customers))\n",
    "            return self.tw_a, self.tw_b\n",
    "        if tp == 'separated':\n",
    "            delta_tw = (max_t - min_t)/self.n_customers\n",
    "            self.tw_a = np.append(tw_a, np.array([min_t + (i - k_separation)*delta_tw for i in range(self.n_customers)]) )\n",
    "            self.tw_b = np.append(tw_b, np.array([min_t + (i + k_separation)*delta_tw for i in range(self.n_customers)]) )\n",
    "            return self.tw_a, self.tw_b\n",
    "        if tp == 'overlapped':\n",
    "            tw_c = (max_t - min_t)/2\n",
    "            tw_interval = 0.5*k_overlapped*tw_c # half base interval (centered halfway between max_t and min_t)\n",
    "            delta_interval = np.random.randint(0, tw_interval, self.n_customers)\n",
    "            self.tw_a = np.append(tw_a, np.array([min_t + tw_c - t for t in sorted(delta_interval)]) )\n",
    "            self.tw_b = np.append(tw_b, np.array([min_t + tw_c + t for t in sorted(delta_interval)]) )\n",
    "            # np.random.shuffle(tw_a); np.random.shuffle(tw_b)\n",
    "            return self.tw_a, self.tw_b\n",
    "        if tp == 'single':\n",
    "            self.tw_a = np.append(tw_a, np.array([min_t for _ in range(self.n_customers)]) )\n",
    "            self.tw_b = np.append(tw_b, np.array([max_t for _ in range(self.n_customers)]) )\n",
    "            return self.tw_a, self.tw_b\n",
    "    \n",
    "    def payload(self, min_p=5, max_p=30):\n",
    "        self.load = np.append(np.zeros(1), np.random.randint(min_p, max_p, self.n_customers))\n",
    "    \n",
    "    def plot_grid(self):\n",
    "        for i in range(self.n_x+1):\n",
    "            plt.plot([self.x_points[i], self.x_points[i]], [0, self.y_max], color='gray')\n",
    "        for j in range(self.n_y+1):\n",
    "            plt.plot([0, self.x_max], [self.y_points[j], self.y_points[j]], color='gray')\n",
    "        \n",
    "    def customers(self, n_customers):\n",
    "        self.n_customers = n_customers\n",
    "        random.seed(10); customer_points = random.sample(list(self.grid.items()), n_customers)\n",
    "        self.customer_points = {k:v for k, v in customer_points}\n",
    "        return self.customer_points\n",
    "        \n",
    "    def plot_customer_points(self):\n",
    "        k = list(self.customer_points.values())\n",
    "        self.plot_grid()\n",
    "        for i in range(self.n_customers):\n",
    "            plt.scatter(k[i][0], k[i][1])\n",
    "\n",
    "    def customers_paths(self, depot):\n",
    "        ### depot must be an appropriate tuple of coordinate indices of the grid: ex (12, 15): (12th pos. on x - 15th pos. on y)\n",
    "        self.depot = depot\n",
    "        nodes = list(self.customer_points.keys())\n",
    "        nodes.insert(0, depot)\n",
    "        print(nodes)\n",
    "        delta_indices = np.zeros((self.n_customers+1, self.n_customers+1), dtype=object)\n",
    "        for i in range(self.n_customers+1):\n",
    "            print('node:', i, nodes[i])\n",
    "            for j in range(self.n_customers+1):\n",
    "                dx_index = nodes[i][0] - nodes[j][0]\n",
    "                self.d_ij_indices[(i,j)] = ((nodes[i][0], nodes[i][1]), (nodes[i][0]-dx_index, nodes[i][1]), (nodes[j][0], nodes[j][1]))\n",
    "        \n",
    "        self.d_ij = np.zeros((self.n_customers+1, self.n_customers+1))\n",
    "        self.d_ij_extended = np.zeros((2*self.n_customers+1, 2*self.n_customers+1))\n",
    "        \n",
    "        for k, v in self.d_ij_indices.items():\n",
    "            dx = abs(self.grid[v[1]][0] - self.grid[v[0]][0])\n",
    "            dy = abs(self.grid[v[2]][1] - self.grid[v[1]][1])\n",
    "            \n",
    "            self.d_ij[k[0], k[1]] = dx + dy\n",
    "        \n",
    "        return self.d_ij\n",
    "    \n",
    "    def create_csv(self):\n",
    "        elevation = np.zeros(self.n_customers)\n",
    "        service_time = np.zeros(1)\n",
    "        for i, k in enumerate(self.customer_points.keys()):\n",
    "            elevation[i] = self.elevation[k]\n",
    "        elevation = np.append(self.elevation[self.depot], elevation)\n",
    "        service_time = np.append(service_time, np.array([self.servicetime for _ in range(self.n_customers)]) )\n",
    "        x = np.append(self.grid[self.depot][0], np.array([v[0] for v in self.customer_points.values()]) )\n",
    "        y = np.append(self.grid[self.depot][1], np.array([v[1] for v in self.customer_points.values()]) )\n",
    "        \n",
    "        self.output_matrix = np.c_[x, y, elevation, self.load, self.tw_a, self.tw_b, service_time, self.d_ij]\n",
    "        \n",
    "        header = 'x,y,elevation,demand,tw_a,tw_b,s'\n",
    "        for i in range(self.n_customers+1):\n",
    "            header += ','+str(i)\n",
    "            \n",
    "        np.savetxt('generated_grid_1.csv', self.output_matrix, delimiter=',', header=header, comments='')\n",
    "        \n",
    "        return self.output_matrix"
   ]
  },
  {
   "cell_type": "code",
   "execution_count": 3,
   "id": "451781fa-c1f1-4766-9732-7fc342c98075",
   "metadata": {},
   "outputs": [
    {
     "name": "stdout",
     "output_type": "stream",
     "text": [
      "(42.0, 123.0)\n",
      "(235.0, 123.0)\n"
     ]
    }
   ],
   "source": [
    "G = grid(20, 25)\n",
    "print(G.grid[(1,3)])\n",
    "print(G.grid[(5,3)])"
   ]
  },
  {
   "cell_type": "code",
   "execution_count": 4,
   "id": "123661ce-c2cb-4ccc-9b8c-d94c93eefe63",
   "metadata": {},
   "outputs": [
    {
     "data": {
      "text/plain": [
       "array([0., 7., 6., 6., 7., 7.])"
      ]
     },
     "execution_count": 4,
     "metadata": {},
     "output_type": "execute_result"
    }
   ],
   "source": [
    "np.append(np.zeros(1), np.random.randint(5, 10, 5))"
   ]
  },
  {
   "cell_type": "code",
   "execution_count": 6,
   "id": "263444c8-a97d-4638-818b-e66dd49ea170",
   "metadata": {},
   "outputs": [
    {
     "name": "stdout",
     "output_type": "stream",
     "text": [
      "[0.]\n",
      "[0.]\n"
     ]
    }
   ],
   "source": [
    "a,b = G.time_windows(tp='single', min_t= 50, max_t=400)\n",
    "print(a)\n",
    "print(b)"
   ]
  },
  {
   "cell_type": "code",
   "execution_count": 7,
   "id": "bbb4f797-a5aa-4f69-a43c-f91d2aa76c3b",
   "metadata": {},
   "outputs": [
    {
     "data": {
      "image/png": "[encoded data removed]",
      "text/plain": [
       "<Figure size 432x288 with 1 Axes>"
      ]
     },
     "metadata": {
      "needs_background": "light"
     },
     "output_type": "display_data"
    }
   ],
   "source": [
    "G.plot_grid()"
   ]
  },
  {
   "cell_type": "code",
   "execution_count": 8,
   "id": "ccdf04fd-ac71-4474-98f8-d1ecbfca6a18",
   "metadata": {},
   "outputs": [
    {
     "name": "stdout",
     "output_type": "stream",
     "text": [
      "[   0.   42.   88.  139.  191.  235.  295.  330.  396.  431.  492.  537.\n",
      "  586.  655.  700.  767.  798.  850.  891.  958. 1000.]\n",
      "[   0.   24.   83.  123.  170.  212.  242.  273.  309.  347.  402.  421.\n",
      "  460.  517.  548.  604.  633.  668.  730.  747.  783.  826.  881.  903.\n",
      "  944. 1000.]\n",
      "20\n"
     ]
    }
   ],
   "source": [
    "print(np.round(G.x_points, 2))\n",
    "print(np.round(G.y_points, 2))\n",
    "print(G.n_x)"
   ]
  },
  {
   "cell_type": "code",
   "execution_count": 9,
   "id": "87619ecf-477b-4fa5-bbc4-3ece621900bc",
   "metadata": {},
   "outputs": [
    {
     "name": "stdout",
     "output_type": "stream",
     "text": [
      "9.465468930181888\n",
      "29.66583266719484\n"
     ]
    }
   ],
   "source": [
    "print(G.elevation[(0,0)])\n",
    "print(G.elevation[(0,5)])"
   ]
  },
  {
   "cell_type": "code",
   "execution_count": 10,
   "id": "69907098-6ba5-4ff7-9ea3-01533bac4f58",
   "metadata": {},
   "outputs": [
    {
     "data": {
      "text/plain": [
       "{(1, 7): (42.0, 273.0),\n",
       " (16, 23): (798.0, 903.0),\n",
       " (19, 0): (958.0, 0.0),\n",
       " (0, 15): (0.0, 604.0),\n",
       " (8, 3): (396.0, 123.0),\n",
       " (18, 5): (891.0, 212.0),\n",
       " (19, 9): (958.0, 347.0),\n",
       " (10, 24): (492.0, 944.0),\n",
       " (6, 8): (295.0, 309.0),\n",
       " (1, 9): (42.0, 347.0),\n",
       " (20, 13): (1000.0, 517.0),\n",
       " (19, 7): (958.0, 273.0),\n",
       " (12, 23): (586.0, 903.0),\n",
       " (2, 25): (88.0, 1000.0),\n",
       " (9, 21): (431.0, 826.0),\n",
       " (14, 5): (700.0, 212.0),\n",
       " (1, 19): (42.0, 747.0),\n",
       " (16, 14): (798.0, 548.0),\n",
       " (5, 12): (235.0, 460.0),\n",
       " (13, 25): (655.0, 1000.0)}"
      ]
     },
     "execution_count": 10,
     "metadata": {},
     "output_type": "execute_result"
    }
   ],
   "source": [
    "G.customers(20)\n",
    "# for i in range(2,5): print(i)"
   ]
  },
  {
   "cell_type": "code",
   "execution_count": 11,
   "id": "c9babe13-51e0-4c63-95ed-c949efa65acd",
   "metadata": {},
   "outputs": [],
   "source": [
    "# G.customer_points"
   ]
  },
  {
   "cell_type": "code",
   "execution_count": 12,
   "id": "816ec4c8-e22b-4b6a-863c-f192ebd6888e",
   "metadata": {},
   "outputs": [
    {
     "data": {
      "image/png": "[encoded data removed]",
      "text/plain": [
       "<Figure size 432x288 with 1 Axes>"
      ]
     },
     "metadata": {
      "needs_background": "light"
     },
     "output_type": "display_data"
    }
   ],
   "source": [
    "G.plot_customer_points()"
   ]
  },
  {
   "cell_type": "code",
   "execution_count": 13,
   "id": "e670910c-6be1-4d6a-aa93-440d5e4ad821",
   "metadata": {},
   "outputs": [
    {
     "name": "stdout",
     "output_type": "stream",
     "text": [
      "[(0, 0), (1, 7), (16, 23), (19, 0), (0, 15), (8, 3), (18, 5), (19, 9), (10, 24), (6, 8), (1, 9), (20, 13), (19, 7), (12, 23), (2, 25), (9, 21), (14, 5), (1, 19), (16, 14), (5, 12), (13, 25)]\n",
      "node: 0 (0, 0)\n",
      "node: 1 (1, 7)\n",
      "node: 2 (16, 23)\n",
      "node: 3 (19, 0)\n",
      "node: 4 (0, 15)\n",
      "node: 5 (8, 3)\n",
      "node: 6 (18, 5)\n",
      "node: 7 (19, 9)\n",
      "node: 8 (10, 24)\n",
      "node: 9 (6, 8)\n",
      "node: 10 (1, 9)\n",
      "node: 11 (20, 13)\n",
      "node: 12 (19, 7)\n",
      "node: 13 (12, 23)\n",
      "node: 14 (2, 25)\n",
      "node: 15 (9, 21)\n",
      "node: 16 (14, 5)\n",
      "node: 17 (1, 19)\n",
      "node: 18 (16, 14)\n",
      "node: 19 (5, 12)\n",
      "node: 20 (13, 25)\n"
     ]
    },
    {
     "data": {
      "text/plain": [
       "array([[   0.,  315., 1701.,  958.,  604.,  519., 1103., 1305., 1436.,\n",
       "         604.,  389., 1517., 1231., 1489., 1088., 1257.,  912.,  789.,\n",
       "        1346.,  695., 1655.],\n",
       "       [ 315.,    0., 1386., 1189.,  373.,  504.,  910.,  990., 1121.,\n",
       "         289.,   74., 1202.,  916., 1174.,  773.,  942.,  719.,  474.,\n",
       "        1031.,  380., 1340.],\n",
       "       [1701., 1386.,    0., 1063., 1097., 1182.,  784.,  716.,  347.,\n",
       "        1097., 1312.,  588.,  790.,  212.,  807.,  444.,  789.,  912.,\n",
       "         355., 1006.,  240.],\n",
       "       [ 958., 1189., 1063.,    0., 1562.,  685.,  279.,  347., 1410.,\n",
       "         972., 1263.,  559.,  273., 1275., 1870., 1353.,  470., 1663.,\n",
       "         708., 1183., 1303.],\n",
       "       [ 604.,  373., 1097., 1562.,    0.,  877., 1283., 1215.,  832.,\n",
       "         590.,  299., 1087., 1289.,  885.,  484.,  653., 1092.,  185.,\n",
       "         854.,  379., 1051.],\n",
       "       [ 519.,  504., 1182.,  685.,  877.,    0.,  584.,  786.,  917.,\n",
       "         287.,  578.,  998.,  712.,  970., 1185.,  738.,  393.,  978.,\n",
       "         827.,  498., 1136.],\n",
       "       [1103.,  910.,  784.,  279., 1283.,  584.,    0.,  202., 1131.,\n",
       "         693.,  984.,  414.,  128.,  996., 1591., 1074.,  191., 1384.,\n",
       "         429.,  904., 1024.],\n",
       "       [1305.,  990.,  716.,  347., 1215.,  786.,  202.,    0., 1063.,\n",
       "         701.,  916.,  212.,   74.,  928., 1523., 1006.,  393., 1316.,\n",
       "         361.,  836.,  956.],\n",
       "       [1436., 1121.,  347., 1410.,  832.,  917., 1131., 1063.,    0.,\n",
       "         832., 1047.,  935., 1137.,  135.,  460.,  179.,  940.,  647.,\n",
       "         702.,  741.,  219.],\n",
       "       [ 604.,  289., 1097.,  972.,  590.,  287.,  693.,  701.,  832.,\n",
       "           0.,  291.,  913.,  699.,  885.,  898.,  653.,  502.,  691.,\n",
       "         742.,  211., 1051.],\n",
       "       [ 389.,   74., 1312., 1263.,  299.,  578.,  984.,  916., 1047.,\n",
       "         291.,    0., 1128.,  990., 1100.,  699.,  868.,  793.,  400.,\n",
       "         957.,  306., 1266.],\n",
       "       [1517., 1202.,  588.,  559., 1087.,  998.,  414.,  212.,  935.,\n",
       "         913., 1128.,    0.,  286.,  800., 1395.,  878.,  605., 1188.,\n",
       "         233.,  822.,  828.],\n",
       "       [1231.,  916.,  790.,  273., 1289.,  712.,  128.,   74., 1137.,\n",
       "         699.,  990.,  286.,    0., 1002., 1597., 1080.,  319., 1390.,\n",
       "         435.,  910., 1030.],\n",
       "       [1489., 1174.,  212., 1275.,  885.,  970.,  996.,  928.,  135.,\n",
       "         885., 1100.,  800., 1002.,    0.,  595.,  232.,  805.,  700.,\n",
       "         567.,  794.,  166.],\n",
       "       [1088.,  773.,  807., 1870.,  484., 1185., 1591., 1523.,  460.,\n",
       "         898.,  699., 1395., 1597.,  595.,    0.,  517., 1400.,  299.,\n",
       "        1162.,  687.,  567.],\n",
       "       [1257.,  942.,  444., 1353.,  653.,  738., 1074., 1006.,  179.,\n",
       "         653.,  868.,  878., 1080.,  232.,  517.,    0.,  883.,  468.,\n",
       "         645.,  562.,  398.],\n",
       "       [ 912.,  719.,  789.,  470., 1092.,  393.,  191.,  393.,  940.,\n",
       "         502.,  793.,  605.,  319.,  805., 1400.,  883.,    0., 1193.,\n",
       "         434.,  713.,  833.],\n",
       "       [ 789.,  474.,  912., 1663.,  185.,  978., 1384., 1316.,  647.,\n",
       "         691.,  400., 1188., 1390.,  700.,  299.,  468., 1193.,    0.,\n",
       "         955.,  480.,  866.],\n",
       "       [1346., 1031.,  355.,  708.,  854.,  827.,  429.,  361.,  702.,\n",
       "         742.,  957.,  233.,  435.,  567., 1162.,  645.,  434.,  955.,\n",
       "           0.,  651.,  595.],\n",
       "       [ 695.,  380., 1006., 1183.,  379.,  498.,  904.,  836.,  741.,\n",
       "         211.,  306.,  822.,  910.,  794.,  687.,  562.,  713.,  480.,\n",
       "         651.,    0.,  960.],\n",
       "       [1655., 1340.,  240., 1303., 1051., 1136., 1024.,  956.,  219.,\n",
       "        1051., 1266.,  828., 1030.,  166.,  567.,  398.,  833.,  866.,\n",
       "         595.,  960.,    0.]])"
      ]
     },
     "execution_count": 13,
     "metadata": {},
     "output_type": "execute_result"
    }
   ],
   "source": [
    "G.customers_paths((0,0))"
   ]
  },
  {
   "cell_type": "code",
   "execution_count": 14,
   "id": "f4860808-0a0c-455e-9f3d-a3448ea00d27",
   "metadata": {},
   "outputs": [],
   "source": [
    "# G.d_ij_indices"
   ]
  },
  {
   "cell_type": "code",
   "execution_count": 15,
   "id": "61d5ca1d-6b7b-4817-9875-8ea8ce109793",
   "metadata": {},
   "outputs": [],
   "source": [
    "# G.d_ij"
   ]
  },
  {
   "cell_type": "code",
   "execution_count": 16,
   "id": "e33c5253-b848-4eba-86aa-10daa1d46fdb",
   "metadata": {},
   "outputs": [],
   "source": [
    "# print(G.grid_dict()[(0,0)])\n",
    "# print(G.grid_dict()[(1,7)])\n",
    "# print(G.grid_dict()[(16,23)])\n",
    "# print(G.grid_dict()[(19,0)])"
   ]
  },
  {
   "cell_type": "code",
   "execution_count": 17,
   "id": "cbbfffab-741b-4260-aa2c-b8fe45c04de8",
   "metadata": {},
   "outputs": [],
   "source": [
    "# G.customer_points"
   ]
  },
  {
   "cell_type": "code",
   "execution_count": 18,
   "id": "ced80ef6-090f-433e-ab53-c6b56266ec5d",
   "metadata": {},
   "outputs": [],
   "source": [
    "# for k in G.customer_points.keys():\n",
    "#     print(k, ' elevation: ', G.elevation[k])"
   ]
  },
  {
   "cell_type": "code",
   "execution_count": 19,
   "id": "cc3fa90f-03bd-478a-869f-c062cf2d8bca",
   "metadata": {},
   "outputs": [
    {
     "name": "stdout",
     "output_type": "stream",
     "text": [
      "[  0  97 111 143  71  67 138 121  87 162 124 116 133  88  58 154 138 133\n",
      " 115  79 139]\n",
      "[  0 142 128 176  97  97 175 151 118 171 156 153 172 114  93 167 154 165\n",
      " 131 122 159]\n"
     ]
    }
   ],
   "source": [
    "ta, tb = G.time_windows()\n",
    "print(ta)\n",
    "print(tb)"
   ]
  },
  {
   "cell_type": "code",
   "execution_count": 20,
   "id": "4686b94d-6745-4ce6-8096-4b9d00a4340e",
   "metadata": {},
   "outputs": [],
   "source": [
    "G.payload()"
   ]
  },
  {
   "cell_type": "code",
   "execution_count": 21,
   "id": "1b793f22-0c39-4fd4-895f-4781399e4ec9",
   "metadata": {},
   "outputs": [],
   "source": [
    "out = G.create_csv()"
   ]
  },
  {
   "cell_type": "code",
   "execution_count": null,
   "id": "836fa59b-77ff-4f77-b4b8-108c0e43a842",
   "metadata": {},
   "outputs": [],
   "source": []
  },
  {
   "cell_type": "code",
   "execution_count": null,
   "id": "7462ffd9-a9dd-4141-b651-283c9109414d",
   "metadata": {},
   "outputs": [],
   "source": []
  }
 ],
 "metadata": {
  "kernelspec": {
   "display_name": "Python 3 (ipykernel)",
   "language": "python",
   "name": "python3"
  },
  "language_info": {
   "codemirror_mode": {
    "name": "ipython",
    "version": 3
   },
   "file_extension": ".py",
   "mimetype": "text/x-python",
   "name": "python",
   "nbconvert_exporter": "python",
   "pygments_lexer": "ipython3",
   "version": "3.9.12"
  }
 },
 "nbformat": 4,
 "nbformat_minor": 5
}
