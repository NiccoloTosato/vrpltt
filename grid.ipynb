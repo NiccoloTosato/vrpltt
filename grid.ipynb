{
 "cells": [
  {
   "cell_type": "code",
   "execution_count": null,
   "id": "155cf55b-9447-44bd-8586-305bbe9a0222",
   "metadata": {},
   "outputs": [],
   "source": [
    "import numpy as np\n",
    "import matplotlib.pyplot as plt\n",
    "import random"
   ]
  },
  {
   "cell_type": "code",
   "execution_count": null,
   "id": "43dfdfab-38ef-42fc-a449-2480cbf07ff6",
   "metadata": {},
   "outputs": [],
   "source": [
    "class grid():\n",
    "    def __init__(self, n_x, n_y):\n",
    "        self.n_x = n_x\n",
    "        self.n_y = n_y\n",
    "        self.x_points = np.empty(0)\n",
    "        self.y_points = np.empty(0)\n",
    "        self.x_max = 1000\n",
    "        self.y_max = 1000\n",
    "        self.grid = {}  \n",
    "        self.elevation = {}\n",
    "        self.grid_customers = {}  \n",
    "        self.n_customers = 0      \n",
    "        self.customer_points = {}\n",
    "        self.depot = None\n",
    "        self.d_ij_indices = {}    \n",
    "        self.d_ij = None          # distances among customers - interface output for the optimization model\n",
    "        self.d_ij_extended = None\n",
    "        self.output_matrix = None\n",
    "        self.tw_a = None\n",
    "        self.tw_b = None\n",
    "        self.load = None\n",
    "        self.servicetime = 5 # minutes\n",
    "        \n",
    "        self.create_grid()\n",
    "        self.grid_dict()\n",
    "        \n",
    "    def create_grid(self):\n",
    "        delta_x = 20\n",
    "        delta_y = 20\n",
    "        np.random.seed(1)\n",
    "        self.x_points = np.linspace(0, self.x_max, self.n_x+1) + np.random.randint(-delta_x, delta_x, self.n_x+1)\n",
    "        self.y_points = np.linspace(0, self.y_max, self.n_y+1) + np.random.randint(-delta_y, delta_y, self.n_y+1)\n",
    "        self.x_points[0] = 0; self.x_points[-1] = self.x_max\n",
    "        self.y_points[0] = 0; self.y_points[-1] = self.y_max\n",
    "        self.x_points.sort()\n",
    "        self.y_points.sort()\n",
    "        \n",
    "    def grid_dict(self):\n",
    "        for i in range(self.n_x+1):\n",
    "            for j in range(self.n_y+1):\n",
    "                self.grid[(i,j)] = (self.x_points[i], self.y_points[j])\n",
    "                self.elevation[(i,j)] = 30*np.random.random()\n",
    "        return self.grid\n",
    "    \n",
    "    def time_windows(self, tp='random', min_t=50, max_t=200, k_separation = 0.05, k_overlapped = 0.5):\n",
    "        tw_a = np.zeros(1, dtype=int); tw_b = np.zeros(1, dtype=int)\n",
    "        if tp == 'random':\n",
    "            delta_lower = min_t/2\n",
    "            delta_upper = delta_lower\n",
    "            tw_center = np.random.randint(min_t+delta_lower, max_t-delta_upper, self.n_customers)\n",
    "            self.tw_a = np.append(tw_a, tw_center - np.random.randint(0, delta_lower, self.n_customers))\n",
    "            self.tw_b = np.append(tw_b, tw_center + np.random.randint(0, delta_upper, self.n_customers))\n",
    "            return self.tw_a, self.tw_b\n",
    "        if tp == 'separated':\n",
    "            delta_tw = (max_t - min_t)/self.n_customers\n",
    "            self.tw_a = np.append(tw_a, np.array([min_t + (i - k_separation)*delta_tw for i in range(self.n_customers)]) )\n",
    "            self.tw_b = np.append(tw_b, np.array([min_t + (i + k_separation)*delta_tw for i in range(self.n_customers)]) )\n",
    "            return self.tw_a, self.tw_b\n",
    "        if tp == 'overlapped':\n",
    "            tw_c = (max_t - min_t)/2\n",
    "            tw_interval = 0.5*k_overlapped*tw_c # half base interval (centered halfway between max_t and min_t)\n",
    "            delta_interval = np.random.randint(0, tw_interval, self.n_customers)\n",
    "            self.tw_a = np.append(tw_a, np.array([min_t + tw_c - t for t in sorted(delta_interval)]) )\n",
    "            self.tw_b = np.append(tw_b, np.array([min_t + tw_c + t for t in sorted(delta_interval)]) )\n",
    "            # np.random.shuffle(tw_a); np.random.shuffle(tw_b)\n",
    "            return self.tw_a, self.tw_b\n",
    "        if tp == 'single':\n",
    "            self.tw_a = np.append(tw_a, np.array([min_t for _ in range(self.n_customers)]) )\n",
    "            self.tw_b = np.append(tw_b, np.array([max_t for _ in range(self.n_customers)]) )\n",
    "            return self.tw_a, self.tw_b\n",
    "    \n",
    "    def payload(self, min_p=5, max_p=30):\n",
    "        self.load = np.append(np.zeros(1), np.random.randint(min_p, max_p, self.n_customers))\n",
    "    \n",
    "    def plot_grid(self):\n",
    "        for i in range(self.n_x+1):\n",
    "            plt.plot([self.x_points[i], self.x_points[i]], [0, self.y_max], color='gray')\n",
    "        for j in range(self.n_y+1):\n",
    "            plt.plot([0, self.x_max], [self.y_points[j], self.y_points[j]], color='gray')\n",
    "        \n",
    "    def customers(self, n_customers):\n",
    "        self.n_customers = n_customers\n",
    "        random.seed(10); customer_points = random.sample(list(self.grid.items()), n_customers)\n",
    "        self.customer_points = {k:v for k, v in customer_points}\n",
    "        return self.customer_points\n",
    "        \n",
    "    def plot_customer_points(self):\n",
    "        k = list(self.customer_points.values())\n",
    "        self.plot_grid()\n",
    "        for i in range(self.n_customers):\n",
    "            plt.scatter(k[i][0], k[i][1])\n",
    "\n",
    "    def customers_paths(self, depot):\n",
    "        ### depot must be an appropriate tuple of coordinate indices of the grid: ex (12, 15): (12th pos. on x - 15th pos. on y)\n",
    "        self.depot = depot\n",
    "        nodes = list(self.customer_points.keys())\n",
    "        nodes.insert(0, depot)\n",
    "        print(nodes)\n",
    "        delta_indices = np.zeros((self.n_customers+1, self.n_customers+1), dtype=object)\n",
    "        for i in range(self.n_customers+1):\n",
    "            print('node:', i, nodes[i])\n",
    "            for j in range(self.n_customers+1):\n",
    "                dx_index = nodes[i][0] - nodes[j][0]\n",
    "                self.d_ij_indices[(i,j)] = ((nodes[i][0], nodes[i][1]), (nodes[i][0]-dx_index, nodes[i][1]), (nodes[j][0], nodes[j][1]))\n",
    "        \n",
    "        self.d_ij = np.zeros((self.n_customers+1, self.n_customers+1))\n",
    "        self.d_ij_extended = np.zeros((2*self.n_customers+1, 2*self.n_customers+1))\n",
    "        \n",
    "        for k, v in self.d_ij_indices.items():\n",
    "            dx = abs(self.grid[v[1]][0] - self.grid[v[0]][0])\n",
    "            dy = abs(self.grid[v[2]][1] - self.grid[v[1]][1])\n",
    "            \n",
    "            self.d_ij[k[0], k[1]] = dx + dy\n",
    "        \n",
    "        return self.d_ij\n",
    "    \n",
    "    def create_csv(self):\n",
    "        elevation = np.zeros(self.n_customers)\n",
    "        service_time = np.zeros(1)\n",
    "        for i, k in enumerate(self.customer_points.keys()):\n",
    "            elevation[i] = self.elevation[k]\n",
    "        elevation = np.append(self.elevation[self.depot], elevation)\n",
    "        service_time = np.append(service_time, np.array([self.servicetime for _ in range(self.n_customers)]) )\n",
    "        x = np.append(self.grid[self.depot][0], np.array([v[0] for v in self.customer_points.values()]) )\n",
    "        y = np.append(self.grid[self.depot][1], np.array([v[1] for v in self.customer_points.values()]) )\n",
    "        index = np.linspace(0,self.n_customers,self.n_customers+1)\n",
    "        \n",
    "        self.output_matrix = np.c_[index, x, y, elevation, self.load, self.tw_a, self.tw_b, service_time, self.d_ij/1000]\n",
    "        \n",
    "        header = ',x,y,elevation,demand,tw a,tw b,s'\n",
    "        for i in range(self.n_customers+1):\n",
    "            header += ','+str(i)\n",
    "            \n",
    "        np.savetxt('generated_grid_1.csv', self.output_matrix, delimiter=',', header=header, comments='')\n",
    "        \n",
    "        return self.output_matrix"
   ]
  },
  {
   "cell_type": "code",
   "execution_count": null,
   "id": "451781fa-c1f1-4766-9732-7fc342c98075",
   "metadata": {},
   "outputs": [],
   "source": [
    "G = grid(20, 20)\n",
    "print(G.grid[(1,3)])\n",
    "print(G.grid[(5,3)])"
   ]
  },
  {
   "cell_type": "code",
   "execution_count": null,
   "id": "6ab79733-df49-4bff-9095-20190b9ee50f",
   "metadata": {},
   "outputs": [],
   "source": [
    "np.linspace(0,21,22)"
   ]
  },
  {
   "cell_type": "code",
   "execution_count": null,
   "id": "123661ce-c2cb-4ccc-9b8c-d94c93eefe63",
   "metadata": {},
   "outputs": [],
   "source": [
    "np.append(np.zeros(1), np.random.randint(5, 10, 5))"
   ]
  },
  {
   "cell_type": "code",
   "execution_count": null,
   "id": "263444c8-a97d-4638-818b-e66dd49ea170",
   "metadata": {},
   "outputs": [],
   "source": [
    "a,b = G.time_windows(tp='single', min_t= 50, max_t=400)\n",
    "print(a)\n",
    "print(b)"
   ]
  },
  {
   "cell_type": "code",
   "execution_count": null,
   "id": "bbb4f797-a5aa-4f69-a43c-f91d2aa76c3b",
   "metadata": {},
   "outputs": [],
   "source": [
    "G.plot_grid()"
   ]
  },
  {
   "cell_type": "code",
   "execution_count": null,
   "id": "ccdf04fd-ac71-4474-98f8-d1ecbfca6a18",
   "metadata": {},
   "outputs": [],
   "source": [
    "print(np.round(G.x_points, 2))\n",
    "print(np.round(G.y_points, 2))\n",
    "print(G.n_x)"
   ]
  },
  {
   "cell_type": "code",
   "execution_count": null,
   "id": "87619ecf-477b-4fa5-bbc4-3ece621900bc",
   "metadata": {},
   "outputs": [],
   "source": [
    "print(G.elevation[(0,0)])\n",
    "print(G.elevation[(0,5)])"
   ]
  },
  {
   "cell_type": "code",
   "execution_count": null,
   "id": "69907098-6ba5-4ff7-9ea3-01533bac4f58",
   "metadata": {},
   "outputs": [],
   "source": [
    "G.customers(20)\n",
    "# for i in range(2,5): print(i)"
   ]
  },
  {
   "cell_type": "code",
   "execution_count": null,
   "id": "c9babe13-51e0-4c63-95ed-c949efa65acd",
   "metadata": {},
   "outputs": [],
   "source": [
    "# G.customer_points"
   ]
  },
  {
   "cell_type": "code",
   "execution_count": null,
   "id": "816ec4c8-e22b-4b6a-863c-f192ebd6888e",
   "metadata": {},
   "outputs": [],
   "source": [
    "G.plot_customer_points()"
   ]
  },
  {
   "cell_type": "code",
   "execution_count": null,
   "id": "e670910c-6be1-4d6a-aa93-440d5e4ad821",
   "metadata": {},
   "outputs": [],
   "source": [
    "G.customers_paths((0,0))"
   ]
  },
  {
   "cell_type": "code",
   "execution_count": null,
   "id": "f4860808-0a0c-455e-9f3d-a3448ea00d27",
   "metadata": {},
   "outputs": [],
   "source": [
    "# G.d_ij_indices"
   ]
  },
  {
   "cell_type": "code",
   "execution_count": null,
   "id": "61d5ca1d-6b7b-4817-9875-8ea8ce109793",
   "metadata": {},
   "outputs": [],
   "source": [
    "# G.d_ij"
   ]
  },
  {
   "cell_type": "code",
   "execution_count": null,
   "id": "e33c5253-b848-4eba-86aa-10daa1d46fdb",
   "metadata": {},
   "outputs": [],
   "source": [
    "# print(G.grid_dict()[(0,0)])\n",
    "# print(G.grid_dict()[(1,7)])\n",
    "# print(G.grid_dict()[(16,23)])\n",
    "# print(G.grid_dict()[(19,0)])"
   ]
  },
  {
   "cell_type": "code",
   "execution_count": null,
   "id": "cbbfffab-741b-4260-aa2c-b8fe45c04de8",
   "metadata": {},
   "outputs": [],
   "source": [
    "# G.customer_points"
   ]
  },
  {
   "cell_type": "code",
   "execution_count": null,
   "id": "ced80ef6-090f-433e-ab53-c6b56266ec5d",
   "metadata": {},
   "outputs": [],
   "source": [
    "# for k in G.customer_points.keys():\n",
    "#     print(k, ' elevation: ', G.elevation[k])"
   ]
  },
  {
   "cell_type": "code",
   "execution_count": null,
   "id": "cc3fa90f-03bd-478a-869f-c062cf2d8bca",
   "metadata": {},
   "outputs": [],
   "source": [
    "ta, tb = G.time_windows()\n",
    "print(ta)\n",
    "print(tb)"
   ]
  },
  {
   "cell_type": "code",
   "execution_count": null,
   "id": "4686b94d-6745-4ce6-8096-4b9d00a4340e",
   "metadata": {},
   "outputs": [],
   "source": [
    "G.payload()"
   ]
  },
  {
   "cell_type": "code",
   "execution_count": null,
   "id": "1b793f22-0c39-4fd4-895f-4781399e4ec9",
   "metadata": {},
   "outputs": [],
   "source": [
    "out = G.create_csv()"
   ]
  },
  {
   "cell_type": "code",
   "execution_count": null,
   "id": "836fa59b-77ff-4f77-b4b8-108c0e43a842",
   "metadata": {},
   "outputs": [],
   "source": []
  },
  {
   "cell_type": "code",
   "execution_count": null,
   "id": "7462ffd9-a9dd-4141-b651-283c9109414d",
   "metadata": {},
   "outputs": [],
   "source": [
    "G1 = grid(10, 10)"
   ]
  },
  {
   "cell_type": "code",
   "execution_count": null,
   "id": "75152e21-817c-4228-9957-949a5a38d55c",
   "metadata": {},
   "outputs": [],
   "source": [
    "G1.customers(20)"
   ]
  },
  {
   "cell_type": "code",
   "execution_count": null,
   "id": "fda03108-85e7-4df0-bdfc-7902f6fb570e",
   "metadata": {},
   "outputs": [],
   "source": [
    "G1.plot_customer_points()"
   ]
  },
  {
   "cell_type": "code",
   "execution_count": null,
   "id": "ab1d6b30-1bef-47a0-abe7-7f7b3d02a388",
   "metadata": {},
   "outputs": [],
   "source": [
    "G1.customers_paths((0,0))"
   ]
  },
  {
   "cell_type": "code",
   "execution_count": null,
   "id": "82fb023a-fead-40cf-9a32-ed69a7de1e6a",
   "metadata": {},
   "outputs": [],
   "source": [
    "G1.time_windows()"
   ]
  },
  {
   "cell_type": "code",
   "execution_count": null,
   "id": "08441d46-20f0-486e-b6f9-bd8a51d7a7fb",
   "metadata": {},
   "outputs": [],
   "source": [
    "G1.payload()"
   ]
  },
  {
   "cell_type": "code",
   "execution_count": null,
   "id": "f15f6138-638a-4935-afa4-66ac474868c7",
   "metadata": {},
   "outputs": [],
   "source": [
    "G1.create_csv()"
   ]
  },
  {
   "cell_type": "code",
   "execution_count": null,
   "id": "82da266f-75d3-42ab-9693-fa5546d5a52e",
   "metadata": {},
   "outputs": [],
   "source": []
  },
  {
   "cell_type": "code",
   "execution_count": null,
   "id": "422d1d2a-74d1-4d1a-9470-a6fd89da55f2",
   "metadata": {},
   "outputs": [],
   "source": []
  }
 ],
 "metadata": {
  "kernelspec": {
   "display_name": "Python 3 (ipykernel)",
   "language": "python",
   "name": "python3"
  },
  "language_info": {
   "codemirror_mode": {
    "name": "ipython",
    "version": 3
   },
   "file_extension": ".py",
   "mimetype": "text/x-python",
   "name": "python",
   "nbconvert_exporter": "python",
   "pygments_lexer": "ipython3",
   "version": "3.9.12"
  }
 },
 "nbformat": 4,
 "nbformat_minor": 5
}
