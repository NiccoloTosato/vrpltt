{
 "cells": [
  {
   "cell_type": "code",
   "execution_count": 1,
   "id": "155cf55b-9447-44bd-8586-305bbe9a0222",
   "metadata": {},
   "outputs": [],
   "source": [
    "import numpy as np\n",
    "import matplotlib.pyplot as plt\n",
    "import random"
   ]
  },
  {
   "cell_type": "code",
   "execution_count": 2,
   "id": "43dfdfab-38ef-42fc-a449-2480cbf07ff6",
   "metadata": {},
   "outputs": [],
   "source": [
    "class grid():\n",
    "    def __init__(self, n_x, n_y):\n",
    "        self.n_x = n_x\n",
    "        self.n_y = n_y\n",
    "        self.x_points = np.empty(0)\n",
    "        self.y_points = np.empty(0)\n",
    "        self.x_max = 1000\n",
    "        self.y_max = 1000\n",
    "        self.grid = {}  \n",
    "        self.elevation = {}\n",
    "        self.grid_customers = {}  \n",
    "        self.n_customers = 0      \n",
    "        self.customer_points = {}\n",
    "        self.depot = None\n",
    "        self.d_ij_indices = {}    \n",
    "        self.d_ij = None          # distances among customers - interface output for the optimization model\n",
    "        self.d_ij_extended = None\n",
    "        self.output_matrix = None\n",
    "        self.tw_a = None\n",
    "        self.tw_b = None\n",
    "        self.load = None\n",
    "        self.servicetime = 5 # minutes\n",
    "        \n",
    "        self.create_grid()\n",
    "        self.grid_dict()\n",
    "        \n",
    "    def create_grid(self):\n",
    "        delta_x = 20\n",
    "        delta_y = 20\n",
    "        np.random.seed(1)\n",
    "        self.x_points = np.linspace(0, self.x_max, self.n_x+1) + np.random.randint(-delta_x, delta_x, self.n_x+1)\n",
    "        self.y_points = np.linspace(0, self.y_max, self.n_y+1) + np.random.randint(-delta_y, delta_y, self.n_y+1)\n",
    "        self.x_points[0] = 0; self.x_points[-1] = self.x_max\n",
    "        self.y_points[0] = 0; self.y_points[-1] = self.y_max\n",
    "        self.x_points.sort()\n",
    "        self.y_points.sort()\n",
    "        \n",
    "    def grid_dict(self):\n",
    "        for i in range(self.n_x+1):\n",
    "            for j in range(self.n_y+1):\n",
    "                self.grid[(i,j)] = (self.x_points[i], self.y_points[j])\n",
    "                self.elevation[(i,j)] = 30*np.random.random()\n",
    "        return self.grid\n",
    "    \n",
    "    def time_windows(self, tp='random', min_t=50, max_t=200, k_separation = 0.05, k_overlapped = 0.5):\n",
    "        tw_a = np.zeros(1, dtype=int); tw_b = np.zeros(1, dtype=int)\n",
    "        if tp == 'random':\n",
    "            delta_lower = min_t/2\n",
    "            delta_upper = delta_lower\n",
    "            tw_center = np.random.randint(min_t+delta_lower, max_t-delta_upper, self.n_customers)\n",
    "            self.tw_a = np.append(tw_a, tw_center - np.random.randint(0, delta_lower, self.n_customers))\n",
    "            self.tw_b = np.append(tw_b, tw_center + np.random.randint(0, delta_upper, self.n_customers))\n",
    "            return self.tw_a, self.tw_b\n",
    "        if tp == 'separated':\n",
    "            delta_tw = (max_t - min_t)/self.n_customers\n",
    "            self.tw_a = np.append(tw_a, np.array([min_t + (i - k_separation)*delta_tw for i in range(self.n_customers)]) )\n",
    "            self.tw_b = np.append(tw_b, np.array([min_t + (i + k_separation)*delta_tw for i in range(self.n_customers)]) )\n",
    "            return self.tw_a, self.tw_b\n",
    "        if tp == 'overlapped':\n",
    "            tw_c = (max_t - min_t)/2\n",
    "            tw_interval = 0.5*k_overlapped*tw_c # half base interval (centered halfway between max_t and min_t)\n",
    "            delta_interval = np.random.randint(0, tw_interval, self.n_customers)\n",
    "            self.tw_a = np.append(tw_a, np.array([min_t + tw_c - t for t in sorted(delta_interval)]) )\n",
    "            self.tw_b = np.append(tw_b, np.array([min_t + tw_c + t for t in sorted(delta_interval)]) )\n",
    "            # np.random.shuffle(tw_a); np.random.shuffle(tw_b)\n",
    "            return self.tw_a, self.tw_b\n",
    "        if tp == 'single':\n",
    "            self.tw_a = np.append(tw_a, np.array([min_t for _ in range(self.n_customers)]) )\n",
    "            self.tw_b = np.append(tw_b, np.array([max_t for _ in range(self.n_customers)]) )\n",
    "            return self.tw_a, self.tw_b\n",
    "    \n",
    "    def payload(self, min_p=5, max_p=30):\n",
    "        self.load = np.append(np.zeros(1), np.random.randint(min_p, max_p, self.n_customers))\n",
    "    \n",
    "    def plot_grid(self):\n",
    "        for i in range(self.n_x+1):\n",
    "            plt.plot([self.x_points[i], self.x_points[i]], [0, self.y_max], color='gray')\n",
    "        for j in range(self.n_y+1):\n",
    "            plt.plot([0, self.x_max], [self.y_points[j], self.y_points[j]], color='gray')\n",
    "        \n",
    "    def customers(self, n_customers):\n",
    "        self.n_customers = n_customers\n",
    "        random.seed(10); customer_points = random.sample(list(self.grid.items()), n_customers)\n",
    "        self.customer_points = {k:v for k, v in customer_points}\n",
    "        return self.customer_points\n",
    "        \n",
    "    def plot_customer_points(self):\n",
    "        k = list(self.customer_points.values())\n",
    "        self.plot_grid()\n",
    "        for i in range(self.n_customers):\n",
    "            plt.scatter(k[i][0], k[i][1])\n",
    "\n",
    "    def customers_paths(self, depot):\n",
    "        ### depot must be an appropriate tuple of coordinate indices of the grid: ex (12, 15): (12th pos. on x - 15th pos. on y)\n",
    "        self.depot = depot\n",
    "        nodes = list(self.customer_points.keys())\n",
    "        nodes.insert(0, depot)\n",
    "        print(nodes)\n",
    "        delta_indices = np.zeros((self.n_customers+1, self.n_customers+1), dtype=object)\n",
    "        for i in range(self.n_customers+1):\n",
    "            print('node:', i, nodes[i])\n",
    "            for j in range(self.n_customers+1):\n",
    "                dx_index = nodes[i][0] - nodes[j][0]\n",
    "                self.d_ij_indices[(i,j)] = ((nodes[i][0], nodes[i][1]), (nodes[i][0]-dx_index, nodes[i][1]), (nodes[j][0], nodes[j][1]))\n",
    "        \n",
    "        self.d_ij = np.zeros((self.n_customers+1, self.n_customers+1))\n",
    "        self.d_ij_extended = np.zeros((2*self.n_customers+1, 2*self.n_customers+1))\n",
    "        \n",
    "        for k, v in self.d_ij_indices.items():\n",
    "            dx = abs(self.grid[v[1]][0] - self.grid[v[0]][0])\n",
    "            dy = abs(self.grid[v[2]][1] - self.grid[v[1]][1])\n",
    "            \n",
    "            self.d_ij[k[0], k[1]] = dx + dy\n",
    "        \n",
    "        return self.d_ij\n",
    "    \n",
    "    def create_csv(self):\n",
    "        elevation = np.zeros(self.n_customers)\n",
    "        service_time = np.zeros(1)\n",
    "        for i, k in enumerate(self.customer_points.keys()):\n",
    "            elevation[i] = self.elevation[k]\n",
    "        elevation = np.append(self.elevation[self.depot], elevation)\n",
    "        service_time = np.append(service_time, np.array([self.servicetime for _ in range(self.n_customers)]) )\n",
    "        x = np.append(self.grid[self.depot][0], np.array([v[0] for v in self.customer_points.values()]) )\n",
    "        y = np.append(self.grid[self.depot][1], np.array([v[1] for v in self.customer_points.values()]) )\n",
    "        index = np.linspace(0,self.n_customers,self.n_customers+1)\n",
    "        \n",
    "        self.output_matrix = np.c_[index, x, y, elevation, self.load, self.tw_a, self.tw_b, service_time, self.d_ij/1000]\n",
    "        \n",
    "        header = ',x,y,elevation,demand,tw a,tw b,s'\n",
    "        for i in range(self.n_customers+1):\n",
    "            header += ','+str(i)\n",
    "            \n",
    "        np.savetxt('generated_grid_1.csv', self.output_matrix, delimiter=',', header=header, comments='')\n",
    "        \n",
    "        return self.output_matrix"
   ]
  },
  {
   "cell_type": "code",
   "execution_count": 3,
   "id": "451781fa-c1f1-4766-9732-7fc342c98075",
   "metadata": {},
   "outputs": [
    {
     "name": "stdout",
     "output_type": "stream",
     "text": [
      "(42.0, 153.0)\n",
      "(235.0, 153.0)\n"
     ]
    }
   ],
   "source": [
    "G = grid(20, 20)\n",
    "print(G.grid[(1,3)])\n",
    "print(G.grid[(5,3)])"
   ]
  },
  {
   "cell_type": "code",
   "execution_count": 4,
   "id": "6ab79733-df49-4bff-9095-20190b9ee50f",
   "metadata": {},
   "outputs": [
    {
     "data": {
      "text/plain": [
       "array([ 0.,  1.,  2.,  3.,  4.,  5.,  6.,  7.,  8.,  9., 10., 11., 12.,\n",
       "       13., 14., 15., 16., 17., 18., 19., 20., 21.])"
      ]
     },
     "execution_count": 4,
     "metadata": {},
     "output_type": "execute_result"
    }
   ],
   "source": [
    "np.linspace(0,21,22)"
   ]
  },
  {
   "cell_type": "code",
   "execution_count": 5,
   "id": "123661ce-c2cb-4ccc-9b8c-d94c93eefe63",
   "metadata": {},
   "outputs": [
    {
     "data": {
      "text/plain": [
       "array([0., 8., 9., 5., 6., 5.])"
      ]
     },
     "execution_count": 5,
     "metadata": {},
     "output_type": "execute_result"
    }
   ],
   "source": [
    "np.append(np.zeros(1), np.random.randint(5, 10, 5))"
   ]
  },
  {
   "cell_type": "code",
   "execution_count": 6,
   "id": "263444c8-a97d-4638-818b-e66dd49ea170",
   "metadata": {},
   "outputs": [
    {
     "name": "stdout",
     "output_type": "stream",
     "text": [
      "[0.]\n",
      "[0.]\n"
     ]
    }
   ],
   "source": [
    "a,b = G.time_windows(tp='single', min_t= 50, max_t=400)\n",
    "print(a)\n",
    "print(b)"
   ]
  },
  {
   "cell_type": "code",
   "execution_count": 7,
   "id": "bbb4f797-a5aa-4f69-a43c-f91d2aa76c3b",
   "metadata": {},
   "outputs": [
    {
     "data": {
      "image/png": "[encoded data removed]",
      "text/plain": [
       "<Figure size 432x288 with 1 Axes>"
      ]
     },
     "metadata": {
      "needs_background": "light"
     },
     "output_type": "display_data"
    }
   ],
   "source": [
    "G.plot_grid()"
   ]
  },
  {
   "cell_type": "code",
   "execution_count": 8,
   "id": "ccdf04fd-ac71-4474-98f8-d1ecbfca6a18",
   "metadata": {},
   "outputs": [
    {
     "name": "stdout",
     "output_type": "stream",
     "text": [
      "[   0.   42.   88.  139.  191.  235.  295.  330.  396.  431.  492.  537.\n",
      "  586.  655.  700.  767.  798.  850.  891.  958. 1000.]\n",
      "[   0.   34.  103.  153.  210.  262.  302.  343.  389.  437.  502.  531.\n",
      "  580.  647.  688.  754.  793.  838.  910.  937. 1000.]\n",
      "20\n"
     ]
    }
   ],
   "source": [
    "print(np.round(G.x_points, 2))\n",
    "print(np.round(G.y_points, 2))\n",
    "print(G.n_x)"
   ]
  },
  {
   "cell_type": "code",
   "execution_count": 9,
   "id": "87619ecf-477b-4fa5-bbc4-3ece621900bc",
   "metadata": {},
   "outputs": [
    {
     "name": "stdout",
     "output_type": "stream",
     "text": [
      "20.14962292266403\n",
      "23.499434180846585\n"
     ]
    }
   ],
   "source": [
    "print(G.elevation[(0,0)])\n",
    "print(G.elevation[(0,5)])"
   ]
  },
  {
   "cell_type": "code",
   "execution_count": 10,
   "id": "69907098-6ba5-4ff7-9ea3-01533bac4f58",
   "metadata": {},
   "outputs": [
    {
     "data": {
      "text/plain": [
       "{(13, 19): (655.0, 937.0),\n",
       " (0, 16): (0.0, 793.0),\n",
       " (10, 9): (492.0, 437.0),\n",
       " (11, 16): (537.0, 793.0),\n",
       " (14, 1): (700.0, 34.0),\n",
       " (0, 7): (0.0, 343.0),\n",
       " (5, 0): (235.0, 0.0),\n",
       " (11, 5): (537.0, 262.0),\n",
       " (19, 17): (958.0, 838.0),\n",
       " (11, 20): (537.0, 1000.0),\n",
       " (20, 1): (1000.0, 34.0),\n",
       " (6, 16): (295.0, 793.0),\n",
       " (15, 19): (767.0, 937.0),\n",
       " (19, 16): (958.0, 793.0),\n",
       " (3, 19): (139.0, 937.0),\n",
       " (0, 17): (0.0, 838.0),\n",
       " (12, 14): (586.0, 688.0),\n",
       " (11, 19): (537.0, 937.0),\n",
       " (7, 20): (330.0, 1000.0),\n",
       " (1, 17): (42.0, 838.0)}"
      ]
     },
     "execution_count": 10,
     "metadata": {},
     "output_type": "execute_result"
    }
   ],
   "source": [
    "G.customers(20)\n",
    "# for i in range(2,5): print(i)"
   ]
  },
  {
   "cell_type": "code",
   "execution_count": 11,
   "id": "c9babe13-51e0-4c63-95ed-c949efa65acd",
   "metadata": {},
   "outputs": [],
   "source": [
    "# G.customer_points"
   ]
  },
  {
   "cell_type": "code",
   "execution_count": 12,
   "id": "816ec4c8-e22b-4b6a-863c-f192ebd6888e",
   "metadata": {},
   "outputs": [
    {
     "data": {
      "image/png": "[encoded data removed]",
      "text/plain": [
       "<Figure size 432x288 with 1 Axes>"
      ]
     },
     "metadata": {
      "needs_background": "light"
     },
     "output_type": "display_data"
    }
   ],
   "source": [
    "G.plot_customer_points()"
   ]
  },
  {
   "cell_type": "code",
   "execution_count": 13,
   "id": "e670910c-6be1-4d6a-aa93-440d5e4ad821",
   "metadata": {},
   "outputs": [
    {
     "name": "stdout",
     "output_type": "stream",
     "text": [
      "[(0, 0), (13, 19), (0, 16), (10, 9), (11, 16), (14, 1), (0, 7), (5, 0), (11, 5), (19, 17), (11, 20), (20, 1), (6, 16), (15, 19), (19, 16), (3, 19), (0, 17), (12, 14), (11, 19), (7, 20), (1, 17)]\n",
      "node: 0 (0, 0)\n",
      "node: 1 (13, 19)\n",
      "node: 2 (0, 16)\n",
      "node: 3 (10, 9)\n",
      "node: 4 (11, 16)\n",
      "node: 5 (14, 1)\n",
      "node: 6 (0, 7)\n",
      "node: 7 (5, 0)\n",
      "node: 8 (11, 5)\n",
      "node: 9 (19, 17)\n",
      "node: 10 (11, 20)\n",
      "node: 11 (20, 1)\n",
      "node: 12 (6, 16)\n",
      "node: 13 (15, 19)\n",
      "node: 14 (19, 16)\n",
      "node: 15 (3, 19)\n",
      "node: 16 (0, 17)\n",
      "node: 17 (12, 14)\n",
      "node: 18 (11, 19)\n",
      "node: 19 (7, 20)\n",
      "node: 20 (1, 17)\n"
     ]
    },
    {
     "data": {
      "text/plain": [
       "array([[   0., 1592.,  793.,  929., 1330.,  734.,  343.,  235.,  799.,\n",
       "        1796., 1537., 1034., 1088., 1704., 1751., 1076.,  838., 1274.,\n",
       "        1474., 1330.,  880.],\n",
       "       [1592.,    0.,  799.,  663.,  262.,  948., 1249., 1357.,  793.,\n",
       "         402.,  181., 1248.,  504.,  112.,  447.,  516.,  754.,  318.,\n",
       "         118.,  388.,  712.],\n",
       "       [ 793.,  799.,    0.,  848.,  537., 1459.,  450., 1028., 1068.,\n",
       "        1003.,  744., 1759.,  295.,  911.,  958.,  283.,   45.,  691.,\n",
       "         681.,  537.,   87.],\n",
       "       [ 929.,  663.,  848.,    0.,  401.,  611.,  586.,  694.,  220.,\n",
       "         867.,  608.,  911.,  553.,  775.,  822.,  853.,  893.,  345.,\n",
       "         545.,  725.,  851.],\n",
       "       [1330.,  262.,  537.,  401.,    0.,  922.,  987., 1095.,  531.,\n",
       "         466.,  207., 1222.,  242.,  374.,  421.,  542.,  582.,  154.,\n",
       "         144.,  414.,  540.],\n",
       "       [ 734.,  948., 1459.,  611.,  922.,    0., 1009.,  499.,  391.,\n",
       "        1062., 1129.,  300., 1164.,  970., 1017., 1464., 1504.,  768.,\n",
       "        1066., 1336., 1462.],\n",
       "       [ 343., 1249.,  450.,  586.,  987., 1009.,    0.,  578.,  618.,\n",
       "        1453., 1194., 1309.,  745., 1361., 1408.,  733.,  495.,  931.,\n",
       "        1131.,  987.,  537.],\n",
       "       [ 235., 1357., 1028.,  694., 1095.,  499.,  578.,    0.,  564.,\n",
       "        1561., 1302.,  799.,  853., 1469., 1516., 1033., 1073., 1039.,\n",
       "        1239., 1095., 1031.],\n",
       "       [ 799.,  793., 1068.,  220.,  531.,  391.,  618.,  564.,    0.,\n",
       "         997.,  738.,  691.,  773.,  905.,  952., 1073., 1113.,  475.,\n",
       "         675.,  945., 1071.],\n",
       "       [1796.,  402., 1003.,  867.,  466., 1062., 1453., 1561.,  997.,\n",
       "           0.,  583.,  846.,  708.,  290.,   45.,  918.,  958.,  522.,\n",
       "         520.,  790.,  916.],\n",
       "       [1537.,  181.,  744.,  608.,  207., 1129., 1194., 1302.,  738.,\n",
       "         583.,    0., 1429.,  449.,  293.,  628.,  461.,  699.,  361.,\n",
       "          63.,  207.,  657.],\n",
       "       [1034., 1248., 1759.,  911., 1222.,  300., 1309.,  799.,  691.,\n",
       "         846., 1429.,    0., 1464., 1136.,  801., 1764., 1804., 1068.,\n",
       "        1366., 1636., 1762.],\n",
       "       [1088.,  504.,  295.,  553.,  242., 1164.,  745.,  853.,  773.,\n",
       "         708.,  449., 1464.,    0.,  616.,  663.,  300.,  340.,  396.,\n",
       "         386.,  242.,  298.],\n",
       "       [1704.,  112.,  911.,  775.,  374.,  970., 1361., 1469.,  905.,\n",
       "         290.,  293., 1136.,  616.,    0.,  335.,  628.,  866.,  430.,\n",
       "         230.,  500.,  824.],\n",
       "       [1751.,  447.,  958.,  822.,  421., 1017., 1408., 1516.,  952.,\n",
       "          45.,  628.,  801.,  663.,  335.,    0.,  963., 1003.,  477.,\n",
       "         565.,  835.,  961.],\n",
       "       [1076.,  516.,  283.,  853.,  542., 1464.,  733., 1033., 1073.,\n",
       "         918.,  461., 1764.,  300.,  628.,  963.,    0.,  238.,  696.,\n",
       "         398.,  254.,  196.],\n",
       "       [ 838.,  754.,   45.,  893.,  582., 1504.,  495., 1073., 1113.,\n",
       "         958.,  699., 1804.,  340.,  866., 1003.,  238.,    0.,  736.,\n",
       "         636.,  492.,   42.],\n",
       "       [1274.,  318.,  691.,  345.,  154.,  768.,  931., 1039.,  475.,\n",
       "         522.,  361., 1068.,  396.,  430.,  477.,  696.,  736.,    0.,\n",
       "         298.,  568.,  694.],\n",
       "       [1474.,  118.,  681.,  545.,  144., 1066., 1131., 1239.,  675.,\n",
       "         520.,   63., 1366.,  386.,  230.,  565.,  398.,  636.,  298.,\n",
       "           0.,  270.,  594.],\n",
       "       [1330.,  388.,  537.,  725.,  414., 1336.,  987., 1095.,  945.,\n",
       "         790.,  207., 1636.,  242.,  500.,  835.,  254.,  492.,  568.,\n",
       "         270.,    0.,  450.],\n",
       "       [ 880.,  712.,   87.,  851.,  540., 1462.,  537., 1031., 1071.,\n",
       "         916.,  657., 1762.,  298.,  824.,  961.,  196.,   42.,  694.,\n",
       "         594.,  450.,    0.]])"
      ]
     },
     "execution_count": 13,
     "metadata": {},
     "output_type": "execute_result"
    }
   ],
   "source": [
    "G.customers_paths((0,0))"
   ]
  },
  {
   "cell_type": "code",
   "execution_count": 14,
   "id": "f4860808-0a0c-455e-9f3d-a3448ea00d27",
   "metadata": {},
   "outputs": [],
   "source": [
    "# G.d_ij_indices"
   ]
  },
  {
   "cell_type": "code",
   "execution_count": 15,
   "id": "61d5ca1d-6b7b-4817-9875-8ea8ce109793",
   "metadata": {},
   "outputs": [],
   "source": [
    "# G.d_ij"
   ]
  },
  {
   "cell_type": "code",
   "execution_count": 16,
   "id": "e33c5253-b848-4eba-86aa-10daa1d46fdb",
   "metadata": {},
   "outputs": [],
   "source": [
    "# print(G.grid_dict()[(0,0)])\n",
    "# print(G.grid_dict()[(1,7)])\n",
    "# print(G.grid_dict()[(16,23)])\n",
    "# print(G.grid_dict()[(19,0)])"
   ]
  },
  {
   "cell_type": "code",
   "execution_count": 17,
   "id": "cbbfffab-741b-4260-aa2c-b8fe45c04de8",
   "metadata": {},
   "outputs": [],
   "source": [
    "# G.customer_points"
   ]
  },
  {
   "cell_type": "code",
   "execution_count": 18,
   "id": "ced80ef6-090f-433e-ab53-c6b56266ec5d",
   "metadata": {},
   "outputs": [],
   "source": [
    "# for k in G.customer_points.keys():\n",
    "#     print(k, ' elevation: ', G.elevation[k])"
   ]
  },
  {
   "cell_type": "code",
   "execution_count": 19,
   "id": "cc3fa90f-03bd-478a-869f-c062cf2d8bca",
   "metadata": {},
   "outputs": [
    {
     "name": "stdout",
     "output_type": "stream",
     "text": [
      "[  0  99 124  98 107  91  67 121 117  86  58  80  54  89  72  80 119 132\n",
      " 149 171 112]\n",
      "[  0 127 153 122 108 131  87 145 137 113  83  97  85 108  96 127 163 146\n",
      " 165 176 139]\n"
     ]
    }
   ],
   "source": [
    "ta, tb = G.time_windows()\n",
    "print(ta)\n",
    "print(tb)"
   ]
  },
  {
   "cell_type": "code",
   "execution_count": 20,
   "id": "4686b94d-6745-4ce6-8096-4b9d00a4340e",
   "metadata": {},
   "outputs": [],
   "source": [
    "G.payload()"
   ]
  },
  {
   "cell_type": "code",
   "execution_count": 21,
   "id": "1b793f22-0c39-4fd4-895f-4781399e4ec9",
   "metadata": {},
   "outputs": [],
   "source": [
    "out = G.create_csv()"
   ]
  },
  {
   "cell_type": "code",
   "execution_count": null,
   "id": "836fa59b-77ff-4f77-b4b8-108c0e43a842",
   "metadata": {},
   "outputs": [],
   "source": []
  },
  {
   "cell_type": "code",
   "execution_count": 22,
   "id": "7462ffd9-a9dd-4141-b651-283c9109414d",
   "metadata": {},
   "outputs": [],
   "source": [
    "G1 = grid(10, 10)"
   ]
  },
  {
   "cell_type": "code",
   "execution_count": 23,
   "id": "75152e21-817c-4228-9957-949a5a38d55c",
   "metadata": {},
   "outputs": [
    {
     "data": {
      "text/plain": [
       "{(6, 7): (595.0, 691.0),\n",
       " (0, 4): (0.0, 417.0),\n",
       " (4, 10): (391.0, 1000.0),\n",
       " (5, 6): (485.0, 600.0),\n",
       " (0, 1): (0.0, 86.0),\n",
       " (2, 4): (188.0, 417.0),\n",
       " (5, 4): (485.0, 417.0),\n",
       " (9, 5): (881.0, 498.0),\n",
       " (5, 7): (485.0, 691.0),\n",
       " (9, 6): (881.0, 600.0),\n",
       " (3, 2): (289.0, 205.0),\n",
       " (7, 6): (680.0, 600.0),\n",
       " (9, 4): (881.0, 417.0),\n",
       " (1, 9): (92.0, 909.0),\n",
       " (6, 0): (595.0, 0.0),\n",
       " (3, 8): (289.0, 808.0),\n",
       " (0, 9): (0.0, 909.0),\n",
       " (2, 9): (188.0, 909.0),\n",
       " (8, 7): (796.0, 691.0),\n",
       " (4, 2): (391.0, 205.0)}"
      ]
     },
     "execution_count": 23,
     "metadata": {},
     "output_type": "execute_result"
    }
   ],
   "source": [
    "G1.customers(20)"
   ]
  },
  {
   "cell_type": "code",
   "execution_count": 24,
   "id": "fda03108-85e7-4df0-bdfc-7902f6fb570e",
   "metadata": {},
   "outputs": [
    {
     "data": {
      "image/png": "[encoded data removed]",
      "text/plain": [
       "<Figure size 432x288 with 1 Axes>"
      ]
     },
     "metadata": {
      "needs_background": "light"
     },
     "output_type": "display_data"
    }
   ],
   "source": [
    "G1.plot_customer_points()"
   ]
  },
  {
   "cell_type": "code",
   "execution_count": 25,
   "id": "ab1d6b30-1bef-47a0-abe7-7f7b3d02a388",
   "metadata": {},
   "outputs": [
    {
     "name": "stdout",
     "output_type": "stream",
     "text": [
      "[(0, 0), (6, 7), (0, 4), (4, 10), (5, 6), (0, 1), (2, 4), (5, 4), (9, 5), (5, 7), (9, 6), (3, 2), (7, 6), (9, 4), (1, 9), (6, 0), (3, 8), (0, 9), (2, 9), (8, 7), (4, 2)]\n",
      "node: 0 (0, 0)\n",
      "node: 1 (6, 7)\n",
      "node: 2 (0, 4)\n",
      "node: 3 (4, 10)\n",
      "node: 4 (5, 6)\n",
      "node: 5 (0, 1)\n",
      "node: 6 (2, 4)\n",
      "node: 7 (5, 4)\n",
      "node: 8 (9, 5)\n",
      "node: 9 (5, 7)\n",
      "node: 10 (9, 6)\n",
      "node: 11 (3, 2)\n",
      "node: 12 (7, 6)\n",
      "node: 13 (9, 4)\n",
      "node: 14 (1, 9)\n",
      "node: 15 (6, 0)\n",
      "node: 16 (3, 8)\n",
      "node: 17 (0, 9)\n",
      "node: 18 (2, 9)\n",
      "node: 19 (8, 7)\n",
      "node: 20 (4, 2)\n"
     ]
    },
    {
     "data": {
      "text/plain": [
       "array([[   0., 1286.,  417., 1391., 1085.,   86.,  605.,  902., 1379.,\n",
       "        1176., 1481.,  494., 1280., 1298., 1001.,  595., 1097.,  909.,\n",
       "        1097., 1487.,  596.],\n",
       "       [1286.,    0.,  869.,  513.,  201., 1200.,  681.,  384.,  479.,\n",
       "         110.,  377.,  792.,  176.,  560.,  721.,  691.,  423.,  813.,\n",
       "         625.,  201.,  690.],\n",
       "       [ 417.,  869.,    0.,  974.,  668.,  331.,  188.,  485.,  962.,\n",
       "         759., 1064.,  501.,  863.,  881.,  584., 1012.,  680.,  492.,\n",
       "         680., 1070.,  603.],\n",
       "       [1391.,  513.,  974.,    0.,  494., 1305.,  786.,  677.,  992.,\n",
       "         403.,  890.,  897.,  689., 1073.,  390., 1204.,  294.,  482.,\n",
       "         294.,  714.,  795.],\n",
       "       [1085.,  201.,  668.,  494.,    0.,  999.,  480.,  183.,  498.,\n",
       "          91.,  396.,  591.,  195.,  579.,  702.,  710.,  404.,  794.,\n",
       "         606.,  402.,  489.],\n",
       "       [  86., 1200.,  331., 1305.,  999.,    0.,  519.,  816., 1293.,\n",
       "        1090., 1395.,  408., 1194., 1212.,  915.,  681., 1011.,  823.,\n",
       "        1011., 1401.,  510.],\n",
       "       [ 605.,  681.,  188.,  786.,  480.,  519.,    0.,  297.,  774.,\n",
       "         571.,  876.,  313.,  675.,  693.,  588.,  824.,  492.,  680.,\n",
       "         492.,  882.,  415.],\n",
       "       [ 902.,  384.,  485.,  677.,  183.,  816.,  297.,    0.,  477.,\n",
       "         274.,  579.,  408.,  378.,  396.,  885.,  527.,  587.,  977.,\n",
       "         789.,  585.,  306.],\n",
       "       [1379.,  479.,  962.,  992.,  498., 1293.,  774.,  477.,    0.,\n",
       "         589.,  102.,  885.,  303.,   81., 1200.,  784.,  902., 1292.,\n",
       "        1104.,  278.,  783.],\n",
       "       [1176.,  110.,  759.,  403.,   91., 1090.,  571.,  274.,  589.,\n",
       "           0.,  487.,  682.,  286.,  670.,  611.,  801.,  313.,  703.,\n",
       "         515.,  311.,  580.],\n",
       "       [1481.,  377., 1064.,  890.,  396., 1395.,  876.,  579.,  102.,\n",
       "         487.,    0.,  987.,  201.,  183., 1098.,  886.,  800., 1190.,\n",
       "        1002.,  176.,  885.],\n",
       "       [ 494.,  792.,  501.,  897.,  591.,  408.,  313.,  408.,  885.,\n",
       "         682.,  987.,    0.,  786.,  804.,  901.,  511.,  603.,  993.,\n",
       "         805.,  993.,  102.],\n",
       "       [1280.,  176.,  863.,  689.,  195., 1194.,  675.,  378.,  303.,\n",
       "         286.,  201.,  786.,    0.,  384.,  897.,  685.,  599.,  989.,\n",
       "         801.,  207.,  684.],\n",
       "       [1298.,  560.,  881., 1073.,  579., 1212.,  693.,  396.,   81.,\n",
       "         670.,  183.,  804.,  384.,    0., 1281.,  703.,  983., 1373.,\n",
       "        1185.,  359.,  702.],\n",
       "       [1001.,  721.,  584.,  390.,  702.,  915.,  588.,  885., 1200.,\n",
       "         611., 1098.,  901.,  897., 1281.,    0., 1412.,  298.,   92.,\n",
       "          96.,  922., 1003.],\n",
       "       [ 595.,  691., 1012., 1204.,  710.,  681.,  824.,  527.,  784.,\n",
       "         801.,  886.,  511.,  685.,  703., 1412.,    0., 1114., 1504.,\n",
       "        1316.,  892.,  409.],\n",
       "       [1097.,  423.,  680.,  294.,  404., 1011.,  492.,  587.,  902.,\n",
       "         313.,  800.,  603.,  599.,  983.,  298., 1114.,    0.,  390.,\n",
       "         202.,  624.,  705.],\n",
       "       [ 909.,  813.,  492.,  482.,  794.,  823.,  680.,  977., 1292.,\n",
       "         703., 1190.,  993.,  989., 1373.,   92., 1504.,  390.,    0.,\n",
       "         188., 1014., 1095.],\n",
       "       [1097.,  625.,  680.,  294.,  606., 1011.,  492.,  789., 1104.,\n",
       "         515., 1002.,  805.,  801., 1185.,   96., 1316.,  202.,  188.,\n",
       "           0.,  826.,  907.],\n",
       "       [1487.,  201., 1070.,  714.,  402., 1401.,  882.,  585.,  278.,\n",
       "         311.,  176.,  993.,  207.,  359.,  922.,  892.,  624., 1014.,\n",
       "         826.,    0.,  891.],\n",
       "       [ 596.,  690.,  603.,  795.,  489.,  510.,  415.,  306.,  783.,\n",
       "         580.,  885.,  102.,  684.,  702., 1003.,  409.,  705., 1095.,\n",
       "         907.,  891.,    0.]])"
      ]
     },
     "execution_count": 25,
     "metadata": {},
     "output_type": "execute_result"
    }
   ],
   "source": [
    "G1.customers_paths((0,0))"
   ]
  },
  {
   "cell_type": "code",
   "execution_count": 26,
   "id": "82fb023a-fead-40cf-9a32-ed69a7de1e6a",
   "metadata": {},
   "outputs": [
    {
     "data": {
      "text/plain": [
       "(array([  0,  90,  62, 150, 158, 111, 110,  83,  86, 120, 137,  94,  88,\n",
       "        155, 130,  64, 163,  85,  76, 156, 131]),\n",
       " array([  0, 123,  91, 178, 160, 127, 133, 107, 122, 133, 181, 125, 108,\n",
       "        175, 164,  90, 179, 122, 100, 182, 152]))"
      ]
     },
     "execution_count": 26,
     "metadata": {},
     "output_type": "execute_result"
    }
   ],
   "source": [
    "G1.time_windows()"
   ]
  },
  {
   "cell_type": "code",
   "execution_count": 27,
   "id": "08441d46-20f0-486e-b6f9-bd8a51d7a7fb",
   "metadata": {},
   "outputs": [],
   "source": [
    "G1.payload()"
   ]
  },
  {
   "cell_type": "code",
   "execution_count": 28,
   "id": "f15f6138-638a-4935-afa4-66ac474868c7",
   "metadata": {},
   "outputs": [
    {
     "data": {
      "text/plain": [
       "array([[0.00000000e+00, 0.00000000e+00, 0.00000000e+00, 2.01140253e+01,\n",
       "        0.00000000e+00, 0.00000000e+00, 0.00000000e+00, 0.00000000e+00,\n",
       "        0.00000000e+00, 1.28600000e+00, 4.17000000e-01, 1.39100000e+00,\n",
       "        1.08500000e+00, 8.60000000e-02, 6.05000000e-01, 9.02000000e-01,\n",
       "        1.37900000e+00, 1.17600000e+00, 1.48100000e+00, 4.94000000e-01,\n",
       "        1.28000000e+00, 1.29800000e+00, 1.00100000e+00, 5.95000000e-01,\n",
       "        1.09700000e+00, 9.09000000e-01, 1.09700000e+00, 1.48700000e+00,\n",
       "        5.96000000e-01],\n",
       "       [1.00000000e+00, 5.95000000e+02, 6.91000000e+02, 1.99032449e+01,\n",
       "        1.50000000e+01, 9.00000000e+01, 1.23000000e+02, 5.00000000e+00,\n",
       "        1.28600000e+00, 0.00000000e+00, 8.69000000e-01, 5.13000000e-01,\n",
       "        2.01000000e-01, 1.20000000e+00, 6.81000000e-01, 3.84000000e-01,\n",
       "        4.79000000e-01, 1.10000000e-01, 3.77000000e-01, 7.92000000e-01,\n",
       "        1.76000000e-01, 5.60000000e-01, 7.21000000e-01, 6.91000000e-01,\n",
       "        4.23000000e-01, 8.13000000e-01, 6.25000000e-01, 2.01000000e-01,\n",
       "        6.90000000e-01],\n",
       "       [2.00000000e+00, 0.00000000e+00, 4.17000000e+02, 5.94304467e+00,\n",
       "        1.50000000e+01, 6.20000000e+01, 9.10000000e+01, 5.00000000e+00,\n",
       "        4.17000000e-01, 8.69000000e-01, 0.00000000e+00, 9.74000000e-01,\n",
       "        6.68000000e-01, 3.31000000e-01, 1.88000000e-01, 4.85000000e-01,\n",
       "        9.62000000e-01, 7.59000000e-01, 1.06400000e+00, 5.01000000e-01,\n",
       "        8.63000000e-01, 8.81000000e-01, 5.84000000e-01, 1.01200000e+00,\n",
       "        6.80000000e-01, 4.92000000e-01, 6.80000000e-01, 1.07000000e+00,\n",
       "        6.03000000e-01],\n",
       "       [3.00000000e+00, 3.91000000e+02, 1.00000000e+03, 1.75966512e+01,\n",
       "        7.00000000e+00, 1.50000000e+02, 1.78000000e+02, 5.00000000e+00,\n",
       "        1.39100000e+00, 5.13000000e-01, 9.74000000e-01, 0.00000000e+00,\n",
       "        4.94000000e-01, 1.30500000e+00, 7.86000000e-01, 6.77000000e-01,\n",
       "        9.92000000e-01, 4.03000000e-01, 8.90000000e-01, 8.97000000e-01,\n",
       "        6.89000000e-01, 1.07300000e+00, 3.90000000e-01, 1.20400000e+00,\n",
       "        2.94000000e-01, 4.82000000e-01, 2.94000000e-01, 7.14000000e-01,\n",
       "        7.95000000e-01],\n",
       "       [4.00000000e+00, 4.85000000e+02, 6.00000000e+02, 2.78252574e+01,\n",
       "        2.90000000e+01, 1.58000000e+02, 1.60000000e+02, 5.00000000e+00,\n",
       "        1.08500000e+00, 2.01000000e-01, 6.68000000e-01, 4.94000000e-01,\n",
       "        0.00000000e+00, 9.99000000e-01, 4.80000000e-01, 1.83000000e-01,\n",
       "        4.98000000e-01, 9.10000000e-02, 3.96000000e-01, 5.91000000e-01,\n",
       "        1.95000000e-01, 5.79000000e-01, 7.02000000e-01, 7.10000000e-01,\n",
       "        4.04000000e-01, 7.94000000e-01, 6.06000000e-01, 4.02000000e-01,\n",
       "        4.89000000e-01],\n",
       "       [5.00000000e+00, 0.00000000e+00, 8.60000000e+01, 1.25191441e+01,\n",
       "        7.00000000e+00, 1.11000000e+02, 1.27000000e+02, 5.00000000e+00,\n",
       "        8.60000000e-02, 1.20000000e+00, 3.31000000e-01, 1.30500000e+00,\n",
       "        9.99000000e-01, 0.00000000e+00, 5.19000000e-01, 8.16000000e-01,\n",
       "        1.29300000e+00, 1.09000000e+00, 1.39500000e+00, 4.08000000e-01,\n",
       "        1.19400000e+00, 1.21200000e+00, 9.15000000e-01, 6.81000000e-01,\n",
       "        1.01100000e+00, 8.23000000e-01, 1.01100000e+00, 1.40100000e+00,\n",
       "        5.10000000e-01],\n",
       "       [6.00000000e+00, 1.88000000e+02, 4.17000000e+02, 2.24449696e+01,\n",
       "        2.20000000e+01, 1.10000000e+02, 1.33000000e+02, 5.00000000e+00,\n",
       "        6.05000000e-01, 6.81000000e-01, 1.88000000e-01, 7.86000000e-01,\n",
       "        4.80000000e-01, 5.19000000e-01, 0.00000000e+00, 2.97000000e-01,\n",
       "        7.74000000e-01, 5.71000000e-01, 8.76000000e-01, 3.13000000e-01,\n",
       "        6.75000000e-01, 6.93000000e-01, 5.88000000e-01, 8.24000000e-01,\n",
       "        4.92000000e-01, 6.80000000e-01, 4.92000000e-01, 8.82000000e-01,\n",
       "        4.15000000e-01],\n",
       "       [7.00000000e+00, 4.85000000e+02, 4.17000000e+02, 1.19303051e+01,\n",
       "        9.00000000e+00, 8.30000000e+01, 1.07000000e+02, 5.00000000e+00,\n",
       "        9.02000000e-01, 3.84000000e-01, 4.85000000e-01, 6.77000000e-01,\n",
       "        1.83000000e-01, 8.16000000e-01, 2.97000000e-01, 0.00000000e+00,\n",
       "        4.77000000e-01, 2.74000000e-01, 5.79000000e-01, 4.08000000e-01,\n",
       "        3.78000000e-01, 3.96000000e-01, 8.85000000e-01, 5.27000000e-01,\n",
       "        5.87000000e-01, 9.77000000e-01, 7.89000000e-01, 5.85000000e-01,\n",
       "        3.06000000e-01],\n",
       "       [8.00000000e+00, 8.81000000e+02, 4.98000000e+02, 3.72812886e+00,\n",
       "        5.00000000e+00, 8.60000000e+01, 1.22000000e+02, 5.00000000e+00,\n",
       "        1.37900000e+00, 4.79000000e-01, 9.62000000e-01, 9.92000000e-01,\n",
       "        4.98000000e-01, 1.29300000e+00, 7.74000000e-01, 4.77000000e-01,\n",
       "        0.00000000e+00, 5.89000000e-01, 1.02000000e-01, 8.85000000e-01,\n",
       "        3.03000000e-01, 8.10000000e-02, 1.20000000e+00, 7.84000000e-01,\n",
       "        9.02000000e-01, 1.29200000e+00, 1.10400000e+00, 2.78000000e-01,\n",
       "        7.83000000e-01],\n",
       "       [9.00000000e+00, 4.85000000e+02, 6.91000000e+02, 1.04329758e+01,\n",
       "        2.50000000e+01, 1.20000000e+02, 1.33000000e+02, 5.00000000e+00,\n",
       "        1.17600000e+00, 1.10000000e-01, 7.59000000e-01, 4.03000000e-01,\n",
       "        9.10000000e-02, 1.09000000e+00, 5.71000000e-01, 2.74000000e-01,\n",
       "        5.89000000e-01, 0.00000000e+00, 4.87000000e-01, 6.82000000e-01,\n",
       "        2.86000000e-01, 6.70000000e-01, 6.11000000e-01, 8.01000000e-01,\n",
       "        3.13000000e-01, 7.03000000e-01, 5.15000000e-01, 3.11000000e-01,\n",
       "        5.80000000e-01],\n",
       "       [1.00000000e+01, 8.81000000e+02, 6.00000000e+02, 5.96404015e-01,\n",
       "        1.90000000e+01, 1.37000000e+02, 1.81000000e+02, 5.00000000e+00,\n",
       "        1.48100000e+00, 3.77000000e-01, 1.06400000e+00, 8.90000000e-01,\n",
       "        3.96000000e-01, 1.39500000e+00, 8.76000000e-01, 5.79000000e-01,\n",
       "        1.02000000e-01, 4.87000000e-01, 0.00000000e+00, 9.87000000e-01,\n",
       "        2.01000000e-01, 1.83000000e-01, 1.09800000e+00, 8.86000000e-01,\n",
       "        8.00000000e-01, 1.19000000e+00, 1.00200000e+00, 1.76000000e-01,\n",
       "        8.85000000e-01],\n",
       "       [1.10000000e+01, 2.89000000e+02, 2.05000000e+02, 5.81008736e-01,\n",
       "        2.20000000e+01, 9.40000000e+01, 1.25000000e+02, 5.00000000e+00,\n",
       "        4.94000000e-01, 7.92000000e-01, 5.01000000e-01, 8.97000000e-01,\n",
       "        5.91000000e-01, 4.08000000e-01, 3.13000000e-01, 4.08000000e-01,\n",
       "        8.85000000e-01, 6.82000000e-01, 9.87000000e-01, 0.00000000e+00,\n",
       "        7.86000000e-01, 8.04000000e-01, 9.01000000e-01, 5.11000000e-01,\n",
       "        6.03000000e-01, 9.93000000e-01, 8.05000000e-01, 9.93000000e-01,\n",
       "        1.02000000e-01],\n",
       "       [1.20000000e+01, 6.80000000e+02, 6.00000000e+02, 8.61098109e-02,\n",
       "        1.20000000e+01, 8.80000000e+01, 1.08000000e+02, 5.00000000e+00,\n",
       "        1.28000000e+00, 1.76000000e-01, 8.63000000e-01, 6.89000000e-01,\n",
       "        1.95000000e-01, 1.19400000e+00, 6.75000000e-01, 3.78000000e-01,\n",
       "        3.03000000e-01, 2.86000000e-01, 2.01000000e-01, 7.86000000e-01,\n",
       "        0.00000000e+00, 3.84000000e-01, 8.97000000e-01, 6.85000000e-01,\n",
       "        5.99000000e-01, 9.89000000e-01, 8.01000000e-01, 2.07000000e-01,\n",
       "        6.84000000e-01],\n",
       "       [1.30000000e+01, 8.81000000e+02, 4.17000000e+02, 2.13457428e+01,\n",
       "        8.00000000e+00, 1.55000000e+02, 1.75000000e+02, 5.00000000e+00,\n",
       "        1.29800000e+00, 5.60000000e-01, 8.81000000e-01, 1.07300000e+00,\n",
       "        5.79000000e-01, 1.21200000e+00, 6.93000000e-01, 3.96000000e-01,\n",
       "        8.10000000e-02, 6.70000000e-01, 1.83000000e-01, 8.04000000e-01,\n",
       "        3.84000000e-01, 0.00000000e+00, 1.28100000e+00, 7.03000000e-01,\n",
       "        9.83000000e-01, 1.37300000e+00, 1.18500000e+00, 3.59000000e-01,\n",
       "        7.02000000e-01],\n",
       "       [1.40000000e+01, 9.20000000e+01, 9.09000000e+02, 9.46546893e+00,\n",
       "        2.20000000e+01, 1.30000000e+02, 1.64000000e+02, 5.00000000e+00,\n",
       "        1.00100000e+00, 7.21000000e-01, 5.84000000e-01, 3.90000000e-01,\n",
       "        7.02000000e-01, 9.15000000e-01, 5.88000000e-01, 8.85000000e-01,\n",
       "        1.20000000e+00, 6.11000000e-01, 1.09800000e+00, 9.01000000e-01,\n",
       "        8.97000000e-01, 1.28100000e+00, 0.00000000e+00, 1.41200000e+00,\n",
       "        2.98000000e-01, 9.20000000e-02, 9.60000000e-02, 9.22000000e-01,\n",
       "        1.00300000e+00],\n",
       "       [1.50000000e+01, 5.95000000e+02, 0.00000000e+00, 1.87101662e+01,\n",
       "        2.70000000e+01, 6.40000000e+01, 9.00000000e+01, 5.00000000e+00,\n",
       "        5.95000000e-01, 6.91000000e-01, 1.01200000e+00, 1.20400000e+00,\n",
       "        7.10000000e-01, 6.81000000e-01, 8.24000000e-01, 5.27000000e-01,\n",
       "        7.84000000e-01, 8.01000000e-01, 8.86000000e-01, 5.11000000e-01,\n",
       "        6.85000000e-01, 7.03000000e-01, 1.41200000e+00, 0.00000000e+00,\n",
       "        1.11400000e+00, 1.50400000e+00, 1.31600000e+00, 8.92000000e-01,\n",
       "        4.09000000e-01],\n",
       "       [1.60000000e+01, 2.89000000e+02, 8.08000000e+02, 1.72235282e+01,\n",
       "        1.10000000e+01, 1.63000000e+02, 1.79000000e+02, 5.00000000e+00,\n",
       "        1.09700000e+00, 4.23000000e-01, 6.80000000e-01, 2.94000000e-01,\n",
       "        4.04000000e-01, 1.01100000e+00, 4.92000000e-01, 5.87000000e-01,\n",
       "        9.02000000e-01, 3.13000000e-01, 8.00000000e-01, 6.03000000e-01,\n",
       "        5.99000000e-01, 9.83000000e-01, 2.98000000e-01, 1.11400000e+00,\n",
       "        0.00000000e+00, 3.90000000e-01, 2.02000000e-01, 6.24000000e-01,\n",
       "        7.05000000e-01],\n",
       "       [1.70000000e+01, 0.00000000e+00, 9.09000000e+02, 2.62916746e+01,\n",
       "        1.40000000e+01, 8.50000000e+01, 1.22000000e+02, 5.00000000e+00,\n",
       "        9.09000000e-01, 8.13000000e-01, 4.92000000e-01, 4.82000000e-01,\n",
       "        7.94000000e-01, 8.23000000e-01, 6.80000000e-01, 9.77000000e-01,\n",
       "        1.29200000e+00, 7.03000000e-01, 1.19000000e+00, 9.93000000e-01,\n",
       "        9.89000000e-01, 1.37300000e+00, 9.20000000e-02, 1.50400000e+00,\n",
       "        3.90000000e-01, 0.00000000e+00, 1.88000000e-01, 1.01400000e+00,\n",
       "        1.09500000e+00],\n",
       "       [1.80000000e+01, 1.88000000e+02, 9.09000000e+02, 2.72578651e+01,\n",
       "        1.50000000e+01, 7.60000000e+01, 1.00000000e+02, 5.00000000e+00,\n",
       "        1.09700000e+00, 6.25000000e-01, 6.80000000e-01, 2.94000000e-01,\n",
       "        6.06000000e-01, 1.01100000e+00, 4.92000000e-01, 7.89000000e-01,\n",
       "        1.10400000e+00, 5.15000000e-01, 1.00200000e+00, 8.05000000e-01,\n",
       "        8.01000000e-01, 1.18500000e+00, 9.60000000e-02, 1.31600000e+00,\n",
       "        2.02000000e-01, 1.88000000e-01, 0.00000000e+00, 8.26000000e-01,\n",
       "        9.07000000e-01],\n",
       "       [1.90000000e+01, 7.96000000e+02, 6.91000000e+02, 5.17021525e+00,\n",
       "        1.80000000e+01, 1.56000000e+02, 1.82000000e+02, 5.00000000e+00,\n",
       "        1.48700000e+00, 2.01000000e-01, 1.07000000e+00, 7.14000000e-01,\n",
       "        4.02000000e-01, 1.40100000e+00, 8.82000000e-01, 5.85000000e-01,\n",
       "        2.78000000e-01, 3.11000000e-01, 1.76000000e-01, 9.93000000e-01,\n",
       "        2.07000000e-01, 3.59000000e-01, 9.22000000e-01, 8.92000000e-01,\n",
       "        6.24000000e-01, 1.01400000e+00, 8.26000000e-01, 0.00000000e+00,\n",
       "        8.91000000e-01],\n",
       "       [2.00000000e+01, 3.91000000e+02, 2.05000000e+02, 1.24216796e+01,\n",
       "        1.10000000e+01, 1.31000000e+02, 1.52000000e+02, 5.00000000e+00,\n",
       "        5.96000000e-01, 6.90000000e-01, 6.03000000e-01, 7.95000000e-01,\n",
       "        4.89000000e-01, 5.10000000e-01, 4.15000000e-01, 3.06000000e-01,\n",
       "        7.83000000e-01, 5.80000000e-01, 8.85000000e-01, 1.02000000e-01,\n",
       "        6.84000000e-01, 7.02000000e-01, 1.00300000e+00, 4.09000000e-01,\n",
       "        7.05000000e-01, 1.09500000e+00, 9.07000000e-01, 8.91000000e-01,\n",
       "        0.00000000e+00]])"
      ]
     },
     "execution_count": 28,
     "metadata": {},
     "output_type": "execute_result"
    }
   ],
   "source": [
    "G1.create_csv()"
   ]
  },
  {
   "cell_type": "code",
   "execution_count": null,
   "id": "82da266f-75d3-42ab-9693-fa5546d5a52e",
   "metadata": {},
   "outputs": [],
   "source": []
  },
  {
   "cell_type": "code",
   "execution_count": null,
   "id": "422d1d2a-74d1-4d1a-9470-a6fd89da55f2",
   "metadata": {},
   "outputs": [],
   "source": []
  }
 ],
 "metadata": {
  "kernelspec": {
   "display_name": "Python 3 (ipykernel)",
   "language": "python",
   "name": "python3"
  },
  "language_info": {
   "codemirror_mode": {
    "name": "ipython",
    "version": 3
   },
   "file_extension": ".py",
   "mimetype": "text/x-python",
   "name": "python",
   "nbconvert_exporter": "python",
   "pygments_lexer": "ipython3",
   "version": "3.9.12"
  }
 },
 "nbformat": 4,
 "nbformat_minor": 5
}
