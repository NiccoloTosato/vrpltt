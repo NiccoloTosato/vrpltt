{
 "cells": [
  {
   "cell_type": "code",
   "execution_count": 59,
   "id": "d947f586-f3ea-495d-85ec-fba59c65ebd8",
   "metadata": {},
   "outputs": [],
   "source": [
    "import numpy as np"
   ]
  },
  {
   "cell_type": "code",
   "execution_count": 60,
   "id": "d14b0dd9-9555-437e-b803-246f96314fa5",
   "metadata": {},
   "outputs": [],
   "source": [
    "# examples of velocity caclualtions\n",
    "def vel(m, h, P , P_electric = 250):\n",
    "    ### aer. resistence\n",
    "    Cd = 1.18\n",
    "    A = 0.83 #m^2\n",
    "    rho = 1.18 #kg/m^3\n",
    "\n",
    "    c_Fd = rho*Cd*A*0.5\n",
    "\n",
    "    ### rolling resistance\n",
    "    Cr = 0.01\n",
    "    g = 9.81 #m/s^2\n",
    "    \n",
    "    eta = 0.95\n",
    "        \n",
    "    c0 = P*eta\n",
    "    c1 = (m*g* ( Cr*np.cos( np.arctan(h) ) + np.sin( np.arctan(h) ) ))\n",
    "    c3 = c_Fd\n",
    "    \n",
    "    v_max = 30 #km/h\n",
    "\n",
    "    coefs = [c3, 0, c1, -eta*P]\n",
    "    coefs_electric = [c3, 0, c1, -eta*(P+P_electric)]        \n",
    "    v = np.max(np.real(3.6*np.roots(coefs)))\n",
    "    v_electric = np.max(np.real(3.6*np.roots(coefs_electric)))\n",
    "    if v > 25:\n",
    "        #print('up-cyclist only')\n",
    "        return min(v, v_max)\n",
    "    else:\n",
    "        #print('up-electric')\n",
    "        return min(v_electric, 25)"
   ]
  },
  {
   "cell_type": "code",
   "execution_count": 61,
   "id": "c233600c-52e6-485e-9c8f-db947d4fd297",
   "metadata": {},
   "outputs": [
    {
     "data": {
      "text/plain": [
       "14.68650680718316"
      ]
     },
     "execution_count": 61,
     "metadata": {},
     "output_type": "execute_result"
    }
   ],
   "source": [
    "v1 = vel(150, 30/700, 125)\n",
    "v1"
   ]
  },
  {
   "cell_type": "code",
   "execution_count": 62,
   "id": "75089d8d-1947-4327-a11e-96d19087a40a",
   "metadata": {},
   "outputs": [],
   "source": [
    "def test_vel(p_i, p_j, p_int, m, P_human):\n",
    "    \n",
    "    Dx_ij = abs(p_j[0] - p_i[0])\n",
    "    Dx_i_int = abs(p_int[0] - p_i[0])\n",
    "    Dx_int_j = abs(p_j[0] - p_int[0])\n",
    "    print(Dx_ij, Dx_i_int, Dx_int_j)\n",
    "    \n",
    "    Dy_ij = p_j[1] - p_i[1]\n",
    "    Dy_i_int = p_int[1] - p_i[1]\n",
    "    Dy_int_j = p_j[1] - p_int[1]\n",
    "    \n",
    "    grad_i_j = Dy_ij/Dx_ij\n",
    "    grad_i_int = Dy_i_int/Dx_i_int\n",
    "    grad_int_j = Dy_int_j/Dx_int_j\n",
    "\n",
    "    v_i_j = vel(m, grad_i_j, P_h)\n",
    "    v_i_int = vel(m, grad_i_int, P_h)\n",
    "    v_int_j = vel(m, grad_int_j, P_h)\n",
    "    \n",
    "    v_j_i = vel(m, -grad_i_j, P_h)\n",
    "    v_j_int = vel(m, -grad_int_j, P_h)\n",
    "    v_int_i = vel(m, -grad_i_int, P_h)\n",
    "    \n",
    "    t_ij = Dx_ij/v_i_j\n",
    "    t_ij_int = Dx_i_int/v_i_int + Dx_int_j/v_int_j\n",
    "    \n",
    "    t_ji = Dx_ij/v_j_i\n",
    "    t_ji_int = Dx_int_j/v_j_int + Dx_i_int/v_int_i\n",
    "    \n",
    "    return [v_i_j, v_i_int, v_int_j], [t_ij, t_ij_int], [v_j_i, v_j_int, v_int_i], [t_ji, t_ji_int]"
   ]
  },
  {
   "cell_type": "code",
   "execution_count": 93,
   "id": "bda62994-569c-4fb8-9eec-aeffd9791f4b",
   "metadata": {},
   "outputs": [
    {
     "name": "stdout",
     "output_type": "stream",
     "text": [
      "750 600 150\n"
     ]
    }
   ],
   "source": [
    "p_i = (0, 0)\n",
    "p_j = (750, 30)\n",
    "p_int = (600, 5)\n",
    "\n",
    "m = 100 # kg\n",
    "P_h = 150 # W\n",
    "\n",
    "\n",
    "v1, t1, v2, t2 = test_vel(p_i, p_j, p_int, m, P_h)"
   ]
  },
  {
   "cell_type": "code",
   "execution_count": 94,
   "id": "1b579865-663e-45ba-9317-8e6c22bd88c0",
   "metadata": {},
   "outputs": [
    {
     "data": {
      "text/plain": [
       "array([20.3 , 25.  ,  7.87])"
      ]
     },
     "execution_count": 94,
     "metadata": {},
     "output_type": "execute_result"
    }
   ],
   "source": [
    "np.round(v1, 2)"
   ]
  },
  {
   "cell_type": "code",
   "execution_count": 95,
   "id": "548de053-666a-433a-a359-58b16c587fa4",
   "metadata": {},
   "outputs": [
    {
     "data": {
      "text/plain": [
       "array([36.94, 43.05])"
      ]
     },
     "execution_count": 95,
     "metadata": {},
     "output_type": "execute_result"
    }
   ],
   "source": [
    "np.round(t1, 2)"
   ]
  },
  {
   "cell_type": "code",
   "execution_count": 96,
   "id": "dccaa417-2f1a-4b40-a0a9-11dbe7cbf2c5",
   "metadata": {},
   "outputs": [
    {
     "data": {
      "text/plain": [
       "array([30, 30, 25])"
      ]
     },
     "execution_count": 96,
     "metadata": {},
     "output_type": "execute_result"
    }
   ],
   "source": [
    "np.round(v2, 2)"
   ]
  },
  {
   "cell_type": "code",
   "execution_count": 97,
   "id": "1110da25-d761-485a-902d-191c1343683b",
   "metadata": {},
   "outputs": [
    {
     "data": {
      "text/plain": [
       "array([25., 29.])"
      ]
     },
     "execution_count": 97,
     "metadata": {},
     "output_type": "execute_result"
    }
   ],
   "source": [
    "np.round(t2, 2)"
   ]
  },
  {
   "cell_type": "code",
   "execution_count": 68,
   "id": "a7595632-3281-4a38-ae06-87b0f8c8b112",
   "metadata": {},
   "outputs": [
    {
     "name": "stdout",
     "output_type": "stream",
     "text": [
      "750 300 450\n"
     ]
    }
   ],
   "source": [
    "p_i = (0, 0)\n",
    "p_j = (750, 10)\n",
    "p_int = (300, 30)\n",
    "\n",
    "m = 100 # kg\n",
    "P_h = 150 # W\n",
    "\n",
    "v1, t1, v2, t2 = test_vel(p_i, p_j, p_int, m, P_h)"
   ]
  },
  {
   "cell_type": "code",
   "execution_count": 69,
   "id": "4eaaaf33-85be-4b53-aa53-58dcc53ebd6f",
   "metadata": {},
   "outputs": [
    {
     "data": {
      "text/plain": [
       "[25, 12.019423406425854, 30]"
      ]
     },
     "execution_count": 69,
     "metadata": {},
     "output_type": "execute_result"
    }
   ],
   "source": [
    "v1"
   ]
  },
  {
   "cell_type": "code",
   "execution_count": 70,
   "id": "dcbaf235-7067-4f5c-ae7f-3d44698bda32",
   "metadata": {},
   "outputs": [
    {
     "data": {
      "text/plain": [
       "[30.0, 39.95959996214238]"
      ]
     },
     "execution_count": 70,
     "metadata": {},
     "output_type": "execute_result"
    }
   ],
   "source": [
    "t1"
   ]
  },
  {
   "cell_type": "code",
   "execution_count": 71,
   "id": "bea468c4-06c5-4815-b47d-23d1078dfd0c",
   "metadata": {},
   "outputs": [
    {
     "data": {
      "text/plain": [
       "[25, 19.470482409310197, 30]"
      ]
     },
     "execution_count": 71,
     "metadata": {},
     "output_type": "execute_result"
    }
   ],
   "source": [
    "v2"
   ]
  },
  {
   "cell_type": "code",
   "execution_count": 72,
   "id": "ecf95196-e5dc-4557-9c4a-23cfe7d37890",
   "metadata": {},
   "outputs": [
    {
     "data": {
      "text/plain": [
       "[30.0, 33.11190809452279]"
      ]
     },
     "execution_count": 72,
     "metadata": {},
     "output_type": "execute_result"
    }
   ],
   "source": [
    "t2"
   ]
  },
  {
   "cell_type": "code",
   "execution_count": 83,
   "id": "2f7b57e5-6e9d-4a68-9026-5f3bfde1af7f",
   "metadata": {},
   "outputs": [
    {
     "name": "stdout",
     "output_type": "stream",
     "text": [
      "800 400 400\n"
     ]
    }
   ],
   "source": [
    "p_i = (0, 0)\n",
    "p_j = (800, 0)\n",
    "p_int = (400, 30)\n",
    "\n",
    "m = 100 # kg\n",
    "P_h = 150 # W\n",
    "\n",
    "v1, t1, v2, t2 = test_vel(p_i, p_j, p_int, m, P_h)"
   ]
  },
  {
   "cell_type": "code",
   "execution_count": 84,
   "id": "2fed6d54-d1f5-4c78-937b-d22f96124f98",
   "metadata": {},
   "outputs": [
    {
     "data": {
      "text/plain": [
       "[25, 14.736050400156037, 30]"
      ]
     },
     "execution_count": 84,
     "metadata": {},
     "output_type": "execute_result"
    }
   ],
   "source": [
    "v1"
   ]
  },
  {
   "cell_type": "code",
   "execution_count": 85,
   "id": "8bc6f2c4-3cf4-463e-8187-3e73df4a6a7b",
   "metadata": {},
   "outputs": [
    {
     "data": {
      "text/plain": [
       "[32.0, 40.477648746082224]"
      ]
     },
     "execution_count": 85,
     "metadata": {},
     "output_type": "execute_result"
    }
   ],
   "source": [
    "t1"
   ]
  },
  {
   "cell_type": "code",
   "execution_count": 86,
   "id": "fd489179-8dd5-490c-b01e-1e5ccd9dede3",
   "metadata": {},
   "outputs": [
    {
     "data": {
      "text/plain": [
       "[25, 14.736050400156037, 30]"
      ]
     },
     "execution_count": 86,
     "metadata": {},
     "output_type": "execute_result"
    }
   ],
   "source": [
    "v2"
   ]
  },
  {
   "cell_type": "code",
   "execution_count": 87,
   "id": "6acc9671-df70-42de-b4b0-5a82eee9b3bd",
   "metadata": {},
   "outputs": [
    {
     "data": {
      "text/plain": [
       "[32.0, 40.477648746082224]"
      ]
     },
     "execution_count": 87,
     "metadata": {},
     "output_type": "execute_result"
    }
   ],
   "source": [
    "t2"
   ]
  },
  {
   "cell_type": "code",
   "execution_count": null,
   "id": "8026a447-4f84-4ff6-a730-f0a627032cc7",
   "metadata": {},
   "outputs": [],
   "source": []
  },
  {
   "cell_type": "code",
   "execution_count": null,
   "id": "1bf45ba6-9a34-411b-95d3-7bf3391391ce",
   "metadata": {},
   "outputs": [],
   "source": []
  },
  {
   "cell_type": "code",
   "execution_count": null,
   "id": "f35a7daf-3525-4b51-a705-e0581252ba8f",
   "metadata": {},
   "outputs": [],
   "source": []
  }
 ],
 "metadata": {
  "kernelspec": {
   "display_name": "Python 3 (ipykernel)",
   "language": "python",
   "name": "python3"
  },
  "language_info": {
   "codemirror_mode": {
    "name": "ipython",
    "version": 3
   },
   "file_extension": ".py",
   "mimetype": "text/x-python",
   "name": "python",
   "nbconvert_exporter": "python",
   "pygments_lexer": "ipython3",
   "version": "3.9.12"
  }
 },
 "nbformat": 4,
 "nbformat_minor": 5
}
