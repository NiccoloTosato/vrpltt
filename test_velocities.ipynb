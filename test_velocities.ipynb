{
 "cells": [
  {
   "cell_type": "code",
   "execution_count": 10,
   "id": "d947f586-f3ea-495d-85ec-fba59c65ebd8",
   "metadata": {},
   "outputs": [],
   "source": [
    "import numpy as np"
   ]
  },
  {
   "cell_type": "markdown",
   "id": "eb29df5f-9dd1-4e34-be03-ca33fae550df",
   "metadata": {},
   "source": [
    "## Effect of intermediate point on velocity\n",
    "![.](./img/intermediate.png)\n",
    "\n",
    "Numerical expleriment to asses difference on travel time and speed with or without intermediate points.\n"
   ]
  },
  {
   "cell_type": "code",
   "execution_count": 32,
   "id": "d14b0dd9-9555-437e-b803-246f96314fa5",
   "metadata": {},
   "outputs": [],
   "source": [
    "# examples of velocity caclualtions\n",
    "def vel(m, h, P , P_electric = 250):\n",
    "    ### aer. resistence\n",
    "    Cd = 1.18\n",
    "    A = 0.83 #m^2\n",
    "    rho = 1.18 #kg/m^3\n",
    "\n",
    "    c_Fd = rho*Cd*A*0.5\n",
    "\n",
    "    ### rolling resistance\n",
    "    Cr = 0.01\n",
    "    g = 9.81 #m/s^2\n",
    "    \n",
    "    eta = 0.95\n",
    "        \n",
    "    c0 = P*eta\n",
    "    c1 = (m*g* ( Cr*np.cos( np.arctan(h) ) + np.sin( np.arctan(h) ) ))\n",
    "    c3 = c_Fd\n",
    "    \n",
    "    v_max = 30 #km/h\n",
    "\n",
    "    coefs = [c3, 0, c1, -eta*P]\n",
    "    coefs_electric = [c3, 0, c1, -eta*(P+P_electric)]        \n",
    "    v = np.max(np.real(3.6*np.roots(coefs)))\n",
    "    v_electric = np.max(np.real(3.6*np.roots(coefs_electric)))\n",
    "    if v > 25:\n",
    "        #print('up-cyclist only')\n",
    "        return min(v, v_max)\n",
    "    else:\n",
    "        #print('up-electric')\n",
    "        return min(v_electric, 25)"
   ]
  },
  {
   "cell_type": "code",
   "execution_count": 33,
   "id": "75089d8d-1947-4327-a11e-96d19087a40a",
   "metadata": {},
   "outputs": [],
   "source": [
    "def test_vel(p_i, p_j, p_int, m, P_human):\n",
    "    \n",
    "    Dx_ij = abs(p_j[0] - p_i[0])\n",
    "    Dx_i_int = abs(p_int[0] - p_i[0])\n",
    "    Dx_int_j = abs(p_j[0] - p_int[0])\n",
    "    \n",
    "    Dy_ij = p_j[1] - p_i[1]\n",
    "    Dy_i_int = p_int[1] - p_i[1]\n",
    "    Dy_int_j = p_j[1] - p_int[1]\n",
    "    \n",
    "    grad_i_j = Dy_ij/Dx_ij\n",
    "    grad_i_int = Dy_i_int/Dx_i_int\n",
    "    grad_int_j = Dy_int_j/Dx_int_j\n",
    "\n",
    "    v_i_j = vel(m, grad_i_j, P_h)\n",
    "    v_i_int = vel(m, grad_i_int, P_h)\n",
    "    v_int_j = vel(m, grad_int_j, P_h)\n",
    "    \n",
    "    v_j_i = vel(m, -grad_i_j, P_h)\n",
    "    v_j_int = vel(m, -grad_int_j, P_h)\n",
    "    v_int_i = vel(m, -grad_i_int, P_h)\n",
    "    \n",
    "    t_ij = Dx_ij/v_i_j\n",
    "    t_ij_int = Dx_i_int/v_i_int + Dx_int_j/v_int_j\n",
    "    \n",
    "    t_ji = Dx_ij/v_j_i\n",
    "    t_ji_int = Dx_int_j/v_j_int + Dx_i_int/v_int_i\n",
    "    \n",
    "    return [v_i_j, v_i_int, v_int_j], [t_ij, t_ij_int], [v_j_i, v_j_int, v_int_i], [t_ji, t_ji_int]"
   ]
  },
  {
   "cell_type": "markdown",
   "id": "caf0ed42-3012-4975-b0d8-16368e27eefa",
   "metadata": {},
   "source": [
    "## Practical example\n",
    "![.](./img/slope.png)\n"
   ]
  },
  {
   "cell_type": "code",
   "execution_count": 36,
   "id": "bda62994-569c-4fb8-9eec-aeffd9791f4b",
   "metadata": {},
   "outputs": [
    {
     "name": "stdout",
     "output_type": "stream",
     "text": [
      "v_ij=25 km/h\n",
      "v_i_int=12 km/h\n",
      "v_int_j=30 km/h\n"
     ]
    }
   ],
   "source": [
    "p_i = (0, 0)\n",
    "p_j = (750, 10)\n",
    "p_int = (300, 30)\n",
    "\n",
    "m = 100 # kg\n",
    "P_h = 150 # W\n",
    "\n",
    "\n",
    "v_ij, t1, v_ji, t2 = test_vel(p_i, p_j, p_int, m, P_h)\n",
    "\n",
    "print(f\"v_ij={v_ij[0]} km/h\")\n",
    "print(f\"v_i_int={round(v_ij[1])} km/h\")\n",
    "print(f\"v_int_j={v_ij[2]} km/h\")"
   ]
  },
  {
   "cell_type": "code",
   "execution_count": null,
   "id": "3ca8d346-b8da-4035-a3fe-9bf365f0f995",
   "metadata": {},
   "outputs": [],
   "source": []
  }
 ],
 "metadata": {
  "kernelspec": {
   "display_name": "Python 3 (ipykernel)",
   "language": "python",
   "name": "python3"
  },
  "language_info": {
   "codemirror_mode": {
    "name": "ipython",
    "version": 3
   },
   "file_extension": ".py",
   "mimetype": "text/x-python",
   "name": "python",
   "nbconvert_exporter": "python",
   "pygments_lexer": "ipython3",
   "version": "3.9.12"
  }
 },
 "nbformat": 4,
 "nbformat_minor": 5
}
