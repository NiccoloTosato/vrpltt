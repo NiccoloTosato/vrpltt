{
 "cells": [
  {
   "cell_type": "code",
   "execution_count": 1,
   "id": "404deb73",
   "metadata": {},
   "outputs": [],
   "source": [
    "import gurobipy as gp\n",
    "from gurobipy import GRB\n",
    "import numpy as np\n",
    "import pandas as pd\n",
    "from pprint import pprint\n"
   ]
  },
  {
   "cell_type": "code",
   "execution_count": 2,
   "id": "603c37fc-7822-4a57-868a-b97de111a737",
   "metadata": {},
   "outputs": [],
   "source": [
    "def get_nodes(dataframe):\n",
    "    return np.count_nonzero(dataframe[\"demand\"].to_numpy() >= 0 ) \n"
   ]
  },
  {
   "cell_type": "code",
   "execution_count": 93,
   "id": "16ceb90e",
   "metadata": {},
   "outputs": [],
   "source": [
    "def vel(m, h, P , P_electric = 250):\n",
    "    ### aer. resistence\n",
    "    Cd = 1.18\n",
    "    A = 0.83 #m^2\n",
    "    rho = 1.18 #kg/m^3\n",
    "\n",
    "    c_Fd = rho*Cd*A*0.5\n",
    "\n",
    "    ### rolling resistance\n",
    "    Cr = 0.01\n",
    "    g = 9.81 #m/s^2\n",
    "    \n",
    "    eta = 0.95\n",
    "        \n",
    "    c0 = P*eta\n",
    "    c1 = (m*g* ( Cr*np.cos( np.arctan(h) ) + np.sin( np.arctan(h) ) ))\n",
    "    c3 = c_Fd\n",
    "    \n",
    "    v_max = 30 #km/h\n",
    "\n",
    "    coefs = [c3, 0, c1, -eta*P]\n",
    "    coefs_electric = [c3, 0, c1, -eta*(P+P_electric)]        \n",
    "    v = np.max(np.real(3.6*np.roots(coefs)))\n",
    "    v_electric = np.max(np.real(3.6*np.roots(coefs_electric)))\n",
    "    if v > 25:\n",
    "        #print('up-cyclist only')\n",
    "        return min(v, v_max)\n",
    "    else:\n",
    "        #print('up-electric')\n",
    "        return min(v_electric, 25)\n",
    "\n",
    "\n",
    "def time_matrix(data_matrix, load_levels,P,vehicle_weight=140):\n",
    "    \"\"\"\n",
    "    Given a dataframe from csv instance, a set of load level and a specific power (human power),\n",
    "    calculate the time travel for each edge of the graph. \n",
    "    \"\"\"\n",
    "    N = len(data_matrix.index)\n",
    "    n_levels=len(load_levels)\n",
    "    elevation = data_matrix.elevation.to_numpy()\n",
    "    d_ij_mat = data_matrix.iloc[:, 8:].to_numpy() #extract from the dataframe only the distances, from column 8 untill the end \n",
    "    t_ij_mat = np.zeros((N, N, n_levels)) # size of t_ij: [N X N X n_levels], is a 3D array \n",
    "    for i in range(N):\n",
    "        for j in range(N):\n",
    "            d_ij = d_ij_mat[i, j]\n",
    "            if i!=j and d_ij != 0:\n",
    "                h = (elevation[j] - elevation[i])/d_ij #calculate the slope of the path\n",
    "                for l in range(n_levels): #for each load_level \n",
    "                    m = load_levels[l] + vehicle_weight\n",
    "                    t_ij_mat[i, j, l] =60*d_ij/vel(m, h, P, P_electric=250) #time travel in minutes \n",
    "    return np.round(t_ij_mat,4)"
   ]
  },
  {
   "cell_type": "markdown",
   "id": "d49c4328-7006-47b7-b406-93b6f5d21f7d",
   "metadata": {},
   "source": [
    "The forces acting on the bicyle are: the aerodynamic drag resistance $F_{D}$, the rolling resistance $F_{R}$ and the component of the gravity force along the direction of motion $F_{G}$:\n",
    "\n",
    "* $ F_{D} = \\frac{\\rho C_{D}Av^{2}}{2}$\n",
    "* $ F_{R} = C_{R}mg cos(arctan(h))$\n",
    "* $ F_{G} = mg sin(arctan(h))$\n",
    "\n",
    "We have to distinguish two cases: uphill and downhill.\n",
    "In uphill, the component of the gravity force along the direction of motion is a resistance force, while in downhill it helps the motion of the bicyle.\n",
    "so we have, at equilibrium:\n",
    "\n",
    "* $\\mathrm{ \\eta P_{traction} = (F_{D} + (F_{R} + F_{G})v }$\n",
    "\n",
    "where $\\eta$ is the efficiency of the mechanic transmission, which is assumed to be 0.95.\n",
    "\n",
    "If we use a negative h in the formuals above when traversing an edge with negative slope, since $cos(\\alpha) = cos(-\\alpha)$ and $sin(\\alpha) = -sin(-\\alpha)$, we have just one expression for the equation to solve.\n",
    "\n",
    "Moreover, we assume that the bicyle speed is limited in downhill for safety reasons. Within cities, a typical speed limit for for motor vehicles is 50km/h. Considering also that the regulation for pedelec bicyle allows a maximum speed of 25km/h in electric assisted mode, we set a maximum speed in downhill of 30km/h.\n",
    "The delta energy can be used for recharging the battery for example, similarly to other solutions in the automaotive industry.\n",
    "The maximum speed limit is imposed on uphill as well.\n",
    "The strategy for solving the equation is:\n",
    "* solve the equation for the two cases: (1) $P=P_{cyclist}$, and (2) $P=P_{cyclist}+P_{electric}$ \n",
    "* If the cyclist can reach a speed that is higher than the speed allowed in electric mode, use that speed, subject to the limit of maximum speed allowed,\n",
    "* otherwise use the minimum value among 25 km/h and the solution of problem (2)\n",
    "\n",
    "In practice we have $P_{electric}$ = 250W, while for $\\overline {P_{cyclist}}$ we assume to have few different types of cyclist."
   ]
  },
  {
   "cell_type": "code",
   "execution_count": 102,
   "id": "cdc2990d-5810-420c-ade4-5b06ee5c3b6a",
   "metadata": {},
   "outputs": [],
   "source": [
    "def extract_min(Q,distance):\n",
    "    minimo=float(\"inf\") #highest python value\n",
    "    nome=\"\"\n",
    "    for q in Q: #find the smallest\n",
    "        if distance[q] <= minimo:\n",
    "            nome=q\n",
    "            minimo=distance[q]\n",
    "    Q.remove(nome) #remove the correct node from the que\n",
    "    return nome # tell me wich node is removed\n",
    "\n",
    "def dijkstra(source,weight_matrix,l=0):\n",
    "    distance=dict() #dict for distance from source\n",
    "    parent=dict() #dict for parentnes of each node\n",
    "    nodes=np.array([i for i in range(len(weight_matrix))]) #list of current node to iterate\n",
    "    for node in nodes:\n",
    "        distance[node]=float(\"inf\") \n",
    "        parent[node]=None\n",
    "    distance[source]=0\n",
    "    S=[]\n",
    "    Q={node for node in nodes} #set used ad que, coupled with distance dict\n",
    "    while len(Q)>0:\n",
    "        u=extract_min(Q,distance) #extract the min from Q,using distance dict\n",
    "        S.append(u) #ultimated nodes\n",
    "        for v,w in enumerate(weight_matrix[u]): #for each node v, outgoing from u, with weight w\n",
    "            if distance[v] > distance[u] + w[l] and w[l] != 0: #relax phase\n",
    "                distance[v]= distance[u] + w[l]\n",
    "                parent[v]=u\n",
    "\n",
    "    return distance,parent #return distances from source and each node parent !\n"
   ]
  },
  {
   "cell_type": "code",
   "execution_count": 103,
   "id": "3f2bd1b3-57da-48f7-865d-5430f58bc082",
   "metadata": {},
   "outputs": [],
   "source": [
    "def shortest_path_matrix(t_ij_mat,N):\n",
    "    \"\"\"\n",
    "    Given the time travel matrix, calculate the shortest path between al possible pairs of customers.\n",
    "    N is the number of customers, not the number of nodes, both for extendend and base case. \n",
    "    \"\"\"\n",
    "    \n",
    "    load_levels=np.shape(t_ij_L)[-1]\n",
    "    \n",
    "    sp_matrix=np.empty((N,N,load_levels))\n",
    "    \n",
    "    nodes=np.array([i for i in range(N)])\n",
    "    levels=np.array([i for i in range(t_ij_mat.shape[-1])])\n",
    "    for source in nodes:\n",
    "        for l in levels:\n",
    "            distance, _t = dijkstra(source,t_ij_mat,l)\n",
    "            sp_matrix[source,:,l]=list(distance.values())[:N]\n",
    "    return sp_matrix"
   ]
  },
  {
   "cell_type": "code",
   "execution_count": 141,
   "id": "6f9e79ca-0c35-4ac6-a120-88bbe43736e3",
   "metadata": {},
   "outputs": [],
   "source": [
    "df=pd.read_csv(\"./generated_grid_1_extended.csv\")\n",
    "extended = 1\n",
    "N=get_nodes(df)\n",
    "N0=N-1 # customers\n",
    "if extended != 1:\n",
    "    df=df.iloc[:N,:8+N]"
   ]
  },
  {
   "cell_type": "code",
   "execution_count": 142,
   "id": "e74c4629",
   "metadata": {},
   "outputs": [],
   "source": [
    "Q_min = 0 #minum cargo load level\n",
    "Q_max = 160 #maximum cargo load level\n",
    "n_levels = 5 #number of load intervals\n",
    "\n",
    "load_levels = np.array([(0.5+i)*(Q_max-Q_min)/n_levels for i in range(n_levels)])\n",
    "upper = load_levels+(Q_max-Q_min)/(n_levels*2)\n",
    "lower = load_levels-(Q_max-Q_min)/(n_levels*2)"
   ]
  },
  {
   "cell_type": "markdown",
   "id": "d23fc14a-0ce1-4da1-9ff0-cb6349cd06ce",
   "metadata": {},
   "source": [
    "### Problem setup"
   ]
  },
  {
   "cell_type": "code",
   "execution_count": 143,
   "id": "3e24ca71-21a3-41dd-bf06-cc9aee167f44",
   "metadata": {},
   "outputs": [
    {
     "name": "stdout",
     "output_type": "stream",
     "text": [
      "\t0.0 \t1.8 \t8.9 \t1.4 \t0.8 \t1.4 \t0.5 \t2.0 \t3.3 \t6.9 \t8.6 \t2.9 \t7.8 \n",
      "\t14.3 \t0.0 \t14.6 \t7.1 \t1.0 \t8.3 \t7.9 \t8.9 \t8.9 \t14.3 \t14.3 \t8.5 \t13.4 \n",
      "\t1.6 \t1.0 \t0.0 \t1.0 \t0.8 \t2.2 \t1.1 \t0.8 \t1.7 \t1.6 \t2.6 \t2.0 \t7.4 \n",
      "\t7.2 \t0.4 \t7.5 \t0.0 \t0.6 \t1.2 \t0.9 \t1.8 \t1.8 \t7.2 \t7.2 \t1.4 \t6.3 \n",
      "\t14.2 \t9.1 \t21.4 \t13.9 \t0.0 \t14.0 \t7.9 \t9.7 \t15.7 \t14.2 \t21.1 \t15.3 \t20.2 \n",
      "\t7.5 \t1.2 \t15.8 \t8.3 \t1.4 \t0.0 \t1.2 \t3.0 \t10.1 \t7.5 \t15.5 \t9.8 \t14.6 \n",
      "\t6.4 \t1.2 \t15.3 \t7.8 \t0.2 \t6.1 \t0.0 \t1.8 \t9.6 \t6.4 \t15.0 \t9.2 \t14.1 \n",
      "\t15.8 \t1.7 \t16.3 \t8.8 \t1.6 \t10.0 \t9.5 \t0.0 \t10.6 \t15.8 \t16.0 \t10.2 \t15.1 \n",
      "\t8.8 \t1.5 \t14.7 \t7.2 \t2.5 \t1.9 \t2.7 \t2.4 \t0.0 \t8.8 \t6.2 \t0.4 \t13.5 \n",
      "\t6.9 \t1.8 \t8.9 \t1.4 \t0.8 \t1.4 \t0.5 \t2.0 \t3.3 \t0.0 \t8.6 \t2.9 \t7.8 \n",
      "\t2.6 \t1.7 \t9.1 \t1.6 \t1.8 \t1.2 \t2.1 \t3.4 \t1.0 \t2.6 \t0.0 \t0.6 \t7.9 \n",
      "\t8.4 \t1.1 \t14.4 \t7.4 \t2.1 \t1.5 \t2.3 \t2.8 \t6.7 \t8.4 \t5.8 \t0.0 \t13.7 \n",
      "\t2.8 \t1.0 \t1.2 \t1.3 \t2.0 \t2.2 \t2.2 \t0.8 \t1.7 \t2.8 \t2.6 \t2.0 \t0.0 \n"
     ]
    }
   ],
   "source": [
    "s=df.s.to_numpy() #service time \n",
    "s[0]=0 #set depot service time to 0\n",
    "a=df[\"tw a\"].to_numpy()\n",
    "a[0] = 0 #set depot arrival time to 0\n",
    "b=df[\"tw b\"].to_numpy()\n",
    "b[0]=np.sum(b[1:]) #set depot max arrival time such that it is the highest among all customers\n",
    "\n",
    "t_ij_L=time_matrix(df,load_levels,P=500,vehicle_weight=140)\n",
    "\n",
    "N=get_nodes(df)\n",
    "\n",
    "\n",
    "t_ij=shortest_path_matrix(t_ij_L,N)\n",
    "for i in range(N):\n",
    "    for j in range(N):\n",
    "        print(f\"\\t{round(t_ij[i,j,-1],1)}\",end=\" \")\n",
    "    print(\"\")\n",
    "\n",
    "demand=df.demand.to_numpy()/1\n",
    "demand[0]=0 #set depot demand to 0 \n",
    "\n",
    "Q=upper[-1] #set maximum possible cargo weight equal to the upper bound of load levels\n",
    "\n",
    "M_ij=np.empty((N,N)) \n",
    "for i in range(N):\n",
    "    for j in range(N):\n",
    "        M_ij[i,j]=max([0,b[i]+s[i]+t_ij[i,j,0]-a[j]])\n",
    "\n"
   ]
  },
  {
   "cell_type": "code",
   "execution_count": 144,
   "id": "1525ae86",
   "metadata": {},
   "outputs": [],
   "source": [
    "model = gp.Model(\"VRPLTT\")"
   ]
  },
  {
   "cell_type": "code",
   "execution_count": 145,
   "id": "40069eaf-b6b5-4473-9f4e-19b839c757fc",
   "metadata": {},
   "outputs": [],
   "source": [
    "x_ij=model.addVars( [(i,j) for i in range(N) for j in range(N)],vtype=GRB.BINARY,name=\"x_ij\") #c16\n",
    "z_ij=model.addMVar( (N,N,n_levels),vtype=GRB.BINARY,name=\"z_ij\") #c18\n",
    "y_i=model.addVars([i for i in range(N)],vtype=GRB.CONTINUOUS,lb=0,name=\"y_i\") #\n",
    "f_ij=model.addVars( [(i,j) for i in range(N) for j in range(N)],vtype=GRB.CONTINUOUS,lb=0,name=\"f_ij\") #c17\n"
   ]
  },
  {
   "cell_type": "markdown",
   "id": "56f7628f-415c-4d6e-a53c-442eb4682808",
   "metadata": {},
   "source": [
    "$$\\sum_{j \\in N}x_{ij}=1 \\quad \\forall i \\in N_0$$\n",
    "$$\\sum_{i \\in N}x_{ij}=1 \\quad \\forall j \\in N_0$$"
   ]
  },
  {
   "cell_type": "code",
   "execution_count": 146,
   "id": "df2e4f9a-5310-4820-aa41-bf0218660ef9",
   "metadata": {},
   "outputs": [],
   "source": [
    "c8 = model.addConstrs( gp.quicksum( x_ij[i,j] for j in range(0,N) ) == 1\n",
    "                                         for i in range(1,N))\n",
    "c9 = model.addConstrs( gp.quicksum( x_ij[j,i] for j in range(0,N) ) == 1\n",
    "                                         for i in range(1,N))"
   ]
  },
  {
   "cell_type": "markdown",
   "id": "04019d81-49bd-41dc-88d6-55c61409752c",
   "metadata": {},
   "source": [
    "$$\\sum_{j \\in N}f_{ji}-\\sum_{j \\in N}f_{ij}=q_i \\quad \\forall i \\in N_0$$"
   ]
  },
  {
   "cell_type": "code",
   "execution_count": 147,
   "id": "3990c841-d457-4c7c-80f2-c209f57e638c",
   "metadata": {},
   "outputs": [],
   "source": [
    "c10 = model.addConstrs( gp.quicksum( f_ij[j,i]-f_ij[i,j] for j in range(0,N) ) == demand[i] for i in range(1,N) )"
   ]
  },
  {
   "cell_type": "markdown",
   "id": "4bf9d883-1704-4083-8c07-d0f7d0484d17",
   "metadata": {},
   "source": [
    "$$ q_j x_{ij} \\leq f_{ij} \\quad \\forall(i,j) \\in E $$\n",
    "$$ f_{ij} \\leq (Q-q_i)x_{ij}  \\quad \\forall(i,j) \\in E $$"
   ]
  },
  {
   "cell_type": "code",
   "execution_count": 148,
   "id": "f998aae2-7e32-49ee-8dcb-3725320ac935",
   "metadata": {},
   "outputs": [],
   "source": [
    "c11_l = model.addConstrs( demand[j]*x_ij[i,j] <= f_ij[i,j] for i in range(0,N) for j in range(0,N))\n",
    "c11_u = model.addConstrs( f_ij[i,j]<= (Q-demand[i])*x_ij[i,j] for i in range(0,N) for j in range(0,N))"
   ]
  },
  {
   "cell_type": "markdown",
   "id": "9e44b301-c834-4e0b-8d0d-7bac1e3ec7a6",
   "metadata": {},
   "source": [
    "$$ \\sum_{l \\in L} z_{ij}^l = x_{ij} \\quad \\forall (i,j) \\in E $$"
   ]
  },
  {
   "cell_type": "code",
   "execution_count": 149,
   "id": "bb3754da-128e-426c-861a-2dfc0503d352",
   "metadata": {},
   "outputs": [],
   "source": [
    "c12 = model.addConstrs( gp.quicksum( z_ij[i,j,l] for l in range(n_levels) ) == x_ij[i,j] for i in range(0,N) for j in range(0,N))"
   ]
  },
  {
   "cell_type": "markdown",
   "id": "b00dc064-8c5f-446e-83d7-c21cbe7e36c1",
   "metadata": {},
   "source": [
    "$$ \\sum_{l \\in L}p^lz^l_{ij} \\leq f_{ij}  \\quad \\forall (i,j) \\in E  $$\n",
    "$$ f_{ij} \\leq \\sum_{l \\in L} r^l z^l_{ij} \\quad \\forall (i,j) \\in E  $$"
   ]
  },
  {
   "cell_type": "code",
   "execution_count": 150,
   "id": "6303fa81-deb0-4b1d-9940-a8d4bf55d280",
   "metadata": {},
   "outputs": [],
   "source": [
    "c13_l = model.addConstrs( lower @ z_ij[i,j,:] <= f_ij[i,j] for i in range(N) for j in range(N))\n",
    "c13_u = model.addConstrs( upper @ z_ij[i,j,:] >= f_ij[i,j] for i in range(N) for j in range(N)) "
   ]
  },
  {
   "cell_type": "markdown",
   "id": "dea0477e-a86e-4c79-829f-1efac88d0078",
   "metadata": {},
   "source": [
    "$$y_i-y_j+s_i+\\sum_{l \\in L} t_{ij}^lz_{ij}^l \\leq M_{ij}(1-x_{ij}) \\quad \\forall i \\in N, j \\in N_0, i \\neq j $$"
   ]
  },
  {
   "cell_type": "code",
   "execution_count": 151,
   "id": "d93e0dfa-9c96-4d6f-9a55-1d95a2867813",
   "metadata": {},
   "outputs": [],
   "source": [
    "c14 = model.addConstrs( y_i[i] - y_i[j] + s[i] + t_ij[i,j,:] @ z_ij[i,j,:] <= M_ij[i,j]*(1-x_ij[i,j]) for i in range(0,N) for j in range(1,N) if i != j )"
   ]
  },
  {
   "cell_type": "markdown",
   "id": "35ff57e9-a206-46e4-8680-059f1e007c64",
   "metadata": {},
   "source": [
    "$$a_i \\leq y_i \\quad \\forall i \\in N_0$$\n",
    "$$y_i \\leq b_i \\quad \\forall i \\in N_0$$"
   ]
  },
  {
   "cell_type": "code",
   "execution_count": 152,
   "id": "a7515d1d-af2c-41cd-9b82-0f40f77f5c84",
   "metadata": {},
   "outputs": [],
   "source": [
    "c15_l = model.addConstrs( y_i[i] >= a[i] for i in range(1,N))\n",
    "c15_u = model.addConstrs( y_i[i] <= b[i] for i in range(1,N))"
   ]
  },
  {
   "cell_type": "code",
   "execution_count": 153,
   "id": "7454c7c4-4696-4aef-803d-a33fa253ed59",
   "metadata": {},
   "outputs": [],
   "source": [
    "# c_nostro = model.addConstr(gp.quicksum(f_ij[i,0] for i in range(1,N)) == 0)"
   ]
  },
  {
   "cell_type": "markdown",
   "id": "f218f433-c389-4590-b9d6-653f72350292",
   "metadata": {},
   "source": [
    "$$objective=min\\sum_{(i,j)\\in E}\\sum_{l\\in L}t^l_{ij}z^l_{ij}$$ "
   ]
  },
  {
   "cell_type": "code",
   "execution_count": 154,
   "id": "d50a76bd-161d-44f8-92d5-b0fb93f572b3",
   "metadata": {},
   "outputs": [],
   "source": [
    "obj = model.setObjective(gp.quicksum( t_ij[i,j,:] @ z_ij[i,j,:] for i in range(0,N) for j in range(0,N)) ,GRB.MINIMIZE)"
   ]
  },
  {
   "cell_type": "code",
   "execution_count": 155,
   "id": "cb05ce36-834d-45ed-a19b-9ddfb553cb8c",
   "metadata": {},
   "outputs": [
    {
     "name": "stdout",
     "output_type": "stream",
     "text": [
      "Gurobi Optimizer version 9.5.1 build v9.5.1rc2 (linux64)\n",
      "Thread count: 4 physical cores, 8 logical processors, using up to 8 threads\n",
      "Optimize a model with 1049 rows, 1196 columns and 5288 nonzeros\n",
      "Model fingerprint: 0x1ca35ce3\n",
      "Variable types: 182 continuous, 1014 integer (1014 binary)\n",
      "Coefficient statistics:\n",
      "  Matrix range     [2e-01, 1e+03]\n",
      "  Objective range  [2e-01, 2e+01]\n",
      "  Bounds range     [1e+00, 1e+00]\n",
      "  RHS range        [3e-03, 1e+03]\n",
      "Found heuristic solution: objective 101.0281000\n",
      "Presolve removed 421 rows and 426 columns\n",
      "Presolve time: 0.04s\n",
      "Presolved: 628 rows, 770 columns, 3842 nonzeros\n",
      "Variable types: 120 continuous, 650 integer (650 binary)\n",
      "Found heuristic solution: objective 100.3525000\n",
      "\n",
      "Root relaxation: objective 3.879602e+01, 415 iterations, 0.01 seconds (0.01 work units)\n",
      "\n",
      "    Nodes    |    Current Node    |     Objective Bounds      |     Work\n",
      " Expl Unexpl |  Obj  Depth IntInf | Incumbent    BestBd   Gap | It/Node Time\n",
      "\n",
      "     0     0   38.79602    0   45  100.35250   38.79602  61.3%     -    0s\n",
      "H    0     0                      56.5440000   38.79602  31.4%     -    0s\n",
      "H    0     0                      46.1745000   38.79602  16.0%     -    0s\n",
      "H    0     0                      41.2972000   38.79602  6.06%     -    0s\n",
      "     0     0   40.75270    0   65   41.29720   40.75270  1.32%     -    0s\n",
      "     0     0   40.75270    0   31   41.29720   40.75270  1.32%     -    0s\n",
      "     0     0   41.29720    0   27   41.29720   41.29720  0.00%     -    0s\n",
      "\n",
      "Cutting planes:\n",
      "  Learned: 1\n",
      "  Gomory: 5\n",
      "  Cover: 9\n",
      "  Implied bound: 8\n",
      "  Clique: 12\n",
      "  MIR: 17\n",
      "  StrongCG: 1\n",
      "  Flow cover: 15\n",
      "  Flow path: 1\n",
      "  GUB cover: 1\n",
      "  Network: 3\n",
      "  RLT: 1\n",
      "  PSD: 2\n",
      "\n",
      "Explored 1 nodes (863 simplex iterations) in 0.17 seconds (0.07 work units)\n",
      "Thread count was 8 (of 8 available processors)\n",
      "\n",
      "Solution count 5: 41.2972 46.1745 56.544 ... 101.028\n",
      "\n",
      "Optimal solution found (tolerance 1.00e-04)\n",
      "Best objective 4.129720000000e+01, best bound 4.129720000000e+01, gap 0.0000%\n"
     ]
    }
   ],
   "source": [
    "model.optimize()"
   ]
  },
  {
   "cell_type": "code",
   "execution_count": 156,
   "id": "6062320b-73ec-4a68-831f-75adff38f9ba",
   "metadata": {},
   "outputs": [],
   "source": [
    "def visualize_solution(z_ij,x_ij):\n",
    "    import graphviz as gv\n",
    "    G = gv.Digraph(comment='vrpltt',strict=True)\n",
    "    for i in range(N):\n",
    "        if i!=0:\n",
    "            G.node(str(i),label=f\"Client {i}\"+\"\\n\"+f\"{demand[i]} kg\") \n",
    "        else:\n",
    "            G.node(str(i),label=\"Depot\"+\"\\n\"+f\"{demand[i]} kg\") \n",
    "    for i in range(N):\n",
    "        for j in range(N):\n",
    "            if (x_ij[i,j].x>0 and i!=j):\n",
    "                llevel=0\n",
    "                for key,value in enumerate(z_ij[i,j,:].x):\n",
    "                    if value>=0.9:\n",
    "                        llevel=key\n",
    "                        break\n",
    "                G.edge(str(i),str(j),label=f\"{round(f_ij[i,j].x,1)} kg\"+f\" \\n{int(y_i[j].x)} min\") \n",
    "                if j==0:\n",
    "                    G.edge(str(i),str(j),label=f\"{round(f_ij[i,j].x,1)}\",color=\"red\")\n",
    "    display(G)\n",
    "    G.render(\"./graph\")"
   ]
  },
  {
   "cell_type": "code",
   "execution_count": 157,
   "id": "5513e31e-23c5-44f0-b569-738cfe1d5711",
   "metadata": {},
   "outputs": [
    {
     "data": {
      "image/svg+xml": [
       "<?xml version=\"1.0\" encoding=\"UTF-8\" standalone=\"no\"?>\n",
       "<!DOCTYPE svg PUBLIC \"-//W3C//DTD SVG 1.1//EN\"\n",
       " \"http://www.w3.org/Graphics/SVG/1.1/DTD/svg11.dtd\">\n",
       "<!-- Generated by graphviz version 2.50.0 (20211209.0339)\n",
       " -->\n",
       "<!-- Pages: 1 -->\n",
       "<svg width=\"533pt\" height=\"541pt\"\n",
       " viewBox=\"0.00 0.00 532.62 540.70\" xmlns=\"http://www.w3.org/2000/svg\" xmlns:xlink=\"http://www.w3.org/1999/xlink\">\n",
       "<g id=\"graph0\" class=\"graph\" transform=\"scale(1 1) rotate(0) translate(4 536.7)\">\n",
       "<polygon fill=\"white\" stroke=\"transparent\" points=\"-4,4 -4,-536.7 528.62,-536.7 528.62,4 -4,4\"/>\n",
       "<!-- 0 -->\n",
       "<g id=\"node1\" class=\"node\">\n",
       "<title>0</title>\n",
       "<ellipse fill=\"none\" stroke=\"black\" cx=\"287.62\" cy=\"-505.83\" rx=\"43.27\" ry=\"26.74\"/>\n",
       "<text text-anchor=\"middle\" x=\"287.62\" y=\"-509.63\" font-family=\"Times,serif\" font-size=\"14.00\">Depot</text>\n",
       "<text text-anchor=\"middle\" x=\"287.62\" y=\"-494.63\" font-family=\"Times,serif\" font-size=\"14.00\">0.0 kg</text>\n",
       "</g>\n",
       "<!-- 3 -->\n",
       "<g id=\"node4\" class=\"node\">\n",
       "<title>3</title>\n",
       "<ellipse fill=\"none\" stroke=\"black\" cx=\"238.62\" cy=\"-386.09\" rx=\"51.74\" ry=\"26.74\"/>\n",
       "<text text-anchor=\"middle\" x=\"238.62\" y=\"-389.89\" font-family=\"Times,serif\" font-size=\"14.00\">Client 3</text>\n",
       "<text text-anchor=\"middle\" x=\"238.62\" y=\"-374.89\" font-family=\"Times,serif\" font-size=\"14.00\">19.0 kg</text>\n",
       "</g>\n",
       "<!-- 0&#45;&gt;3 -->\n",
       "<g id=\"edge1\" class=\"edge\">\n",
       "<title>0&#45;&gt;3</title>\n",
       "<path fill=\"none\" stroke=\"black\" d=\"M263.71,-483.02C257.88,-476.49 252.28,-468.92 248.62,-460.96 243.26,-449.29 240.55,-435.57 239.25,-423.14\"/>\n",
       "<polygon fill=\"black\" stroke=\"black\" points=\"242.73,-422.77 238.45,-413.08 235.75,-423.33 242.73,-422.77\"/>\n",
       "<text text-anchor=\"middle\" x=\"277.62\" y=\"-449.76\" font-family=\"Times,serif\" font-size=\"14.00\">89.0 kg </text>\n",
       "<text text-anchor=\"middle\" x=\"277.62\" y=\"-434.76\" font-family=\"Times,serif\" font-size=\"14.00\">87 min</text>\n",
       "</g>\n",
       "<!-- 5 -->\n",
       "<g id=\"node6\" class=\"node\">\n",
       "<title>5</title>\n",
       "<ellipse fill=\"none\" stroke=\"black\" cx=\"57.62\" cy=\"-386.09\" rx=\"51.74\" ry=\"26.74\"/>\n",
       "<text text-anchor=\"middle\" x=\"57.62\" y=\"-389.89\" font-family=\"Times,serif\" font-size=\"14.00\">Client 5</text>\n",
       "<text text-anchor=\"middle\" x=\"57.62\" y=\"-374.89\" font-family=\"Times,serif\" font-size=\"14.00\">27.0 kg</text>\n",
       "</g>\n",
       "<!-- 0&#45;&gt;5 -->\n",
       "<g id=\"edge2\" class=\"edge\">\n",
       "<title>0&#45;&gt;5</title>\n",
       "<path fill=\"none\" stroke=\"black\" d=\"M244.44,-502.05C187.35,-497.44 91.22,-486.08 67.62,-460.96 58.32,-451.06 54.96,-436.87 54.24,-423.56\"/>\n",
       "<polygon fill=\"black\" stroke=\"black\" points=\"57.74,-423.15 54.16,-413.18 50.74,-423.2 57.74,-423.15\"/>\n",
       "<text text-anchor=\"middle\" x=\"96.62\" y=\"-449.76\" font-family=\"Times,serif\" font-size=\"14.00\">96.0 kg </text>\n",
       "<text text-anchor=\"middle\" x=\"96.62\" y=\"-434.76\" font-family=\"Times,serif\" font-size=\"14.00\">69 min</text>\n",
       "</g>\n",
       "<!-- 12 -->\n",
       "<g id=\"node13\" class=\"node\">\n",
       "<title>12</title>\n",
       "<ellipse fill=\"none\" stroke=\"black\" cx=\"408.62\" cy=\"-386.09\" rx=\"57.97\" ry=\"26.74\"/>\n",
       "<text text-anchor=\"middle\" x=\"408.62\" y=\"-389.89\" font-family=\"Times,serif\" font-size=\"14.00\">Client 12</text>\n",
       "<text text-anchor=\"middle\" x=\"408.62\" y=\"-374.89\" font-family=\"Times,serif\" font-size=\"14.00\">9.0 kg</text>\n",
       "</g>\n",
       "<!-- 0&#45;&gt;12 -->\n",
       "<g id=\"edge3\" class=\"edge\">\n",
       "<title>0&#45;&gt;12</title>\n",
       "<path fill=\"none\" stroke=\"black\" d=\"M311.19,-483.12C318.73,-476.1 327.07,-468.25 334.62,-460.96 349.05,-447.03 364.82,-431.35 378.08,-418.04\"/>\n",
       "<polygon fill=\"black\" stroke=\"black\" points=\"380.59,-420.47 385.16,-410.91 375.63,-415.54 380.59,-420.47\"/>\n",
       "<text text-anchor=\"middle\" x=\"392.62\" y=\"-449.76\" font-family=\"Times,serif\" font-size=\"14.00\">57.0 kg </text>\n",
       "<text text-anchor=\"middle\" x=\"392.62\" y=\"-434.76\" font-family=\"Times,serif\" font-size=\"14.00\">82 min</text>\n",
       "</g>\n",
       "<!-- 1 -->\n",
       "<g id=\"node2\" class=\"node\">\n",
       "<title>1</title>\n",
       "<ellipse fill=\"none\" stroke=\"black\" cx=\"51.62\" cy=\"-266.35\" rx=\"51.74\" ry=\"26.74\"/>\n",
       "<text text-anchor=\"middle\" x=\"51.62\" y=\"-270.15\" font-family=\"Times,serif\" font-size=\"14.00\">Client 1</text>\n",
       "<text text-anchor=\"middle\" x=\"51.62\" y=\"-255.15\" font-family=\"Times,serif\" font-size=\"14.00\">15.0 kg</text>\n",
       "</g>\n",
       "<!-- 7 -->\n",
       "<g id=\"node8\" class=\"node\">\n",
       "<title>7</title>\n",
       "<ellipse fill=\"none\" stroke=\"black\" cx=\"57.62\" cy=\"-146.61\" rx=\"51.74\" ry=\"26.74\"/>\n",
       "<text text-anchor=\"middle\" x=\"57.62\" y=\"-150.41\" font-family=\"Times,serif\" font-size=\"14.00\">Client 7</text>\n",
       "<text text-anchor=\"middle\" x=\"57.62\" y=\"-135.41\" font-family=\"Times,serif\" font-size=\"14.00\">26.0 kg</text>\n",
       "</g>\n",
       "<!-- 1&#45;&gt;7 -->\n",
       "<g id=\"edge4\" class=\"edge\">\n",
       "<title>1&#45;&gt;7</title>\n",
       "<path fill=\"none\" stroke=\"black\" d=\"M52.95,-239.22C53.78,-222.91 54.86,-201.68 55.78,-183.77\"/>\n",
       "<polygon fill=\"black\" stroke=\"black\" points=\"59.28,-183.83 56.29,-173.67 52.29,-183.48 59.28,-183.83\"/>\n",
       "<text text-anchor=\"middle\" x=\"85.12\" y=\"-210.28\" font-family=\"Times,serif\" font-size=\"14.00\">54.0 kg </text>\n",
       "<text text-anchor=\"middle\" x=\"85.12\" y=\"-195.28\" font-family=\"Times,serif\" font-size=\"14.00\">167 min</text>\n",
       "</g>\n",
       "<!-- 2 -->\n",
       "<g id=\"node3\" class=\"node\">\n",
       "<title>2</title>\n",
       "<ellipse fill=\"none\" stroke=\"black\" cx=\"413.62\" cy=\"-266.35\" rx=\"51.74\" ry=\"26.74\"/>\n",
       "<text text-anchor=\"middle\" x=\"413.62\" y=\"-270.15\" font-family=\"Times,serif\" font-size=\"14.00\">Client 2</text>\n",
       "<text text-anchor=\"middle\" x=\"413.62\" y=\"-255.15\" font-family=\"Times,serif\" font-size=\"14.00\">11.0 kg</text>\n",
       "</g>\n",
       "<!-- 9 -->\n",
       "<g id=\"node10\" class=\"node\">\n",
       "<title>9</title>\n",
       "<ellipse fill=\"none\" stroke=\"black\" cx=\"417.62\" cy=\"-146.61\" rx=\"51.74\" ry=\"26.74\"/>\n",
       "<text text-anchor=\"middle\" x=\"417.62\" y=\"-150.41\" font-family=\"Times,serif\" font-size=\"14.00\">Client 9</text>\n",
       "<text text-anchor=\"middle\" x=\"417.62\" y=\"-135.41\" font-family=\"Times,serif\" font-size=\"14.00\">27.0 kg</text>\n",
       "</g>\n",
       "<!-- 2&#45;&gt;9 -->\n",
       "<g id=\"edge5\" class=\"edge\">\n",
       "<title>2&#45;&gt;9</title>\n",
       "<path fill=\"none\" stroke=\"black\" d=\"M414.51,-239.22C415.06,-222.91 415.78,-201.68 416.39,-183.77\"/>\n",
       "<polygon fill=\"black\" stroke=\"black\" points=\"419.89,-183.78 416.73,-173.67 412.9,-183.54 419.89,-183.78\"/>\n",
       "<text text-anchor=\"middle\" x=\"446.12\" y=\"-210.28\" font-family=\"Times,serif\" font-size=\"14.00\">37.0 kg </text>\n",
       "<text text-anchor=\"middle\" x=\"446.12\" y=\"-195.28\" font-family=\"Times,serif\" font-size=\"14.00\">120 min</text>\n",
       "</g>\n",
       "<!-- 8 -->\n",
       "<g id=\"node9\" class=\"node\">\n",
       "<title>8</title>\n",
       "<ellipse fill=\"none\" stroke=\"black\" cx=\"232.62\" cy=\"-266.35\" rx=\"51.74\" ry=\"26.74\"/>\n",
       "<text text-anchor=\"middle\" x=\"232.62\" y=\"-270.15\" font-family=\"Times,serif\" font-size=\"14.00\">Client 8</text>\n",
       "<text text-anchor=\"middle\" x=\"232.62\" y=\"-255.15\" font-family=\"Times,serif\" font-size=\"14.00\">27.0 kg</text>\n",
       "</g>\n",
       "<!-- 3&#45;&gt;8 -->\n",
       "<g id=\"edge6\" class=\"edge\">\n",
       "<title>3&#45;&gt;8</title>\n",
       "<path fill=\"none\" stroke=\"black\" d=\"M237.29,-358.96C236.46,-342.65 235.37,-321.42 234.46,-303.51\"/>\n",
       "<polygon fill=\"black\" stroke=\"black\" points=\"237.95,-303.22 233.95,-293.41 230.96,-303.57 237.95,-303.22\"/>\n",
       "<text text-anchor=\"middle\" x=\"265.62\" y=\"-330.02\" font-family=\"Times,serif\" font-size=\"14.00\">70.0 kg </text>\n",
       "<text text-anchor=\"middle\" x=\"265.62\" y=\"-315.02\" font-family=\"Times,serif\" font-size=\"14.00\">93 min</text>\n",
       "</g>\n",
       "<!-- 4 -->\n",
       "<g id=\"node5\" class=\"node\">\n",
       "<title>4</title>\n",
       "<ellipse fill=\"none\" stroke=\"black\" cx=\"100.62\" cy=\"-26.87\" rx=\"51.74\" ry=\"26.74\"/>\n",
       "<text text-anchor=\"middle\" x=\"100.62\" y=\"-30.67\" font-family=\"Times,serif\" font-size=\"14.00\">Client 4</text>\n",
       "<text text-anchor=\"middle\" x=\"100.62\" y=\"-15.67\" font-family=\"Times,serif\" font-size=\"14.00\">23.0 kg</text>\n",
       "</g>\n",
       "<!-- 4&#45;&gt;0 -->\n",
       "<g id=\"edge7\" class=\"edge\">\n",
       "<title>4&#45;&gt;0</title>\n",
       "<path fill=\"none\" stroke=\"red\" d=\"M116.65,-52.7C120.01,-58.74 123.26,-65.32 125.62,-71.74 137.16,-103.1 139.62,-112.19 139.62,-145.61 139.62,-387.09 139.62,-387.09 139.62,-387.09 139.62,-439.29 196.69,-472.06 239.96,-489.41\"/>\n",
       "<polygon fill=\"red\" stroke=\"red\" points=\"238.92,-492.76 249.51,-493.08 241.43,-486.22 238.92,-492.76\"/>\n",
       "<text text-anchor=\"middle\" x=\"151.12\" y=\"-262.65\" font-family=\"Times,serif\" font-size=\"14.00\">5.0</text>\n",
       "</g>\n",
       "<!-- 5&#45;&gt;1 -->\n",
       "<g id=\"edge8\" class=\"edge\">\n",
       "<title>5&#45;&gt;1</title>\n",
       "<path fill=\"none\" stroke=\"black\" d=\"M56.29,-358.96C55.46,-342.65 54.37,-321.42 53.46,-303.51\"/>\n",
       "<polygon fill=\"black\" stroke=\"black\" points=\"56.95,-303.22 52.95,-293.41 49.96,-303.57 56.95,-303.22\"/>\n",
       "<text text-anchor=\"middle\" x=\"85.12\" y=\"-330.02\" font-family=\"Times,serif\" font-size=\"14.00\">69.0 kg </text>\n",
       "<text text-anchor=\"middle\" x=\"85.12\" y=\"-315.02\" font-family=\"Times,serif\" font-size=\"14.00\">112 min</text>\n",
       "</g>\n",
       "<!-- 6 -->\n",
       "<g id=\"node7\" class=\"node\">\n",
       "<title>6</title>\n",
       "<ellipse fill=\"none\" stroke=\"black\" cx=\"437.62\" cy=\"-26.87\" rx=\"51.74\" ry=\"26.74\"/>\n",
       "<text text-anchor=\"middle\" x=\"437.62\" y=\"-30.67\" font-family=\"Times,serif\" font-size=\"14.00\">Client 6</text>\n",
       "<text text-anchor=\"middle\" x=\"437.62\" y=\"-15.67\" font-family=\"Times,serif\" font-size=\"14.00\">10.0 kg</text>\n",
       "</g>\n",
       "<!-- 6&#45;&gt;0 -->\n",
       "<g id=\"edge9\" class=\"edge\">\n",
       "<title>6&#45;&gt;0</title>\n",
       "<path fill=\"none\" stroke=\"red\" d=\"M467.97,-48.8C475.43,-55.34 482.69,-63.12 487.62,-71.74 504.19,-100.76 501.62,-112.19 501.62,-145.61 501.62,-387.09 501.62,-387.09 501.62,-387.09 501.62,-460.6 403.49,-488.54 340.13,-498.92\"/>\n",
       "<polygon fill=\"red\" stroke=\"red\" points=\"339.25,-495.52 329.9,-500.5 340.31,-502.44 339.25,-495.52\"/>\n",
       "<text text-anchor=\"middle\" x=\"513.12\" y=\"-262.65\" font-family=\"Times,serif\" font-size=\"14.00\">0.0</text>\n",
       "</g>\n",
       "<!-- 7&#45;&gt;4 -->\n",
       "<g id=\"edge10\" class=\"edge\">\n",
       "<title>7&#45;&gt;4</title>\n",
       "<path fill=\"none\" stroke=\"black\" d=\"M57.43,-119.46C58.15,-104.92 60.43,-86.79 66.62,-71.74 68.27,-67.73 70.39,-63.77 72.76,-59.98\"/>\n",
       "<polygon fill=\"black\" stroke=\"black\" points=\"75.85,-61.67 78.66,-51.46 70.09,-57.69 75.85,-61.67\"/>\n",
       "<text text-anchor=\"middle\" x=\"96.12\" y=\"-90.54\" font-family=\"Times,serif\" font-size=\"14.00\">28.0 kg </text>\n",
       "<text text-anchor=\"middle\" x=\"96.12\" y=\"-75.54\" font-family=\"Times,serif\" font-size=\"14.00\">173 min</text>\n",
       "</g>\n",
       "<!-- 11 -->\n",
       "<g id=\"node12\" class=\"node\">\n",
       "<title>11</title>\n",
       "<ellipse fill=\"none\" stroke=\"black\" cx=\"233.62\" cy=\"-146.61\" rx=\"57.97\" ry=\"26.74\"/>\n",
       "<text text-anchor=\"middle\" x=\"233.62\" y=\"-150.41\" font-family=\"Times,serif\" font-size=\"14.00\">Client 11</text>\n",
       "<text text-anchor=\"middle\" x=\"233.62\" y=\"-135.41\" font-family=\"Times,serif\" font-size=\"14.00\">17.0 kg</text>\n",
       "</g>\n",
       "<!-- 8&#45;&gt;11 -->\n",
       "<g id=\"edge11\" class=\"edge\">\n",
       "<title>8&#45;&gt;11</title>\n",
       "<path fill=\"none\" stroke=\"black\" d=\"M232.84,-239.22C232.98,-222.91 233.16,-201.68 233.31,-183.77\"/>\n",
       "<polygon fill=\"black\" stroke=\"black\" points=\"236.81,-183.7 233.4,-173.67 229.81,-183.64 236.81,-183.7\"/>\n",
       "<text text-anchor=\"middle\" x=\"263.12\" y=\"-210.28\" font-family=\"Times,serif\" font-size=\"14.00\">43.0 kg </text>\n",
       "<text text-anchor=\"middle\" x=\"263.12\" y=\"-195.28\" font-family=\"Times,serif\" font-size=\"14.00\">112 min</text>\n",
       "</g>\n",
       "<!-- 9&#45;&gt;6 -->\n",
       "<g id=\"edge12\" class=\"edge\">\n",
       "<title>9&#45;&gt;6</title>\n",
       "<path fill=\"none\" stroke=\"black\" d=\"M421.14,-119.57C423.15,-105.4 425.82,-87.57 428.62,-71.74 429.09,-69.1 429.59,-66.38 430.11,-63.65\"/>\n",
       "<polygon fill=\"black\" stroke=\"black\" points=\"433.55,-64.29 432.05,-53.81 426.68,-62.94 433.55,-64.29\"/>\n",
       "<text text-anchor=\"middle\" x=\"458.12\" y=\"-90.54\" font-family=\"Times,serif\" font-size=\"14.00\">10.0 kg </text>\n",
       "<text text-anchor=\"middle\" x=\"458.12\" y=\"-75.54\" font-family=\"Times,serif\" font-size=\"14.00\">126 min</text>\n",
       "</g>\n",
       "<!-- 10 -->\n",
       "<g id=\"node11\" class=\"node\">\n",
       "<title>10</title>\n",
       "<ellipse fill=\"none\" stroke=\"black\" cx=\"274.62\" cy=\"-26.87\" rx=\"57.97\" ry=\"26.74\"/>\n",
       "<text text-anchor=\"middle\" x=\"274.62\" y=\"-30.67\" font-family=\"Times,serif\" font-size=\"14.00\">Client 10</text>\n",
       "<text text-anchor=\"middle\" x=\"274.62\" y=\"-15.67\" font-family=\"Times,serif\" font-size=\"14.00\">26.0 kg</text>\n",
       "</g>\n",
       "<!-- 10&#45;&gt;0 -->\n",
       "<g id=\"edge13\" class=\"edge\">\n",
       "<title>10&#45;&gt;0</title>\n",
       "<path fill=\"none\" stroke=\"red\" d=\"M295.28,-52.22C299.58,-58.28 303.7,-64.99 306.62,-71.74 319.9,-102.4 320.62,-112.19 320.62,-145.61 320.62,-387.09 320.62,-387.09 320.62,-387.09 320.62,-420.51 316.43,-429.02 306.62,-460.96 305.67,-464.05 304.57,-467.22 303.38,-470.37\"/>\n",
       "<polygon fill=\"red\" stroke=\"red\" points=\"300.13,-469.09 299.65,-479.67 306.62,-471.7 300.13,-469.09\"/>\n",
       "<text text-anchor=\"middle\" x=\"332.12\" y=\"-262.65\" font-family=\"Times,serif\" font-size=\"14.00\">0.0</text>\n",
       "</g>\n",
       "<!-- 11&#45;&gt;10 -->\n",
       "<g id=\"edge14\" class=\"edge\">\n",
       "<title>11&#45;&gt;10</title>\n",
       "<path fill=\"none\" stroke=\"black\" d=\"M236.19,-119.67C238.19,-105.21 241.68,-87.08 247.62,-71.74 248.96,-68.28 250.57,-64.8 252.33,-61.38\"/>\n",
       "<polygon fill=\"black\" stroke=\"black\" points=\"255.43,-63 257.26,-52.57 249.33,-59.59 255.43,-63\"/>\n",
       "<text text-anchor=\"middle\" x=\"277.12\" y=\"-90.54\" font-family=\"Times,serif\" font-size=\"14.00\">26.0 kg </text>\n",
       "<text text-anchor=\"middle\" x=\"277.12\" y=\"-75.54\" font-family=\"Times,serif\" font-size=\"14.00\">121 min</text>\n",
       "</g>\n",
       "<!-- 12&#45;&gt;2 -->\n",
       "<g id=\"edge15\" class=\"edge\">\n",
       "<title>12&#45;&gt;2</title>\n",
       "<path fill=\"none\" stroke=\"black\" d=\"M409.73,-358.96C410.42,-342.65 411.32,-321.42 412.08,-303.51\"/>\n",
       "<polygon fill=\"black\" stroke=\"black\" points=\"415.58,-303.55 412.51,-293.41 408.59,-303.25 415.58,-303.55\"/>\n",
       "<text text-anchor=\"middle\" x=\"442.12\" y=\"-330.02\" font-family=\"Times,serif\" font-size=\"14.00\">48.0 kg </text>\n",
       "<text text-anchor=\"middle\" x=\"442.12\" y=\"-315.02\" font-family=\"Times,serif\" font-size=\"14.00\">108 min</text>\n",
       "</g>\n",
       "</g>\n",
       "</svg>\n"
      ],
      "text/plain": [
       "<graphviz.dot.Digraph at 0x7fdfa48fc2b0>"
      ]
     },
     "metadata": {},
     "output_type": "display_data"
    },
    {
     "name": "stdout",
     "output_type": "stream",
     "text": [
      "0.17532110214233398\n"
     ]
    }
   ],
   "source": [
    "visualize_solution(z_ij,x_ij)\n",
    "print(model.Runtime)"
   ]
  },
  {
   "cell_type": "code",
   "execution_count": 22,
   "id": "d1c2dc4d-94dd-42ff-8e4b-d115850f33ad",
   "metadata": {},
   "outputs": [
    {
     "data": {
      "text/plain": [
       "[(0, 0.0),\n",
       " (18, 16.204999999999995),\n",
       " (4, 22.68559999999991),\n",
       " (12, 24.1699),\n",
       " (9, 44.296599999999984),\n",
       " (5, 62.0),\n",
       " (11, 68.0),\n",
       " (3, 69.0),\n",
       " (14, 82.0),\n",
       " (10, 84.34669999999994),\n",
       " (13, 91.0),\n",
       " (17, 96.0),\n",
       " (1, 98.0),\n",
       " (7, 98.206),\n",
       " (15, 99.0),\n",
       " (2, 102.172),\n",
       " (6, 103.61599999999999),\n",
       " (16, 104.43600000000004),\n",
       " (20, 110.57999999999984),\n",
       " (8, 111.24799999999999),\n",
       " (19, 115.88399999999984)]"
      ]
     },
     "execution_count": 22,
     "metadata": {},
     "output_type": "execute_result"
    }
   ],
   "source": [
    "l=[]\n",
    "for i in y_i:\n",
    "    l.append((i,y_i[i].x))\n",
    "l.sort(key= lambda x:x[1])\n",
    "l"
   ]
  }
 ],
 "metadata": {
  "kernelspec": {
   "display_name": "Python 3 (ipykernel)",
   "language": "python",
   "name": "python3"
  },
  "language_info": {
   "codemirror_mode": {
    "name": "ipython",
    "version": 3
   },
   "file_extension": ".py",
   "mimetype": "text/x-python",
   "name": "python",
   "nbconvert_exporter": "python",
   "pygments_lexer": "ipython3",
   "version": "3.9.12"
  }
 },
 "nbformat": 4,
 "nbformat_minor": 5
}
