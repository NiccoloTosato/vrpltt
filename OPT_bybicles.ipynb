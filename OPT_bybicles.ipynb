{
 "cells": [
  {
   "cell_type": "code",
   "execution_count": 1,
   "id": "404deb73",
   "metadata": {},
   "outputs": [],
   "source": [
    "import gurobipy as gp\n",
    "from gurobipy import GRB\n",
    "import numpy as np\n",
    "import pandas as pd\n",
    "from pprint import pprint\n"
   ]
  },
  {
   "cell_type": "code",
   "execution_count": 2,
   "id": "16ceb90e",
   "metadata": {},
   "outputs": [],
   "source": [
    "def vel(m, h, P , P_electric = 250):\n",
    "    ### aer. resistence\n",
    "    Cd = 1.18\n",
    "    A = 0.83 #m^2\n",
    "    rho = 1.18 #kg/m^3\n",
    "\n",
    "    c_Fd = rho*Cd*A*0.5\n",
    "\n",
    "    ### rolling resistance\n",
    "    Cr = 0.01\n",
    "    g = 9.81 #m/s^2\n",
    "    \n",
    "    eta = 0.95\n",
    "        \n",
    "    c0 = P*eta\n",
    "    c1 = (m*g* ( Cr*np.cos( np.arctan(h) ) + np.sin( np.arctan(h) ) ))\n",
    "    c3 = c_Fd\n",
    "    \n",
    "    v_max = 30 #km/h\n",
    "   ### closed form solution of 3-rd degree polynomial\n",
    "\n",
    "    # p = c1/c3\n",
    "    # q = -c0/c3\n",
    "    # print(np.roots([1, 0, p, q]))\n",
    "    \n",
    "    ###\n",
    "    coefs = [c3, 0, c1, -eta*P]\n",
    "    coefs_electric = [c3, 0, c1, -eta*(P+P_electric)]        \n",
    "    v = np.max(np.real(3.6*np.roots(coefs)))\n",
    "    v_electric = np.max(np.real(3.6*np.roots(coefs_electric)))\n",
    "    if v > 25:\n",
    "        #print('up-cyclist only')\n",
    "        return min(v, v_max)\n",
    "    else:\n",
    "        #print('up-electric')\n",
    "        return min(v_electric, 25)\n",
    "\n",
    "\n",
    "def time_matrix(data_matrix, load_levels,P):\n",
    "    N = len(data_matrix.index)\n",
    "    elevation = data_matrix.elevation.to_numpy()\n",
    "    d_ij_mat = data_matrix.iloc[:, 8:].to_numpy()\n",
    "    t_ij_mat = np.zeros((N, N, n_levels))\n",
    "    for i in range(N):\n",
    "        for j in range(N):\n",
    "            if i!=j:\n",
    "                d_ij = d_ij_mat[i, j]\n",
    "                h = (elevation[j] - elevation[i])/d_ij\n",
    "                for l in range(n_levels):\n",
    "                    m = load_levels[l]\n",
    "                    #print(vel(m,h,P))\n",
    "                    t_ij_mat[i, j, l] =60*d_ij/vel(m, h, P, P_electric=250)\n",
    "    return np.round(t_ij_mat,4)"
   ]
  },
  {
   "cell_type": "markdown",
   "id": "d49c4328-7006-47b7-b406-93b6f5d21f7d",
   "metadata": {},
   "source": [
    "The forces acting on the bicyle are: the aerodynamic drag resistance $F_{D}$, the rolling resistance $F_{R}$ and the component of the gravity force along the direction of motion $F_{G}$:\n",
    "\n",
    "* $ F_{D} = \\frac{\\rho C_{D}Av^{2}}{2}$\n",
    "* $ F_{R} = C_{R}mg cos(arctan(h))$\n",
    "* $ F_{G} = mg sin(arctan(h))$\n",
    "\n",
    "We have to distinguish two cases: uphill and downhill.\n",
    "In uphill, the component of the gravity force along the direction of motion is a resistance force, while in downhill it helps the motion of the bicyle.\n",
    "so we have, at equilibrium:\n",
    "\n",
    "* $\\mathrm{ \\eta P_{traction} = (F_{D} + (F_{R} + F_{G})v }$\n",
    "\n",
    "where $\\eta$ is the efficiency of the mechanic transmission, which is assumed to be 0.95.\n",
    "\n",
    "If we use a negative h in the formuals above when traversing an edge with negative slope, since $cos(\\alpha) = cos(-\\alpha)$ and $sin(\\alpha) = -sin(-\\alpha)$, we have just one expression for the equation to solve.\n",
    "\n",
    "Moreover, we assume that the bicyle speed is limited in downhill for safety reasons. Within cities, a typical speed limit for for motor vehicles is 50km/h. Considering also that the regulation for pedelec bicyle allows a maximum speed of 25km/h in electric assisted mode, we set a maximum speed in downhill of 30km/h.\n",
    "The delta energy can be used for recharging the battery for example, similarly to other solutions in the automaotive industry.\n",
    "The maximum speed limit is imposed on uphill as well.\n",
    "The strategy for solving the equation is:\n",
    "* solve the equation for the two cases: (1) $P=P_{cyclist}$, and (2) $P=P_{cyclist}+P_{electric}$ \n",
    "* If the cyclist can reach a speed that is higher than the speed allowed in electric mode, use that speed, subject to the limit of maximum speed allowed,\n",
    "* otherwise use the minimum value among 25 km/h and the solution of problem (2)\n",
    "\n",
    "In practice we have $P_{electric}$ = 250W, while for $\\overline {P_{cyclist}}$ we assume to have few different types of cyclist."
   ]
  },
  {
   "cell_type": "code",
   "execution_count": 3,
   "id": "cdc2990d-5810-420c-ade4-5b06ee5c3b6a",
   "metadata": {},
   "outputs": [],
   "source": [
    "def extract_min(Q,distance):\n",
    "    minimo=float(\"inf\") #highest python value\n",
    "    nome=\"\"\n",
    "    for q in Q: #find the smallest\n",
    "        if distance[q] <= minimo:\n",
    "            nome=q\n",
    "            minimo=distance[q]\n",
    "    Q.remove(nome) #remove the correct node from the que\n",
    "    return nome # tell me wich node is removed\n",
    "\n",
    "def dijkstra(source,weight_matrix,l=0):\n",
    "    distance=dict() #dict for distance from source\n",
    "    parent=dict() #dict for parentnes of each node\n",
    "    nodes=np.array([i for i in range(len(weight_matrix))]) #list of current node to iterate\n",
    "    for node in nodes:\n",
    "        distance[node]=float(\"inf\") \n",
    "        parent[node]=None\n",
    "    distance[source]=0\n",
    "    S=[]\n",
    "    Q={node for node in nodes} #set used ad que, coupled with distance dict\n",
    "    while len(Q)>0:\n",
    "        u=extract_min(Q,distance) #extract the min from Q,using distance dict\n",
    "        S.append(u) #ultimated nodes\n",
    "        for v,w in enumerate(weight_matrix[u]): #for each node v, outgoing from u, with weight w\n",
    "            if distance[v] > distance[u] + w[l]: #relax phase\n",
    "                distance[v]= distance[u] + w[l]\n",
    "                parent[v]=u\n",
    "        #print(f\"{u = }\")\n",
    "        #print(f\"{distance = }\")\n",
    "    return distance,parent #return distances from source and each node parent !\n"
   ]
  },
  {
   "cell_type": "code",
   "execution_count": 4,
   "id": "3f2bd1b3-57da-48f7-865d-5430f58bc082",
   "metadata": {},
   "outputs": [],
   "source": [
    "def shortest_path_matrix(t_ij_mat):\n",
    "    sp_matrix=np.empty_like(t_ij_mat)\n",
    "    nodes=np.array([i for i in range(t_ij_mat.shape[0])])\n",
    "    levels=np.array([i for i in range(t_ij_mat.shape[-1])])\n",
    "    for source in nodes:\n",
    "        for l in levels:\n",
    "            distance,_t=dijkstra(source,t_ij_mat,l)\n",
    "            sp_matrix[source,:,l]=list(distance.values())\n",
    "    return sp_matrix\n",
    "\n"
   ]
  },
  {
   "cell_type": "code",
   "execution_count": 5,
   "id": "6f9e79ca-0c35-4ac6-a120-88bbe43736e3",
   "metadata": {},
   "outputs": [],
   "source": [
    "df=pd.read_csv(\"./instances/small/Fukuoka_01.csv\")\n",
    "N=len(df.index) # customers + depot\n",
    "N0=N-1 #customers\n",
    "\n"
   ]
  },
  {
   "cell_type": "code",
   "execution_count": 6,
   "id": "e74c4629",
   "metadata": {},
   "outputs": [],
   "source": [
    "Q_min = 140\n",
    "Q_max = 300\n",
    "n_levels = 4\n",
    "load_levels = np.array([(0.5+i)*(Q_max-Q_min)/n_levels for i in range(n_levels)])\n",
    "upper = load_levels+(Q_max-Q_min)/(n_levels*2)\n",
    "lower = load_levels-(Q_max-Q_min)/(n_levels*2)"
   ]
  },
  {
   "cell_type": "code",
   "execution_count": 20,
   "id": "3e24ca71-21a3-41dd-bf06-cc9aee167f44",
   "metadata": {},
   "outputs": [],
   "source": [
    "s=df.s.to_numpy() #service time\n",
    "s[0]=0\n",
    "a=df[\"tw a\"].to_numpy()\n",
    "b=df[\"tw b\"].to_numpy()\n",
    "b[0]=np.sum(b[1:])\n",
    "t_ij_L=time_matrix(df,load_levels,P=150)\n",
    "sp_mat=shortest_path_matrix(t_ij_L)\n",
    "demand=df.demand.to_numpy()\n",
    "demand[0]=0\n",
    "Q=150\n",
    "M_ij=np.empty((N,N)) \n",
    "for i in range(N):\n",
    "    for j in range(N):\n",
    "        M_ij[i,j]=max([0,b[i]+s[i]+sp_mat[i,j,-1]-a[j]])\n",
    "        #print(f\"\\t{round(M_ij[i,j],2)}\",end=\" \")\n",
    "    #print(\"\")\n"
   ]
  },
  {
   "cell_type": "code",
   "execution_count": 21,
   "id": "1525ae86",
   "metadata": {},
   "outputs": [],
   "source": [
    "model = gp.Model(\"VRPLTT\")\n",
    "\n",
    "\n"
   ]
  },
  {
   "cell_type": "code",
   "execution_count": 45,
   "id": "40069eaf-b6b5-4473-9f4e-19b839c757fc",
   "metadata": {},
   "outputs": [],
   "source": [
    "x_ij=model.addVars( [(i,j) for i in range(N) for j in range(N)],vtype=GRB.BINARY,name=\"x_ij\")\n",
    "z_ij=model.addVars( [(i,j,l) for i in range(N) for j in range(N) for l in range(n_levels) ],vtype=GRB.BINARY,name=\"z_ij\")\n",
    "y_i=model.addVars([i for i in range(N)],vtype=GRB.CONTINUOUS,lb=0,name=\"y_i\")\n",
    "f_ij=model.addVars( [(i,j) for i in range(N) for j in range(N)],vtype=GRB.CONTINUOUS,lb=0,name=\"f_ij\")\n"
   ]
  },
  {
   "cell_type": "code",
   "execution_count": 46,
   "id": "df2e4f9a-5310-4820-aa41-bf0218660ef9",
   "metadata": {},
   "outputs": [],
   "source": [
    "c8 = model.addConstrs( gp.quicksum( x_ij[i,j] for j in range(0,N) ) == 1\n",
    "                                         for i in range(1,N))\n",
    "c9 = model.addConstrs( gp.quicksum( x_ij[i,j] for i in range(0,N) ) == 1\n",
    "                                         for j in range(1,N))"
   ]
  },
  {
   "cell_type": "code",
   "execution_count": 47,
   "id": "3990c841-d457-4c7c-80f2-c209f57e638c",
   "metadata": {},
   "outputs": [],
   "source": [
    "c10 = model.addConstrs( gp.quicksum( f_ij[j,i]-f_ij[i,j] for j in range(0,N) ) == demand[i] for i in range(1,N) )"
   ]
  },
  {
   "cell_type": "code",
   "execution_count": 48,
   "id": "f998aae2-7e32-49ee-8dcb-3725320ac935",
   "metadata": {},
   "outputs": [],
   "source": [
    "c11_l = model.addConstrs( demand[j]*x_ij[i,j] <= f_ij[i,j] for i in range(0,N) for j in range(0,N))\n",
    "c11_u = model.addConstrs( f_ij[i,j]<= (Q-demand[i])*x_ij[i,j] for i in range(0,N) for j in range(0,N))"
   ]
  },
  {
   "cell_type": "code",
   "execution_count": 50,
   "id": "bb3754da-128e-426c-861a-2dfc0503d352",
   "metadata": {},
   "outputs": [],
   "source": [
    "c12 = model.addConstrs( gp.quicksum( z_ij[i,j,l] for l in range(n_levels) ) == x_ij[i,j] for i in range(0,N) for j in range(0,N))\n"
   ]
  },
  {
   "cell_type": "code",
   "execution_count": 52,
   "id": "6303fa81-deb0-4b1d-9940-a8d4bf55d280",
   "metadata": {},
   "outputs": [
    {
     "ename": "SyntaxError",
     "evalue": "unexpected EOF while parsing (240406838.py, line 1)",
     "output_type": "error",
     "traceback": [
      "\u001b[0;36m  Input \u001b[0;32mIn [52]\u001b[0;36m\u001b[0m\n\u001b[0;31m    c13 = model.addConstrs( gp.quicksum( )\u001b[0m\n\u001b[0m                                          ^\u001b[0m\n\u001b[0;31mSyntaxError\u001b[0m\u001b[0;31m:\u001b[0m unexpected EOF while parsing\n"
     ]
    }
   ],
   "source": [
    "c13 = model.addConstrs( gp.quicksum( )"
   ]
  },
  {
   "cell_type": "code",
   "execution_count": null,
   "id": "d93e0dfa-9c96-4d6f-9a55-1d95a2867813",
   "metadata": {},
   "outputs": [
    {
     "data": {
      "text/plain": [
       "<gurobi.Var *Awaiting Model Update*>"
      ]
     },
     "execution_count": 43,
     "metadata": {},
     "output_type": "execute_result"
    }
   ],
   "source": []
  }
 ],
 "metadata": {
  "kernelspec": {
   "display_name": "Python 3 (ipykernel)",
   "language": "python",
   "name": "python3"
  },
  "language_info": {
   "codemirror_mode": {
    "name": "ipython",
    "version": 3
   },
   "file_extension": ".py",
   "mimetype": "text/x-python",
   "name": "python",
   "nbconvert_exporter": "python",
   "pygments_lexer": "ipython3",
   "version": "3.9.12"
  }
 },
 "nbformat": 4,
 "nbformat_minor": 5
}
