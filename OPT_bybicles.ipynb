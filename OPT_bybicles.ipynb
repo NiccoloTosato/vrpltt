{
 "cells": [
  {
   "cell_type": "code",
   "execution_count": 4,
   "id": "404deb73",
   "metadata": {},
   "outputs": [],
   "source": [
    "import gurobipy as gp\n",
    "from gurobipy import GRB\n",
    "import numpy as np\n",
    "import pandas as pd"
   ]
  },
  {
   "cell_type": "code",
   "execution_count": 5,
   "id": "1525ae86",
   "metadata": {},
   "outputs": [
    {
     "name": "stdout",
     "output_type": "stream",
     "text": [
      "Restricted license - for non-production use only - expires 2023-10-25\n"
     ]
    }
   ],
   "source": [
    "model = gp.Model(\"VRPLTT\")"
   ]
  },
  {
   "cell_type": "code",
   "execution_count": 6,
   "id": "e74c4629",
   "metadata": {},
   "outputs": [],
   "source": [
    "Q_min = 140\n",
    "Q_max = 300\n",
    "n_levels = 4\n",
    "load_levels = np.array([(0.5+i)*(Q_max-Q_min)/n_levels for i in range(n_levels)])\n",
    "upper = load_levels+(Q_max-Q_min)/(n_levels*2)\n",
    "lower = load_levels-(Q_max-Q_min)/(n_levels*2)"
   ]
  },
  {
   "cell_type": "code",
   "execution_count": 7,
   "id": "f172d915",
   "metadata": {},
   "outputs": [
    {
     "data": {
      "text/plain": [
       "array([ 20.,  60., 100., 140.])"
      ]
     },
     "execution_count": 7,
     "metadata": {},
     "output_type": "execute_result"
    }
   ],
   "source": [
    "load_levels"
   ]
  },
  {
   "cell_type": "code",
   "execution_count": 8,
   "id": "0f5a0294",
   "metadata": {},
   "outputs": [
    {
     "data": {
      "text/plain": [
       "array([ 40.,  80., 120., 160.])"
      ]
     },
     "execution_count": 8,
     "metadata": {},
     "output_type": "execute_result"
    }
   ],
   "source": [
    "upper"
   ]
  },
  {
   "cell_type": "code",
   "execution_count": 9,
   "id": "16ceb90e",
   "metadata": {},
   "outputs": [],
   "source": [
    "\n",
    "def vel(m, h, P):\n",
    "    ### aer. resistence\n",
    "    Cd = 1.18\n",
    "    A = 0.83 #m^2\n",
    "    rho = 1.18 #kg/m^3\n",
    "\n",
    "    c_Fd = rho*Cd*A*0.5\n",
    "\n",
    "    ### rolling resistance\n",
    "    Cr = 0.01\n",
    "    g = 9.81 #m/s^2\n",
    "    \n",
    "    eff = 0.95\n",
    "    \n",
    "    c1 = (m*g* ( Cr*np.cos( np.arctan(h) ) + np.sin( np.arctan(h) ) ))/eff\n",
    "    c3 = c_Fd/eff\n",
    "    \n",
    "    coefs = [c3, 0, c1, -P]\n",
    "    #print(f\"{np.real(np.roots(coefs))=}\")\n",
    "    v = np.max(np.real(3.6*np.roots(coefs)))\n",
    "    return min(v,30)\n",
    "    #return 3.6*np.roots(coefs)\n",
    "    \n",
    "\n",
    "def time_matrix(data_matrix, load_levels,P):\n",
    "    N = len(data_matrix.index)\n",
    "    elevation = data_matrix.elevation.to_numpy()\n",
    "    d_ij_mat = data_matrix.iloc[:, 8:].to_numpy()\n",
    "    t_ij_mat = np.zeros((N, N, n_levels))\n",
    "    for i in range(N):\n",
    "        for j in range(N):\n",
    "            if i!=j:\n",
    "                d_ij = d_ij_mat[i, j]\n",
    "                h = (elevation[j] - elevation[i])/d_ij\n",
    "                for l in range(n_levels):\n",
    "                    m = load_levels[l]\n",
    "                    t_ij_mat[i, j, l] =60*d_ij/vel(m, h, P)\n",
    "    return np.round(t_ij_mat,4)"
   ]
  },
  {
   "cell_type": "code",
   "execution_count": 50,
   "id": "5f138fc0-3004-4c82-a132-abb9ae5ca5d0",
   "metadata": {},
   "outputs": [],
   "source": [
    "df = pd.read_csv(\"./instances/small/Fukuoka_01.csv\")\n",
    "P = 500 # Watt\n",
    "\n",
    "t=time_matrix(df,load_levels,P=P)"
   ]
  },
  {
   "cell_type": "code",
   "execution_count": 51,
   "id": "7443c753-e75b-48ad-8dad-46168323dc09",
   "metadata": {},
   "outputs": [
    {
     "name": "stdout",
     "output_type": "stream",
     "text": [
      "[1.1577 3.4176 5.6932 7.9698]\n",
      "[0.332 0.332 0.332 0.332]\n"
     ]
    }
   ],
   "source": [
    "from pprint import pprint\n",
    "print(t[3,4])\n",
    "print(t[4,3])\n"
   ]
  },
  {
   "cell_type": "code",
   "execution_count": 76,
   "id": "cdc2990d-5810-420c-ade4-5b06ee5c3b6a",
   "metadata": {},
   "outputs": [
    {
     "name": "stdout",
     "output_type": "stream",
     "text": [
      "{0: 0,\n",
      " 1: 0.38,\n",
      " 2: 1.4763000000000002,\n",
      " 3: 2.5689,\n",
      " 4: 3.3916,\n",
      " 5: 3.6915999999999998,\n",
      " 6: 4.0356,\n",
      " 7: 5.315099999999999,\n",
      " 8: 5.2126,\n",
      " 9: 6.8701,\n",
      " 10: 6.2101,\n",
      " 11: 5.761,\n",
      " 12: 3.2565999999999997,\n",
      " 13: 3.1090999999999998,\n",
      " 14: 4.5546,\n",
      " 15: 6.0489999999999995,\n",
      " 16: 6.0104999999999995,\n",
      " 17: 2.3936,\n",
      " 18: 1.9616,\n",
      " 19: 1.1192,\n",
      " 20: 2.1546000000000003}\n",
      "{0: None,\n",
      " 1: 0,\n",
      " 2: 1,\n",
      " 3: 2,\n",
      " 4: 18,\n",
      " 5: 4,\n",
      " 6: 5,\n",
      " 7: 13,\n",
      " 8: 12,\n",
      " 9: 10,\n",
      " 10: 1,\n",
      " 11: 1,\n",
      " 12: 1,\n",
      " 13: 1,\n",
      " 14: 12,\n",
      " 15: 1,\n",
      " 16: 14,\n",
      " 17: 18,\n",
      " 18: 0,\n",
      " 19: 0,\n",
      " 20: 19}\n"
     ]
    }
   ],
   "source": [
    "def extract_min(Q,distance):\n",
    "    minimo=float(\"inf\") #highest python value\n",
    "    nome=\"\"\n",
    "    for q in Q: #find the smallest\n",
    "        if distance[q] <= minimo:\n",
    "            nome=q\n",
    "            minimo=distance[q]\n",
    "    Q.remove(nome) #remove the correct node from the que\n",
    "    return nome # tell me wich node is removed\n",
    "\n",
    "def W(u,v,weight_matrix):\n",
    "    for i in adj[u]:\n",
    "        if i.end==v:\n",
    "            return i.weight\n",
    "        \n",
    "def dijkstra(source,weight_matrix,l=0):\n",
    "    distance=dict() #dict for distance from source\n",
    "    parent=dict() #dict for parentnes of each node\n",
    "    nodes=np.array([i for i in range(len(weight_matrix))]) #list of current node to iterate\n",
    "    for node in nodes:\n",
    "        distance[node]=float(\"inf\") \n",
    "        parent[node]=None\n",
    "    distance[source]=0\n",
    "    S=[]\n",
    "    Q={node for node in nodes} #set used ad que, coupled with distance dict\n",
    "    while len(Q)>0:\n",
    "        u=extract_min(Q,distance) #extract the min from Q,using distance dict\n",
    "        S.append(u) #ultimated nodes\n",
    "        for v,w in enumerate(weight_matrix[u]): #for each node v, outgoing from u, with weight w\n",
    "            if distance[v] > distance[u] + w[l]: #relax phase\n",
    "                distance[v]= distance[u] + w[l]\n",
    "                parent[v]=u\n",
    "        #print(f\"{u = }\")\n",
    "        #print(f\"{distance = }\")\n",
    "    return distance,parent #return distances from source and each node parent !\n",
    "            \n",
    "dist,parent = dijkstra(0,t)\n",
    "pprint(dist)\n",
    "pprint(parent)"
   ]
  },
  {
   "cell_type": "code",
   "execution_count": 84,
   "id": "49ade925-7d05-447d-926e-c2a63a9262af",
   "metadata": {},
   "outputs": [
    {
     "name": "stdout",
     "output_type": "stream",
     "text": [
      "\t0.0 \t0.38 \t7.916 \t16.632 \t22.683 \t27.272 \t32.231 \t40.478 \t45.222 \t46.574 \t35.213 \t32.998 \t20.72 \t17.824 \t29.672 \t33.01 \t36.477 \t12.204 \t9.647 \t5.455 \t10.934 \n",
      "\n",
      "\t0.38 \t0.0 \t5.346 \t11.376 \t17.145 \t21.98 \t27.245 \t34.957 \t38.728 \t40.05 \t28.676 \t26.467 \t14.149 \t13.423 \t26.86 \t27.883 \t34.69 \t15.19 \t14.092 \t7.427 \t9.652 \n",
      "\n",
      "\t0.696 \t0.36 \t0.0 \t5.372 \t11.068 \t16.05 \t21.533 \t28.985 \t33.315 \t37.129 \t26.92 \t23.302 \t12.428 \t11.669 \t25.109 \t26.128 \t32.936 \t13.252 \t13.365 \t0.824 \t11.059 \n",
      "\n",
      "\t1.01 \t0.674 \t0.314 \t0.0 \t5.693 \t10.597 \t15.452 \t23.596 \t28.336 \t32.143 \t27.367 \t18.313 \t13.426 \t15.552 \t27.399 \t27.883 \t34.584 \t1.488 \t18.044 \t1.138 \t0.988 \n",
      "\n",
      "\t1.342 \t1.006 \t0.646 \t0.332 \t0.0 \t0.3 \t0.646 \t17.792 \t24.486 \t32.209 \t27.436 \t18.381 \t19.136 \t21.236 \t33.05 \t33.592 \t40.283 \t1.82 \t1.43 \t1.47 \t1.32 \n",
      "\n",
      "\t1.642 \t1.306 \t0.946 \t0.632 \t4.853 \t0.0 \t0.344 \t12.88 \t19.338 \t27.809 \t23.375 \t21.237 \t24.292 \t26.366 \t38.166 \t32.01 \t39.46 \t2.122 \t12.792 \t1.772 \t1.62 \n",
      "\n",
      "\t1.988 \t1.65 \t1.292 \t0.978 \t9.844 \t4.529 \t0.0 \t7.046 \t13.39 \t22.615 \t22.514 \t23.231 \t30.198 \t32.226 \t39.396 \t31.15 \t38.602 \t2.466 \t18.209 \t2.116 \t1.964 \n",
      "\n",
      "\t2.398 \t2.06 \t1.702 \t1.388 \t1.056 \t0.754 \t0.41 \t0.0 \t8.812 \t18.038 \t19.829 \t22.712 \t35.756 \t37.451 \t38.74 \t30.632 \t38.077 \t2.87 \t2.48 \t2.526 \t2.374 \n",
      "\n",
      "\t2.634 \t2.254 \t1.938 \t1.648 \t1.424 \t1.124 \t0.778 \t0.512 \t0.0 \t9.776 \t11.567 \t17.99 \t32.21 \t1.906 \t1.868 \t23.709 \t31.11 \t2.422 \t2.362 \t2.766 \t2.614 \n",
      "\n",
      "\t2.708 \t2.328 \t2.158 \t1.868 \t1.872 \t1.616 \t1.314 \t1.048 \t0.568 \t0.0 \t11.358 \t1.188 \t2.03 \t1.894 \t1.856 \t23.397 \t19.275 \t2.41 \t2.378 \t2.936 \t2.834 \n",
      "\n",
      "\t2.046 \t1.666 \t1.564 \t1.59 \t1.594 \t1.358 \t1.308 \t1.152 \t0.672 \t0.66 \t0.0 \t0.526 \t1.368 \t1.234 \t1.196 \t0.706 \t1.14 \t1.748 \t1.718 \t2.274 \t2.248 \n",
      "\n",
      "\t1.918 \t1.538 \t1.354 \t1.064 \t1.068 \t1.234 \t1.35 \t1.32 \t1.048 \t20.267 \t9.054 \t0.0 \t1.24 \t1.162 \t1.28 \t13.628 \t20.96 \t1.834 \t1.646 \t2.146 \t2.03 \n",
      "\n",
      "\t1.204 \t0.822 \t0.722 \t0.78 \t1.112 \t1.412 \t1.756 \t2.082 \t1.956 \t34.649 \t23.537 \t20.972 \t0.0 \t0.608 \t1.298 \t22.773 \t29.363 \t1.454 \t1.064 \t1.432 \t1.406 \n",
      "\n",
      "\t1.036 \t0.78 \t0.678 \t0.904 \t1.236 \t1.536 \t1.88 \t2.206 \t31.991 \t32.551 \t21.239 \t19.98 \t10.46 \t0.0 \t13.144 \t15.113 \t20.475 \t0.866 \t0.476 \t1.378 \t1.362 \n",
      "\n",
      "\t1.726 \t1.562 \t1.46 \t1.594 \t1.926 \t2.226 \t2.298 \t2.268 \t28.69 \t31.878 \t20.584 \t21.98 \t22.178 \t0.774 \t0.0 \t8.882 \t7.161 \t0.982 \t1.164 \t2.068 \t2.144 \n",
      "\n",
      "\t1.918 \t1.62 \t1.518 \t1.62 \t1.952 \t1.86 \t1.81 \t1.78 \t1.378 \t1.366 \t12.092 \t0.792 \t1.324 \t0.878 \t0.516 \t0.0 \t0.436 \t1.186 \t1.362 \t2.266 \t2.248 \n",
      "\n",
      "\t2.12 \t2.016 \t1.914 \t2.01 \t2.342 \t2.294 \t2.244 \t2.214 \t1.812 \t1.8 \t19.594 \t1.226 \t1.714 \t1.19 \t0.416 \t7.502 \t0.0 \t1.376 \t1.558 \t2.462 \t2.658 \n",
      "\n",
      "\t0.786 \t1.048 \t1.172 \t18.934 \t29.546 \t32.768 \t35.841 \t47.549 \t41.59 \t41.456 \t30.086 \t31.553 \t25.018 \t14.901 \t16.898 \t20.415 \t23.683 \t0.0 \t7.415 \t1.128 \t3.745 \n",
      "\n",
      "\t0.562 \t0.824 \t0.782 \t1.098 \t1.43 \t1.732 \t2.076 \t38.123 \t40.518 \t40.898 \t29.569 \t28.318 \t18.31 \t8.192 \t20.018 \t23.443 \t26.812 \t0.432 \t0.0 \t0.904 \t1.1 \n",
      "\n",
      "\t0.37 \t0.608 \t0.824 \t18.024 \t24.637 \t28.97 \t33.476 \t42.437 \t47.467 \t50.485 \t39.134 \t36.912 \t24.64 \t23.692 \t35.523 \t38.994 \t42.352 \t13.03 \t15.41 \t0.0 \t5.085 \n",
      "\n",
      "\t0.676 \t0.588 \t0.754 \t13.994 \t21.968 \t25.951 \t29.841 \t39.767 \t44.864 \t48.732 \t38.687 \t34.919 \t24.192 \t23.414 \t36.813 \t38.684 \t45.716 \t1.324 \t18.498 \t0.304 \t0.0 \n",
      "\n"
     ]
    }
   ],
   "source": [
    "for i in t[:,:,2]:\n",
    "    for j in i:\n",
    "        print(f\"\\t{round(j,3)}\",end=\" \")\n",
    "    print(\"\\n\")"
   ]
  },
  {
   "cell_type": "code",
   "execution_count": 78,
   "id": "4821a9c3-53c9-4067-a974-878b2ac87eac",
   "metadata": {},
   "outputs": [
    {
     "name": "stdout",
     "output_type": "stream",
     "text": [
      "264 µs ± 8.71 µs per loop (mean ± std. dev. of 7 runs, 1,000 loops each)\n"
     ]
    }
   ],
   "source": [
    "%%timeit\n",
    "dist,parent = dijkstra(0,t)\n"
   ]
  },
  {
   "cell_type": "code",
   "execution_count": 83,
   "id": "3f2bd1b3-57da-48f7-865d-5430f58bc082",
   "metadata": {},
   "outputs": [
    {
     "name": "stdout",
     "output_type": "stream",
     "text": [
      "[0 1 2 3]\n",
      "\t0.0 \t0.38 \t3.59 \t6.82 \t7.22 \t7.52 \t7.87 \t10.64 \t10.83 \t16.27 \t17.59 \t15.7 \t8.87 \t8.44 \t10.17 \t15.5 \t14.47 \t6.22 \t5.79 \t3.28 \t6.17 \n",
      "\n",
      "\t0.38 \t0.0 \t3.21 \t6.44 \t7.6 \t7.9 \t8.25 \t10.26 \t10.45 \t15.89 \t17.21 \t15.32 \t8.49 \t8.06 \t9.79 \t15.12 \t14.09 \t6.6 \t6.17 \t3.66 \t5.79 \n",
      "\n",
      "\t0.7 \t0.36 \t0.0 \t3.23 \t6.64 \t6.94 \t7.29 \t9.21 \t9.42 \t14.86 \t16.16 \t13.99 \t7.46 \t7.0 \t8.76 \t14.09 \t13.06 \t4.71 \t6.49 \t0.82 \t3.88 \n",
      "\n",
      "\t1.01 \t0.67 \t0.31 \t0.0 \t3.42 \t3.72 \t4.06 \t8.29 \t9.73 \t15.11 \t16.43 \t10.99 \t7.77 \t7.32 \t9.07 \t13.74 \t13.37 \t1.49 \t4.85 \t1.14 \t0.99 \n",
      "\n",
      "\t1.34 \t1.01 \t0.65 \t0.33 \t0.0 \t0.3 \t0.64 \t4.87 \t8.68 \t14.22 \t14.16 \t11.03 \t8.11 \t6.35 \t9.4 \t14.08 \t13.7 \t1.82 \t1.43 \t1.47 \t1.32 \n",
      "\n",
      "\t1.64 \t1.31 \t0.95 \t0.63 \t2.91 \t0.0 \t0.34 \t4.57 \t8.38 \t13.92 \t13.86 \t11.63 \t8.41 \t7.95 \t9.7 \t14.38 \t14.0 \t2.12 \t4.34 \t1.77 \t1.62 \n",
      "\n",
      "\t1.99 \t1.65 \t1.29 \t0.98 \t4.4 \t2.72 \t0.0 \t4.23 \t8.04 \t13.58 \t13.52 \t11.97 \t8.75 \t8.3 \t9.91 \t14.22 \t14.2 \t2.47 \t5.83 \t2.12 \t1.96 \n",
      "\n",
      "\t2.4 \t2.06 \t1.7 \t1.39 \t1.06 \t0.75 \t0.41 \t0.0 \t5.29 \t10.83 \t11.9 \t12.02 \t9.16 \t7.2 \t7.16 \t12.49 \t11.46 \t2.87 \t2.48 \t2.52 \t2.37 \n",
      "\n",
      "\t2.63 \t2.25 \t1.94 \t1.65 \t1.42 \t1.12 \t0.78 \t0.51 \t0.0 \t5.87 \t6.94 \t7.06 \t7.88 \t1.91 \t1.87 \t7.2 \t6.17 \t2.42 \t2.36 \t2.76 \t2.61 \n",
      "\n",
      "\t2.71 \t2.33 \t2.16 \t1.87 \t1.87 \t1.62 \t1.31 \t1.05 \t0.57 \t0.0 \t6.62 \t1.19 \t2.03 \t1.89 \t1.86 \t7.19 \t6.15 \t2.41 \t2.37 \t2.94 \t2.83 \n",
      "\n",
      "\t2.05 \t1.67 \t1.56 \t1.59 \t1.59 \t1.36 \t1.31 \t1.15 \t0.67 \t0.66 \t0.0 \t0.53 \t1.37 \t1.23 \t1.2 \t0.71 \t1.14 \t1.75 \t1.71 \t2.27 \t2.25 \n",
      "\n",
      "\t1.92 \t1.54 \t1.35 \t1.06 \t1.07 \t1.23 \t1.35 \t1.32 \t1.05 \t6.1 \t5.44 \t0.0 \t1.24 \t1.16 \t1.28 \t6.14 \t5.58 \t1.83 \t1.64 \t2.15 \t2.03 \n",
      "\n",
      "\t1.2 \t0.82 \t0.72 \t0.78 \t1.11 \t1.41 \t1.76 \t2.08 \t1.96 \t7.4 \t8.9 \t6.82 \t0.0 \t0.61 \t1.3 \t6.63 \t5.6 \t1.45 \t1.06 \t1.43 \t1.41 \n",
      "\n",
      "\t1.04 \t0.78 \t0.68 \t0.9 \t1.24 \t1.54 \t1.88 \t2.21 \t7.5 \t10.44 \t12.75 \t9.86 \t6.28 \t0.0 \t7.58 \t9.07 \t9.51 \t0.87 \t0.48 \t1.38 \t1.36 \n",
      "\n",
      "\t1.73 \t1.55 \t1.45 \t1.59 \t1.93 \t2.23 \t2.3 \t2.27 \t6.11 \t6.1 \t10.96 \t5.52 \t6.01 \t0.77 \t0.0 \t5.33 \t4.3 \t0.98 \t1.16 \t2.07 \t2.14 \n",
      "\n",
      "\t1.91 \t1.62 \t1.52 \t1.62 \t1.86 \t1.86 \t1.81 \t1.78 \t1.38 \t1.37 \t6.23 \t0.79 \t1.32 \t0.88 \t0.52 \t0.0 \t0.44 \t1.19 \t1.35 \t2.26 \t2.24 \n",
      "\n",
      "\t2.12 \t1.97 \t1.87 \t2.01 \t2.29 \t2.29 \t2.24 \t2.21 \t1.81 \t1.8 \t6.66 \t1.23 \t1.71 \t1.19 \t0.42 \t4.5 \t0.0 \t1.38 \t1.56 \t2.46 \t2.55 \n",
      "\n",
      "\t0.79 \t1.05 \t1.17 \t4.4 \t5.88 \t6.18 \t6.53 \t10.38 \t10.59 \t13.62 \t17.33 \t13.05 \t8.63 \t8.18 \t9.93 \t12.26 \t12.69 \t0.0 \t4.45 \t1.13 \t2.45 \n",
      "\n",
      "\t0.56 \t0.82 \t0.78 \t1.1 \t1.43 \t1.73 \t2.07 \t6.3 \t10.11 \t14.05 \t15.59 \t12.09 \t8.24 \t4.92 \t9.54 \t12.69 \t13.12 \t0.43 \t0.0 \t0.9 \t1.1 \n",
      "\n",
      "\t0.37 \t0.61 \t0.82 \t4.05 \t7.47 \t7.77 \t8.11 \t10.03 \t10.24 \t15.68 \t16.98 \t14.81 \t8.28 \t7.83 \t9.58 \t14.91 \t13.88 \t4.38 \t6.16 \t0.0 \t3.05 \n",
      "\n",
      "\t0.67 \t0.59 \t0.75 \t3.98 \t7.21 \t7.51 \t7.85 \t9.96 \t10.17 \t14.94 \t16.91 \t14.37 \t8.21 \t7.76 \t9.51 \t13.58 \t13.81 \t1.32 \t5.78 \t0.3 \t0.0 \n",
      "\n"
     ]
    }
   ],
   "source": [
    "def shortest_path_matrix(t_ij_mat):\n",
    "    sp_matrix=np.empty_like(t_ij_mat)\n",
    "    nodes=np.array([i for i in range(t_ij_mat.shape[0])])\n",
    "    levels=np.array([i for i in range(t_ij_mat.shape[-1])])\n",
    "    print(levels)\n",
    "    for source in nodes:\n",
    "        for l in levels:\n",
    "            distance,_t=dijkstra(source,t_ij_mat,l)\n",
    "            sp_matrix[source,:,l]=list(distance.values())\n",
    "    return sp_matrix\n",
    "sp = shortest_path_matrix(t)\n",
    "for i in sp[:,:,1]:\n",
    "    for j in i:\n",
    "        print(f\"\\t{round(j,2)}\",end=\" \")\n",
    "    print(\"\\n\")\n",
    "    \n"
   ]
  },
  {
   "cell_type": "code",
   "execution_count": null,
   "id": "b0c2f0a9-28fc-4a6c-bc4b-405bd8aa8603",
   "metadata": {},
   "outputs": [],
   "source": []
  },
  {
   "cell_type": "code",
   "execution_count": null,
   "id": "ef8a5d32-1215-4f7e-b3cf-b7e979aeadea",
   "metadata": {},
   "outputs": [],
   "source": []
  }
 ],
 "metadata": {
  "kernelspec": {
   "display_name": "Python 3 (ipykernel)",
   "language": "python",
   "name": "python3"
  },
  "language_info": {
   "codemirror_mode": {
    "name": "ipython",
    "version": 3
   },
   "file_extension": ".py",
   "mimetype": "text/x-python",
   "name": "python",
   "nbconvert_exporter": "python",
   "pygments_lexer": "ipython3",
   "version": "3.9.12"
  }
 },
 "nbformat": 4,
 "nbformat_minor": 5
}
