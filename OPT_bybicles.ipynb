{
 "cells": [
  {
   "cell_type": "code",
   "execution_count": 1,
   "id": "404deb73",
   "metadata": {},
   "outputs": [],
   "source": [
    "import gurobipy as gp\n",
    "from gurobipy import GRB\n",
    "import numpy as np\n",
    "import pandas as pd"
   ]
  },
  {
   "cell_type": "code",
   "execution_count": 7,
   "id": "1525ae86",
   "metadata": {},
   "outputs": [],
   "source": [
    "model = gp.Model(\"VRPLTT\")"
   ]
  },
  {
   "cell_type": "code",
   "execution_count": 171,
   "id": "e74c4629",
   "metadata": {},
   "outputs": [],
   "source": [
    "Q_min = 140\n",
    "Q_max = 300\n",
    "n_levels = 4\n",
    "load_levels = np.array([(0.5+i)*(Q_max-Q_min)/n_levels for i in range(n_levels)])\n",
    "upper = load_levels+(Q_max-Q_min)/(n_levels*2)\n",
    "lower = load_levels-(Q_max-Q_min)/(n_levels*2)"
   ]
  },
  {
   "cell_type": "code",
   "execution_count": 172,
   "id": "f172d915",
   "metadata": {},
   "outputs": [
    {
     "data": {
      "text/plain": [
       "array([ 20.,  60., 100., 140.])"
      ]
     },
     "execution_count": 172,
     "metadata": {},
     "output_type": "execute_result"
    }
   ],
   "source": [
    "load_levels"
   ]
  },
  {
   "cell_type": "code",
   "execution_count": 173,
   "id": "0f5a0294",
   "metadata": {},
   "outputs": [
    {
     "data": {
      "text/plain": [
       "array([ 40.,  80., 120., 160.])"
      ]
     },
     "execution_count": 173,
     "metadata": {},
     "output_type": "execute_result"
    }
   ],
   "source": [
    "upper"
   ]
  },
  {
   "cell_type": "code",
   "execution_count": 174,
   "id": "16ceb90e",
   "metadata": {},
   "outputs": [],
   "source": [
    "\n",
    "def vel(m, h, P):\n",
    "    ### aer. resistence\n",
    "    Cd = 1.18\n",
    "    A = 0.83 #m^2\n",
    "    rho = 1.18 #kg/m^3\n",
    "\n",
    "    c_Fd = rho*Cd*A*0.5\n",
    "\n",
    "    ### rolling resistance\n",
    "    Cr = 0.01\n",
    "    g = 9.81 #m/s^2\n",
    "    \n",
    "    eff = 0.95\n",
    "    \n",
    "    c1 = (m*g* ( Cr*np.cos( np.arctan(h) ) + np.sin( np.arctan(h) ) ))/eff\n",
    "    c3 = c_Fd/eff\n",
    "    \n",
    "    coefs = [c3, 0, c1, -P]\n",
    "    #print(f\"{np.real(np.roots(coefs))=}\")\n",
    "    v = np.max(np.real(3.6*np.roots(coefs)))\n",
    "    return min(v,30)\n",
    "    #return 3.6*np.roots(coefs)\n",
    "    \n",
    "\n",
    "def time_matrix(data_matrix, load_levels,P):\n",
    "    N = len(data_matrix.index)\n",
    "    elevation = data_matrix.elevation.to_numpy()\n",
    "    d_ij_mat = data_matrix.iloc[:, 8:].to_numpy()\n",
    "    t_ij_mat = np.zeros((N, N, n_levels))\n",
    "    for i in range(N):\n",
    "        for j in range(N):\n",
    "            if i!=j:\n",
    "                d_ij = d_ij_mat[i, j]\n",
    "                h = (elevation[j] - elevation[i])/d_ij\n",
    "                for l in range(n_levels):\n",
    "                    m = load_levels[l]\n",
    "                    t_ij_mat[i, j, l] =60*d_ij/vel(m, h, P)\n",
    "    return np.round(t_ij_mat,4)"
   ]
  },
  {
   "cell_type": "code",
   "execution_count": 175,
   "id": "5f138fc0-3004-4c82-a132-abb9ae5ca5d0",
   "metadata": {},
   "outputs": [],
   "source": [
    "df = pd.read_csv(\"./instances/small/Fukuoka_01.csv\")\n",
    "P = 500 # Watt\n",
    "\n",
    "t=time_matrix(df,load_levels,P=P)"
   ]
  },
  {
   "cell_type": "code",
   "execution_count": 176,
   "id": "7443c753-e75b-48ad-8dad-46168323dc09",
   "metadata": {},
   "outputs": [
    {
     "name": "stdout",
     "output_type": "stream",
     "text": [
      "[1.1577 3.4176 5.6932 7.9698]\n",
      "[0.332 0.332 0.332 0.332]\n"
     ]
    }
   ],
   "source": [
    "from pprint import pprint\n",
    "print(t[3,4])\n",
    "print(t[4,3])\n",
    "\n"
   ]
  }
 ],
 "metadata": {
  "kernelspec": {
   "display_name": "Python 3 (ipykernel)",
   "language": "python",
   "name": "python3"
  },
  "language_info": {
   "codemirror_mode": {
    "name": "ipython",
    "version": 3
   },
   "file_extension": ".py",
   "mimetype": "text/x-python",
   "name": "python",
   "nbconvert_exporter": "python",
   "pygments_lexer": "ipython3",
   "version": "3.9.12"
  }
 },
 "nbformat": 4,
 "nbformat_minor": 5
}
