{
 "cells": [
  {
   "cell_type": "code",
   "execution_count": 8,
   "id": "404deb73",
   "metadata": {},
   "outputs": [],
   "source": [
    "import gurobipy as gp\n",
    "from gurobipy import GRB\n",
    "import numpy as np\n",
    "import pandas as pd\n"
   ]
  },
  {
   "cell_type": "code",
   "execution_count": 9,
   "id": "1525ae86",
   "metadata": {},
   "outputs": [],
   "source": [
    "model = gp.Model(\"VRPLTT\")"
   ]
  },
  {
   "cell_type": "code",
   "execution_count": 10,
   "id": "e74c4629",
   "metadata": {},
   "outputs": [],
   "source": [
    "Q_min = 140\n",
    "Q_max = 300\n",
    "n_levels = 4\n",
    "load_levels = np.array([(0.5+i)*(Q_max-Q_min)/n_levels for i in range(n_levels)])\n",
    "upper = load_levels+(Q_max-Q_min)/(n_levels*2)\n",
    "lower = load_levels-(Q_max-Q_min)/(n_levels*2)"
   ]
  },
  {
   "cell_type": "code",
   "execution_count": 11,
   "id": "f172d915",
   "metadata": {},
   "outputs": [
    {
     "data": {
      "text/plain": [
       "array([ 20.,  60., 100., 140.])"
      ]
     },
     "execution_count": 11,
     "metadata": {},
     "output_type": "execute_result"
    }
   ],
   "source": [
    "load_levels"
   ]
  },
  {
   "cell_type": "code",
   "execution_count": 12,
   "id": "0f5a0294",
   "metadata": {},
   "outputs": [
    {
     "data": {
      "text/plain": [
       "array([ 40.,  80., 120., 160.])"
      ]
     },
     "execution_count": 12,
     "metadata": {},
     "output_type": "execute_result"
    }
   ],
   "source": [
    "upper"
   ]
  },
  {
   "cell_type": "code",
   "execution_count": 16,
   "id": "16ceb90e",
   "metadata": {},
   "outputs": [],
   "source": [
    "def vel(m, h, P , P_electric = 250):\n",
    "    ### aer. resistence\n",
    "    Cd = 1.18\n",
    "    A = 0.83 #m^2\n",
    "    rho = 1.18 #kg/m^3\n",
    "\n",
    "    c_Fd = rho*Cd*A*0.5\n",
    "\n",
    "    ### rolling resistance\n",
    "    Cr = 0.01\n",
    "    g = 9.81 #m/s^2\n",
    "    \n",
    "    eta = 0.95\n",
    "        \n",
    "    c0 = P*eta\n",
    "    c1 = (m*g* ( Cr*np.cos( np.arctan(h) ) + np.sin( np.arctan(h) ) ))\n",
    "    c3 = c_Fd\n",
    "    \n",
    "    v_max = 30 #km/h\n",
    "   ### closed form solution of 3-rd degree polynomial\n",
    "\n",
    "    # p = c1/c3\n",
    "    # q = -c0/c3\n",
    "    # print(np.roots([1, 0, p, q]))\n",
    "    \n",
    "    ###\n",
    "    coefs = [c3, 0, c1, -eta*P]\n",
    "    coefs_electric = [c3, 0, c1, -eta*(P+P_electric)]        \n",
    "    v = np.max(np.real(3.6*np.roots(coefs)))\n",
    "    v_electric = np.max(np.real(3.6*np.roots(coefs_electric)))\n",
    "    if v > 25:\n",
    "        #print('up-cyclist only')\n",
    "        return min(v, v_max)\n",
    "    else:\n",
    "        #print('up-electric')\n",
    "        return min(v_electric, 25)\n",
    "\n",
    "\n",
    "def time_matrix(data_matrix, load_levels,P):\n",
    "    N = len(data_matrix.index)\n",
    "    elevation = data_matrix.elevation.to_numpy()\n",
    "    d_ij_mat = data_matrix.iloc[:, 8:].to_numpy()\n",
    "    t_ij_mat = np.zeros((N, N, n_levels))\n",
    "    for i in range(N):\n",
    "        for j in range(N):\n",
    "            if i!=j:\n",
    "                d_ij = d_ij_mat[i, j]\n",
    "                h = (elevation[j] - elevation[i])/d_ij\n",
    "                for l in range(n_levels):\n",
    "                    m = load_levels[l]\n",
    "                    #print(vel(m,h,P))\n",
    "                    t_ij_mat[i, j, l] =60*d_ij/vel(m, h, P, P_electric=250)\n",
    "    return np.round(t_ij_mat,4)"
   ]
  },
  {
   "cell_type": "markdown",
   "id": "d49c4328-7006-47b7-b406-93b6f5d21f7d",
   "metadata": {},
   "source": [
    "The forces acting on the bicyle are: the aerodynamic drag resistance $F_{D}$, the rolling resistance $F_{R}$ and the component of the gravity force along the direction of motion $F_{G}$:\n",
    "\n",
    "* $ F_{D} = \\frac{\\rho C_{D}Av^{2}}{2}$\n",
    "* $ F_{R} = C_{R}mg cos(arctan(h))$\n",
    "* $ F_{G} = mg sin(arctan(h))$\n",
    "\n",
    "We have to distinguish two cases: uphill and downhill.\n",
    "In uphill, the component of the gravity force along the direction of motion is a resistance force, while in downhill it helps the motion of the bicyle.\n",
    "so we have, at equilibrium:\n",
    "\n",
    "* $\\mathrm{ \\eta P_{traction} = (F_{D} + (F_{R} + F_{G})v }$\n",
    "\n",
    "where $\\eta$ is the efficiency of the mechanic transmission, which is assumed to be 0.95.\n",
    "\n",
    "If we use a negative h in the formuals above when traversing an edge with negative slope, since $cos(\\alpha) = cos(-\\alpha)$ and $sin(\\alpha) = -sin(-\\alpha)$, we have just one expression for the equation to solve.\n",
    "\n",
    "Moreover, we assume that the bicyle speed is limited in downhill for safety reasons. Within cities, a typical speed limit for for motor vehicles is 50km/h. Considering also that the regulation for pedelec bicyle allows a maximum speed of 25km/h in electric assisted mode, we set a maximum speed in downhill of 30km/h.\n",
    "The delta energy can be used for recharging the battery for example, similarly to other solutions in the automaotive industry.\n",
    "The maximum speed limit is imposed on uphill as well.\n",
    "The strategy for solving the equation is:\n",
    "* solve the equation for the two cases: (1) $P=P_{cyclist}$, and (2) $P=P_{cyclist}+P_{electric}$ \n",
    "* If the cyclist can reach a speed that is higher than the speed allowed in electric mode, use that speed, subject to the limit of maximum speed allowed,\n",
    "* otherwise use the minimum value among 25 km/h and the solution of problem (2)\n",
    "\n",
    "In practice we have $P_{electric}$ = 250W, while for $\\overline {P_{cyclist}}$ we assume to have few different types of cyclist."
   ]
  },
  {
   "cell_type": "code",
   "execution_count": 19,
   "id": "5f138fc0-3004-4c82-a132-abb9ae5ca5d0",
   "metadata": {},
   "outputs": [],
   "source": [
    "df = pd.read_csv(\"./instances/small/Fukuoka_01.csv\")\n",
    "P_ciclista = 150 # Watt\n",
    "\n",
    "t=time_matrix(df,load_levels,P=P_ciclista)"
   ]
  },
  {
   "cell_type": "code",
   "execution_count": 23,
   "id": "cdc2990d-5810-420c-ade4-5b06ee5c3b6a",
   "metadata": {},
   "outputs": [
    {
     "name": "stdout",
     "output_type": "stream",
     "text": [
      "{0: 0,\n",
      " 1: 0.456,\n",
      " 2: 1.8144,\n",
      " 3: 3.1721,\n",
      " 4: 4.1537,\n",
      " 5: 4.1697,\n",
      " 6: 4.5137,\n",
      " 7: 6.0537,\n",
      " 8: 5.9869,\n",
      " 9: 8.3614,\n",
      " 10: 7.7014000000000005,\n",
      " 11: 7.1433,\n",
      " 12: 4.0309,\n",
      " 13: 3.8477,\n",
      " 14: 5.3289,\n",
      " 15: 7.501200000000001,\n",
      " 16: 7.138199999999999,\n",
      " 17: 2.8697,\n",
      " 18: 2.4377,\n",
      " 19: 1.3866,\n",
      " 20: 2.6727}\n",
      "{0: None,\n",
      " 1: 0,\n",
      " 2: 1,\n",
      " 3: 2,\n",
      " 4: 18,\n",
      " 5: 18,\n",
      " 6: 18,\n",
      " 7: 13,\n",
      " 8: 12,\n",
      " 9: 10,\n",
      " 10: 1,\n",
      " 11: 1,\n",
      " 12: 1,\n",
      " 13: 1,\n",
      " 14: 12,\n",
      " 15: 1,\n",
      " 16: 14,\n",
      " 17: 18,\n",
      " 18: 0,\n",
      " 19: 0,\n",
      " 20: 19}\n"
     ]
    }
   ],
   "source": [
    "def extract_min(Q,distance):\n",
    "    minimo=float(\"inf\") #highest python value\n",
    "    nome=\"\"\n",
    "    for q in Q: #find the smallest\n",
    "        if distance[q] <= minimo:\n",
    "            nome=q\n",
    "            minimo=distance[q]\n",
    "    Q.remove(nome) #remove the correct node from the que\n",
    "    return nome # tell me wich node is removed\n",
    "\n",
    "def dijkstra(source,weight_matrix,l=0):\n",
    "    distance=dict() #dict for distance from source\n",
    "    parent=dict() #dict for parentnes of each node\n",
    "    nodes=np.array([i for i in range(len(weight_matrix))]) #list of current node to iterate\n",
    "    for node in nodes:\n",
    "        distance[node]=float(\"inf\") \n",
    "        parent[node]=None\n",
    "    distance[source]=0\n",
    "    S=[]\n",
    "    Q={node for node in nodes} #set used ad que, coupled with distance dict\n",
    "    while len(Q)>0:\n",
    "        u=extract_min(Q,distance) #extract the min from Q,using distance dict\n",
    "        S.append(u) #ultimated nodes\n",
    "        for v,w in enumerate(weight_matrix[u]): #for each node v, outgoing from u, with weight w\n",
    "            if distance[v] > distance[u] + w[l]: #relax phase\n",
    "                distance[v]= distance[u] + w[l]\n",
    "                parent[v]=u\n",
    "        #print(f\"{u = }\")\n",
    "        #print(f\"{distance = }\")\n",
    "    return distance,parent #return distances from source and each node parent !\n",
    "            \n",
    "dist,parent = dijkstra(0,t)\n",
    "pprint(dist)\n",
    "pprint(parent)"
   ]
  },
  {
   "cell_type": "code",
   "execution_count": 31,
   "id": "49ade925-7d05-447d-926e-c2a63a9262af",
   "metadata": {},
   "outputs": [
    {
     "name": "stdout",
     "output_type": "stream",
     "text": [
      "\t0.0 \t0.456 \t2.049 \t4.208 \t5.734 \t6.899 \t8.16 \t10.234 \t11.427 \t11.768 \t8.897 \t8.338 \t5.235 \t4.504 \t7.498 \t8.34 \t9.217 \t3.095 \t2.438 \t1.387 \t2.769 \n",
      "\n",
      "\t0.456 \t0.0 \t1.358 \t2.876 \t4.333 \t5.558 \t6.893 \t8.836 \t9.786 \t10.12 \t7.245 \t6.687 \t3.575 \t3.392 \t6.787 \t7.045 \t8.765 \t3.865 \t3.561 \t1.91 \t2.443 \n",
      "\n",
      "\t0.696 \t0.36 \t0.0 \t1.358 \t2.797 \t4.057 \t5.446 \t7.326 \t8.418 \t9.381 \t6.802 \t5.888 \t3.14 \t2.948 \t6.344 \t6.602 \t8.322 \t3.432 \t3.378 \t0.989 \t2.812 \n",
      "\n",
      "\t1.01 \t0.674 \t0.314 \t0.0 \t1.439 \t2.68 \t3.916 \t5.964 \t7.16 \t8.121 \t6.915 \t4.627 \t3.392 \t3.93 \t6.923 \t7.045 \t8.738 \t1.488 \t4.566 \t1.138 \t0.988 \n",
      "\n",
      "\t1.342 \t1.006 \t0.646 \t0.332 \t0.0 \t0.3 \t0.646 \t4.498 \t6.187 \t8.138 \t6.932 \t4.644 \t4.835 \t5.366 \t8.352 \t8.488 \t10.178 \t1.82 \t1.716 \t1.47 \t1.32 \n",
      "\n",
      "\t1.642 \t1.306 \t0.946 \t0.632 \t1.229 \t0.0 \t0.344 \t3.255 \t4.886 \t7.026 \t5.906 \t5.366 \t6.138 \t6.662 \t9.644 \t8.088 \t9.971 \t2.122 \t3.554 \t1.772 \t1.62 \n",
      "\n",
      "\t1.988 \t1.65 \t1.292 \t0.978 \t2.499 \t1.158 \t0.0 \t1.78 \t3.383 \t5.714 \t5.689 \t5.87 \t7.63 \t8.143 \t9.955 \t7.871 \t9.754 \t2.466 \t4.878 \t2.116 \t1.964 \n",
      "\n",
      "\t2.398 \t2.06 \t1.702 \t1.388 \t1.056 \t0.754 \t0.41 \t0.0 \t2.227 \t4.558 \t5.01 \t5.739 \t9.035 \t9.467 \t9.791 \t7.74 \t9.621 \t2.87 \t2.48 \t2.526 \t2.374 \n",
      "\n",
      "\t2.634 \t2.254 \t1.938 \t1.648 \t1.424 \t1.124 \t0.778 \t0.512 \t0.0 \t2.47 \t2.923 \t4.546 \t8.15 \t1.906 \t1.868 \t5.99 \t7.861 \t2.422 \t2.362 \t2.766 \t2.614 \n",
      "\n",
      "\t2.708 \t2.328 \t2.158 \t1.868 \t1.872 \t1.616 \t1.314 \t1.048 \t0.568 \t0.0 \t2.87 \t1.188 \t2.03 \t1.894 \t1.856 \t5.913 \t5.02 \t2.41 \t2.378 \t2.936 \t2.834 \n",
      "\n",
      "\t2.046 \t1.666 \t1.564 \t1.59 \t1.594 \t1.358 \t1.308 \t1.152 \t0.672 \t0.66 \t0.0 \t0.526 \t1.368 \t1.234 \t1.196 \t0.706 \t1.14 \t1.748 \t1.718 \t2.274 \t2.248 \n",
      "\n",
      "\t1.918 \t1.538 \t1.354 \t1.064 \t1.068 \t1.234 \t1.35 \t1.32 \t1.048 \t5.122 \t2.288 \t0.0 \t1.24 \t1.162 \t1.28 \t3.443 \t5.297 \t1.834 \t1.646 \t2.146 \t2.03 \n",
      "\n",
      "\t1.204 \t0.822 \t0.722 \t0.78 \t1.112 \t1.412 \t1.756 \t2.082 \t1.956 \t8.757 \t5.947 \t5.302 \t0.0 \t0.608 \t1.298 \t5.754 \t7.42 \t1.454 \t1.064 \t1.432 \t1.406 \n",
      "\n",
      "\t1.036 \t0.78 \t0.678 \t0.904 \t1.236 \t1.536 \t1.88 \t2.206 \t8.09 \t8.225 \t5.366 \t5.049 \t2.643 \t0.0 \t3.323 \t3.818 \t5.174 \t0.866 \t0.476 \t1.378 \t1.362 \n",
      "\n",
      "\t1.726 \t1.562 \t1.46 \t1.594 \t1.926 \t2.226 \t2.298 \t2.268 \t7.279 \t8.055 \t5.201 \t5.554 \t5.605 \t0.774 \t0.0 \t2.244 \t1.809 \t0.982 \t1.164 \t2.068 \t2.144 \n",
      "\n",
      "\t1.918 \t1.62 \t1.518 \t1.62 \t1.952 \t1.86 \t1.81 \t1.78 \t1.378 \t1.366 \t3.056 \t0.792 \t1.324 \t0.878 \t0.516 \t0.0 \t0.436 \t1.186 \t1.362 \t2.266 \t2.248 \n",
      "\n",
      "\t2.12 \t2.016 \t1.914 \t2.01 \t2.342 \t2.294 \t2.244 \t2.214 \t1.812 \t1.8 \t4.951 \t1.226 \t1.714 \t1.19 \t0.416 \t1.896 \t0.0 \t1.376 \t1.558 \t2.462 \t2.658 \n",
      "\n",
      "\t0.786 \t1.048 \t1.172 \t4.855 \t7.48 \t8.312 \t9.117 \t12.029 \t10.509 \t10.475 \t7.602 \t7.972 \t6.321 \t3.765 \t4.27 \t5.158 \t5.984 \t0.0 \t1.874 \t1.128 \t1.654 \n",
      "\n",
      "\t0.562 \t0.824 \t0.782 \t1.098 \t1.716 \t1.732 \t2.076 \t9.672 \t10.239 \t10.334 \t7.471 \t7.155 \t4.626 \t2.07 \t5.058 \t5.923 \t6.775 \t0.432 \t0.0 \t0.904 \t1.1 \n",
      "\n",
      "\t0.37 \t0.608 \t0.989 \t4.567 \t6.23 \t7.332 \t8.483 \t10.731 \t11.994 \t12.756 \t9.888 \t9.327 \t6.226 \t5.986 \t8.976 \t9.853 \t10.701 \t3.367 \t3.895 \t0.0 \t1.286 \n",
      "\n",
      "\t0.676 \t0.588 \t0.754 \t3.564 \t5.557 \t6.573 \t7.575 \t10.057 \t11.337 \t12.314 \t9.775 \t8.823 \t6.113 \t5.916 \t9.302 \t9.774 \t11.551 \t1.324 \t4.677 \t0.304 \t0.0 \n",
      "\n"
     ]
    }
   ],
   "source": [
    "for i in t[:,:,0]:\n",
    "    for j in i:\n",
    "        print(f\"\\t{round(j,3)}\",end=\" \")\n",
    "    print(\"\\n\")"
   ]
  },
  {
   "cell_type": "code",
   "execution_count": 26,
   "id": "4821a9c3-53c9-4067-a974-878b2ac87eac",
   "metadata": {},
   "outputs": [
    {
     "name": "stdout",
     "output_type": "stream",
     "text": [
      "405 µs ± 13.1 µs per loop (mean ± std. dev. of 7 runs, 1,000 loops each)\n"
     ]
    }
   ],
   "source": [
    "%%timeit\n",
    "dist,parent = dijkstra(0,t)\n"
   ]
  },
  {
   "cell_type": "code",
   "execution_count": 30,
   "id": "3f2bd1b3-57da-48f7-865d-5430f58bc082",
   "metadata": {},
   "outputs": [],
   "source": [
    "def shortest_path_matrix(t_ij_mat):\n",
    "    sp_matrix=np.empty_like(t_ij_mat)\n",
    "    nodes=np.array([i for i in range(t_ij_mat.shape[0])])\n",
    "    levels=np.array([i for i in range(t_ij_mat.shape[-1])])\n",
    "    for source in nodes:\n",
    "        for l in levels:\n",
    "            distance,_t=dijkstra(source,t_ij_mat,l)\n",
    "            sp_matrix[source,:,l]=list(distance.values())\n",
    "    return sp_matrix\n",
    "\n"
   ]
  },
  {
   "cell_type": "code",
   "execution_count": 29,
   "id": "d5b678b6-0619-4bac-915c-1f9d8b2b1d4d",
   "metadata": {},
   "outputs": [
    {
     "ename": "ValueError",
     "evalue": "too many values to unpack (expected 2)",
     "output_type": "error",
     "traceback": [
      "\u001b[0;31m---------------------------------------------------------------------------\u001b[0m",
      "\u001b[0;31mValueError\u001b[0m                                Traceback (most recent call last)",
      "Input \u001b[0;32mIn [33]\u001b[0m, in \u001b[0;36m<cell line: 2>\u001b[0;34m()\u001b[0m\n\u001b[1;32m      1\u001b[0m sp \u001b[38;5;241m=\u001b[39m shortest_path_matrix(t)\n\u001b[1;32m      2\u001b[0m \u001b[38;5;28;01mfor\u001b[39;00m i,ii \u001b[38;5;129;01min\u001b[39;00m \u001b[38;5;28mzip\u001b[39m(sp[:,:,\u001b[38;5;241m0\u001b[39m],t[:,:,\u001b[38;5;241m0\u001b[39m]):\n\u001b[0;32m----> 3\u001b[0m     \u001b[38;5;28;01mfor\u001b[39;00m j,jj \u001b[38;5;129;01min\u001b[39;00m (i,ii):\n\u001b[1;32m      4\u001b[0m         \u001b[38;5;28mprint\u001b[39m(\u001b[38;5;124mf\u001b[39m\u001b[38;5;124m\"\u001b[39m\u001b[38;5;130;01m\\t\u001b[39;00m\u001b[38;5;132;01m{\u001b[39;00m\u001b[38;5;28mround\u001b[39m(j,\u001b[38;5;241m2\u001b[39m)\u001b[38;5;132;01m}\u001b[39;00m\u001b[38;5;124m\"\u001b[39m,end\u001b[38;5;241m=\u001b[39m\u001b[38;5;124m\"\u001b[39m\u001b[38;5;124m \u001b[39m\u001b[38;5;124m\"\u001b[39m)\n\u001b[1;32m      5\u001b[0m         \u001b[38;5;28mprint\u001b[39m(\u001b[38;5;124mf\u001b[39m\u001b[38;5;124m\"\u001b[39m\u001b[38;5;130;01m\\t\u001b[39;00m\u001b[38;5;132;01m{\u001b[39;00m\u001b[38;5;28mround\u001b[39m(jj,\u001b[38;5;241m2\u001b[39m)\u001b[38;5;132;01m}\u001b[39;00m\u001b[38;5;124m\"\u001b[39m)\n",
      "\u001b[0;31mValueError\u001b[0m: too many values to unpack (expected 2)"
     ]
    }
   ],
   "source": [
    "\n",
    "sp = shortest_path_matrix(t)\n",
    "for i,ii in (sp[:,:,0]:\n",
    "    for j in i:\n",
    "        print(f\"\\t{round(j,2)}\",end=\" \")\n",
    "    print(\"\\n\")\n",
    "    "
   ]
  },
  {
   "cell_type": "code",
   "execution_count": null,
   "id": "3e24ca71-21a3-41dd-bf06-cc9aee167f44",
   "metadata": {},
   "outputs": [],
   "source": []
  }
 ],
 "metadata": {
  "kernelspec": {
   "display_name": "Python 3 (ipykernel)",
   "language": "python",
   "name": "python3"
  },
  "language_info": {
   "codemirror_mode": {
    "name": "ipython",
    "version": 3
   },
   "file_extension": ".py",
   "mimetype": "text/x-python",
   "name": "python",
   "nbconvert_exporter": "python",
   "pygments_lexer": "ipython3",
   "version": "3.9.12"
  }
 },
 "nbformat": 4,
 "nbformat_minor": 5
}
