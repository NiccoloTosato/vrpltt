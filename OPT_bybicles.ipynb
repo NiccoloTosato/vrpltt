{
 "cells": [
  {
   "cell_type": "code",
   "execution_count": 1,
   "id": "404deb73",
   "metadata": {},
   "outputs": [],
   "source": [
    "import gurobipy as gp\n",
    "from gurobipy import GRB\n",
    "import numpy as np\n",
    "import pandas as pd\n",
    "from pprint import pprint\n"
   ]
  },
  {
   "cell_type": "code",
   "execution_count": 2,
   "id": "16ceb90e",
   "metadata": {},
   "outputs": [],
   "source": [
    "def vel(m, h, P , P_electric = 250):\n",
    "    ### aer. resistence\n",
    "    Cd = 1.18\n",
    "    A = 0.83 #m^2\n",
    "    rho = 1.18 #kg/m^3\n",
    "\n",
    "    c_Fd = rho*Cd*A*0.5\n",
    "\n",
    "    ### rolling resistance\n",
    "    Cr = 0.01\n",
    "    g = 9.81 #m/s^2\n",
    "    \n",
    "    eta = 0.95\n",
    "        \n",
    "    c0 = P*eta\n",
    "    c1 = (m*g* ( Cr*np.cos( np.arctan(h) ) + np.sin( np.arctan(h) ) ))\n",
    "    c3 = c_Fd\n",
    "    \n",
    "    v_max = 30 #km/h\n",
    "   ### closed form solution of 3-rd degree polynomial\n",
    "\n",
    "    # p = c1/c3\n",
    "    # q = -c0/c3\n",
    "    # print(np.roots([1, 0, p, q]))\n",
    "    \n",
    "    ###\n",
    "    coefs = [c3, 0, c1, -eta*P]\n",
    "    coefs_electric = [c3, 0, c1, -eta*(P+P_electric)]        \n",
    "    v = np.max(np.real(3.6*np.roots(coefs)))\n",
    "    v_electric = np.max(np.real(3.6*np.roots(coefs_electric)))\n",
    "    if v > 25:\n",
    "        #print('up-cyclist only')\n",
    "        return min(v, v_max)\n",
    "    else:\n",
    "        #print('up-electric')\n",
    "        return min(v_electric, 25)\n",
    "\n",
    "\n",
    "def time_matrix(data_matrix, load_levels,P):\n",
    "    N = len(data_matrix.index)\n",
    "    elevation = data_matrix.elevation.to_numpy()\n",
    "    d_ij_mat = data_matrix.iloc[:, 8:].to_numpy()\n",
    "    t_ij_mat = np.zeros((N, N, n_levels))\n",
    "    for i in range(N):\n",
    "        for j in range(N):\n",
    "            if i!=j:\n",
    "                d_ij = d_ij_mat[i, j]\n",
    "                h = (elevation[j] - elevation[i])/d_ij\n",
    "                for l in range(n_levels):\n",
    "                    m = load_levels[l] + 140\n",
    "                    #print(vel(m,h,P))\n",
    "                    t_ij_mat[i, j, l] =60*d_ij/vel(m, h, P, P_electric=250)\n",
    "    return np.round(t_ij_mat,4)"
   ]
  },
  {
   "cell_type": "markdown",
   "id": "d49c4328-7006-47b7-b406-93b6f5d21f7d",
   "metadata": {},
   "source": [
    "The forces acting on the bicyle are: the aerodynamic drag resistance $F_{D}$, the rolling resistance $F_{R}$ and the component of the gravity force along the direction of motion $F_{G}$:\n",
    "\n",
    "* $ F_{D} = \\frac{\\rho C_{D}Av^{2}}{2}$\n",
    "* $ F_{R} = C_{R}mg cos(arctan(h))$\n",
    "* $ F_{G} = mg sin(arctan(h))$\n",
    "\n",
    "We have to distinguish two cases: uphill and downhill.\n",
    "In uphill, the component of the gravity force along the direction of motion is a resistance force, while in downhill it helps the motion of the bicyle.\n",
    "so we have, at equilibrium:\n",
    "\n",
    "* $\\mathrm{ \\eta P_{traction} = (F_{D} + (F_{R} + F_{G})v }$\n",
    "\n",
    "where $\\eta$ is the efficiency of the mechanic transmission, which is assumed to be 0.95.\n",
    "\n",
    "If we use a negative h in the formuals above when traversing an edge with negative slope, since $cos(\\alpha) = cos(-\\alpha)$ and $sin(\\alpha) = -sin(-\\alpha)$, we have just one expression for the equation to solve.\n",
    "\n",
    "Moreover, we assume that the bicyle speed is limited in downhill for safety reasons. Within cities, a typical speed limit for for motor vehicles is 50km/h. Considering also that the regulation for pedelec bicyle allows a maximum speed of 25km/h in electric assisted mode, we set a maximum speed in downhill of 30km/h.\n",
    "The delta energy can be used for recharging the battery for example, similarly to other solutions in the automaotive industry.\n",
    "The maximum speed limit is imposed on uphill as well.\n",
    "The strategy for solving the equation is:\n",
    "* solve the equation for the two cases: (1) $P=P_{cyclist}$, and (2) $P=P_{cyclist}+P_{electric}$ \n",
    "* If the cyclist can reach a speed that is higher than the speed allowed in electric mode, use that speed, subject to the limit of maximum speed allowed,\n",
    "* otherwise use the minimum value among 25 km/h and the solution of problem (2)\n",
    "\n",
    "In practice we have $P_{electric}$ = 250W, while for $\\overline {P_{cyclist}}$ we assume to have few different types of cyclist."
   ]
  },
  {
   "cell_type": "code",
   "execution_count": 3,
   "id": "cdc2990d-5810-420c-ade4-5b06ee5c3b6a",
   "metadata": {},
   "outputs": [],
   "source": [
    "def extract_min(Q,distance):\n",
    "    minimo=float(\"inf\") #highest python value\n",
    "    nome=\"\"\n",
    "    for q in Q: #find the smallest\n",
    "        if distance[q] <= minimo:\n",
    "            nome=q\n",
    "            minimo=distance[q]\n",
    "    Q.remove(nome) #remove the correct node from the que\n",
    "    return nome # tell me wich node is removed\n",
    "\n",
    "def dijkstra(source,weight_matrix,l=0):\n",
    "    distance=dict() #dict for distance from source\n",
    "    parent=dict() #dict for parentnes of each node\n",
    "    nodes=np.array([i for i in range(len(weight_matrix))]) #list of current node to iterate\n",
    "    for node in nodes:\n",
    "        distance[node]=float(\"inf\") \n",
    "        parent[node]=None\n",
    "    distance[source]=0\n",
    "    S=[]\n",
    "    Q={node for node in nodes} #set used ad que, coupled with distance dict\n",
    "    while len(Q)>0:\n",
    "        u=extract_min(Q,distance) #extract the min from Q,using distance dict\n",
    "        S.append(u) #ultimated nodes\n",
    "        for v,w in enumerate(weight_matrix[u]): #for each node v, outgoing from u, with weight w\n",
    "            if distance[v] > distance[u] + w[l]: #relax phase\n",
    "                distance[v]= distance[u] + w[l]\n",
    "                parent[v]=u\n",
    "        #print(f\"{u = }\")\n",
    "        #print(f\"{distance = }\")\n",
    "    return distance,parent #return distances from source and each node parent !\n"
   ]
  },
  {
   "cell_type": "code",
   "execution_count": 4,
   "id": "3f2bd1b3-57da-48f7-865d-5430f58bc082",
   "metadata": {},
   "outputs": [],
   "source": [
    "def shortest_path_matrix(t_ij_mat):\n",
    "    sp_matrix=np.empty_like(t_ij_mat)\n",
    "    nodes=np.array([i for i in range(t_ij_mat.shape[0])])\n",
    "    levels=np.array([i for i in range(t_ij_mat.shape[-1])])\n",
    "    for source in nodes:\n",
    "        for l in levels:\n",
    "            distance,_t=dijkstra(source,t_ij_mat,l)\n",
    "            sp_matrix[source,:,l]=list(distance.values())\n",
    "    return sp_matrix\n",
    "\n"
   ]
  },
  {
   "cell_type": "code",
   "execution_count": 5,
   "id": "6f9e79ca-0c35-4ac6-a120-88bbe43736e3",
   "metadata": {},
   "outputs": [],
   "source": [
    "# df=pd.read_csv(\"./instances/small/Fukuoka_03.csv\")\n",
    "df=pd.read_csv(\"./instances/small/Madrid_01.csv\")\n",
    "N=len(df.index) # customers + depot\n",
    "N0=N-1 #customers\n",
    "\n"
   ]
  },
  {
   "cell_type": "code",
   "execution_count": 6,
   "id": "e74c4629",
   "metadata": {},
   "outputs": [
    {
     "name": "stdout",
     "output_type": "stream",
     "text": [
      "[160.]\n",
      "[0.]\n"
     ]
    },
    {
     "data": {
      "text/plain": [
       "array([80.])"
      ]
     },
     "execution_count": 6,
     "metadata": {},
     "output_type": "execute_result"
    }
   ],
   "source": [
    "Q_min = 0\n",
    "Q_max = 160\n",
    "n_levels = 1\n",
    "load_levels = np.array([(0.5+i)*(Q_max-Q_min)/n_levels for i in range(n_levels)])\n",
    "upper = load_levels+(Q_max-Q_min)/(n_levels*2)\n",
    "lower = load_levels-(Q_max-Q_min)/(n_levels*2)\n",
    "print(upper)\n",
    "print(lower)\n",
    "load_levels"
   ]
  },
  {
   "cell_type": "code",
   "execution_count": 7,
   "id": "3e24ca71-21a3-41dd-bf06-cc9aee167f44",
   "metadata": {},
   "outputs": [
    {
     "name": "stdout",
     "output_type": "stream",
     "text": [
      "[ 0. 98. 42. 69. 19. 62. 73. 78. 84.  7. 75. 68. 11. 91. 82. 99. 96. 96.\n",
      " 16. 86. 34.]\n",
      "[2167.  123.  121.   96.  112.   77.  123.   99.  112.   71.  124.   83.\n",
      "  125.  123.  102.  122.  138.  131.   31.  119.  135.]\n"
     ]
    }
   ],
   "source": [
    "s=df.s.to_numpy() #service time\n",
    "s[0]=0\n",
    "a=df[\"tw a\"].to_numpy()\n",
    "a[0] = 0\n",
    "b=df[\"tw b\"].to_numpy()\n",
    "b[0]=np.sum(b[1:])\n",
    "t_ij_L=time_matrix(df,load_levels,P=500)\n",
    "t_ij=shortest_path_matrix(t_ij_L)\n",
    "demand=df.demand.to_numpy()/1\n",
    "demand[0]=0\n",
    "demand=demand/10\n",
    "Q=150\n",
    "M_ij=np.empty((N,N)) \n",
    "for i in range(N):\n",
    "    for j in range(N):\n",
    "        M_ij[i,j]=max([0,b[i]+s[i]+t_ij[i,j,-1]-a[j]])\n",
    "        #print(f\"\\t{round(M_ij[i,j],2)}\",end=\" \")\n",
    "    #print(\"\")\n",
    "print(a)\n",
    "print(b)"
   ]
  },
  {
   "cell_type": "code",
   "execution_count": 8,
   "id": "1525ae86",
   "metadata": {},
   "outputs": [
    {
     "name": "stdout",
     "output_type": "stream",
     "text": [
      "Set parameter Username\n",
      "Academic license - for non-commercial use only - expires 2022-07-18\n"
     ]
    }
   ],
   "source": [
    "model = gp.Model(\"VRPLTT\")\n",
    "\n",
    "\n"
   ]
  },
  {
   "cell_type": "code",
   "execution_count": 9,
   "id": "40069eaf-b6b5-4473-9f4e-19b839c757fc",
   "metadata": {},
   "outputs": [],
   "source": [
    "x_ij=model.addVars( [(i,j) for i in range(N) for j in range(N)],vtype=GRB.BINARY,name=\"x_ij\") #c16\n",
    "z_ij=model.addMVar( (N,N,n_levels),vtype=GRB.BINARY,name=\"z_ij\") #c18\n",
    "y_i=model.addVars([i for i in range(N)],vtype=GRB.CONTINUOUS,lb=0,name=\"y_i\") #\n",
    "f_ij=model.addVars( [(i,j) for i in range(N) for j in range(N)],vtype=GRB.CONTINUOUS,lb=0,name=\"f_ij\") #c17\n"
   ]
  },
  {
   "cell_type": "code",
   "execution_count": 10,
   "id": "df2e4f9a-5310-4820-aa41-bf0218660ef9",
   "metadata": {},
   "outputs": [],
   "source": [
    "c8 = model.addConstrs( gp.quicksum( x_ij[i,j] for j in range(0,N) ) == 1\n",
    "                                         for i in range(1,N))\n",
    "c9 = model.addConstrs( gp.quicksum( x_ij[j,i] for j in range(0,N) ) == 1\n",
    "                                         for i in range(1,N))"
   ]
  },
  {
   "cell_type": "code",
   "execution_count": 11,
   "id": "3990c841-d457-4c7c-80f2-c209f57e638c",
   "metadata": {},
   "outputs": [],
   "source": [
    "c10 = model.addConstrs( gp.quicksum( f_ij[j,i]-f_ij[i,j] for j in range(0,N) ) == demand[i] for i in range(1,N) )"
   ]
  },
  {
   "cell_type": "code",
   "execution_count": 12,
   "id": "f998aae2-7e32-49ee-8dcb-3725320ac935",
   "metadata": {},
   "outputs": [],
   "source": [
    "c11_l = model.addConstrs( demand[j]*x_ij[i,j] <= f_ij[i,j] for i in range(0,N) for j in range(0,N))\n",
    "c11_u = model.addConstrs( f_ij[i,j]<= (Q-demand[i])*x_ij[i,j] for i in range(0,N) for j in range(0,N))"
   ]
  },
  {
   "cell_type": "code",
   "execution_count": 13,
   "id": "bb3754da-128e-426c-861a-2dfc0503d352",
   "metadata": {},
   "outputs": [],
   "source": [
    "c12 = model.addConstrs( gp.quicksum( z_ij[i,j,l] for l in range(n_levels) ) == x_ij[i,j] for i in range(0,N) for j in range(0,N))\n"
   ]
  },
  {
   "cell_type": "code",
   "execution_count": 14,
   "id": "6303fa81-deb0-4b1d-9940-a8d4bf55d280",
   "metadata": {},
   "outputs": [],
   "source": [
    "c13_l = model.addConstrs( lower @ z_ij[i,j,:] <= f_ij[i,j] for i in range(N) for j in range(N))\n",
    "c13_u = model.addConstrs( upper @ z_ij[i,j,:] >= f_ij[i,j] for i in range(N) for j in range(N)) "
   ]
  },
  {
   "cell_type": "code",
   "execution_count": 15,
   "id": "d93e0dfa-9c96-4d6f-9a55-1d95a2867813",
   "metadata": {},
   "outputs": [],
   "source": [
    "c14 = model.addConstrs( y_i[i] - y_i[j] + s[i] + t_ij[i,j,:] @ z_ij[i,j,:] <= M_ij[i,j]*(1-x_ij[i,j]) for i in range(0,N) for j in range(1,N) if i != j )"
   ]
  },
  {
   "cell_type": "code",
   "execution_count": 16,
   "id": "a7515d1d-af2c-41cd-9b82-0f40f77f5c84",
   "metadata": {},
   "outputs": [],
   "source": [
    "c15_l = model.addConstrs( y_i[i] >= a[i] for i in range(1,N))\n",
    "c15_u = model.addConstrs( y_i[i] <= b[i] for i in range(1,N))"
   ]
  },
  {
   "cell_type": "code",
   "execution_count": 17,
   "id": "7454c7c4-4696-4aef-803d-a33fa253ed59",
   "metadata": {},
   "outputs": [],
   "source": [
    "# c_nostro = model.addConstr(gp.quicksum(f_ij[i,0] for i in range(1,N)) == 0)"
   ]
  },
  {
   "cell_type": "code",
   "execution_count": 18,
   "id": "d50a76bd-161d-44f8-92d5-b0fb93f572b3",
   "metadata": {},
   "outputs": [],
   "source": [
    "obj = model.setObjective(gp.quicksum( t_ij[i,j,:] @ z_ij[i,j,:] for i in range(0,N) for j in range(0,N)) ,GRB.MINIMIZE)"
   ]
  },
  {
   "cell_type": "code",
   "execution_count": 19,
   "id": "cb05ce36-834d-45ed-a19b-9ddfb553cb8c",
   "metadata": {},
   "outputs": [
    {
     "name": "stdout",
     "output_type": "stream",
     "text": [
      "Gurobi Optimizer version 9.5.1 build v9.5.1rc2 (linux64)\n",
      "Thread count: 8 physical cores, 8 logical processors, using up to 8 threads\n",
      "Optimize a model with 2705 rows, 1344 columns and 7198 nonzeros\n",
      "Model fingerprint: 0x9e3c8c0e\n",
      "Variable types: 462 continuous, 882 integer (882 binary)\n",
      "Coefficient statistics:\n",
      "  Matrix range     [3e-01, 2e+03]\n",
      "  Objective range  [3e-01, 4e+01]\n",
      "  Bounds range     [1e+00, 1e+00]\n",
      "  RHS range        [3e-01, 2e+03]\n",
      "Presolve removed 1733 rows and 664 columns\n",
      "Presolve time: 0.03s\n",
      "Presolved: 972 rows, 680 columns, 6747 nonzeros\n",
      "Variable types: 359 continuous, 321 integer (321 binary)\n",
      "Found heuristic solution: objective 368.4217000\n",
      "\n",
      "Root relaxation: objective 7.896567e+01, 301 iterations, 0.01 seconds (0.00 work units)\n",
      "\n",
      "    Nodes    |    Current Node    |     Objective Bounds      |     Work\n",
      " Expl Unexpl |  Obj  Depth IntInf | Incumbent    BestBd   Gap | It/Node Time\n",
      "\n",
      "     0     0   78.96567    0   29  368.42170   78.96567  78.6%     -    0s\n",
      "H    0     0                     170.4617000   78.96567  53.7%     -    0s\n",
      "H    0     0                     127.6176000   78.96567  38.1%     -    0s\n",
      "H    0     0                     121.3783000   78.96567  34.9%     -    0s\n",
      "H    0     0                     118.0224000   78.96567  33.1%     -    0s\n",
      "     0     0   84.15199    0   23  118.02240   84.15199  28.7%     -    0s\n",
      "     0     0   84.90248    0   28  118.02240   84.90248  28.1%     -    0s\n",
      "H    0     0                     112.6852000   84.90248  24.7%     -    0s\n",
      "     0     0   84.90248    0   28  112.68520   84.90248  24.7%     -    0s\n",
      "     0     0   87.93910    0   26  112.68520   87.93910  22.0%     -    0s\n",
      "     0     0   88.37739    0   30  112.68520   88.37739  21.6%     -    0s\n",
      "     0     0   88.38615    0   25  112.68520   88.38615  21.6%     -    0s\n",
      "     0     0   88.51025    0   25  112.68520   88.51025  21.5%     -    0s\n",
      "H    0     0                     107.5896000   88.53618  17.7%     -    0s\n",
      "     0     0   88.53618    0   25  107.58960   88.53618  17.7%     -    0s\n",
      "H    0     0                     104.7656000   89.55061  14.5%     -    0s\n",
      "     0     0   89.71571    0   27  104.76560   89.71571  14.4%     -    0s\n",
      "     0     0   89.90101    0   27  104.76560   89.90101  14.2%     -    0s\n",
      "H    0     0                     102.4837000   89.90101  12.3%     -    0s\n",
      "     0     2   89.90101    0   27  102.48370   89.90101  12.3%     -    0s\n",
      "H   37    33                     102.2101000   89.90101  12.0%  37.4    0s\n",
      "*   56    49               9     101.7454000   89.90101  11.6%  37.3    0s\n",
      "H  119    64                     101.2574000   89.90101  11.2%  28.4    0s\n",
      "*  134    64              12     101.2297000   89.90101  11.2%  28.8    0s\n",
      "*  207    73               6     100.6653000   90.23477  10.4%  27.8    0s\n",
      "*  567     5              21     100.4257000   97.58915  2.82%  23.5    0s\n",
      "\n",
      "Cutting planes:\n",
      "  Learned: 1\n",
      "  Gomory: 5\n",
      "  Cover: 28\n",
      "  Implied bound: 11\n",
      "  Clique: 1\n",
      "  MIR: 30\n",
      "  StrongCG: 6\n",
      "  Flow cover: 7\n",
      "  Flow path: 17\n",
      "  GUB cover: 10\n",
      "  Inf proof: 2\n",
      "  Network: 1\n",
      "  RLT: 4\n",
      "  Relax-and-lift: 3\n",
      "\n",
      "Explored 633 nodes (14837 simplex iterations) in 0.54 seconds (0.31 work units)\n",
      "Thread count was 8 (of 8 available processors)\n",
      "\n",
      "Solution count 10: 100.426 100.665 101.23 ... 112.685\n",
      "\n",
      "Optimal solution found (tolerance 1.00e-04)\n",
      "Best objective 1.004257000000e+02, best bound 1.004257000000e+02, gap 0.0000%\n"
     ]
    }
   ],
   "source": [
    "model.optimize()\n"
   ]
  },
  {
   "cell_type": "code",
   "execution_count": 20,
   "id": "b399d89e-8ba9-458a-b0ec-a94892574c43",
   "metadata": {},
   "outputs": [
    {
     "data": {
      "text/plain": [
       "[(0, 0.0),\n",
       " (18, 23.36180000000013),\n",
       " (9, 29.523799999999675),\n",
       " (20, 35.27979999999968),\n",
       " (2, 42.0),\n",
       " (5, 61.99999999999995),\n",
       " (12, 66.74139999999994),\n",
       " (4, 67.59999999999995),\n",
       " (3, 78.6044),\n",
       " (11, 82.99999999999996),\n",
       " (7, 85.76969999999997),\n",
       " (19, 89.75),\n",
       " (14, 91.67969999999998),\n",
       " (16, 96.0),\n",
       " (13, 97.12969999999999),\n",
       " (17, 101.46000000000001),\n",
       " (1, 106.3942),\n",
       " (15, 107.40800000000002),\n",
       " (8, 112.0),\n",
       " (6, 123.0),\n",
       " (10, 123.99999999999997)]"
      ]
     },
     "execution_count": 20,
     "metadata": {},
     "output_type": "execute_result"
    }
   ],
   "source": [
    "l=[]\n",
    "for i in y_i:\n",
    "    l.append((i,y_i[i].x))\n",
    "l.sort(key= lambda x:x[1])\n",
    "l"
   ]
  },
  {
   "cell_type": "code",
   "execution_count": 21,
   "id": "0b01d3e2-6263-477f-8510-9e90cb38e173",
   "metadata": {},
   "outputs": [
    {
     "name": "stdout",
     "output_type": "stream",
     "text": [
      "x_ij[i,j]=<gurobi.Var x_ij[15,0] (value 0.0)>\n",
      "f_ij[i,j]=<gurobi.Var f_ij[15,0] (value 0.0)>\n"
     ]
    }
   ],
   "source": [
    "i=15\n",
    "j=0\n",
    "print(f\"{x_ij[i,j]=}\\n{f_ij[i,j]=}\")"
   ]
  },
  {
   "cell_type": "code",
   "execution_count": 22,
   "id": "3507770d-d799-4f55-aa80-cedee6732842",
   "metadata": {},
   "outputs": [],
   "source": [
    "# z_ij[0,:].x"
   ]
  },
  {
   "cell_type": "code",
   "execution_count": 23,
   "id": "7d8b91c2-bab1-4b75-860c-a466d71cd899",
   "metadata": {},
   "outputs": [],
   "source": [
    "# f_ij"
   ]
  },
  {
   "cell_type": "code",
   "execution_count": 24,
   "id": "7af55def-46c3-4bfc-9eb1-1a42368354c7",
   "metadata": {},
   "outputs": [],
   "source": [
    "# x_ij"
   ]
  },
  {
   "cell_type": "code",
   "execution_count": 25,
   "id": "5513e31e-23c5-44f0-b569-738cfe1d5711",
   "metadata": {},
   "outputs": [
    {
     "name": "stdout",
     "output_type": "stream",
     "text": [
      "[0.]\n",
      "[160.]\n"
     ]
    },
    {
     "data": {
      "image/svg+xml": [
       "<?xml version=\"1.0\" encoding=\"UTF-8\" standalone=\"no\"?>\n",
       "<!DOCTYPE svg PUBLIC \"-//W3C//DTD SVG 1.1//EN\"\n",
       " \"http://www.w3.org/Graphics/SVG/1.1/DTD/svg11.dtd\">\n",
       "<!-- Generated by graphviz version 3.0.0 (20220315.2325)\n",
       " -->\n",
       "<!-- Pages: 1 -->\n",
       "<svg width=\"410pt\" height=\"1259pt\"\n",
       " viewBox=\"0.00 0.00 409.58 1259.14\" xmlns=\"http://www.w3.org/2000/svg\" xmlns:xlink=\"http://www.w3.org/1999/xlink\">\n",
       "<g id=\"graph0\" class=\"graph\" transform=\"scale(1 1) rotate(0) translate(4 1255.14)\">\n",
       "<polygon fill=\"white\" stroke=\"transparent\" points=\"-4,4 -4,-1255.14 405.58,-1255.14 405.58,4 -4,4\"/>\n",
       "<!-- 0 -->\n",
       "<g id=\"node1\" class=\"node\">\n",
       "<title>0</title>\n",
       "<ellipse fill=\"none\" stroke=\"black\" cx=\"213.58\" cy=\"-1224.27\" rx=\"27.65\" ry=\"26.74\"/>\n",
       "<text text-anchor=\"middle\" x=\"213.58\" y=\"-1228.07\" font-family=\"Times,serif\" font-size=\"14.00\">0</text>\n",
       "<text text-anchor=\"middle\" x=\"213.58\" y=\"-1213.07\" font-family=\"Times,serif\" font-size=\"14.00\">0.0</text>\n",
       "</g>\n",
       "<!-- 0&#45;&gt;0 -->\n",
       "<g id=\"edge1\" class=\"edge\">\n",
       "<title>0&#45;&gt;0</title>\n",
       "<path fill=\"none\" stroke=\"red\" d=\"M238.89,-1235.02C249.81,-1235.9 259.15,-1232.31 259.15,-1224.27 259.15,-1218.99 255.13,-1215.64 249.27,-1214.2\"/>\n",
       "<polygon fill=\"red\" stroke=\"red\" points=\"249.09,-1210.68 238.89,-1213.53 248.64,-1217.67 249.09,-1210.68\"/>\n",
       "<text text-anchor=\"middle\" x=\"270.65\" y=\"-1220.57\" font-family=\"Times,serif\" font-size=\"14.00\">0.0</text>\n",
       "</g>\n",
       "<!-- 2 -->\n",
       "<g id=\"node3\" class=\"node\">\n",
       "<title>2</title>\n",
       "<ellipse fill=\"none\" stroke=\"black\" cx=\"173.58\" cy=\"-1104.53\" rx=\"27.65\" ry=\"26.74\"/>\n",
       "<text text-anchor=\"middle\" x=\"173.58\" y=\"-1108.33\" font-family=\"Times,serif\" font-size=\"14.00\">2</text>\n",
       "<text text-anchor=\"middle\" x=\"173.58\" y=\"-1093.33\" font-family=\"Times,serif\" font-size=\"14.00\">2.3</text>\n",
       "</g>\n",
       "<!-- 0&#45;&gt;2 -->\n",
       "<g id=\"edge2\" class=\"edge\">\n",
       "<title>0&#45;&gt;2</title>\n",
       "<path fill=\"none\" stroke=\"black\" d=\"M193.12,-1206.11C185.84,-1198.72 178.48,-1189.47 174.58,-1179.4 169.97,-1167.54 168.79,-1153.77 169.06,-1141.36\"/>\n",
       "<polygon fill=\"black\" stroke=\"black\" points=\"172.56,-1141.5 169.59,-1131.33 165.57,-1141.13 172.56,-1141.5\"/>\n",
       "<text text-anchor=\"middle\" x=\"203.58\" y=\"-1168.2\" font-family=\"Times,serif\" font-size=\"14.00\">9.6 l=0 </text>\n",
       "<text text-anchor=\"middle\" x=\"203.58\" y=\"-1153.2\" font-family=\"Times,serif\" font-size=\"14.00\">t=42.0</text>\n",
       "</g>\n",
       "<!-- 5 -->\n",
       "<g id=\"node6\" class=\"node\">\n",
       "<title>5</title>\n",
       "<ellipse fill=\"none\" stroke=\"black\" cx=\"254.58\" cy=\"-1104.53\" rx=\"27.65\" ry=\"26.74\"/>\n",
       "<text text-anchor=\"middle\" x=\"254.58\" y=\"-1108.33\" font-family=\"Times,serif\" font-size=\"14.00\">5</text>\n",
       "<text text-anchor=\"middle\" x=\"254.58\" y=\"-1093.33\" font-family=\"Times,serif\" font-size=\"14.00\">2.5</text>\n",
       "</g>\n",
       "<!-- 0&#45;&gt;5 -->\n",
       "<g id=\"edge3\" class=\"edge\">\n",
       "<title>0&#45;&gt;5</title>\n",
       "<path fill=\"none\" stroke=\"black\" d=\"M224.55,-1199.34C227.33,-1192.93 230.19,-1185.95 232.58,-1179.4 237.12,-1166.93 241.44,-1153.02 245.04,-1140.68\"/>\n",
       "<polygon fill=\"black\" stroke=\"black\" points=\"248.5,-1141.31 247.88,-1130.73 241.77,-1139.39 248.5,-1141.31\"/>\n",
       "<text text-anchor=\"middle\" x=\"271.58\" y=\"-1168.2\" font-family=\"Times,serif\" font-size=\"14.00\">9.9 l=0 </text>\n",
       "<text text-anchor=\"middle\" x=\"271.58\" y=\"-1153.2\" font-family=\"Times,serif\" font-size=\"14.00\">t=62.0</text>\n",
       "</g>\n",
       "<!-- 18 -->\n",
       "<g id=\"node19\" class=\"node\">\n",
       "<title>18</title>\n",
       "<ellipse fill=\"none\" stroke=\"black\" cx=\"27.58\" cy=\"-1104.53\" rx=\"27.65\" ry=\"26.74\"/>\n",
       "<text text-anchor=\"middle\" x=\"27.58\" y=\"-1108.33\" font-family=\"Times,serif\" font-size=\"14.00\">18</text>\n",
       "<text text-anchor=\"middle\" x=\"27.58\" y=\"-1093.33\" font-family=\"Times,serif\" font-size=\"14.00\">2.8</text>\n",
       "</g>\n",
       "<!-- 0&#45;&gt;18 -->\n",
       "<g id=\"edge4\" class=\"edge\">\n",
       "<title>0&#45;&gt;18</title>\n",
       "<path fill=\"none\" stroke=\"black\" d=\"M186.2,-1220.83C139.63,-1216.05 48.09,-1203.74 28.58,-1179.4 20.01,-1168.72 18.42,-1154.09 19.47,-1140.67\"/>\n",
       "<polygon fill=\"black\" stroke=\"black\" points=\"22.94,-1141.09 20.72,-1130.73 16,-1140.22 22.94,-1141.09\"/>\n",
       "<text text-anchor=\"middle\" x=\"62.08\" y=\"-1168.2\" font-family=\"Times,serif\" font-size=\"14.00\">16.9 l=0 </text>\n",
       "<text text-anchor=\"middle\" x=\"62.08\" y=\"-1153.2\" font-family=\"Times,serif\" font-size=\"14.00\">t=23.36</text>\n",
       "</g>\n",
       "<!-- 1 -->\n",
       "<g id=\"node2\" class=\"node\">\n",
       "<title>1</title>\n",
       "<ellipse fill=\"none\" stroke=\"black\" cx=\"165.58\" cy=\"-865.05\" rx=\"27.65\" ry=\"26.74\"/>\n",
       "<text text-anchor=\"middle\" x=\"165.58\" y=\"-868.85\" font-family=\"Times,serif\" font-size=\"14.00\">1</text>\n",
       "<text text-anchor=\"middle\" x=\"165.58\" y=\"-853.85\" font-family=\"Times,serif\" font-size=\"14.00\">2.7</text>\n",
       "</g>\n",
       "<!-- 6 -->\n",
       "<g id=\"node7\" class=\"node\">\n",
       "<title>6</title>\n",
       "<ellipse fill=\"none\" stroke=\"black\" cx=\"141.58\" cy=\"-745.31\" rx=\"27.65\" ry=\"26.74\"/>\n",
       "<text text-anchor=\"middle\" x=\"141.58\" y=\"-749.11\" font-family=\"Times,serif\" font-size=\"14.00\">6</text>\n",
       "<text text-anchor=\"middle\" x=\"141.58\" y=\"-734.11\" font-family=\"Times,serif\" font-size=\"14.00\">2.8</text>\n",
       "</g>\n",
       "<!-- 1&#45;&gt;6 -->\n",
       "<g id=\"edge5\" class=\"edge\">\n",
       "<title>1&#45;&gt;6</title>\n",
       "<path fill=\"none\" stroke=\"black\" d=\"M160.37,-838.5C156.99,-821.92 152.54,-800.07 148.81,-781.81\"/>\n",
       "<polygon fill=\"black\" stroke=\"black\" points=\"152.2,-780.91 146.77,-771.81 145.34,-782.31 152.2,-780.91\"/>\n",
       "<text text-anchor=\"middle\" x=\"186.08\" y=\"-808.98\" font-family=\"Times,serif\" font-size=\"14.00\">2.8 l=0 </text>\n",
       "<text text-anchor=\"middle\" x=\"186.08\" y=\"-793.98\" font-family=\"Times,serif\" font-size=\"14.00\">t=123.0</text>\n",
       "</g>\n",
       "<!-- 3 -->\n",
       "<g id=\"node4\" class=\"node\">\n",
       "<title>3</title>\n",
       "<ellipse fill=\"none\" stroke=\"black\" cx=\"178.58\" cy=\"-984.79\" rx=\"27.65\" ry=\"26.74\"/>\n",
       "<text text-anchor=\"middle\" x=\"178.58\" y=\"-988.59\" font-family=\"Times,serif\" font-size=\"14.00\">3</text>\n",
       "<text text-anchor=\"middle\" x=\"178.58\" y=\"-973.59\" font-family=\"Times,serif\" font-size=\"14.00\">1.8</text>\n",
       "</g>\n",
       "<!-- 2&#45;&gt;3 -->\n",
       "<g id=\"edge6\" class=\"edge\">\n",
       "<title>2&#45;&gt;3</title>\n",
       "<path fill=\"none\" stroke=\"black\" d=\"M174.69,-1077.4C175.38,-1061.09 176.28,-1039.86 177.04,-1021.95\"/>\n",
       "<polygon fill=\"black\" stroke=\"black\" points=\"180.54,-1021.99 177.47,-1011.85 173.55,-1021.69 180.54,-1021.99\"/>\n",
       "<text text-anchor=\"middle\" x=\"206.58\" y=\"-1048.46\" font-family=\"Times,serif\" font-size=\"14.00\">7.3 l=0 </text>\n",
       "<text text-anchor=\"middle\" x=\"206.58\" y=\"-1033.46\" font-family=\"Times,serif\" font-size=\"14.00\">t=78.6</text>\n",
       "</g>\n",
       "<!-- 3&#45;&gt;1 -->\n",
       "<g id=\"edge7\" class=\"edge\">\n",
       "<title>3&#45;&gt;1</title>\n",
       "<path fill=\"none\" stroke=\"black\" d=\"M175.72,-957.95C173.91,-941.54 171.54,-920.07 169.55,-902.01\"/>\n",
       "<polygon fill=\"black\" stroke=\"black\" points=\"173,-901.38 168.42,-891.83 166.04,-902.15 173,-901.38\"/>\n",
       "<text text-anchor=\"middle\" x=\"208.58\" y=\"-928.72\" font-family=\"Times,serif\" font-size=\"14.00\">5.5 l=0 </text>\n",
       "<text text-anchor=\"middle\" x=\"208.58\" y=\"-913.72\" font-family=\"Times,serif\" font-size=\"14.00\">t=106.39</text>\n",
       "</g>\n",
       "<!-- 4 -->\n",
       "<g id=\"node5\" class=\"node\">\n",
       "<title>4</title>\n",
       "<ellipse fill=\"none\" stroke=\"black\" cx=\"254.58\" cy=\"-984.79\" rx=\"27.65\" ry=\"26.74\"/>\n",
       "<text text-anchor=\"middle\" x=\"254.58\" y=\"-988.59\" font-family=\"Times,serif\" font-size=\"14.00\">4</text>\n",
       "<text text-anchor=\"middle\" x=\"254.58\" y=\"-973.59\" font-family=\"Times,serif\" font-size=\"14.00\">0.8</text>\n",
       "</g>\n",
       "<!-- 7 -->\n",
       "<g id=\"node8\" class=\"node\">\n",
       "<title>7</title>\n",
       "<ellipse fill=\"none\" stroke=\"black\" cx=\"253.58\" cy=\"-865.05\" rx=\"27.65\" ry=\"26.74\"/>\n",
       "<text text-anchor=\"middle\" x=\"253.58\" y=\"-868.85\" font-family=\"Times,serif\" font-size=\"14.00\">7</text>\n",
       "<text text-anchor=\"middle\" x=\"253.58\" y=\"-853.85\" font-family=\"Times,serif\" font-size=\"14.00\">0.7</text>\n",
       "</g>\n",
       "<!-- 4&#45;&gt;7 -->\n",
       "<g id=\"edge8\" class=\"edge\">\n",
       "<title>4&#45;&gt;7</title>\n",
       "<path fill=\"none\" stroke=\"black\" d=\"M254.36,-957.66C254.22,-941.35 254.04,-920.12 253.88,-902.21\"/>\n",
       "<polygon fill=\"black\" stroke=\"black\" points=\"257.38,-902.08 253.8,-892.11 250.38,-902.14 257.38,-902.08\"/>\n",
       "<text text-anchor=\"middle\" x=\"284.08\" y=\"-928.72\" font-family=\"Times,serif\" font-size=\"14.00\">6.6 l=0 </text>\n",
       "<text text-anchor=\"middle\" x=\"284.08\" y=\"-913.72\" font-family=\"Times,serif\" font-size=\"14.00\">t=85.77</text>\n",
       "</g>\n",
       "<!-- 5&#45;&gt;4 -->\n",
       "<g id=\"edge9\" class=\"edge\">\n",
       "<title>5&#45;&gt;4</title>\n",
       "<path fill=\"none\" stroke=\"black\" d=\"M254.58,-1077.4C254.58,-1061.09 254.58,-1039.86 254.58,-1021.95\"/>\n",
       "<polygon fill=\"black\" stroke=\"black\" points=\"258.08,-1021.85 254.58,-1011.85 251.08,-1021.85 258.08,-1021.85\"/>\n",
       "<text text-anchor=\"middle\" x=\"283.58\" y=\"-1048.46\" font-family=\"Times,serif\" font-size=\"14.00\">7.4 l=0 </text>\n",
       "<text text-anchor=\"middle\" x=\"283.58\" y=\"-1033.46\" font-family=\"Times,serif\" font-size=\"14.00\">t=67.6</text>\n",
       "</g>\n",
       "<!-- 6&#45;&gt;0 -->\n",
       "<g id=\"edge10\" class=\"edge\">\n",
       "<title>6&#45;&gt;0</title>\n",
       "<path fill=\"none\" stroke=\"red\" d=\"M130.92,-770.6C121.61,-794.05 109.58,-830.79 109.58,-864.05 109.58,-1105.53 109.58,-1105.53 109.58,-1105.53 109.58,-1149.47 150.76,-1184.73 181.3,-1204.84\"/>\n",
       "<polygon fill=\"red\" stroke=\"red\" points=\"179.66,-1207.95 189.98,-1210.35 183.41,-1202.03 179.66,-1207.95\"/>\n",
       "<text text-anchor=\"middle\" x=\"121.08\" y=\"-981.09\" font-family=\"Times,serif\" font-size=\"14.00\">0.0</text>\n",
       "</g>\n",
       "<!-- 14 -->\n",
       "<g id=\"node15\" class=\"node\">\n",
       "<title>14</title>\n",
       "<ellipse fill=\"none\" stroke=\"black\" cx=\"253.58\" cy=\"-745.31\" rx=\"27.65\" ry=\"26.74\"/>\n",
       "<text text-anchor=\"middle\" x=\"253.58\" y=\"-749.11\" font-family=\"Times,serif\" font-size=\"14.00\">14</text>\n",
       "<text text-anchor=\"middle\" x=\"253.58\" y=\"-734.11\" font-family=\"Times,serif\" font-size=\"14.00\">2.0</text>\n",
       "</g>\n",
       "<!-- 7&#45;&gt;14 -->\n",
       "<g id=\"edge11\" class=\"edge\">\n",
       "<title>7&#45;&gt;14</title>\n",
       "<path fill=\"none\" stroke=\"black\" d=\"M253.58,-837.92C253.58,-821.61 253.58,-800.38 253.58,-782.47\"/>\n",
       "<polygon fill=\"black\" stroke=\"black\" points=\"257.08,-782.37 253.58,-772.37 250.08,-782.37 257.08,-782.37\"/>\n",
       "<text text-anchor=\"middle\" x=\"283.08\" y=\"-808.98\" font-family=\"Times,serif\" font-size=\"14.00\">5.9 l=0 </text>\n",
       "<text text-anchor=\"middle\" x=\"283.08\" y=\"-793.98\" font-family=\"Times,serif\" font-size=\"14.00\">t=91.68</text>\n",
       "</g>\n",
       "<!-- 8 -->\n",
       "<g id=\"node9\" class=\"node\">\n",
       "<title>8</title>\n",
       "<ellipse fill=\"none\" stroke=\"black\" cx=\"263.58\" cy=\"-505.83\" rx=\"27.65\" ry=\"26.74\"/>\n",
       "<text text-anchor=\"middle\" x=\"263.58\" y=\"-509.63\" font-family=\"Times,serif\" font-size=\"14.00\">8</text>\n",
       "<text text-anchor=\"middle\" x=\"263.58\" y=\"-494.63\" font-family=\"Times,serif\" font-size=\"14.00\">1.4</text>\n",
       "</g>\n",
       "<!-- 8&#45;&gt;0 -->\n",
       "<g id=\"edge12\" class=\"edge\">\n",
       "<title>8&#45;&gt;0</title>\n",
       "<path fill=\"none\" stroke=\"red\" d=\"M286.12,-521.4C296.04,-528.97 306.93,-539.07 313.58,-550.7 330.15,-579.72 327.58,-591.16 327.58,-624.57 327.58,-1105.53 327.58,-1105.53 327.58,-1105.53 327.58,-1139.92 327.04,-1153.36 304.58,-1179.4 290.4,-1195.84 268.66,-1206.63 249.99,-1213.4\"/>\n",
       "<polygon fill=\"red\" stroke=\"red\" points=\"248.64,-1210.17 240.28,-1216.67 250.87,-1216.8 248.64,-1210.17\"/>\n",
       "<text text-anchor=\"middle\" x=\"339.08\" y=\"-861.35\" font-family=\"Times,serif\" font-size=\"14.00\">0.0</text>\n",
       "</g>\n",
       "<!-- 9 -->\n",
       "<g id=\"node10\" class=\"node\">\n",
       "<title>9</title>\n",
       "<ellipse fill=\"none\" stroke=\"black\" cx=\"27.58\" cy=\"-984.79\" rx=\"27.65\" ry=\"26.74\"/>\n",
       "<text text-anchor=\"middle\" x=\"27.58\" y=\"-988.59\" font-family=\"Times,serif\" font-size=\"14.00\">9</text>\n",
       "<text text-anchor=\"middle\" x=\"27.58\" y=\"-973.59\" font-family=\"Times,serif\" font-size=\"14.00\">1.6</text>\n",
       "</g>\n",
       "<!-- 20 -->\n",
       "<g id=\"node21\" class=\"node\">\n",
       "<title>20</title>\n",
       "<ellipse fill=\"none\" stroke=\"black\" cx=\"27.58\" cy=\"-865.05\" rx=\"27.65\" ry=\"26.74\"/>\n",
       "<text text-anchor=\"middle\" x=\"27.58\" y=\"-868.85\" font-family=\"Times,serif\" font-size=\"14.00\">20</text>\n",
       "<text text-anchor=\"middle\" x=\"27.58\" y=\"-853.85\" font-family=\"Times,serif\" font-size=\"14.00\">0.7</text>\n",
       "</g>\n",
       "<!-- 9&#45;&gt;20 -->\n",
       "<g id=\"edge13\" class=\"edge\">\n",
       "<title>9&#45;&gt;20</title>\n",
       "<path fill=\"none\" stroke=\"black\" d=\"M27.58,-957.66C27.58,-941.35 27.58,-920.12 27.58,-902.21\"/>\n",
       "<polygon fill=\"black\" stroke=\"black\" points=\"31.08,-902.11 27.58,-892.11 24.08,-902.11 31.08,-902.11\"/>\n",
       "<text text-anchor=\"middle\" x=\"61.08\" y=\"-928.72\" font-family=\"Times,serif\" font-size=\"14.00\">12.5 l=0 </text>\n",
       "<text text-anchor=\"middle\" x=\"61.08\" y=\"-913.72\" font-family=\"Times,serif\" font-size=\"14.00\">t=35.28</text>\n",
       "</g>\n",
       "<!-- 10 -->\n",
       "<g id=\"node11\" class=\"node\">\n",
       "<title>10</title>\n",
       "<ellipse fill=\"none\" stroke=\"black\" cx=\"368.58\" cy=\"-26.87\" rx=\"27.65\" ry=\"26.74\"/>\n",
       "<text text-anchor=\"middle\" x=\"368.58\" y=\"-30.67\" font-family=\"Times,serif\" font-size=\"14.00\">10</text>\n",
       "<text text-anchor=\"middle\" x=\"368.58\" y=\"-15.67\" font-family=\"Times,serif\" font-size=\"14.00\">0.5</text>\n",
       "</g>\n",
       "<!-- 10&#45;&gt;0 -->\n",
       "<g id=\"edge14\" class=\"edge\">\n",
       "<title>10&#45;&gt;0</title>\n",
       "<path fill=\"none\" stroke=\"red\" d=\"M372.02,-53.54C374.91,-77.36 378.58,-113.81 378.58,-145.61 378.58,-1105.53 378.58,-1105.53 378.58,-1105.53 378.58,-1168.12 298.94,-1200.57 250.32,-1214.55\"/>\n",
       "<polygon fill=\"red\" stroke=\"red\" points=\"249.17,-1211.24 240.45,-1217.26 251.02,-1217.99 249.17,-1211.24\"/>\n",
       "<text text-anchor=\"middle\" x=\"390.08\" y=\"-621.87\" font-family=\"Times,serif\" font-size=\"14.00\">0.0</text>\n",
       "</g>\n",
       "<!-- 11 -->\n",
       "<g id=\"node12\" class=\"node\">\n",
       "<title>11</title>\n",
       "<ellipse fill=\"none\" stroke=\"black\" cx=\"98.58\" cy=\"-625.57\" rx=\"27.65\" ry=\"26.74\"/>\n",
       "<text text-anchor=\"middle\" x=\"98.58\" y=\"-629.37\" font-family=\"Times,serif\" font-size=\"14.00\">11</text>\n",
       "<text text-anchor=\"middle\" x=\"98.58\" y=\"-614.37\" font-family=\"Times,serif\" font-size=\"14.00\">2.4</text>\n",
       "</g>\n",
       "<!-- 19 -->\n",
       "<g id=\"node20\" class=\"node\">\n",
       "<title>19</title>\n",
       "<ellipse fill=\"none\" stroke=\"black\" cx=\"171.58\" cy=\"-505.83\" rx=\"27.65\" ry=\"26.74\"/>\n",
       "<text text-anchor=\"middle\" x=\"171.58\" y=\"-509.63\" font-family=\"Times,serif\" font-size=\"14.00\">19</text>\n",
       "<text text-anchor=\"middle\" x=\"171.58\" y=\"-494.63\" font-family=\"Times,serif\" font-size=\"14.00\">0.9</text>\n",
       "</g>\n",
       "<!-- 11&#45;&gt;19 -->\n",
       "<g id=\"edge15\" class=\"edge\">\n",
       "<title>11&#45;&gt;19</title>\n",
       "<path fill=\"none\" stroke=\"black\" d=\"M112.48,-602.15C123.79,-583.9 139.89,-557.94 152.42,-537.73\"/>\n",
       "<polygon fill=\"black\" stroke=\"black\" points=\"155.43,-539.51 157.73,-529.17 149.48,-535.82 155.43,-539.51\"/>\n",
       "<text text-anchor=\"middle\" x=\"174.08\" y=\"-569.5\" font-family=\"Times,serif\" font-size=\"14.00\">8.0 l=0 </text>\n",
       "<text text-anchor=\"middle\" x=\"174.08\" y=\"-554.5\" font-family=\"Times,serif\" font-size=\"14.00\">t=89.75</text>\n",
       "</g>\n",
       "<!-- 12 -->\n",
       "<g id=\"node13\" class=\"node\">\n",
       "<title>12</title>\n",
       "<ellipse fill=\"none\" stroke=\"black\" cx=\"41.58\" cy=\"-745.31\" rx=\"27.65\" ry=\"26.74\"/>\n",
       "<text text-anchor=\"middle\" x=\"41.58\" y=\"-749.11\" font-family=\"Times,serif\" font-size=\"14.00\">12</text>\n",
       "<text text-anchor=\"middle\" x=\"41.58\" y=\"-734.11\" font-family=\"Times,serif\" font-size=\"14.00\">1.4</text>\n",
       "</g>\n",
       "<!-- 12&#45;&gt;11 -->\n",
       "<g id=\"edge16\" class=\"edge\">\n",
       "<title>12&#45;&gt;11</title>\n",
       "<path fill=\"none\" stroke=\"black\" d=\"M52.97,-720.77C61.52,-703.12 73.32,-678.75 82.77,-659.22\"/>\n",
       "<polygon fill=\"black\" stroke=\"black\" points=\"85.99,-660.6 87.2,-650.07 79.69,-657.55 85.99,-660.6\"/>\n",
       "<text text-anchor=\"middle\" x=\"111.08\" y=\"-689.24\" font-family=\"Times,serif\" font-size=\"14.00\">10.4 l=0 </text>\n",
       "<text text-anchor=\"middle\" x=\"111.08\" y=\"-674.24\" font-family=\"Times,serif\" font-size=\"14.00\">t=83.0</text>\n",
       "</g>\n",
       "<!-- 13 -->\n",
       "<g id=\"node14\" class=\"node\">\n",
       "<title>13</title>\n",
       "<ellipse fill=\"none\" stroke=\"black\" cx=\"253.58\" cy=\"-625.57\" rx=\"27.65\" ry=\"26.74\"/>\n",
       "<text text-anchor=\"middle\" x=\"253.58\" y=\"-629.37\" font-family=\"Times,serif\" font-size=\"14.00\">13</text>\n",
       "<text text-anchor=\"middle\" x=\"253.58\" y=\"-614.37\" font-family=\"Times,serif\" font-size=\"14.00\">2.5</text>\n",
       "</g>\n",
       "<!-- 13&#45;&gt;8 -->\n",
       "<g id=\"edge17\" class=\"edge\">\n",
       "<title>13&#45;&gt;8</title>\n",
       "<path fill=\"none\" stroke=\"black\" d=\"M252.73,-598.52C252.58,-584.34 252.86,-566.51 254.58,-550.7 254.87,-547.97 255.26,-545.15 255.7,-542.33\"/>\n",
       "<polygon fill=\"black\" stroke=\"black\" points=\"259.2,-542.68 257.52,-532.22 252.31,-541.44 259.2,-542.68\"/>\n",
       "<text text-anchor=\"middle\" x=\"284.08\" y=\"-569.5\" font-family=\"Times,serif\" font-size=\"14.00\">1.4 l=0 </text>\n",
       "<text text-anchor=\"middle\" x=\"284.08\" y=\"-554.5\" font-family=\"Times,serif\" font-size=\"14.00\">t=112.0</text>\n",
       "</g>\n",
       "<!-- 14&#45;&gt;13 -->\n",
       "<g id=\"edge18\" class=\"edge\">\n",
       "<title>14&#45;&gt;13</title>\n",
       "<path fill=\"none\" stroke=\"black\" d=\"M253.58,-718.18C253.58,-701.87 253.58,-680.64 253.58,-662.73\"/>\n",
       "<polygon fill=\"black\" stroke=\"black\" points=\"257.08,-662.63 253.58,-652.63 250.08,-662.63 257.08,-662.63\"/>\n",
       "<text text-anchor=\"middle\" x=\"283.08\" y=\"-689.24\" font-family=\"Times,serif\" font-size=\"14.00\">3.9 l=0 </text>\n",
       "<text text-anchor=\"middle\" x=\"283.08\" y=\"-674.24\" font-family=\"Times,serif\" font-size=\"14.00\">t=97.13</text>\n",
       "</g>\n",
       "<!-- 15 -->\n",
       "<g id=\"node16\" class=\"node\">\n",
       "<title>15</title>\n",
       "<ellipse fill=\"none\" stroke=\"black\" cx=\"220.58\" cy=\"-146.61\" rx=\"27.65\" ry=\"26.74\"/>\n",
       "<text text-anchor=\"middle\" x=\"220.58\" y=\"-150.41\" font-family=\"Times,serif\" font-size=\"14.00\">15</text>\n",
       "<text text-anchor=\"middle\" x=\"220.58\" y=\"-135.41\" font-family=\"Times,serif\" font-size=\"14.00\">2.6</text>\n",
       "</g>\n",
       "<!-- 15&#45;&gt;10 -->\n",
       "<g id=\"edge19\" class=\"edge\">\n",
       "<title>15&#45;&gt;10</title>\n",
       "<path fill=\"none\" stroke=\"black\" d=\"M240.33,-127.37C257.24,-112.03 282.44,-89.76 305.58,-71.74 315.76,-63.8 327.26,-55.59 337.62,-48.45\"/>\n",
       "<polygon fill=\"black\" stroke=\"black\" points=\"339.71,-51.26 346,-42.73 335.77,-45.48 339.71,-51.26\"/>\n",
       "<text text-anchor=\"middle\" x=\"335.08\" y=\"-90.54\" font-family=\"Times,serif\" font-size=\"14.00\">0.5 l=0 </text>\n",
       "<text text-anchor=\"middle\" x=\"335.08\" y=\"-75.54\" font-family=\"Times,serif\" font-size=\"14.00\">t=124.0</text>\n",
       "</g>\n",
       "<!-- 16 -->\n",
       "<g id=\"node17\" class=\"node\">\n",
       "<title>16</title>\n",
       "<ellipse fill=\"none\" stroke=\"black\" cx=\"174.58\" cy=\"-386.09\" rx=\"27.65\" ry=\"26.74\"/>\n",
       "<text text-anchor=\"middle\" x=\"174.58\" y=\"-389.89\" font-family=\"Times,serif\" font-size=\"14.00\">16</text>\n",
       "<text text-anchor=\"middle\" x=\"174.58\" y=\"-374.89\" font-family=\"Times,serif\" font-size=\"14.00\">1.8</text>\n",
       "</g>\n",
       "<!-- 17 -->\n",
       "<g id=\"node18\" class=\"node\">\n",
       "<title>17</title>\n",
       "<ellipse fill=\"none\" stroke=\"black\" cx=\"183.58\" cy=\"-266.35\" rx=\"27.65\" ry=\"26.74\"/>\n",
       "<text text-anchor=\"middle\" x=\"183.58\" y=\"-270.15\" font-family=\"Times,serif\" font-size=\"14.00\">17</text>\n",
       "<text text-anchor=\"middle\" x=\"183.58\" y=\"-255.15\" font-family=\"Times,serif\" font-size=\"14.00\">2.2</text>\n",
       "</g>\n",
       "<!-- 16&#45;&gt;17 -->\n",
       "<g id=\"edge20\" class=\"edge\">\n",
       "<title>16&#45;&gt;17</title>\n",
       "<path fill=\"none\" stroke=\"black\" d=\"M176.55,-359.25C177.8,-342.95 179.43,-321.66 180.8,-303.68\"/>\n",
       "<polygon fill=\"black\" stroke=\"black\" points=\"184.3,-303.77 181.58,-293.54 177.32,-303.24 184.3,-303.77\"/>\n",
       "<text text-anchor=\"middle\" x=\"214.58\" y=\"-330.02\" font-family=\"Times,serif\" font-size=\"14.00\">5.3 l=0 </text>\n",
       "<text text-anchor=\"middle\" x=\"214.58\" y=\"-315.02\" font-family=\"Times,serif\" font-size=\"14.00\">t=101.46</text>\n",
       "</g>\n",
       "<!-- 17&#45;&gt;15 -->\n",
       "<g id=\"edge21\" class=\"edge\">\n",
       "<title>17&#45;&gt;15</title>\n",
       "<path fill=\"none\" stroke=\"black\" d=\"M191.42,-240.38C196.75,-223.44 203.85,-200.83 209.72,-182.17\"/>\n",
       "<polygon fill=\"black\" stroke=\"black\" points=\"213.08,-183.13 212.74,-172.54 206.4,-181.03 213.08,-183.13\"/>\n",
       "<text text-anchor=\"middle\" x=\"240.58\" y=\"-210.28\" font-family=\"Times,serif\" font-size=\"14.00\">3.1 l=0 </text>\n",
       "<text text-anchor=\"middle\" x=\"240.58\" y=\"-195.28\" font-family=\"Times,serif\" font-size=\"14.00\">t=107.41</text>\n",
       "</g>\n",
       "<!-- 18&#45;&gt;9 -->\n",
       "<g id=\"edge22\" class=\"edge\">\n",
       "<title>18&#45;&gt;9</title>\n",
       "<path fill=\"none\" stroke=\"black\" d=\"M27.58,-1077.4C27.58,-1061.09 27.58,-1039.86 27.58,-1021.95\"/>\n",
       "<polygon fill=\"black\" stroke=\"black\" points=\"31.08,-1021.85 27.58,-1011.85 24.08,-1021.85 31.08,-1021.85\"/>\n",
       "<text text-anchor=\"middle\" x=\"61.08\" y=\"-1048.46\" font-family=\"Times,serif\" font-size=\"14.00\">14.1 l=0 </text>\n",
       "<text text-anchor=\"middle\" x=\"61.08\" y=\"-1033.46\" font-family=\"Times,serif\" font-size=\"14.00\">t=29.52</text>\n",
       "</g>\n",
       "<!-- 19&#45;&gt;16 -->\n",
       "<g id=\"edge23\" class=\"edge\">\n",
       "<title>19&#45;&gt;16</title>\n",
       "<path fill=\"none\" stroke=\"black\" d=\"M172.24,-478.7C172.66,-462.39 173.2,-441.16 173.66,-423.25\"/>\n",
       "<polygon fill=\"black\" stroke=\"black\" points=\"177.16,-423.23 173.91,-413.15 170.16,-423.06 177.16,-423.23\"/>\n",
       "<text text-anchor=\"middle\" x=\"202.58\" y=\"-449.76\" font-family=\"Times,serif\" font-size=\"14.00\">7.1 l=0 </text>\n",
       "<text text-anchor=\"middle\" x=\"202.58\" y=\"-434.76\" font-family=\"Times,serif\" font-size=\"14.00\">t=96.0</text>\n",
       "</g>\n",
       "<!-- 20&#45;&gt;12 -->\n",
       "<g id=\"edge24\" class=\"edge\">\n",
       "<title>20&#45;&gt;12</title>\n",
       "<path fill=\"none\" stroke=\"black\" d=\"M26.19,-837.93C25.88,-823.73 26.19,-805.9 28.58,-790.18 29.04,-787.14 29.66,-784.01 30.38,-780.89\"/>\n",
       "<polygon fill=\"black\" stroke=\"black\" points=\"33.8,-781.66 32.95,-771.1 27.03,-779.88 33.8,-781.66\"/>\n",
       "<text text-anchor=\"middle\" x=\"62.08\" y=\"-808.98\" font-family=\"Times,serif\" font-size=\"14.00\">11.8 l=0 </text>\n",
       "<text text-anchor=\"middle\" x=\"62.08\" y=\"-793.98\" font-family=\"Times,serif\" font-size=\"14.00\">t=66.74</text>\n",
       "</g>\n",
       "</g>\n",
       "</svg>\n"
      ],
      "text/plain": [
       "<graphviz.graphs.Digraph at 0x7ff608243f40>"
      ]
     },
     "metadata": {},
     "output_type": "display_data"
    }
   ],
   "source": [
    "import graphviz as gv\n",
    "\n",
    "G = gv.Digraph(comment='vrpltt',strict=True)\n",
    "for i in range(N):\n",
    "    G.node(str(i),label=str(i)+\"\\n\"+str(demand[i])) \n",
    "print(lower)\n",
    "print(upper)\n",
    "\n",
    "for i in range(N):\n",
    "    for j in range(N):\n",
    "        if (x_ij[i,j].x>0):\n",
    "            llevel=0\n",
    "            for key,value in enumerate(z_ij[i,j,:].x):\n",
    "                if value>=0.9:\n",
    "                    llevel=key\n",
    "                    break\n",
    "            G.edge(str(i),str(j),label=f\"{round(f_ij[i,j].x,1)}\"+\" \"+f\"l={llevel} \\nt={round(y_i[j].x,2)}\") \n",
    "            if j==0:\n",
    "                G.edge(str(i),str(j),label=f\"{round(f_ij[i,j].x,1)}\",color=\"red\")\n",
    "display(G)"
   ]
  },
  {
   "cell_type": "code",
   "execution_count": 26,
   "id": "be2a2bdc-d395-449b-b102-c514c6a6ca63",
   "metadata": {},
   "outputs": [
    {
     "data": {
      "text/plain": [
       "array([14.6977])"
      ]
     },
     "execution_count": 26,
     "metadata": {},
     "output_type": "execute_result"
    }
   ],
   "source": [
    "t_ij[1,12]\n"
   ]
  },
  {
   "cell_type": "code",
   "execution_count": 27,
   "id": "4d011e79-99a8-45da-ab71-2a4ebcd0768e",
   "metadata": {},
   "outputs": [
    {
     "data": {
      "text/plain": [
       "array([15.3537])"
      ]
     },
     "execution_count": 27,
     "metadata": {},
     "output_type": "execute_result"
    }
   ],
   "source": [
    "t_ij[0,12]"
   ]
  },
  {
   "cell_type": "code",
   "execution_count": 28,
   "id": "b6f13a6f-db48-427c-80cb-d8131381180c",
   "metadata": {},
   "outputs": [
    {
     "data": {
      "text/plain": [
       "array([12.7218])"
      ]
     },
     "execution_count": 28,
     "metadata": {},
     "output_type": "execute_result"
    }
   ],
   "source": [
    "t_ij[1,0]"
   ]
  },
  {
   "cell_type": "code",
   "execution_count": 29,
   "id": "9ff8844e-ad7b-4600-bf16-d55017b14a8e",
   "metadata": {},
   "outputs": [
    {
     "data": {
      "text/plain": [
       "array([1.964])"
      ]
     },
     "execution_count": 29,
     "metadata": {},
     "output_type": "execute_result"
    }
   ],
   "source": [
    "t_ij[17,1]"
   ]
  },
  {
   "cell_type": "code",
   "execution_count": 30,
   "id": "029cd809-d586-4451-adc2-a4fe9ad03f5c",
   "metadata": {},
   "outputs": [
    {
     "data": {
      "text/plain": [
       "array([8.7824])"
      ]
     },
     "execution_count": 30,
     "metadata": {},
     "output_type": "execute_result"
    }
   ],
   "source": [
    "t_ij[17,18]"
   ]
  },
  {
   "cell_type": "code",
   "execution_count": 31,
   "id": "3ea6182c-56ba-496b-a70d-042b57e55db4",
   "metadata": {},
   "outputs": [
    {
     "data": {
      "text/plain": [
       "array([2.358])"
      ]
     },
     "execution_count": 31,
     "metadata": {},
     "output_type": "execute_result"
    }
   ],
   "source": [
    "t_ij[17,0]"
   ]
  },
  {
   "cell_type": "code",
   "execution_count": null,
   "id": "73e1e1ce-0692-4905-b487-6d15beef25bb",
   "metadata": {},
   "outputs": [],
   "source": []
  }
 ],
 "metadata": {
  "kernelspec": {
   "display_name": "Python 3 (ipykernel)",
   "language": "python",
   "name": "python3"
  },
  "language_info": {
   "codemirror_mode": {
    "name": "ipython",
    "version": 3
   },
   "file_extension": ".py",
   "mimetype": "text/x-python",
   "name": "python",
   "nbconvert_exporter": "python",
   "pygments_lexer": "ipython3",
   "version": "3.9.12"
  }
 },
 "nbformat": 4,
 "nbformat_minor": 5
}
