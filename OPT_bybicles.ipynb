{
 "cells": [
  {
   "cell_type": "code",
   "execution_count": 4,
   "id": "404deb73",
   "metadata": {},
   "outputs": [],
   "source": [
    "import gurobipy as gp\n",
    "from gurobipy import GRB\n",
    "import numpy as np\n",
    "import pandas as pd"
   ]
  },
  {
   "cell_type": "code",
   "execution_count": 5,
   "id": "1525ae86",
   "metadata": {},
   "outputs": [
    {
     "name": "stdout",
     "output_type": "stream",
     "text": [
      "Restricted license - for non-production use only - expires 2023-10-25\n"
     ]
    }
   ],
   "source": [
    "model = gp.Model(\"VRPLTT\")"
   ]
  },
  {
   "cell_type": "code",
   "execution_count": 6,
   "id": "e74c4629",
   "metadata": {},
   "outputs": [],
   "source": [
    "Q_min = 140\n",
    "Q_max = 300\n",
    "n_levels = 4\n",
    "load_levels = np.array([(0.5+i)*(Q_max-Q_min)/n_levels for i in range(n_levels)])\n",
    "upper = load_levels+(Q_max-Q_min)/(n_levels*2)\n",
    "lower = load_levels-(Q_max-Q_min)/(n_levels*2)"
   ]
  },
  {
   "cell_type": "code",
   "execution_count": 7,
   "id": "f172d915",
   "metadata": {},
   "outputs": [
    {
     "data": {
      "text/plain": [
       "array([ 20.,  60., 100., 140.])"
      ]
     },
     "execution_count": 7,
     "metadata": {},
     "output_type": "execute_result"
    }
   ],
   "source": [
    "load_levels"
   ]
  },
  {
   "cell_type": "code",
   "execution_count": 8,
   "id": "0f5a0294",
   "metadata": {},
   "outputs": [
    {
     "data": {
      "text/plain": [
       "array([ 40.,  80., 120., 160.])"
      ]
     },
     "execution_count": 8,
     "metadata": {},
     "output_type": "execute_result"
    }
   ],
   "source": [
    "upper"
   ]
  },
  {
   "cell_type": "code",
   "execution_count": 9,
   "id": "16ceb90e",
   "metadata": {},
   "outputs": [],
   "source": [
    "\n",
    "def vel(m, h, P):\n",
    "    ### aer. resistence\n",
    "    Cd = 1.18\n",
    "    A = 0.83 #m^2\n",
    "    rho = 1.18 #kg/m^3\n",
    "\n",
    "    c_Fd = rho*Cd*A*0.5\n",
    "\n",
    "    ### rolling resistance\n",
    "    Cr = 0.01\n",
    "    g = 9.81 #m/s^2\n",
    "    \n",
    "    eff = 0.95\n",
    "    \n",
    "    c1 = (m*g* ( Cr*np.cos( np.arctan(h) ) + np.sin( np.arctan(h) ) ))/eff\n",
    "    c3 = c_Fd/eff\n",
    "    \n",
    "    coefs = [c3, 0, c1, -P]\n",
    "    #print(f\"{np.real(np.roots(coefs))=}\")\n",
    "    v = np.max(np.real(3.6*np.roots(coefs)))\n",
    "    return min(v,30)\n",
    "    #return 3.6*np.roots(coefs)\n",
    "    \n",
    "\n",
    "def time_matrix(data_matrix, load_levels,P):\n",
    "    N = len(data_matrix.index)\n",
    "    elevation = data_matrix.elevation.to_numpy()\n",
    "    d_ij_mat = data_matrix.iloc[:, 8:].to_numpy()\n",
    "    t_ij_mat = np.zeros((N, N, n_levels))\n",
    "    for i in range(N):\n",
    "        for j in range(N):\n",
    "            if i!=j:\n",
    "                d_ij = d_ij_mat[i, j]\n",
    "                h = (elevation[j] - elevation[i])/d_ij\n",
    "                for l in range(n_levels):\n",
    "                    m = load_levels[l]\n",
    "                    t_ij_mat[i, j, l] =60*d_ij/vel(m, h, P)\n",
    "    return np.round(t_ij_mat,4)"
   ]
  },
  {
   "cell_type": "code",
   "execution_count": 10,
   "id": "5f138fc0-3004-4c82-a132-abb9ae5ca5d0",
   "metadata": {},
   "outputs": [],
   "source": [
    "df = pd.read_csv(\"./instances/small/Fukuoka_01.csv\")\n",
    "P = 500 # Watt\n",
    "\n",
    "t=time_matrix(df,load_levels,P=P)"
   ]
  },
  {
   "cell_type": "code",
   "execution_count": 11,
   "id": "7443c753-e75b-48ad-8dad-46168323dc09",
   "metadata": {},
   "outputs": [
    {
     "name": "stdout",
     "output_type": "stream",
     "text": [
      "[1.1577 3.4176 5.6932 7.9698]\n",
      "[0.332 0.332 0.332 0.332]\n"
     ]
    }
   ],
   "source": [
    "from pprint import pprint\n",
    "print(t[3,4])\n",
    "print(t[4,3])\n"
   ]
  },
  {
   "cell_type": "code",
   "execution_count": 31,
   "id": "cdc2990d-5810-420c-ade4-5b06ee5c3b6a",
   "metadata": {},
   "outputs": [
    {
     "name": "stdout",
     "output_type": "stream",
     "text": [
      "{0: 0, 1: 0.38, 2: 1.4763000000000002, 3: 2.5689, 4: 3.3916, 5: 3.6915999999999998, 6: 4.0356, 7: 5.315099999999999, 8: 5.2126, 9: 6.8701, 10: 6.2101, 11: 5.761, 12: 3.2565999999999997, 13: 3.1090999999999998, 14: 4.5546, 15: 6.0489999999999995, 16: 6.0104999999999995, 17: 2.3936, 18: 1.9616, 19: 1.1192, 20: 2.1546000000000003}\n",
      "{0: None, 1: 0, 2: 1, 3: 2, 4: 18, 5: 4, 6: 5, 7: 13, 8: 12, 9: 10, 10: 1, 11: 1, 12: 1, 13: 1, 14: 12, 15: 1, 16: 14, 17: 18, 18: 0, 19: 0, 20: 19}\n"
     ]
    }
   ],
   "source": [
    "def extract_min(Q,distance):\n",
    "    minimo=float(\"inf\")\n",
    "    nome=\"\"\n",
    "    for q in Q:\n",
    "        if distance[q] <= minimo:\n",
    "            nome=q\n",
    "            minimo=distance[q]\n",
    "    Q.remove(nome)\n",
    "    return nome\n",
    "\n",
    "def W(u,v,weight_matrix):\n",
    "    for i in adj[u]:\n",
    "        if i.end==v:\n",
    "            return i.weight\n",
    "        \n",
    "def dijkstra(source,weight_matrix,l=0):\n",
    "    distance=dict()\n",
    "    parent=dict()\n",
    "    nodes=np.array([i for i in range(len(weight_matrix))])\n",
    "    for node in nodes:\n",
    "        distance[node]=float(\"inf\")\n",
    "        parent[node]=None\n",
    "    distance[source]=0\n",
    "    S=[]\n",
    "    Q={node for node in nodes}\n",
    "    while len(Q)>0:\n",
    "        u=extract_min(Q,distance)\n",
    "        S.append(u)\n",
    "        for v,w in enumerate(weight_matrix[u]):\n",
    "            if distance[v] > distance[u] + w[l]:\n",
    "                distance[v]= distance[u] + w[l]\n",
    "                parent[v]=u\n",
    "        #print(f\"{u = }\")\n",
    "        #print(f\"{distance = }\")\n",
    "    return distance,parent\n",
    "            \n",
    "dist,parent = dijkstra(0,t)\n",
    "print(dist)\n",
    "print(parent)"
   ]
  },
  {
   "cell_type": "code",
   "execution_count": 30,
   "id": "49ade925-7d05-447d-926e-c2a63a9262af",
   "metadata": {},
   "outputs": [
    {
     "data": {
      "text/plain": [
       "array([0.    , 0.38  , 1.6677, 3.3889, 4.6157, 5.5546, 6.5732, 8.2375,\n",
       "       9.1952, 9.4695, 7.1593, 6.709 , 4.2128, 3.6238, 6.0331, 6.7113,\n",
       "       7.4164, 2.4951, 1.9616, 1.1192, 2.2302])"
      ]
     },
     "execution_count": 30,
     "metadata": {},
     "output_type": "execute_result"
    }
   ],
   "source": [
    "t[0,:,0]"
   ]
  },
  {
   "cell_type": "code",
   "execution_count": null,
   "id": "4821a9c3-53c9-4067-a974-878b2ac87eac",
   "metadata": {},
   "outputs": [],
   "source": []
  }
 ],
 "metadata": {
  "kernelspec": {
   "display_name": "Python 3 (ipykernel)",
   "language": "python",
   "name": "python3"
  },
  "language_info": {
   "codemirror_mode": {
    "name": "ipython",
    "version": 3
   },
   "file_extension": ".py",
   "mimetype": "text/x-python",
   "name": "python",
   "nbconvert_exporter": "python",
   "pygments_lexer": "ipython3",
   "version": "3.9.12"
  }
 },
 "nbformat": 4,
 "nbformat_minor": 5
}
