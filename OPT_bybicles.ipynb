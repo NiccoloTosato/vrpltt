{
 "cells": [
  {
   "cell_type": "code",
   "execution_count": 3,
   "id": "404deb73",
   "metadata": {},
   "outputs": [],
   "source": [
    "import gurobipy as gp\n",
    "from gurobipy import GRB\n",
    "import numpy as np\n",
    "import pandas as pd"
   ]
  },
  {
   "cell_type": "code",
   "execution_count": 4,
   "id": "1525ae86",
   "metadata": {},
   "outputs": [
    {
     "name": "stdout",
     "output_type": "stream",
     "text": [
      "Restricted license - for non-production use only - expires 2023-10-25\n"
     ]
    }
   ],
   "source": [
    "model = gp.Model(\"VRPLTT\")"
   ]
  },
  {
   "cell_type": "code",
   "execution_count": 5,
   "id": "e74c4629",
   "metadata": {},
   "outputs": [],
   "source": [
    "Q_min = 140\n",
    "Q_max = 300\n",
    "n_levels = 4\n",
    "load_levels = np.array([(0.5+i)*(Q_max-Q_min)/n_levels for i in range(n_levels)])\n",
    "upper = load_levels+(Q_max-Q_min)/(n_levels*2)\n",
    "lower = load_levels-(Q_max-Q_min)/(n_levels*2)"
   ]
  },
  {
   "cell_type": "code",
   "execution_count": 6,
   "id": "f172d915",
   "metadata": {},
   "outputs": [
    {
     "data": {
      "text/plain": [
       "array([ 20.,  60., 100., 140.])"
      ]
     },
     "execution_count": 6,
     "metadata": {},
     "output_type": "execute_result"
    }
   ],
   "source": [
    "load_levels"
   ]
  },
  {
   "cell_type": "code",
   "execution_count": 7,
   "id": "0f5a0294",
   "metadata": {},
   "outputs": [
    {
     "data": {
      "text/plain": [
       "array([ 40.,  80., 120., 160.])"
      ]
     },
     "execution_count": 7,
     "metadata": {},
     "output_type": "execute_result"
    }
   ],
   "source": [
    "upper"
   ]
  },
  {
   "cell_type": "code",
   "execution_count": 8,
   "id": "16ceb90e",
   "metadata": {},
   "outputs": [],
   "source": [
    "\n",
    "def vel(m, h, P):\n",
    "    ### aer. resistence\n",
    "    Cd = 1.18\n",
    "    A = 0.83 #m^2\n",
    "    rho = 1.18 #kg/m^3\n",
    "\n",
    "    c_Fd = rho*Cd*A*0.5\n",
    "\n",
    "    ### rolling resistance\n",
    "    Cr = 0.01\n",
    "    g = 9.81 #m/s^2\n",
    "    \n",
    "    eff = 0.95\n",
    "    \n",
    "    c1 = (m*g* ( Cr*np.cos( np.arctan(h) ) + np.sin( np.arctan(h) ) ))/eff\n",
    "    c3 = c_Fd/eff\n",
    "    \n",
    "    coefs = [c3, 0, c1, -P]\n",
    "    #print(f\"{np.real(np.roots(coefs))=}\")\n",
    "    v = np.max(np.real(3.6*np.roots(coefs)))\n",
    "    return min(v,30)\n",
    "    #return 3.6*np.roots(coefs)\n",
    "    \n",
    "\n",
    "def time_matrix(data_matrix, load_levels,P):\n",
    "    N = len(data_matrix.index)\n",
    "    elevation = data_matrix.elevation.to_numpy()\n",
    "    d_ij_mat = data_matrix.iloc[:, 8:].to_numpy()\n",
    "    t_ij_mat = np.zeros((N, N, n_levels))\n",
    "    for i in range(N):\n",
    "        for j in range(N):\n",
    "            if i!=j:\n",
    "                d_ij = d_ij_mat[i, j]\n",
    "                h = (elevation[j] - elevation[i])/d_ij\n",
    "                for l in range(n_levels):\n",
    "                    m = load_levels[l]\n",
    "                    t_ij_mat[i, j, l] =60*d_ij/vel(m, h, P)\n",
    "    return np.round(t_ij_mat,4)"
   ]
  },
  {
   "cell_type": "markdown",
   "id": "d49c4328-7006-47b7-b406-93b6f5d21f7d",
   "metadata": {},
   "source": [
    "The forces acting on the bicyle are: the aerodynamic drag resistance $F_{D}$, the rolling resistance $F_{R}$ and the component of the gravity force along the direction of motion $F_{G}$:\n",
    "\n",
    "* $ F_{D} = \\frac{\\rho C_{D}Av^{2}}{2}$\n",
    "* $ F_{R} = C_{R}mg cos(arctan(h))$\n",
    "* $ F_{G} = mg sin(arctan(h))$\n",
    "\n",
    "We have to distinguish two cases: uphill and downhill.\n",
    "In uphill, the component of the gravity force along the direction of motion is a resistance force, while in downhill it helps the motion of the bicyle.\n",
    "so we have, at equilibrium:\n",
    "\n",
    "* $\\mathrm{ \\eta P_{traction} = (F_{D} + (F_{R} + F_{G})v }$\n",
    "\n",
    "where $\\eta$ is the efficiency of the mechanic transmission, which is assumed to be 0.95.\n",
    "\n",
    "If we use a negative h in the formuals above when traversing an edge with negative slope, since $cos(\\alpha) = cos(-\\alpha)$ and $sin(\\alpha) = -sin(-\\alpha)$, we have just one expression for the equation to solve.\n",
    "\n",
    "Moreover, we assume that the bicyle speed is limited in downhill for safety reasons. Within cities, a typical speed limit for for motor vehicles is 50km/h. Considering also that the regulation for pedelec bicyle allows a maximum speed of 25km/h in electric assisted mode, we set a maximum speed in downhill of 30km/h.\n",
    "The delta energy can be used for recharging the battery for example, similarly to other solutions in the automaotive industry.\n",
    "The maximum speed limit is imposed on uphill as well.\n",
    "The strategy for solving the equation is:\n",
    "* solve the equation for the two cases: (1) $P=P_{cyclist}$, and (2) $P=P_{cyclist}+P_{electric}$ \n",
    "* If the cyclist can reach a speed that is higher than the speed allowed in electric mode, use that speed, subject to the limit of maximum speed allowed,\n",
    "* otherwise use the minimum value among 25 km/h and the solution of problem (2)\n",
    "\n",
    "In practice we have $P_{electric}$ = 250W, while for $\\overline {P_{cyclist}}$ we assume to have few different types of cyclist."
   ]
  },
  {
   "cell_type": "code",
   "execution_count": 9,
   "id": "f11073bb-a320-4232-94e5-4b1b3f266789",
   "metadata": {},
   "outputs": [],
   "source": [
    "def vel1(m, h, P):\n",
    "    ### aer. resistence\n",
    "    Cd = 1.18\n",
    "    A = 0.83 #m^2\n",
    "    rho = 1.18 #kg/m^3\n",
    "\n",
    "    c_Fd = rho*Cd*A*0.5\n",
    "\n",
    "    ### rolling resistance\n",
    "    Cr = 0.01\n",
    "    g = 9.81 #m/s^2\n",
    "    \n",
    "    eta = 0.95\n",
    "    \n",
    "    P_electric = 250 #Watt\n",
    "    \n",
    "    c0 = P*eta\n",
    "    c1 = (m*g* ( Cr*np.cos( np.arctan(h) ) + np.sin( np.arctan(h) ) ))\n",
    "    c3 = c_Fd\n",
    "    \n",
    "    v_max = 30 #km/h\n",
    "   ### closed form solution of 3-rd degree polynomial\n",
    "\n",
    "    # p = c1/c3\n",
    "    # q = -c0/c3\n",
    "    # print(np.roots([1, 0, p, q]))\n",
    "    \n",
    "    ###\n",
    "    coefs = [c3, 0, c1, -eta*P]\n",
    "    coefs_electric = [c3, 0, c1, -eta*(P+P_electric)]        \n",
    "    v = np.max(np.real(3.6*np.roots(coefs)))\n",
    "    v_electric = np.max(np.real(3.6*np.roots(coefs_electric)))\n",
    "    if h > 0:\n",
    "        if v > 25:\n",
    "            print('up-cyclist only')\n",
    "            return min(v, v_max)\n",
    "        else:\n",
    "            print('up-electric')\n",
    "            return min(v_electric, 25)\n",
    "    else:\n",
    "        if v > 25:\n",
    "            print('down-cyclist only')\n",
    "            return min(v, v_max)\n",
    "        else:\n",
    "            print('down-electric')\n",
    "            return min(v_electric, 25)"
   ]
  },
  {
   "cell_type": "code",
   "execution_count": 10,
   "id": "a2f1fed3-cf97-4a68-9ac0-cd1cddfa11f4",
   "metadata": {},
   "outputs": [
    {
     "name": "stdout",
     "output_type": "stream",
     "text": [
      "base model v= 14.097188347234017\n",
      "up-electric\n",
      "new model v= 14.097188347234017\n",
      "\n",
      "\n",
      "base model v= 30\n",
      "down-cyclist only\n",
      "new model v= 30\n",
      "\n",
      "\n",
      "base model v= 30\n",
      "down-electric\n",
      "new model v= 25\n",
      "\n",
      "\n",
      "base model v= 30\n",
      "down-cyclist only\n",
      "new model v= 28.44330666117872\n",
      "\n",
      "\n",
      "base model v= 30\n",
      "up-cyclist only\n",
      "new model v= 25.918030223661823\n"
     ]
    }
   ],
   "source": [
    "print('base model v=', vel(150, 0.05, 150+250))\n",
    "print('new model v=', vel1(150, 0.05, 150))\n",
    "print('\\n')\n",
    "print('base model v=', vel(150, -0.05, 150+250))\n",
    "print('new model v=', vel1(150, -0.05, 150))\n",
    "print('\\n')\n",
    "print('base model v=', vel(150, -0.01, 150+250))\n",
    "print('new model v=', vel1(150, -0.01, 150))\n",
    "print('\\n')\n",
    "print('base model v=', vel(150, -0.01, 300+250))\n",
    "print('new model v=', vel1(150, -0.01, 300))\n",
    "print('\\n')\n",
    "print('base model v=', vel(150, 0.01, 450+250))\n",
    "print('new model v=', vel1(150, 0.01, 450))"
   ]
  },
  {
   "cell_type": "code",
   "execution_count": 11,
   "id": "5f138fc0-3004-4c82-a132-abb9ae5ca5d0",
   "metadata": {},
   "outputs": [],
   "source": [
    "df = pd.read_csv(\"./instances/small/Fukuoka_01.csv\")\n",
    "P = 500 # Watt\n",
    "\n",
    "t=time_matrix(df,load_levels,P=P)"
   ]
  },
  {
   "cell_type": "code",
   "execution_count": 8,
   "id": "7443c753-e75b-48ad-8dad-46168323dc09",
   "metadata": {},
   "outputs": [
    {
     "name": "stdout",
     "output_type": "stream",
     "text": [
      "[1.1577 3.4176 5.6932 7.9698]\n",
      "[0.332 0.332 0.332 0.332]\n"
     ]
    }
   ],
   "source": [
    "from pprint import pprint\n",
    "print(t[3,4])\n",
    "print(t[4,3])\n"
   ]
  },
  {
   "cell_type": "code",
   "execution_count": 9,
   "id": "cdc2990d-5810-420c-ade4-5b06ee5c3b6a",
   "metadata": {},
   "outputs": [
    {
     "name": "stdout",
     "output_type": "stream",
     "text": [
      "{0: 0,\n",
      " 1: 0.38,\n",
      " 2: 1.4763000000000002,\n",
      " 3: 2.5689,\n",
      " 4: 3.3916,\n",
      " 5: 3.6915999999999998,\n",
      " 6: 4.0356,\n",
      " 7: 5.315099999999999,\n",
      " 8: 5.2126,\n",
      " 9: 6.8701,\n",
      " 10: 6.2101,\n",
      " 11: 5.761,\n",
      " 12: 3.2565999999999997,\n",
      " 13: 3.1090999999999998,\n",
      " 14: 4.5546,\n",
      " 15: 6.0489999999999995,\n",
      " 16: 6.0104999999999995,\n",
      " 17: 2.3936,\n",
      " 18: 1.9616,\n",
      " 19: 1.1192,\n",
      " 20: 2.1546000000000003}\n",
      "{0: None,\n",
      " 1: 0,\n",
      " 2: 1,\n",
      " 3: 2,\n",
      " 4: 18,\n",
      " 5: 4,\n",
      " 6: 5,\n",
      " 7: 13,\n",
      " 8: 12,\n",
      " 9: 10,\n",
      " 10: 1,\n",
      " 11: 1,\n",
      " 12: 1,\n",
      " 13: 1,\n",
      " 14: 12,\n",
      " 15: 1,\n",
      " 16: 14,\n",
      " 17: 18,\n",
      " 18: 0,\n",
      " 19: 0,\n",
      " 20: 19}\n"
     ]
    }
   ],
   "source": [
    "def extract_min(Q,distance):\n",
    "    minimo=float(\"inf\") #highest python value\n",
    "    nome=\"\"\n",
    "    for q in Q: #find the smallest\n",
    "        if distance[q] <= minimo:\n",
    "            nome=q\n",
    "            minimo=distance[q]\n",
    "    Q.remove(nome) #remove the correct node from the que\n",
    "    return nome # tell me wich node is removed\n",
    "\n",
    "def W(u,v,weight_matrix):\n",
    "    for i in adj[u]:\n",
    "        if i.end==v:\n",
    "            return i.weight\n",
    "        \n",
    "def dijkstra(source,weight_matrix,l=0):\n",
    "    distance=dict() #dict for distance from source\n",
    "    parent=dict() #dict for parentnes of each node\n",
    "    nodes=np.array([i for i in range(len(weight_matrix))]) #list of current node to iterate\n",
    "    for node in nodes:\n",
    "        distance[node]=float(\"inf\") \n",
    "        parent[node]=None\n",
    "    distance[source]=0\n",
    "    S=[]\n",
    "    Q={node for node in nodes} #set used ad que, coupled with distance dict\n",
    "    while len(Q)>0:\n",
    "        u=extract_min(Q,distance) #extract the min from Q,using distance dict\n",
    "        S.append(u) #ultimated nodes\n",
    "        for v,w in enumerate(weight_matrix[u]): #for each node v, outgoing from u, with weight w\n",
    "            if distance[v] > distance[u] + w[l]: #relax phase\n",
    "                distance[v]= distance[u] + w[l]\n",
    "                parent[v]=u\n",
    "        #print(f\"{u = }\")\n",
    "        #print(f\"{distance = }\")\n",
    "    return distance,parent #return distances from source and each node parent !\n",
    "            \n",
    "dist,parent = dijkstra(0,t)\n",
    "pprint(dist)\n",
    "pprint(parent)"
   ]
  },
  {
   "cell_type": "code",
   "execution_count": 10,
   "id": "49ade925-7d05-447d-926e-c2a63a9262af",
   "metadata": {},
   "outputs": [
    {
     "name": "stdout",
     "output_type": "stream",
     "text": [
      "\t0.0 \t0.38 \t1.668 \t3.389 \t4.616 \t5.555 \t6.573 \t8.238 \t9.195 \t9.47 \t7.159 \t6.709 \t4.213 \t3.624 \t6.033 \t6.711 \t7.416 \t2.495 \t1.962 \t1.119 \t2.23 \n",
      "\n",
      "\t0.38 \t0.0 \t1.096 \t2.315 \t3.487 \t4.474 \t5.551 \t7.112 \t7.875 \t8.143 \t5.83 \t5.381 \t2.877 \t2.729 \t5.461 \t5.669 \t7.053 \t3.121 \t2.866 \t1.551 \t1.967 \n",
      "\n",
      "\t0.696 \t0.36 \t0.0 \t1.093 \t2.251 \t3.265 \t4.385 \t5.896 \t6.774 \t7.549 \t5.473 \t4.738 \t2.527 \t2.372 \t5.105 \t5.312 \t6.696 \t2.794 \t2.718 \t0.824 \t2.27 \n",
      "\n",
      "\t1.01 \t0.674 \t0.314 \t0.0 \t1.158 \t2.157 \t3.156 \t4.8 \t5.761 \t6.535 \t5.564 \t3.723 \t2.73 \t3.162 \t5.571 \t5.669 \t7.032 \t1.488 \t3.677 \t1.138 \t0.988 \n",
      "\n",
      "\t1.342 \t1.006 \t0.646 \t0.332 \t0.0 \t0.3 \t0.646 \t3.621 \t4.978 \t6.549 \t5.578 \t3.737 \t3.89 \t4.318 \t6.72 \t6.83 \t8.19 \t1.82 \t1.43 \t1.47 \t1.32 \n",
      "\n",
      "\t1.642 \t1.306 \t0.946 \t0.632 \t0.99 \t0.0 \t0.344 \t2.62 \t3.932 \t5.654 \t4.752 \t4.318 \t4.939 \t5.361 \t7.761 \t6.508 \t8.023 \t2.122 \t2.969 \t1.772 \t1.62 \n",
      "\n",
      "\t1.988 \t1.65 \t1.292 \t0.978 \t2.015 \t0.938 \t0.0 \t1.433 \t2.722 \t4.598 \t4.578 \t4.723 \t6.14 \t6.553 \t8.011 \t6.333 \t7.848 \t2.466 \t4.027 \t2.116 \t1.964 \n",
      "\n",
      "\t2.398 \t2.06 \t1.702 \t1.388 \t1.056 \t0.754 \t0.41 \t0.0 \t1.792 \t3.667 \t4.032 \t4.618 \t7.27 \t7.619 \t7.879 \t6.228 \t7.742 \t2.87 \t2.48 \t2.526 \t2.374 \n",
      "\n",
      "\t2.634 \t2.254 \t1.938 \t1.648 \t1.424 \t1.124 \t0.778 \t0.512 \t0.0 \t1.988 \t2.352 \t3.658 \t6.563 \t1.906 \t1.868 \t4.82 \t6.326 \t2.422 \t2.362 \t2.766 \t2.614 \n",
      "\n",
      "\t2.708 \t2.328 \t2.158 \t1.868 \t1.872 \t1.616 \t1.314 \t1.048 \t0.568 \t0.0 \t2.309 \t1.188 \t2.03 \t1.894 \t1.856 \t4.758 \t4.097 \t2.41 \t2.378 \t2.936 \t2.834 \n",
      "\n",
      "\t2.046 \t1.666 \t1.564 \t1.59 \t1.594 \t1.358 \t1.308 \t1.152 \t0.672 \t0.66 \t0.0 \t0.526 \t1.368 \t1.234 \t1.196 \t0.706 \t1.14 \t1.748 \t1.718 \t2.274 \t2.248 \n",
      "\n",
      "\t1.918 \t1.538 \t1.354 \t1.064 \t1.068 \t1.234 \t1.35 \t1.32 \t1.048 \t4.122 \t1.841 \t0.0 \t1.24 \t1.162 \t1.28 \t2.771 \t4.263 \t1.834 \t1.646 \t2.146 \t2.03 \n",
      "\n",
      "\t1.204 \t0.822 \t0.722 \t0.78 \t1.112 \t1.412 \t1.756 \t2.082 \t1.956 \t7.047 \t4.785 \t4.267 \t0.0 \t0.608 \t1.298 \t4.63 \t5.971 \t1.454 \t1.064 \t1.432 \t1.406 \n",
      "\n",
      "\t1.036 \t0.78 \t0.678 \t0.904 \t1.236 \t1.536 \t1.88 \t2.206 \t6.512 \t6.619 \t4.318 \t4.062 \t2.127 \t0.0 \t2.674 \t3.073 \t4.163 \t0.866 \t0.476 \t1.378 \t1.362 \n",
      "\n",
      "\t1.726 \t1.562 \t1.46 \t1.594 \t1.926 \t2.226 \t2.298 \t2.268 \t5.87 \t6.482 \t4.185 \t4.469 \t4.511 \t0.774 \t0.0 \t1.806 \t1.456 \t0.982 \t1.164 \t2.068 \t2.144 \n",
      "\n",
      "\t1.918 \t1.62 \t1.518 \t1.62 \t1.952 \t1.86 \t1.81 \t1.78 \t1.378 \t1.366 \t2.459 \t0.792 \t1.324 \t0.878 \t0.516 \t0.0 \t0.436 \t1.186 \t1.362 \t2.266 \t2.248 \n",
      "\n",
      "\t2.12 \t2.016 \t1.914 \t2.01 \t2.342 \t2.294 \t2.244 \t2.214 \t1.812 \t1.8 \t3.984 \t1.226 \t1.714 \t1.19 \t0.416 \t1.525 \t0.0 \t1.376 \t1.558 \t2.462 \t2.658 \n",
      "\n",
      "\t0.786 \t1.048 \t1.172 \t3.935 \t6.025 \t6.702 \t7.361 \t9.686 \t8.457 \t8.429 \t6.117 \t6.415 \t5.086 \t3.03 \t3.436 \t4.151 \t4.815 \t0.0 \t1.508 \t1.128 \t1.476 \n",
      "\n",
      "\t0.562 \t0.824 \t0.782 \t1.098 \t1.43 \t1.732 \t2.076 \t7.8 \t8.239 \t8.316 \t6.012 \t5.758 \t3.723 \t1.666 \t4.07 \t4.766 \t5.451 \t0.432 \t0.0 \t0.904 \t1.1 \n",
      "\n",
      "\t0.37 \t0.608 \t0.824 \t3.681 \t5.016 \t5.905 \t6.837 \t8.638 \t9.652 \t10.265 \t7.957 \t7.505 \t5.01 \t4.817 \t7.223 \t7.928 \t8.611 \t2.739 \t3.134 \t0.0 \t1.035 \n",
      "\n",
      "\t0.676 \t0.588 \t0.754 \t2.88 \t4.474 \t5.296 \t6.11 \t8.096 \t9.123 \t9.908 \t7.866 \t7.1 \t4.919 \t4.761 \t7.486 \t7.865 \t9.295 \t1.324 \t3.765 \t0.304 \t0.0 \n",
      "\n"
     ]
    }
   ],
   "source": [
    "for i in t[:,:,0]:\n",
    "    for j in i:\n",
    "        print(f\"\\t{round(j,3)}\",end=\" \")\n",
    "    print(\"\\n\")"
   ]
  },
  {
   "cell_type": "code",
   "execution_count": 11,
   "id": "4821a9c3-53c9-4067-a974-878b2ac87eac",
   "metadata": {},
   "outputs": [
    {
     "name": "stdout",
     "output_type": "stream",
     "text": [
      "291 µs ± 12.6 µs per loop (mean ± std. dev. of 7 runs, 1,000 loops each)\n"
     ]
    }
   ],
   "source": [
    "%%timeit\n",
    "dist,parent = dijkstra(0,t)\n"
   ]
  },
  {
   "cell_type": "code",
   "execution_count": 12,
   "id": "3f2bd1b3-57da-48f7-865d-5430f58bc082",
   "metadata": {},
   "outputs": [],
   "source": [
    "def shortest_path_matrix(t_ij_mat):\n",
    "    sp_matrix=np.empty_like(t_ij_mat)\n",
    "    nodes=np.array([i for i in range(t_ij_mat.shape[0])])\n",
    "    levels=np.array([i for i in range(t_ij_mat.shape[-1])])\n",
    "    print(levels)\n",
    "    for source in nodes:\n",
    "        for l in levels:\n",
    "            distance,_t=dijkstra(source,t_ij_mat,l)\n",
    "            sp_matrix[source,:,l]=list(distance.values())\n",
    "    return sp_matrix\n",
    "\n"
   ]
  },
  {
   "cell_type": "code",
   "execution_count": 13,
   "id": "d5b678b6-0619-4bac-915c-1f9d8b2b1d4d",
   "metadata": {},
   "outputs": [
    {
     "name": "stdout",
     "output_type": "stream",
     "text": [
      "[0 1 2 3]\n",
      "\t0.0 \t0.38 \t1.48 \t2.57 \t3.39 \t3.69 \t4.04 \t5.32 \t5.21 \t6.87 \t6.21 \t5.76 \t3.26 \t3.11 \t4.55 \t6.05 \t6.01 \t2.39 \t1.96 \t1.12 \t2.15 \n",
      "\n",
      "\t0.38 \t0.0 \t1.1 \t2.19 \t3.35 \t3.65 \t3.99 \t4.94 \t4.83 \t6.49 \t5.83 \t5.38 \t2.88 \t2.73 \t4.17 \t5.67 \t5.63 \t2.77 \t2.34 \t1.5 \t1.97 \n",
      "\n",
      "\t0.7 \t0.36 \t0.0 \t1.09 \t2.25 \t2.55 \t2.89 \t4.33 \t4.48 \t6.13 \t5.47 \t4.74 \t2.53 \t2.37 \t3.82 \t5.31 \t5.28 \t2.58 \t2.66 \t0.82 \t1.86 \n",
      "\n",
      "\t1.01 \t0.67 \t0.31 \t0.0 \t1.16 \t1.46 \t1.8 \t3.23 \t4.52 \t6.22 \t5.56 \t3.72 \t2.73 \t2.69 \t4.03 \t5.63 \t5.48 \t1.49 \t2.59 \t1.14 \t0.99 \n",
      "\n",
      "\t1.34 \t1.01 \t0.65 \t0.33 \t0.0 \t0.3 \t0.64 \t2.08 \t3.37 \t5.24 \t5.05 \t3.74 \t3.06 \t3.02 \t4.36 \t5.76 \t5.82 \t1.82 \t1.43 \t1.47 \t1.32 \n",
      "\n",
      "\t1.64 \t1.31 \t0.95 \t0.63 \t0.99 \t0.0 \t0.34 \t1.78 \t3.07 \t4.94 \t4.75 \t4.32 \t3.36 \t3.32 \t4.66 \t5.46 \t5.89 \t2.12 \t2.42 \t1.77 \t1.62 \n",
      "\n",
      "\t1.99 \t1.65 \t1.29 \t0.98 \t1.93 \t0.94 \t0.0 \t1.43 \t2.72 \t4.6 \t4.58 \t4.7 \t3.71 \t3.66 \t4.59 \t5.28 \t5.72 \t2.47 \t3.36 \t2.12 \t1.96 \n",
      "\n",
      "\t2.4 \t2.06 \t1.7 \t1.39 \t1.06 \t0.75 \t0.41 \t0.0 \t1.79 \t3.67 \t4.03 \t4.56 \t4.12 \t3.7 \t3.66 \t4.74 \t5.12 \t2.87 \t2.48 \t2.52 \t2.37 \n",
      "\n",
      "\t2.63 \t2.25 \t1.94 \t1.65 \t1.42 \t1.12 \t0.78 \t0.51 \t0.0 \t1.99 \t2.35 \t2.88 \t3.72 \t1.91 \t1.87 \t3.06 \t3.32 \t2.42 \t2.36 \t2.76 \t2.61 \n",
      "\n",
      "\t2.71 \t2.33 \t2.16 \t1.87 \t1.87 \t1.62 \t1.31 \t1.05 \t0.57 \t0.0 \t2.31 \t1.19 \t2.03 \t1.89 \t1.86 \t3.02 \t3.31 \t2.41 \t2.37 \t2.94 \t2.83 \n",
      "\n",
      "\t2.05 \t1.67 \t1.56 \t1.59 \t1.59 \t1.36 \t1.31 \t1.15 \t0.67 \t0.66 \t0.0 \t0.53 \t1.37 \t1.23 \t1.2 \t0.71 \t1.14 \t1.75 \t1.71 \t2.27 \t2.25 \n",
      "\n",
      "\t1.92 \t1.54 \t1.35 \t1.06 \t1.07 \t1.23 \t1.35 \t1.32 \t1.05 \t2.5 \t1.84 \t0.0 \t1.24 \t1.16 \t1.28 \t2.55 \t2.74 \t1.83 \t1.64 \t2.15 \t2.03 \n",
      "\n",
      "\t1.2 \t0.82 \t0.72 \t0.78 \t1.11 \t1.41 \t1.76 \t2.08 \t1.96 \t3.94 \t4.31 \t3.9 \t0.0 \t0.61 \t1.3 \t3.1 \t2.75 \t1.45 \t1.06 \t1.43 \t1.41 \n",
      "\n",
      "\t1.04 \t0.78 \t0.68 \t0.9 \t1.24 \t1.54 \t1.88 \t2.21 \t4.0 \t4.44 \t4.32 \t3.86 \t2.13 \t0.0 \t2.67 \t3.07 \t3.51 \t0.87 \t0.48 \t1.38 \t1.36 \n",
      "\n",
      "\t1.73 \t1.55 \t1.45 \t1.59 \t1.93 \t2.23 \t2.3 \t2.27 \t3.18 \t3.17 \t4.19 \t2.6 \t2.9 \t0.77 \t0.0 \t1.81 \t1.46 \t0.98 \t1.16 \t2.07 \t2.14 \n",
      "\n",
      "\t1.91 \t1.62 \t1.52 \t1.62 \t1.86 \t1.86 \t1.81 \t1.78 \t1.38 \t1.37 \t2.46 \t0.79 \t1.32 \t0.88 \t0.52 \t0.0 \t0.44 \t1.19 \t1.35 \t2.26 \t2.24 \n",
      "\n",
      "\t2.12 \t1.97 \t1.87 \t2.01 \t2.29 \t2.29 \t2.24 \t2.21 \t1.81 \t1.8 \t3.07 \t1.23 \t1.71 \t1.19 \t0.42 \t1.53 \t0.0 \t1.38 \t1.56 \t2.46 \t2.55 \n",
      "\n",
      "\t0.79 \t1.05 \t1.17 \t2.26 \t2.94 \t3.24 \t3.58 \t5.01 \t5.53 \t5.52 \t6.12 \t4.94 \t3.7 \t3.03 \t3.44 \t4.15 \t4.59 \t0.0 \t1.51 \t1.13 \t1.48 \n",
      "\n",
      "\t0.56 \t0.82 \t0.78 \t1.1 \t1.43 \t1.73 \t2.07 \t3.51 \t4.8 \t5.95 \t5.98 \t4.82 \t3.31 \t1.67 \t3.87 \t4.58 \t5.02 \t0.43 \t0.0 \t0.9 \t1.1 \n",
      "\n",
      "\t0.37 \t0.61 \t0.82 \t1.92 \t3.07 \t3.37 \t3.72 \t5.15 \t5.31 \t6.96 \t6.3 \t5.56 \t3.35 \t3.2 \t4.65 \t6.14 \t6.1 \t2.36 \t2.33 \t0.0 \t1.04 \n",
      "\n",
      "\t0.67 \t0.59 \t0.75 \t1.85 \t3.0 \t3.3 \t3.65 \t5.08 \t5.24 \t6.84 \t6.23 \t5.49 \t3.28 \t3.13 \t4.58 \t5.47 \t5.91 \t1.32 \t2.64 \t0.3 \t0.0 \n",
      "\n"
     ]
    }
   ],
   "source": [
    "\n",
    "sp = shortest_path_matrix(t)\n",
    "for i in sp[:,:,0]:\n",
    "    for j in i:\n",
    "        print(f\"\\t{round(j,2)}\",end=\" \")\n",
    "    print(\"\\n\")\n",
    "    "
   ]
  },
  {
   "cell_type": "code",
   "execution_count": 82,
   "id": "b0c2f0a9-28fc-4a6c-bc4b-405bd8aa8603",
   "metadata": {},
   "outputs": [
    {
     "name": "stdout",
     "output_type": "stream",
     "text": [
      "140190043822656\n"
     ]
    }
   ],
   "source": [
    "l = [1,2]\n",
    "print(id(l))"
   ]
  },
  {
   "cell_type": "code",
   "execution_count": null,
   "id": "ef8a5d32-1215-4f7e-b3cf-b7e979aeadea",
   "metadata": {},
   "outputs": [],
   "source": []
  }
 ],
 "metadata": {
  "kernelspec": {
   "display_name": "Python 3 (ipykernel)",
   "language": "python",
   "name": "python3"
  },
  "language_info": {
   "codemirror_mode": {
    "name": "ipython",
    "version": 3
   },
   "file_extension": ".py",
   "mimetype": "text/x-python",
   "name": "python",
   "nbconvert_exporter": "python",
   "pygments_lexer": "ipython3",
   "version": "3.9.7"
  }
 },
 "nbformat": 4,
 "nbformat_minor": 5
}
