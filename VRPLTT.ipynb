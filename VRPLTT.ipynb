{
 "cells": [
  {
   "cell_type": "code",
   "execution_count": 1,
   "id": "404deb73",
   "metadata": {},
   "outputs": [],
   "source": [
    "import gurobipy as gp\n",
    "from gurobipy import GRB\n",
    "import numpy as np\n",
    "import pandas as pd\n",
    "from pprint import pprint"
   ]
  },
  {
   "cell_type": "markdown",
   "id": "d69c0bda-e7a1-4eaf-ba4c-54bd1a3bc40a",
   "metadata": {},
   "source": [
    "## Utility functions definition:\n",
    "\n",
    "- `get_customers`: return the number of customers $N$ in the problem \n",
    "- `vel`: return the regime velocity given  mass $m$, gradient  $h$, $P_{human}$, $P_{electric}$ in $km/h$\n",
    "- `time_matrix`: return time matrix $t_{ij}^l$ extended, to be used in Dijkstra shortest path algorithm.\n",
    "- `extract_min` and `dijkstra`: our shortest path implementation\n",
    "- `shortest_path_matrix`: retrun time matrix $t_{ij}^l$ for path among customer points"
   ]
  },
  {
   "cell_type": "code",
   "execution_count": 2,
   "id": "603c37fc-7822-4a57-868a-b97de111a737",
   "metadata": {},
   "outputs": [],
   "source": [
    "def get_customers(dataframe):\n",
    "    \"\"\"\n",
    "    Given a dataframe from csv instance, return the number of customers.\n",
    "    Will be used to count how many constumers are in a graph with internal nodes.\n",
    "    \"\"\"\n",
    "    return np.count_nonzero(dataframe[\"demand\"].to_numpy() >= 0)"
   ]
  },
  {
   "cell_type": "code",
   "execution_count": 3,
   "id": "16ceb90e",
   "metadata": {},
   "outputs": [],
   "source": [
    "def vel(m, h, P, P_electric=250):\n",
    "    ### aer. resistence\n",
    "    Cd = 1.18\n",
    "    A = 0.83  # m^2\n",
    "    rho = 1.18  # kg/m^3\n",
    "\n",
    "    c_Fd = rho * Cd * A * 0.5\n",
    "\n",
    "    ### rolling resistance\n",
    "    Cr = 0.01\n",
    "    g = 9.81  # m/s^2\n",
    "\n",
    "    eta = 0.95\n",
    "\n",
    "    c0 = P * eta\n",
    "    c1 = m * g * (Cr * np.cos(np.arctan(h)) + np.sin(np.arctan(h)))\n",
    "    c3 = c_Fd\n",
    "\n",
    "    v_max = 30  # km/h\n",
    "\n",
    "    coefs = [c3, 0, c1, -eta * P]\n",
    "    coefs_electric = [c3, 0, c1, -eta * (P + P_electric)]\n",
    "    v = np.max(np.real(3.6 * np.roots(coefs)))\n",
    "    v_electric = np.max(np.real(3.6 * np.roots(coefs_electric)))\n",
    "    if v > 25:\n",
    "        return min(v, v_max)\n",
    "    else:\n",
    "        return min(v_electric, 25)\n",
    "\n"
   ]
  },
  {
   "cell_type": "code",
   "execution_count": 4,
   "id": "d7fc61f4-90f0-4e5a-b2db-91f1f7809e24",
   "metadata": {},
   "outputs": [],
   "source": [
    "def time_matrix(data_matrix, load_levels, P, vehicle_weight=140):\n",
    "    \"\"\"\n",
    "    Given a dataframe from csv instance, a set of load level and a specific power (human power),\n",
    "    calculates the time travel for each edge of the graph.\n",
    "    \"\"\"\n",
    "    N = len(data_matrix.index)\n",
    "    n_levels = len(load_levels)\n",
    "    elevation = data_matrix.elevation.to_numpy()\n",
    "    d_ij_mat = data_matrix.iloc[:, 8:].to_numpy()  # extract from the dataframe only the distances, from column 8 untill the end\n",
    "    t_ij_mat = np.zeros((N, N, n_levels))  # size of t_ij: [N X N X n_levels], is a 3D array\n",
    "    for i in range(N):\n",
    "        for j in range(N):\n",
    "            d_ij = d_ij_mat[i, j]\n",
    "            if i != j and d_ij != 0:\n",
    "                h = (elevation[j] - elevation[i]) / d_ij  # calculate the slope of the path\n",
    "                for l in range(n_levels):  # for each load_level\n",
    "                    m = load_levels[l] + vehicle_weight\n",
    "                    t_ij_mat[i, j, l] = (60 * d_ij / vel(m, h, P, P_electric=250))  # time travel in minutes\n",
    "    return t_ij_mat"
   ]
  },
  {
   "cell_type": "code",
   "execution_count": 5,
   "id": "cdc2990d-5810-420c-ade4-5b06ee5c3b6a",
   "metadata": {},
   "outputs": [],
   "source": [
    "def extract_min(Q, distance):\n",
    "    minimo = float(\"inf\")  # highest python value\n",
    "    nome = \"\"\n",
    "    for q in Q:  # find the smallest\n",
    "        if distance[q] <= minimo:\n",
    "            nome = q\n",
    "            minimo = distance[q]\n",
    "    Q.remove(nome)  # remove the correct node from the que\n",
    "    return nome  # tell me wich node is removed\n",
    "\n",
    "\n",
    "def dijkstra(source, weight_matrix, l=0):\n",
    "    distance = dict()  # dict for distance from source\n",
    "    parent = dict()  # dict for parentnes of each node\n",
    "    nodes = np.array(\n",
    "        [i for i in range(len(weight_matrix))]\n",
    "    )  # list of current node to iterate\n",
    "    for node in nodes:\n",
    "        distance[node] = float(\"inf\")\n",
    "        parent[node] = None\n",
    "    distance[source] = 0\n",
    "    S = []\n",
    "    Q = {node for node in nodes}  # set used as queue, coupled with distance dict\n",
    "    while len(Q) > 0:\n",
    "        u = extract_min(Q, distance)  # extract the min from Q,using distance dict\n",
    "        S.append(u)  # ultimated nodes\n",
    "        for v, w in enumerate(weight_matrix[u]):  # for each node v, outgoing from u, with weight w\n",
    "            if distance[v] > distance[u] + w[l] and w[l] != 0:  # relax phase\n",
    "                distance[v] = distance[u] + w[l]\n",
    "                parent[v] = u\n",
    "\n",
    "    return distance, parent  # return distances from source and each node parent !"
   ]
  },
  {
   "cell_type": "code",
   "execution_count": 6,
   "id": "3f2bd1b3-57da-48f7-865d-5430f58bc082",
   "metadata": {},
   "outputs": [],
   "source": [
    "def shortest_path_matrix(t_ij_mat, N):\n",
    "    \"\"\"\n",
    "    Given the time travel matrix, calculates the shortest path between al possible pairs of customers, both for extendend and base case.\n",
    "    N is the number of customers, not the number of nodes.\n",
    "    \"\"\"\n",
    "\n",
    "    load_levels = np.shape(t_ij_mat)[-1]\n",
    "\n",
    "    sp_matrix = np.empty((N, N, load_levels))\n",
    "\n",
    "    nodes = np.array([i for i in range(N)])\n",
    "    levels = np.array([i for i in range(t_ij_mat.shape[-1])])\n",
    "    for source in nodes:\n",
    "        for l in levels:\n",
    "            distance, _t = dijkstra(source, t_ij_mat, l)\n",
    "            sp_matrix[source, :, l] = list(distance.values())[:N]\n",
    "    return sp_matrix"
   ]
  },
  {
   "cell_type": "markdown",
   "id": "b978b9f7-6bcd-4bc2-8e68-34ab1430120f",
   "metadata": {},
   "source": [
    "## Model implementation"
   ]
  },
  {
   "cell_type": "markdown",
   "id": "d23fc14a-0ce1-4da1-9ff0-cb6349cd06ce",
   "metadata": {},
   "source": [
    "### Problem setup\n",
    "Load dataframe.\n",
    "Parameters:\n",
    "- `.csv` file\n",
    "- `extended` ,`=1` if internal nodes are included.\n",
    "\n",
    "**NB** Only synthetic data have intermediate points."
   ]
  },
  {
   "cell_type": "code",
   "execution_count": 7,
   "id": "6f9e79ca-0c35-4ac6-a120-88bbe43736e3",
   "metadata": {},
   "outputs": [
    {
     "ename": "SyntaxError",
     "evalue": "invalid syntax (205718252.py, line 1)",
     "output_type": "error",
     "traceback": [
      "\u001b[0;36m  File \u001b[0;32m\"/tmp/ipykernel_2978/205718252.py\"\u001b[0;36m, line \u001b[0;32m1\u001b[0m\n\u001b[0;31m    Skip to left side bar\u001b[0m\n\u001b[0m         ^\u001b[0m\n\u001b[0;31mSyntaxError\u001b[0m\u001b[0;31m:\u001b[0m invalid syntax\n"
     ]
    }
   ],
   "source": [
    "Skip to left side bar\n",
    ">\n",
    "/vrpltt/\n",
    "Name\n",
    "Last Modified\n",
    "\n",
    "Skip to left side bar\n",
    ">\n",
    "/vrpltt/\n",
    "Name\n",
    "Last Modified\n",
    "\n",
    "df = pd.read_csv(\"./instances/small/Fukuoka_01.csv\") #in Fukuoka instances there are no intermediate points\n",
    "#df = pd.read_csv(\"./instances/synthetic/generated_grid_extended.csv\") #generated data have intermediate points\n",
    "#df = pd.read_csv(\"./instances/small/Fukuoka_01.csv\") # Trieste instance without intermediate points\n",
    "\n",
    "extended = 0"
   ]
  },
  {
   "cell_type": "code",
   "execution_count": null,
   "id": "789e5b79-305b-4cd2-86d1-ba899344cb78",
   "metadata": {},
   "outputs": [],
   "source": [
    "N = get_customers(df)\n",
    "N0 = N - 1  # customers\n",
    "if extended != 1:\n",
    "    df = df.iloc[:N, : 8 + N] # if no extended network is considered, take first N entries\n",
    "else:\n",
    "    df.iloc[:N, 8 : 8 + N] = 0 "
   ]
  },
  {
   "cell_type": "markdown",
   "id": "7fd4c438-c4d1-443f-93d0-bd24ef7b5445",
   "metadata": {},
   "source": [
    "Weight categorization in load levels. Parameters:\n",
    "- `Q_min`\n",
    "- `Q_max`\n",
    "- `n_levels`\n"
   ]
  },
  {
   "cell_type": "code",
   "execution_count": null,
   "id": "e74c4629",
   "metadata": {},
   "outputs": [],
   "source": [
    "Q_min = 0  # minum cargo load level\n",
    "Q_max = 160  # maximum cargo load level\n",
    "n_levels = 5  # number of load intervals\n",
    "\n",
    "load_levels = np.array(\n",
    "    [(0.5 + i) * (Q_max - Q_min) / n_levels for i in range(n_levels)]\n",
    ")\n",
    "upper = load_levels + (Q_max - Q_min) / (n_levels * 2)\n",
    "lower = load_levels - (Q_max - Q_min) / (n_levels * 2)\n",
    "\n",
    "s = df.s.to_numpy()  # service time\n",
    "s[0] = 0  # set depot service time to 0\n",
    "\n",
    "a = df[\"tw a\"].to_numpy()\n",
    "a[0] = 0  # set depot arrival time to 0\n",
    "\n",
    "b = df[\"tw b\"].to_numpy()\n",
    "b[0] = np.sum(b[1:])  # set depot max arrival time such that it is the highest among all customers\n",
    "\n",
    "demand = df.demand.to_numpy()\n",
    "demand[0] = 0  # set depot demand to 0\n",
    "\n",
    "Q = upper[-1]  # set maximum possible cargo weight equal to the upper bound of load levels"
   ]
  },
  {
   "cell_type": "markdown",
   "id": "6f754047-4633-451c-9414-8605e3f2f90e",
   "metadata": {},
   "source": [
    "Time matrix calculation.\n",
    "Parameters:\n",
    "- `P`\n",
    "- `vehicle_weight`\n",
    "\n",
    "$M_{ij}$ calculation for constraint $14$. "
   ]
  },
  {
   "cell_type": "code",
   "execution_count": null,
   "id": "3e24ca71-21a3-41dd-bf06-cc9aee167f44",
   "metadata": {},
   "outputs": [],
   "source": [
    "t_ij_L = time_matrix(df, load_levels, P=150, vehicle_weight=140)\n",
    "\n",
    "t_ij = shortest_path_matrix(t_ij_L, N)\n",
    "\n",
    "M_ij = np.empty((N, N))\n",
    "for i in range(N):\n",
    "    for j in range(N):\n",
    "        M_ij[i, j] = max([0, b[i] + s[i] + t_ij[i, j, -1] - a[j]])"
   ]
  },
  {
   "cell_type": "markdown",
   "id": "9c57043f-229e-4e84-9ae7-243c0e2fc428",
   "metadata": {},
   "source": [
    "## Gurobi model implementation"
   ]
  },
  {
   "cell_type": "code",
   "execution_count": null,
   "id": "1525ae86",
   "metadata": {},
   "outputs": [],
   "source": [
    "model = gp.Model(\"VRPLTT\")"
   ]
  },
  {
   "cell_type": "markdown",
   "id": "1c16ef4e-73d8-4ab3-8a31-ca20b0210968",
   "metadata": {},
   "source": [
    "<p>"
   ]
  },
  {
   "cell_type": "markdown",
   "id": "d212df6d-68cd-405b-b095-c66e3419871f",
   "metadata": {},
   "source": [
    "\n",
    "\n",
    "Constraints and decision variables are numbered as per *Fontaine,P.(2022)*.\n"
   ]
  },
  {
   "cell_type": "markdown",
   "id": "232d905b-5937-44c7-9995-0b6e76e1c635",
   "metadata": {},
   "source": [
    "### Decision variables\n",
    "- $x_{ij}$ : binary\n",
    "- $z_{ij}^l$ : binary\n",
    "- $f_{ij}\\geq 0$: continuous\n",
    "- $y_{i}\\geq 0$: continuous"
   ]
  },
  {
   "cell_type": "code",
   "execution_count": null,
   "id": "40069eaf-b6b5-4473-9f4e-19b839c757fc",
   "metadata": {},
   "outputs": [],
   "source": [
    "x_ij = model.addVars(\n",
    "    [(i, j) for i in range(N) for j in range(N)], vtype=GRB.BINARY, name=\"x_ij\"\n",
    ")  # c16\n",
    "\n",
    "z_ij = model.addMVar((N, N, n_levels), vtype=GRB.BINARY, name=\"z_ij\")  # c18\n",
    "\n",
    "y_i = model.addVars([i for i in range(N)], vtype=GRB.CONTINUOUS, lb=0, name=\"y_i\")  #\n",
    "\n",
    "f_ij = model.addVars(\n",
    "    [(i, j) for i in range(N) for j in range(N)],\n",
    "    vtype=GRB.CONTINUOUS,\n",
    "    lb=0,\n",
    "    name=\"f_ij\",\n",
    ")  # c17"
   ]
  },
  {
   "cell_type": "markdown",
   "id": "b5fd5808-ea04-419c-93db-ce360e6ca3e7",
   "metadata": {},
   "source": [
    "### Constraints"
   ]
  },
  {
   "cell_type": "markdown",
   "id": "56f7628f-415c-4d6e-a53c-442eb4682808",
   "metadata": {},
   "source": [
    "$$\\sum_{j \\in N}x_{ij}=1 \\quad \\forall i \\in N_0$$\n",
    "$$\\sum_{i \\in N}x_{ij}=1 \\quad \\forall j \\in N_0$$"
   ]
  },
  {
   "cell_type": "code",
   "execution_count": null,
   "id": "df2e4f9a-5310-4820-aa41-bf0218660ef9",
   "metadata": {},
   "outputs": [],
   "source": [
    "c8 = model.addConstrs( gp.quicksum( x_ij[i,j] for j in range(0,N) ) == 1\n",
    "                                         for i in range(1,N))\n",
    "c9 = model.addConstrs( gp.quicksum( x_ij[j,i] for j in range(0,N) ) == 1\n",
    "                                         for i in range(1,N))"
   ]
  },
  {
   "cell_type": "markdown",
   "id": "04019d81-49bd-41dc-88d6-55c61409752c",
   "metadata": {},
   "source": [
    "$$\\sum_{j \\in N}f_{ji}-\\sum_{j \\in N}f_{ij}=q_i \\quad \\forall i \\in N_0$$"
   ]
  },
  {
   "cell_type": "code",
   "execution_count": null,
   "id": "3990c841-d457-4c7c-80f2-c209f57e638c",
   "metadata": {},
   "outputs": [],
   "source": [
    "c10 = model.addConstrs(\n",
    "    gp.quicksum(f_ij[j, i] - f_ij[i, j] for j in range(0, N)) == demand[i]\n",
    "    for i in range(1, N))"
   ]
  },
  {
   "cell_type": "markdown",
   "id": "4bf9d883-1704-4083-8c07-d0f7d0484d17",
   "metadata": {},
   "source": [
    "$$ q_j x_{ij} \\leq f_{ij} \\quad \\forall(i,j) \\in E $$\n",
    "$$ f_{ij} \\leq (Q-q_i)x_{ij}  \\quad \\forall(i,j) \\in E $$"
   ]
  },
  {
   "cell_type": "code",
   "execution_count": null,
   "id": "f998aae2-7e32-49ee-8dcb-3725320ac935",
   "metadata": {},
   "outputs": [],
   "source": [
    "c11_l = model.addConstrs(\n",
    "    demand[j] * x_ij[i, j] <= f_ij[i, j] for i in range(0, N) for j in range(0, N))\n",
    "\n",
    "c11_u = model.addConstrs(\n",
    "    f_ij[i, j] <= (Q - demand[i]) * x_ij[i, j] for i in range(0, N) for j in range(0, N))"
   ]
  },
  {
   "cell_type": "markdown",
   "id": "9e44b301-c834-4e0b-8d0d-7bac1e3ec7a6",
   "metadata": {},
   "source": [
    "$$ \\sum_{l \\in L} z_{ij}^l = x_{ij} \\quad \\forall (i,j) \\in E $$"
   ]
  },
  {
   "cell_type": "code",
   "execution_count": null,
   "id": "bb3754da-128e-426c-861a-2dfc0503d352",
   "metadata": {},
   "outputs": [],
   "source": [
    "c12 = model.addConstrs(\n",
    "    gp.quicksum(z_ij[i, j, l] for l in range(n_levels)) == x_ij[i, j]\n",
    "    for i in range(0, N)\n",
    "    for j in range(0, N))"
   ]
  },
  {
   "cell_type": "markdown",
   "id": "b00dc064-8c5f-446e-83d7-c21cbe7e36c1",
   "metadata": {},
   "source": [
    "$$ \\sum_{l \\in L}p^lz^l_{ij} \\leq f_{ij}  \\quad \\forall (i,j) \\in E  $$\n",
    "$$ f_{ij} \\leq \\sum_{l \\in L} r^l z^l_{ij} \\quad \\forall (i,j) \\in E  $$"
   ]
  },
  {
   "cell_type": "code",
   "execution_count": null,
   "id": "6303fa81-deb0-4b1d-9940-a8d4bf55d280",
   "metadata": {},
   "outputs": [],
   "source": [
    "c13_l = model.addConstrs(\n",
    "    lower @ z_ij[i, j, :] <= f_ij[i, j] for i in range(N) for j in range(N))\n",
    "\n",
    "c13_u = model.addConstrs(\n",
    "    upper @ z_ij[i, j, :] >= f_ij[i, j] for i in range(N) for j in range(N))"
   ]
  },
  {
   "cell_type": "markdown",
   "id": "dea0477e-a86e-4c79-829f-1efac88d0078",
   "metadata": {},
   "source": [
    "$$y_i-y_j+s_i+\\sum_{l \\in L} t_{ij}^lz_{ij}^l \\leq M_{ij}(1-x_{ij}) \\quad \\forall i \\in N, j \\in N_0, i \\neq j $$"
   ]
  },
  {
   "cell_type": "code",
   "execution_count": null,
   "id": "d93e0dfa-9c96-4d6f-9a55-1d95a2867813",
   "metadata": {},
   "outputs": [],
   "source": [
    "c14 = model.addConstrs(\n",
    "    y_i[i] - y_i[j] + s[i] + t_ij[i, j, :] @ z_ij[i, j, :] <= M_ij[i, j] * (1 - x_ij[i, j])\n",
    "    for i in range(0, N)\n",
    "    for j in range(1, N)\n",
    "    if i != j)"
   ]
  },
  {
   "cell_type": "markdown",
   "id": "35ff57e9-a206-46e4-8680-059f1e007c64",
   "metadata": {},
   "source": [
    "$$a_i \\leq y_i \\quad \\forall i \\in N_0$$\n",
    "$$y_i \\leq b_i \\quad \\forall i \\in N_0$$"
   ]
  },
  {
   "cell_type": "code",
   "execution_count": null,
   "id": "a7515d1d-af2c-41cd-9b82-0f40f77f5c84",
   "metadata": {},
   "outputs": [],
   "source": [
    "c15_l = model.addConstrs(y_i[i] >= a[i] for i in range(1, N))\n",
    "\n",
    "c15_u = model.addConstrs(y_i[i] <= b[i] for i in range(1, N))"
   ]
  },
  {
   "cell_type": "code",
   "execution_count": null,
   "id": "7454c7c4-4696-4aef-803d-a33fa253ed59",
   "metadata": {},
   "outputs": [],
   "source": [
    "# c_nostro = model.addConstr(gp.quicksum(f_ij[i,0] for i in range(1,N)) == 0)"
   ]
  },
  {
   "cell_type": "markdown",
   "id": "f218f433-c389-4590-b9d6-653f72350292",
   "metadata": {},
   "source": [
    "$$objective=min\\sum_{(i,j)\\in E}\\sum_{l\\in L}t^l_{ij}z^l_{ij}$$ "
   ]
  },
  {
   "cell_type": "code",
   "execution_count": null,
   "id": "d50a76bd-161d-44f8-92d5-b0fb93f572b3",
   "metadata": {},
   "outputs": [],
   "source": [
    "obj = model.setObjective(\n",
    "    gp.quicksum(\n",
    "        t_ij[i, j, :] @ z_ij[i, j, :] for i in range(0, N) for j in range(0, N)\n",
    "    ),\n",
    "    GRB.MINIMIZE,\n",
    ")"
   ]
  },
  {
   "cell_type": "markdown",
   "id": "5b5d757c-a84c-4a42-98b8-401adee97d83",
   "metadata": {},
   "source": [
    "## Model run"
   ]
  },
  {
   "cell_type": "code",
   "execution_count": null,
   "id": "cb05ce36-834d-45ed-a19b-9ddfb553cb8c",
   "metadata": {},
   "outputs": [],
   "source": [
    "model.setParam(\"Threads\", 8)\n",
    "model.setParam(\"TimeLimit\",3600)\n",
    "\n",
    "model.optimize()"
   ]
  },
  {
   "cell_type": "markdown",
   "id": "6a42d8be-86ad-4cd8-8247-20a5480c9561",
   "metadata": {},
   "source": [
    "## Tour visualization"
   ]
  },
  {
   "cell_type": "code",
   "execution_count": null,
   "id": "6062320b-73ec-4a68-831f-75adff38f9ba",
   "metadata": {},
   "outputs": [],
   "source": [
    "def visualize_solution(z_ij,x_ij):\n",
    "    import graphviz as gv\n",
    "    G = gv.Digraph(comment='vrpltt',strict=True)\n",
    "    for i in range(N):\n",
    "        if i!=0:\n",
    "            G.node(str(i),label=f\"Client {i}\"+\"\\n\"+f\"{demand[i]} kg\") \n",
    "        else:\n",
    "            G.node(str(i),label=\"Depot\"+\"\\n\"+f\"{demand[i]} kg\") \n",
    "    for i in range(N):\n",
    "        for j in range(N):\n",
    "            if (x_ij[i,j].x>0 and i!=j):\n",
    "                llevel=0\n",
    "                for key,value in enumerate(z_ij[i,j,:].x):\n",
    "                    if value>=0.9:\n",
    "                        llevel=key\n",
    "                        break\n",
    "                G.edge(str(i),str(j),label=f\"{round(f_ij[i,j].x,1)} kg\"+f\" \\n{int(y_i[j].x)} min\") \n",
    "                if j==0:\n",
    "                    G.edge(str(i),str(j),label=f\"{round(f_ij[i,j].x,1)}\",color=\"red\")\n",
    "    display(G)\n",
    "    #G.render(\"./graph\")"
   ]
  },
  {
   "cell_type": "code",
   "execution_count": null,
   "id": "5513e31e-23c5-44f0-b569-738cfe1d5711",
   "metadata": {},
   "outputs": [],
   "source": [
    "visualize_solution(z_ij,x_ij)"
   ]
  },
  {
   "cell_type": "markdown",
   "id": "78f719b5-d5b1-4bc2-be38-8b709230374b",
   "metadata": {},
   "source": [
    "## API tour visualization\n",
    "- Run with Google Maps API key."
   ]
  },
  {
   "cell_type": "code",
   "execution_count": null,
   "id": "35dbad99-ad53-48ec-9700-a57d5f19cfc7",
   "metadata": {},
   "outputs": [],
   "source": [
    "def rgb_to_hex(r, g, b):\n",
    "    return ('{:X}{:X}{:X}').format(r, g, b)\n",
    "\n",
    "def get_tour(df,x_ij):\n",
    "    N=len(df)\n",
    "    tour=[]\n",
    "    for j in range(1,N):\n",
    "        if x_ij[0,j].x > 0.1:\n",
    "            tour.append(j)\n",
    "    tour_list=[]\n",
    "    for i in tour:\n",
    "        next_node=i\n",
    "        t=[(0,i)]\n",
    "        current_node=next_node\n",
    "        \n",
    "        while(next_node!=0):\n",
    "            for j in range(0,N):\n",
    "                if x_ij[next_node,j].x > 0.1  :\n",
    "                    t.append((next_node,j))\n",
    "                    next_node=j\n",
    "                    break\n",
    "        tour_list.append(t)\n",
    "    return tour_list\n",
    "    \n",
    "\n",
    "def generate_map(df,x_ij,key,zoom=15):\n",
    "    height=900\n",
    "    width=900\n",
    "    x_center=df.x.mean()\n",
    "    y_center=df.y.mean()\n",
    "    path=\"\"\n",
    "    travel=50\n",
    "    N=len(df.index)\n",
    "    tour_list=get_tour(df,x_ij)\n",
    "    color_hex=0\n",
    "    color_list=[\"red\",\"green\",\"blue\",\"yellow\",\"purple\",\"cyan\"]\n",
    "    for tour in tour_list:\n",
    "        color=\"0x\"+rgb_to_hex(np.random.randint(50,100),np.random.randint(50,100),np.random.randint(50,100))\n",
    "        for edge in tour:\n",
    "                if edge[1]==0:\n",
    "                    travel+=30\n",
    "                    path+=f\"&path=color:black|weight:2|{df.x.iloc[edge[0]]},{df.y.iloc[edge[0]]}|{df.x.iloc[edge[1]]},{df.y.iloc[edge[1]]}\"\n",
    "                else:\n",
    "                    path+=f\"&path=color:{color_list[color_hex]}|weight:3|{df.x.iloc[edge[0]]},{df.y.iloc[edge[0]]}|{df.x.iloc[edge[1]]},{df.y.iloc[edge[1]]}\"\n",
    "        color_hex+=1\n",
    "    option=\"&style=element:labels%7Cvisibility:off&style=feature:administrative%7Celement:geometry%7Cvisibility:off&style=feature:administrative.land_parcel%7Cvisibility:off&style=feature:administrative.neighborhood%7Cvisibility:off&style=feature:poi%7Cvisibility:off&style=feature:road%7Celement:labels.icon%7Cvisibility:off&\"\n",
    "    marker=f\"&markers=color:blue%7Clabel:{chr(df.index[0]+65)}%7C{df.x.iloc[0]},{df.y.iloc[0]}\"\n",
    "    for i in df.index[1:]:\n",
    "            marker+=f\"&markers=color:red%7Clabel:{chr(df.index[i]+65)}%7C{df.x.iloc[i]},{df.y.iloc[i]}\"  \n",
    "            \n",
    "    return f\"https://maps.googleapis.com/maps/api/staticmap?center={x_center}%2c{y_center}&zoom={zoom}&size={height}x{width}&maptype=roadmap{marker}{option}{path}&key={key}\"\n"
   ]
  },
  {
   "cell_type": "code",
   "execution_count": null,
   "id": "8930e3c0-d5c0-41d5-8dda-aae7a0b5d0d2",
   "metadata": {},
   "outputs": [],
   "source": [
    "key=''\n",
    "if key=='':\n",
    "    print(\"Use API key provided in private files\")\n",
    "else:\n",
    "    print(generate_map(df,x_ij,key=key))"
   ]
  },
  {
   "cell_type": "code",
   "execution_count": null,
   "id": "abe08257-eaa4-4a28-8fc5-ab522c51d50c",
   "metadata": {},
   "outputs": [],
   "source": []
  }
 ],
 "metadata": {
  "kernelspec": {
   "display_name": "Python 3 (ipykernel)",
   "language": "python",
   "name": "python3"
  },
  "language_info": {
   "codemirror_mode": {
    "name": "ipython",
    "version": 3
   },
   "file_extension": ".py",
   "mimetype": "text/x-python",
   "name": "python",
   "nbconvert_exporter": "python",
   "pygments_lexer": "ipython3",
   "version": "3.9.12"
  }
 },
 "nbformat": 4,
 "nbformat_minor": 5
}
